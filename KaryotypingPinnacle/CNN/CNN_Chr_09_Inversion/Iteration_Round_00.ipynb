{
 "cells": [
  {
   "cell_type": "markdown",
   "metadata": {
    "colab_type": "text",
    "id": "slIdjqTJhM8B"
   },
   "source": [
    "# Facilitated Machine Learning Models for Karyotyping in the Patients with Chromosomal Abnormalities: Retrospective Study"
   ]
  },
  {
   "cell_type": "markdown",
   "metadata": {
    "colab_type": "text",
    "id": "aBT9lgVVhM8D"
   },
   "source": [
    "- **Chuan Yang**, MD, PhD Student\n",
    "- Mentor: **Yanyan Zhao**, MD, PhD\n",
    "- Shengjing Hospital of China Medical University"
   ]
  },
  {
   "cell_type": "markdown",
   "metadata": {},
   "source": [
    "# Chr 09 vs Chr 09 Inversion"
   ]
  },
  {
   "cell_type": "markdown",
   "metadata": {
    "colab_type": "text",
    "id": "xrnbxOZChM8E"
   },
   "source": [
    "# Modules"
   ]
  },
  {
   "cell_type": "code",
   "execution_count": 100,
   "metadata": {
    "colab": {},
    "colab_type": "code",
    "id": "aKjA8v4hhM8E"
   },
   "outputs": [],
   "source": [
    "from PIL import Image\n",
    "import numpy as np\n",
    "import pandas as pd\n",
    "import matplotlib.pyplot as plt\n",
    "\n",
    "import seaborn as sb\n",
    "\n",
    "from sklearn.metrics import classification_report, confusion_matrix, roc_curve, auc\n",
    "from sklearn.model_selection import KFold\n",
    "\n",
    "from tensorflow.keras import Sequential\n",
    "from tensorflow.keras.layers import Dense, Conv2D, MaxPooling2D, Flatten\n",
    "from tensorflow import keras\n",
    "\n",
    "from os import walk\n",
    "\n",
    "import time\n",
    "import datetime\n",
    "\n",
    "import json\n",
    "\n",
    "%matplotlib inline"
   ]
  },
  {
   "cell_type": "code",
   "execution_count": 101,
   "metadata": {},
   "outputs": [],
   "source": [
    "iterationNumber = 0"
   ]
  },
  {
   "cell_type": "markdown",
   "metadata": {},
   "source": [
    "# 1. Read the File to Acquire the Filename"
   ]
  },
  {
   "cell_type": "code",
   "execution_count": 103,
   "metadata": {
    "scrolled": true
   },
   "outputs": [
    {
     "data": {
      "text/plain": [
       "{'chr_09': {'0': ['F:\\\\MyProject\\\\MachineLearning\\\\Mydata\\\\chr_09\\\\78034.12~A15.K_9L.png',\n",
       "   'F:\\\\MyProject\\\\MachineLearning\\\\Mydata\\\\chr_09\\\\78034.12~A21.K_9L.png',\n",
       "   'F:\\\\MyProject\\\\MachineLearning\\\\Mydata\\\\chr_09\\\\78034.13~A1.K_9L.png',\n",
       "   'F:\\\\MyProject\\\\MachineLearning\\\\Mydata\\\\chr_09\\\\78034.13~A17.K_9L.png',\n",
       "   'F:\\\\MyProject\\\\MachineLearning\\\\Mydata\\\\chr_09\\\\78034.13~A6.K_9L.png',\n",
       "   'F:\\\\MyProject\\\\MachineLearning\\\\Mydata\\\\chr_09\\\\78034.2~A23.K_9L.png',\n",
       "   'F:\\\\MyProject\\\\MachineLearning\\\\Mydata\\\\chr_09\\\\78034.2~A48.K_9L.png',\n",
       "   'F:\\\\MyProject\\\\MachineLearning\\\\Mydata\\\\chr_09\\\\78034.3~A39.K_9L.png'],\n",
       "  '1': ['F:\\\\MyProject\\\\MachineLearning\\\\Mydata\\\\chr_09\\\\78034.12~A15.K_9L.png',\n",
       "   'F:\\\\MyProject\\\\MachineLearning\\\\Mydata\\\\chr_09\\\\78034.12~A21.K_9L.png',\n",
       "   'F:\\\\MyProject\\\\MachineLearning\\\\Mydata\\\\chr_09\\\\78034.12~A30.K_9L.png',\n",
       "   'F:\\\\MyProject\\\\MachineLearning\\\\Mydata\\\\chr_09\\\\78034.13~A1.K_9L.png',\n",
       "   'F:\\\\MyProject\\\\MachineLearning\\\\Mydata\\\\chr_09\\\\78034.13~A6.K_9L.png',\n",
       "   'F:\\\\MyProject\\\\MachineLearning\\\\Mydata\\\\chr_09\\\\78034.2~A48.K_9L.png',\n",
       "   'F:\\\\MyProject\\\\MachineLearning\\\\Mydata\\\\chr_09\\\\78034.3~A39.K_9L.png',\n",
       "   'F:\\\\MyProject\\\\MachineLearning\\\\Mydata\\\\chr_09\\\\78034.4~A36.K_9L.png'],\n",
       "  '2': ['F:\\\\MyProject\\\\MachineLearning\\\\Mydata\\\\chr_09\\\\78034.12~A21.K_9L.png',\n",
       "   'F:\\\\MyProject\\\\MachineLearning\\\\Mydata\\\\chr_09\\\\78034.12~A30.K_9L.png',\n",
       "   'F:\\\\MyProject\\\\MachineLearning\\\\Mydata\\\\chr_09\\\\78034.13~A17.K_9L.png',\n",
       "   'F:\\\\MyProject\\\\MachineLearning\\\\Mydata\\\\chr_09\\\\78034.13~A6.K_9L.png',\n",
       "   'F:\\\\MyProject\\\\MachineLearning\\\\Mydata\\\\chr_09\\\\78034.2~A23.K_9L.png',\n",
       "   'F:\\\\MyProject\\\\MachineLearning\\\\Mydata\\\\chr_09\\\\78034.2~A48.K_9L.png',\n",
       "   'F:\\\\MyProject\\\\MachineLearning\\\\Mydata\\\\chr_09\\\\78034.3~A39.K_9L.png',\n",
       "   'F:\\\\MyProject\\\\MachineLearning\\\\Mydata\\\\chr_09\\\\78034.4~A36.K_9L.png'],\n",
       "  '3': ['F:\\\\MyProject\\\\MachineLearning\\\\Mydata\\\\chr_09\\\\78034.12~A15.K_9L.png',\n",
       "   'F:\\\\MyProject\\\\MachineLearning\\\\Mydata\\\\chr_09\\\\78034.12~A30.K_9L.png',\n",
       "   'F:\\\\MyProject\\\\MachineLearning\\\\Mydata\\\\chr_09\\\\78034.13~A1.K_9L.png',\n",
       "   'F:\\\\MyProject\\\\MachineLearning\\\\Mydata\\\\chr_09\\\\78034.13~A17.K_9L.png',\n",
       "   'F:\\\\MyProject\\\\MachineLearning\\\\Mydata\\\\chr_09\\\\78034.13~A6.K_9L.png',\n",
       "   'F:\\\\MyProject\\\\MachineLearning\\\\Mydata\\\\chr_09\\\\78034.2~A23.K_9L.png',\n",
       "   'F:\\\\MyProject\\\\MachineLearning\\\\Mydata\\\\chr_09\\\\78034.3~A39.K_9L.png',\n",
       "   'F:\\\\MyProject\\\\MachineLearning\\\\Mydata\\\\chr_09\\\\78034.4~A36.K_9L.png'],\n",
       "  '4': ['F:\\\\MyProject\\\\MachineLearning\\\\Mydata\\\\chr_09\\\\78034.12~A15.K_9L.png',\n",
       "   'F:\\\\MyProject\\\\MachineLearning\\\\Mydata\\\\chr_09\\\\78034.12~A21.K_9L.png',\n",
       "   'F:\\\\MyProject\\\\MachineLearning\\\\Mydata\\\\chr_09\\\\78034.12~A30.K_9L.png',\n",
       "   'F:\\\\MyProject\\\\MachineLearning\\\\Mydata\\\\chr_09\\\\78034.13~A1.K_9L.png',\n",
       "   'F:\\\\MyProject\\\\MachineLearning\\\\Mydata\\\\chr_09\\\\78034.13~A17.K_9L.png',\n",
       "   'F:\\\\MyProject\\\\MachineLearning\\\\Mydata\\\\chr_09\\\\78034.2~A23.K_9L.png',\n",
       "   'F:\\\\MyProject\\\\MachineLearning\\\\Mydata\\\\chr_09\\\\78034.2~A48.K_9L.png',\n",
       "   'F:\\\\MyProject\\\\MachineLearning\\\\Mydata\\\\chr_09\\\\78034.4~A36.K_9L.png']},\n",
       " 'chr_9_inversion': {'0': ['F:\\\\MyProject\\\\MachineLearning\\\\Mydata\\\\chr_9_inversion\\\\78034.12~A15.K_9R.png',\n",
       "   'F:\\\\MyProject\\\\MachineLearning\\\\Mydata\\\\chr_9_inversion\\\\78034.12~A21.K_9R.png',\n",
       "   'F:\\\\MyProject\\\\MachineLearning\\\\Mydata\\\\chr_9_inversion\\\\78034.13~A1.K_9R.png',\n",
       "   'F:\\\\MyProject\\\\MachineLearning\\\\Mydata\\\\chr_9_inversion\\\\78034.13~A17.K_9R.png',\n",
       "   'F:\\\\MyProject\\\\MachineLearning\\\\Mydata\\\\chr_9_inversion\\\\78034.13~A6.K_9R.png',\n",
       "   'F:\\\\MyProject\\\\MachineLearning\\\\Mydata\\\\chr_9_inversion\\\\78034.2~A23.K_9R.png',\n",
       "   'F:\\\\MyProject\\\\MachineLearning\\\\Mydata\\\\chr_9_inversion\\\\78034.2~A48.K_9R.png',\n",
       "   'F:\\\\MyProject\\\\MachineLearning\\\\Mydata\\\\chr_9_inversion\\\\78034.3~A39.K_9R.png'],\n",
       "  '1': ['F:\\\\MyProject\\\\MachineLearning\\\\Mydata\\\\chr_9_inversion\\\\78034.12~A15.K_9R.png',\n",
       "   'F:\\\\MyProject\\\\MachineLearning\\\\Mydata\\\\chr_9_inversion\\\\78034.12~A21.K_9R.png',\n",
       "   'F:\\\\MyProject\\\\MachineLearning\\\\Mydata\\\\chr_9_inversion\\\\78034.12~A30.K_9R.png',\n",
       "   'F:\\\\MyProject\\\\MachineLearning\\\\Mydata\\\\chr_9_inversion\\\\78034.13~A1.K_9R.png',\n",
       "   'F:\\\\MyProject\\\\MachineLearning\\\\Mydata\\\\chr_9_inversion\\\\78034.13~A6.K_9R.png',\n",
       "   'F:\\\\MyProject\\\\MachineLearning\\\\Mydata\\\\chr_9_inversion\\\\78034.2~A48.K_9R.png',\n",
       "   'F:\\\\MyProject\\\\MachineLearning\\\\Mydata\\\\chr_9_inversion\\\\78034.3~A39.K_9R.png',\n",
       "   'F:\\\\MyProject\\\\MachineLearning\\\\Mydata\\\\chr_9_inversion\\\\78034.4~A36.K_9R.png'],\n",
       "  '2': ['F:\\\\MyProject\\\\MachineLearning\\\\Mydata\\\\chr_9_inversion\\\\78034.12~A21.K_9R.png',\n",
       "   'F:\\\\MyProject\\\\MachineLearning\\\\Mydata\\\\chr_9_inversion\\\\78034.12~A30.K_9R.png',\n",
       "   'F:\\\\MyProject\\\\MachineLearning\\\\Mydata\\\\chr_9_inversion\\\\78034.13~A17.K_9R.png',\n",
       "   'F:\\\\MyProject\\\\MachineLearning\\\\Mydata\\\\chr_9_inversion\\\\78034.13~A6.K_9R.png',\n",
       "   'F:\\\\MyProject\\\\MachineLearning\\\\Mydata\\\\chr_9_inversion\\\\78034.2~A23.K_9R.png',\n",
       "   'F:\\\\MyProject\\\\MachineLearning\\\\Mydata\\\\chr_9_inversion\\\\78034.2~A48.K_9R.png',\n",
       "   'F:\\\\MyProject\\\\MachineLearning\\\\Mydata\\\\chr_9_inversion\\\\78034.3~A39.K_9R.png',\n",
       "   'F:\\\\MyProject\\\\MachineLearning\\\\Mydata\\\\chr_9_inversion\\\\78034.4~A36.K_9R.png'],\n",
       "  '3': ['F:\\\\MyProject\\\\MachineLearning\\\\Mydata\\\\chr_9_inversion\\\\78034.12~A15.K_9R.png',\n",
       "   'F:\\\\MyProject\\\\MachineLearning\\\\Mydata\\\\chr_9_inversion\\\\78034.12~A30.K_9R.png',\n",
       "   'F:\\\\MyProject\\\\MachineLearning\\\\Mydata\\\\chr_9_inversion\\\\78034.13~A1.K_9R.png',\n",
       "   'F:\\\\MyProject\\\\MachineLearning\\\\Mydata\\\\chr_9_inversion\\\\78034.13~A17.K_9R.png',\n",
       "   'F:\\\\MyProject\\\\MachineLearning\\\\Mydata\\\\chr_9_inversion\\\\78034.13~A6.K_9R.png',\n",
       "   'F:\\\\MyProject\\\\MachineLearning\\\\Mydata\\\\chr_9_inversion\\\\78034.2~A23.K_9R.png',\n",
       "   'F:\\\\MyProject\\\\MachineLearning\\\\Mydata\\\\chr_9_inversion\\\\78034.3~A39.K_9R.png',\n",
       "   'F:\\\\MyProject\\\\MachineLearning\\\\Mydata\\\\chr_9_inversion\\\\78034.4~A36.K_9R.png'],\n",
       "  '4': ['F:\\\\MyProject\\\\MachineLearning\\\\Mydata\\\\chr_9_inversion\\\\78034.12~A15.K_9R.png',\n",
       "   'F:\\\\MyProject\\\\MachineLearning\\\\Mydata\\\\chr_9_inversion\\\\78034.12~A21.K_9R.png',\n",
       "   'F:\\\\MyProject\\\\MachineLearning\\\\Mydata\\\\chr_9_inversion\\\\78034.12~A30.K_9R.png',\n",
       "   'F:\\\\MyProject\\\\MachineLearning\\\\Mydata\\\\chr_9_inversion\\\\78034.13~A1.K_9R.png',\n",
       "   'F:\\\\MyProject\\\\MachineLearning\\\\Mydata\\\\chr_9_inversion\\\\78034.13~A17.K_9R.png',\n",
       "   'F:\\\\MyProject\\\\MachineLearning\\\\Mydata\\\\chr_9_inversion\\\\78034.2~A23.K_9R.png',\n",
       "   'F:\\\\MyProject\\\\MachineLearning\\\\Mydata\\\\chr_9_inversion\\\\78034.2~A48.K_9R.png',\n",
       "   'F:\\\\MyProject\\\\MachineLearning\\\\Mydata\\\\chr_9_inversion\\\\78034.4~A36.K_9R.png']}}"
      ]
     },
     "execution_count": 103,
     "metadata": {},
     "output_type": "execute_result"
    }
   ],
   "source": [
    "with open('data_X_train_name.json') as json_file:\n",
    "    X_train_name = json.load(json_file)\n",
    "X_train_name"
   ]
  },
  {
   "cell_type": "code",
   "execution_count": 104,
   "metadata": {},
   "outputs": [
    {
     "data": {
      "text/plain": [
       "{'chr_09': {'0': ['F:\\\\MyProject\\\\MachineLearning\\\\Mydata\\\\chr_09\\\\78034.12~A30.K_9L.png',\n",
       "   'F:\\\\MyProject\\\\MachineLearning\\\\Mydata\\\\chr_09\\\\78034.4~A36.K_9L.png'],\n",
       "  '1': ['F:\\\\MyProject\\\\MachineLearning\\\\Mydata\\\\chr_09\\\\78034.13~A17.K_9L.png',\n",
       "   'F:\\\\MyProject\\\\MachineLearning\\\\Mydata\\\\chr_09\\\\78034.2~A23.K_9L.png'],\n",
       "  '2': ['F:\\\\MyProject\\\\MachineLearning\\\\Mydata\\\\chr_09\\\\78034.12~A15.K_9L.png',\n",
       "   'F:\\\\MyProject\\\\MachineLearning\\\\Mydata\\\\chr_09\\\\78034.13~A1.K_9L.png'],\n",
       "  '3': ['F:\\\\MyProject\\\\MachineLearning\\\\Mydata\\\\chr_09\\\\78034.12~A21.K_9L.png',\n",
       "   'F:\\\\MyProject\\\\MachineLearning\\\\Mydata\\\\chr_09\\\\78034.2~A48.K_9L.png'],\n",
       "  '4': ['F:\\\\MyProject\\\\MachineLearning\\\\Mydata\\\\chr_09\\\\78034.13~A6.K_9L.png',\n",
       "   'F:\\\\MyProject\\\\MachineLearning\\\\Mydata\\\\chr_09\\\\78034.3~A39.K_9L.png']},\n",
       " 'chr_9_inversion': {'0': ['F:\\\\MyProject\\\\MachineLearning\\\\Mydata\\\\chr_9_inversion\\\\78034.12~A30.K_9R.png',\n",
       "   'F:\\\\MyProject\\\\MachineLearning\\\\Mydata\\\\chr_9_inversion\\\\78034.4~A36.K_9R.png'],\n",
       "  '1': ['F:\\\\MyProject\\\\MachineLearning\\\\Mydata\\\\chr_9_inversion\\\\78034.13~A17.K_9R.png',\n",
       "   'F:\\\\MyProject\\\\MachineLearning\\\\Mydata\\\\chr_9_inversion\\\\78034.2~A23.K_9R.png'],\n",
       "  '2': ['F:\\\\MyProject\\\\MachineLearning\\\\Mydata\\\\chr_9_inversion\\\\78034.12~A15.K_9R.png',\n",
       "   'F:\\\\MyProject\\\\MachineLearning\\\\Mydata\\\\chr_9_inversion\\\\78034.13~A1.K_9R.png'],\n",
       "  '3': ['F:\\\\MyProject\\\\MachineLearning\\\\Mydata\\\\chr_9_inversion\\\\78034.12~A21.K_9R.png',\n",
       "   'F:\\\\MyProject\\\\MachineLearning\\\\Mydata\\\\chr_9_inversion\\\\78034.2~A48.K_9R.png'],\n",
       "  '4': ['F:\\\\MyProject\\\\MachineLearning\\\\Mydata\\\\chr_9_inversion\\\\78034.13~A6.K_9R.png',\n",
       "   'F:\\\\MyProject\\\\MachineLearning\\\\Mydata\\\\chr_9_inversion\\\\78034.3~A39.K_9R.png']}}"
      ]
     },
     "execution_count": 104,
     "metadata": {},
     "output_type": "execute_result"
    }
   ],
   "source": [
    "with open('data_X_test_name.json') as json_file:\n",
    "    X_test_name = json.load(json_file)\n",
    "X_test_name"
   ]
  },
  {
   "cell_type": "code",
   "execution_count": 105,
   "metadata": {},
   "outputs": [
    {
     "data": {
      "text/plain": [
       "{'chr_09': ['F:\\\\MyProject\\\\MachineLearning\\\\Mydata\\\\chr_09\\\\78034.12~A15.K_9L.png',\n",
       "  'F:\\\\MyProject\\\\MachineLearning\\\\Mydata\\\\chr_09\\\\78034.12~A21.K_9L.png',\n",
       "  'F:\\\\MyProject\\\\MachineLearning\\\\Mydata\\\\chr_09\\\\78034.12~A30.K_9L.png',\n",
       "  'F:\\\\MyProject\\\\MachineLearning\\\\Mydata\\\\chr_09\\\\78034.13~A1.K_9L.png',\n",
       "  'F:\\\\MyProject\\\\MachineLearning\\\\Mydata\\\\chr_09\\\\78034.13~A17.K_9L.png',\n",
       "  'F:\\\\MyProject\\\\MachineLearning\\\\Mydata\\\\chr_09\\\\78034.13~A6.K_9L.png',\n",
       "  'F:\\\\MyProject\\\\MachineLearning\\\\Mydata\\\\chr_09\\\\78034.2~A23.K_9L.png',\n",
       "  'F:\\\\MyProject\\\\MachineLearning\\\\Mydata\\\\chr_09\\\\78034.2~A48.K_9L.png',\n",
       "  'F:\\\\MyProject\\\\MachineLearning\\\\Mydata\\\\chr_09\\\\78034.3~A39.K_9L.png',\n",
       "  'F:\\\\MyProject\\\\MachineLearning\\\\Mydata\\\\chr_09\\\\78034.4~A36.K_9L.png'],\n",
       " 'chr_9_inversion': ['F:\\\\MyProject\\\\MachineLearning\\\\Mydata\\\\chr_9_inversion\\\\78034.12~A15.K_9R.png',\n",
       "  'F:\\\\MyProject\\\\MachineLearning\\\\Mydata\\\\chr_9_inversion\\\\78034.12~A21.K_9R.png',\n",
       "  'F:\\\\MyProject\\\\MachineLearning\\\\Mydata\\\\chr_9_inversion\\\\78034.12~A30.K_9R.png',\n",
       "  'F:\\\\MyProject\\\\MachineLearning\\\\Mydata\\\\chr_9_inversion\\\\78034.13~A1.K_9R.png',\n",
       "  'F:\\\\MyProject\\\\MachineLearning\\\\Mydata\\\\chr_9_inversion\\\\78034.13~A17.K_9R.png',\n",
       "  'F:\\\\MyProject\\\\MachineLearning\\\\Mydata\\\\chr_9_inversion\\\\78034.13~A6.K_9R.png',\n",
       "  'F:\\\\MyProject\\\\MachineLearning\\\\Mydata\\\\chr_9_inversion\\\\78034.2~A23.K_9R.png',\n",
       "  'F:\\\\MyProject\\\\MachineLearning\\\\Mydata\\\\chr_9_inversion\\\\78034.2~A48.K_9R.png',\n",
       "  'F:\\\\MyProject\\\\MachineLearning\\\\Mydata\\\\chr_9_inversion\\\\78034.3~A39.K_9R.png',\n",
       "  'F:\\\\MyProject\\\\MachineLearning\\\\Mydata\\\\chr_9_inversion\\\\78034.4~A36.K_9R.png']}"
      ]
     },
     "execution_count": 105,
     "metadata": {},
     "output_type": "execute_result"
    }
   ],
   "source": [
    "with open('data_theWhole.json') as json_file:\n",
    "    theWhole = json.load(json_file)\n",
    "theWhole"
   ]
  },
  {
   "cell_type": "markdown",
   "metadata": {},
   "source": [
    "# 3. Iteration"
   ]
  },
  {
   "cell_type": "markdown",
   "metadata": {},
   "source": [
    "## 3.1 Image Input"
   ]
  },
  {
   "cell_type": "markdown",
   "metadata": {},
   "source": [
    "### 3.1.x Display the Split Method"
   ]
  },
  {
   "cell_type": "code",
   "execution_count": 109,
   "metadata": {},
   "outputs": [
    {
     "data": {
      "text/plain": [
       "dict"
      ]
     },
     "execution_count": 109,
     "metadata": {},
     "output_type": "execute_result"
    }
   ],
   "source": [
    "type(X_train_name)"
   ]
  },
  {
   "cell_type": "code",
   "execution_count": 110,
   "metadata": {},
   "outputs": [
    {
     "data": {
      "text/plain": [
       "dict_keys(['chr_09', 'chr_9_inversion'])"
      ]
     },
     "execution_count": 110,
     "metadata": {},
     "output_type": "execute_result"
    }
   ],
   "source": [
    "X_train_name.keys()"
   ]
  },
  {
   "cell_type": "code",
   "execution_count": 111,
   "metadata": {},
   "outputs": [
    {
     "name": "stdout",
     "output_type": "stream",
     "text": [
      "Iteration No.  0\n",
      "chr_09\n",
      "   Train: \n",
      "        78034.12~A15.K_9L.png\n",
      "        78034.12~A21.K_9L.png\n",
      "        78034.13~A1.K_9L.png\n",
      "        78034.13~A17.K_9L.png\n",
      "        78034.13~A6.K_9L.png\n",
      "        78034.2~A23.K_9L.png\n",
      "        78034.2~A48.K_9L.png\n",
      "        78034.3~A39.K_9L.png\n",
      "   Test: \n",
      "        78034.12~A30.K_9L.png\n",
      "        78034.4~A36.K_9L.png\n",
      "chr_9_inversion\n",
      "   Train: \n",
      "        78034.12~A15.K_9R.png\n",
      "        78034.12~A21.K_9R.png\n",
      "        78034.13~A1.K_9R.png\n",
      "        78034.13~A17.K_9R.png\n",
      "        78034.13~A6.K_9R.png\n",
      "        78034.2~A23.K_9R.png\n",
      "        78034.2~A48.K_9R.png\n",
      "        78034.3~A39.K_9R.png\n",
      "   Test: \n",
      "        78034.12~A30.K_9R.png\n",
      "        78034.4~A36.K_9R.png\n"
     ]
    }
   ],
   "source": [
    "file_k_fold = open('KFold_Round_'+str(iterationNumber)+'.txt', 'w')\n",
    "\n",
    "print('Iteration No. ', iterationNumber)\n",
    "file_k_fold.write('Iteration No. %s\\n\\n' % iterationNumber)\n",
    "\n",
    "\n",
    "for chrNo in theWhole.keys():\n",
    "    print(chrNo)\n",
    "    file_k_fold.write('%s\\n' % chrNo)\n",
    "    print('   Train: ')\n",
    "    file_k_fold.write('Train: \\n')\n",
    "    for item in X_train_name[chrNo][str(iterationNumber)]:\n",
    "        print('       ', item.split('\\\\')[-1])\n",
    "        file_k_fold.write('      %s\\n' % item.split('\\\\')[-1])\n",
    "    print('   Test: ')\n",
    "    file_k_fold.write('Test: \\n')\n",
    "    for item in X_test_name[chrNo][str(iterationNumber)]:\n",
    "        print('       ', item.split('\\\\')[-1])\n",
    "        file_k_fold.write('      %s\\n' % item.split('\\\\')[-1])\n",
    "    file_k_fold.write('\\n')\n",
    "        \n",
    "file_k_fold.close()"
   ]
  },
  {
   "cell_type": "markdown",
   "metadata": {},
   "source": [
    "### 3.1.1. Helper Functions"
   ]
  },
  {
   "cell_type": "code",
   "execution_count": 113,
   "metadata": {},
   "outputs": [],
   "source": [
    "def extractData(image):\n",
    "    x = image.size[0]\n",
    "    y = image.size[1]\n",
    "    \n",
    "    matrix = []\n",
    "    rgb_matrix = []\n",
    "\n",
    "    for i in range(x):\n",
    "        matrix.append([])\n",
    "        rgb_matrix.append([])\n",
    "        \n",
    "        for j in range(y):\n",
    "            r, g, b = image.getpixel((j, i))            \n",
    "            value = r * 299.0/1000 + g * 587.0/1000 + b * 114.0/1000\n",
    "            value = int(value)\n",
    "            matrix[i].append(value)\n",
    "            rgb_matrix[i].append((r,g,b))\n",
    "    return matrix, rgb_matrix"
   ]
  },
  {
   "cell_type": "code",
   "execution_count": 114,
   "metadata": {},
   "outputs": [],
   "source": [
    "def imageReconstruct(matrix):\n",
    "    df = np.array(matrix, dtype=np.uint8)\n",
    "    img = Image.fromarray(df, 'RGB')\n",
    "    img.save('image.png')\n",
    "    return img"
   ]
  },
  {
   "cell_type": "markdown",
   "metadata": {},
   "source": [
    "### 3.1.2. Assignment of Training Data"
   ]
  },
  {
   "cell_type": "markdown",
   "metadata": {},
   "source": [
    "#### 3.1.2.1 Training: Image Object Assignment"
   ]
  },
  {
   "cell_type": "code",
   "execution_count": 117,
   "metadata": {},
   "outputs": [],
   "source": [
    "image = {}\n",
    "\n",
    "# 定义容纳图片对象的dictionary类型的变量image\n",
    "\n",
    "i = 0\n",
    "\n",
    "for chrNo in theWhole.keys():\n",
    "    image[chrNo] = []\n",
    "    for case in X_train_name[chrNo][str(iterationNumber)]:\n",
    "        \n",
    "        # 上面一行第二个中括号内为split的序号，0为第0次split分法\n",
    "        \n",
    "        img = Image.open(case)\n",
    "        image[chrNo].append(img)\n",
    "        \n",
    "        # image字典接受的是图片对象"
   ]
  },
  {
   "cell_type": "markdown",
   "metadata": {},
   "source": [
    "#### 3.1.2.2. Training: Data Extraction from Images"
   ]
  },
  {
   "cell_type": "markdown",
   "metadata": {},
   "source": [
    "#### - Training Set Data: 将图像对象转变为矩阵数值"
   ]
  },
  {
   "cell_type": "code",
   "execution_count": 120,
   "metadata": {},
   "outputs": [],
   "source": [
    "data = {}\n",
    "#rgb_data = {}\n",
    "\n",
    "for chrNo in image.keys():\n",
    "    data[chrNo] = []; \n",
    "    #rgb_data[chrNo] = []\n",
    "    for case in image[chrNo]:\n",
    "        grey, rgb = extractData(case)\n",
    "        data[chrNo].append(grey)\n",
    "        #rgb_data[chrNo].append(rgb)"
   ]
  },
  {
   "cell_type": "code",
   "execution_count": 121,
   "metadata": {},
   "outputs": [],
   "source": [
    "array = {}\n",
    "\n",
    "for chrNo in data.keys():\n",
    "    array[chrNo] = []\n",
    "    for case in data[chrNo]:            \n",
    "        array[chrNo].append(case)\n",
    "\n",
    "x_train_list = []\n",
    "y_train_list = []\n",
    "\n",
    "for y, x in array.items():    \n",
    "    for x_item in x:\n",
    "        x_train_list.append(x_item)\n",
    "        y_train_list.append(y)\n",
    "        \n",
    "        # 将图像数据赋值给x_train_list;\n",
    "        # 将标签数据赋值给y_train_list."
   ]
  },
  {
   "cell_type": "markdown",
   "metadata": {},
   "source": [
    "### 3.1.3. Assignment of Testing Data"
   ]
  },
  {
   "cell_type": "markdown",
   "metadata": {},
   "source": [
    "#### 3.1.3.1. Testing: Image Object Assignment"
   ]
  },
  {
   "cell_type": "code",
   "execution_count": 124,
   "metadata": {},
   "outputs": [],
   "source": [
    "# 方法同前面的Training Set\n",
    "\n",
    "image = {}\n",
    "i = 0\n",
    "\n",
    "for chrNo in theWhole.keys():\n",
    "    image[chrNo] = []\n",
    "    for case in X_test_name[chrNo][str(iterationNumber)]: # Change here for different iterations!!!!!\n",
    "        \n",
    "        # 上面一行第二个中括号内为split的序号，0为第0次split分法\n",
    "        \n",
    "        img = Image.open(case)\n",
    "        image[chrNo].append(img)"
   ]
  },
  {
   "cell_type": "markdown",
   "metadata": {},
   "source": [
    "#### 3.1.3.2. Testing: Data Extraction from Images"
   ]
  },
  {
   "cell_type": "code",
   "execution_count": 126,
   "metadata": {},
   "outputs": [],
   "source": [
    "data = {}\n",
    "#rgb_data = {}\n",
    "\n",
    "for chrNo in image.keys():\n",
    "    data[chrNo] = []; \n",
    "    #rgb_data[chrNo] = []\n",
    "    for case in image[chrNo]:\n",
    "        grey, rgb = extractData(case)\n",
    "        data[chrNo].append(grey)\n",
    "        #rgb_data[chrNo].append(rgb)"
   ]
  },
  {
   "cell_type": "code",
   "execution_count": 127,
   "metadata": {},
   "outputs": [],
   "source": [
    "array = {}\n",
    "\n",
    "for chrNo in data.keys():\n",
    "    array[chrNo] = []\n",
    "    for case in data[chrNo]:            \n",
    "        array[chrNo].append(case)\n",
    "\n",
    "x_test_list = []\n",
    "y_test_list = []\n",
    "\n",
    "for y, x in array.items():    \n",
    "    for x_item in x:\n",
    "        x_test_list.append(x_item)\n",
    "        y_test_list.append(y)"
   ]
  },
  {
   "cell_type": "markdown",
   "metadata": {},
   "source": [
    "### 3.1.4. ChromConvert"
   ]
  },
  {
   "cell_type": "code",
   "execution_count": 129,
   "metadata": {},
   "outputs": [],
   "source": [
    "chromConvert = {\n",
    "               'chr_09': 0, \n",
    "               'chr_9_inversion': 1\n",
    "               }"
   ]
  },
  {
   "cell_type": "code",
   "execution_count": 130,
   "metadata": {},
   "outputs": [],
   "source": [
    "chromConvert_reverse = {\n",
    "                0: 'chr_09',\n",
    "                1: 'chr_9_inversion'\n",
    "               }"
   ]
  },
  {
   "cell_type": "code",
   "execution_count": 131,
   "metadata": {},
   "outputs": [],
   "source": [
    "# 将染色体序号和异常核型名称更换为序号，序号定义在程序开始部分\n",
    "\n",
    "y_train_digital_list = []\n",
    "for item in y_train_list:\n",
    "    y_train_digital_list.append(chromConvert[item])\n",
    "    \n",
    "y_test_digital_list = []\n",
    "for item in y_test_list:\n",
    "    y_test_digital_list.append(chromConvert[item])"
   ]
  },
  {
   "cell_type": "markdown",
   "metadata": {},
   "source": [
    "### 3.1.5. Change to Numpy Array"
   ]
  },
  {
   "cell_type": "code",
   "execution_count": 133,
   "metadata": {},
   "outputs": [],
   "source": [
    "X_train = np.array(x_train_list)\n",
    "y_train = np.array(y_train_digital_list)"
   ]
  },
  {
   "cell_type": "code",
   "execution_count": 134,
   "metadata": {},
   "outputs": [],
   "source": [
    "X_test = np.array(x_test_list)\n",
    "y_test = np.array(y_test_digital_list)"
   ]
  },
  {
   "cell_type": "code",
   "execution_count": 135,
   "metadata": {},
   "outputs": [
    {
     "data": {
      "text/plain": [
       "array([0, 0, 1, 1])"
      ]
     },
     "execution_count": 135,
     "metadata": {},
     "output_type": "execute_result"
    }
   ],
   "source": [
    "y_test"
   ]
  },
  {
   "cell_type": "code",
   "execution_count": 136,
   "metadata": {},
   "outputs": [
    {
     "data": {
      "text/plain": [
       "16"
      ]
     },
     "execution_count": 136,
     "metadata": {},
     "output_type": "execute_result"
    }
   ],
   "source": [
    "len(X_train)"
   ]
  },
  {
   "cell_type": "code",
   "execution_count": 137,
   "metadata": {},
   "outputs": [
    {
     "data": {
      "text/plain": [
       "(300, 300)"
      ]
     },
     "execution_count": 137,
     "metadata": {},
     "output_type": "execute_result"
    }
   ],
   "source": [
    "X_train[0].shape"
   ]
  },
  {
   "cell_type": "markdown",
   "metadata": {},
   "source": [
    "## 3.2. Convolutional Neural Network"
   ]
  },
  {
   "cell_type": "markdown",
   "metadata": {},
   "source": [
    "### 3.2.1 Data Preparation"
   ]
  },
  {
   "cell_type": "code",
   "execution_count": 140,
   "metadata": {},
   "outputs": [],
   "source": [
    "X_train = X_train.reshape(-1, 300, 300, 1)\n",
    "X_test = X_test.reshape(-1, 300, 300, 1)"
   ]
  },
  {
   "cell_type": "markdown",
   "metadata": {},
   "source": [
    "### 3.2.3 Training Model Design"
   ]
  },
  {
   "cell_type": "code",
   "execution_count": 142,
   "metadata": {},
   "outputs": [],
   "source": [
    "model = Sequential()"
   ]
  },
  {
   "cell_type": "code",
   "execution_count": 143,
   "metadata": {},
   "outputs": [],
   "source": [
    "model.add(Conv2D(32, (3, 3), activation='relu', input_shape=(300, 300, 1)))\n",
    "model.add(MaxPooling2D((2, 2)))\n",
    "model.add(Conv2D(64, (3, 3), activation='relu'))\n",
    "model.add(MaxPooling2D((2, 2)))\n",
    "model.add(Conv2D(64, (3, 3), activation='relu'))\n",
    "model.add(MaxPooling2D((2, 2)))"
   ]
  },
  {
   "cell_type": "code",
   "execution_count": 144,
   "metadata": {},
   "outputs": [],
   "source": [
    "model.add(Flatten())\n",
    "model.add(Dense(1024, activation='relu'))\n",
    "model.add(Dense(1024, activation='relu'))\n",
    "model.add(Dense(2, activation='sigmoid'))"
   ]
  },
  {
   "cell_type": "markdown",
   "metadata": {},
   "source": [
    "### 3.2.4. Tensorboard Initilization"
   ]
  },
  {
   "cell_type": "code",
   "execution_count": 146,
   "metadata": {},
   "outputs": [
    {
     "name": "stdout",
     "output_type": "stream",
     "text": [
      "The tensorboard extension is already loaded. To reload it, use:\n",
      "  %reload_ext tensorboard\n"
     ]
    }
   ],
   "source": [
    "%load_ext tensorboard\n",
    "log_dir = \"logs/fit/\" + datetime.datetime.now().strftime(\"%Y%m%d-%H%M%S\")\n",
    "tensorboard_callback = keras.callbacks.TensorBoard(log_dir=log_dir, histogram_freq=1)"
   ]
  },
  {
   "cell_type": "markdown",
   "metadata": {},
   "source": [
    "### 3.2.5. Compile the modal"
   ]
  },
  {
   "cell_type": "code",
   "execution_count": 148,
   "metadata": {},
   "outputs": [],
   "source": [
    "model.compile(optimizer='adam', loss='sparse_categorical_crossentropy', metrics=['accuracy'])"
   ]
  },
  {
   "cell_type": "markdown",
   "metadata": {},
   "source": [
    "### 3.2.6. Fitting (拟合)"
   ]
  },
  {
   "cell_type": "code",
   "execution_count": 150,
   "metadata": {
    "scrolled": true
   },
   "outputs": [
    {
     "name": "stdout",
     "output_type": "stream",
     "text": [
      "Epoch 1/100\n",
      "1/1 [==============================] - 34s 34s/step - loss: 14.9130 - accuracy: 0.5000 - val_loss: 3154.4265 - val_accuracy: 0.5000\n",
      "Epoch 2/100\n",
      "1/1 [==============================] - 33s 33s/step - loss: 3156.2329 - accuracy: 0.5000 - val_loss: 291.5497 - val_accuracy: 0.5000\n",
      "Epoch 3/100\n",
      "1/1 [==============================] - 22s 22s/step - loss: 291.0760 - accuracy: 0.5000 - val_loss: 549.9239 - val_accuracy: 0.5000\n",
      "Epoch 4/100\n",
      "1/1 [==============================] - 25s 25s/step - loss: 550.3615 - accuracy: 0.5000 - val_loss: 224.7061 - val_accuracy: 0.5000\n",
      "Epoch 5/100\n",
      "1/1 [==============================] - 31s 31s/step - loss: 224.8905 - accuracy: 0.5000 - val_loss: 5.1188 - val_accuracy: 0.5000\n",
      "Epoch 6/100\n",
      "1/1 [==============================] - 51s 51s/step - loss: 5.2865 - accuracy: 0.5000 - val_loss: 29.1162 - val_accuracy: 0.5000\n",
      "Epoch 7/100\n",
      "1/1 [==============================] - 48s 48s/step - loss: 28.9755 - accuracy: 0.5000 - val_loss: 10.1078 - val_accuracy: 0.5000\n",
      "Epoch 8/100\n",
      "1/1 [==============================] - 30s 30s/step - loss: 10.0385 - accuracy: 0.5000 - val_loss: 19.0247 - val_accuracy: 0.5000\n",
      "Epoch 9/100\n",
      "1/1 [==============================] - 29s 29s/step - loss: 18.9159 - accuracy: 0.5000 - val_loss: 23.6438 - val_accuracy: 0.5000\n",
      "Epoch 10/100\n",
      "1/1 [==============================] - 23s 23s/step - loss: 24.1161 - accuracy: 0.5000 - val_loss: 4.4908 - val_accuracy: 0.5000\n",
      "Epoch 11/100\n",
      "1/1 [==============================] - 20s 20s/step - loss: 4.3164 - accuracy: 0.5000 - val_loss: 6.2107 - val_accuracy: 0.5000\n",
      "Epoch 12/100\n",
      "1/1 [==============================] - 20s 20s/step - loss: 6.2186 - accuracy: 0.5000 - val_loss: 3.2757 - val_accuracy: 0.5000\n",
      "Epoch 13/100\n",
      "1/1 [==============================] - 25s 25s/step - loss: 3.2038 - accuracy: 0.5000 - val_loss: 0.4151 - val_accuracy: 0.7500\n",
      "Epoch 14/100\n",
      "1/1 [==============================] - 21s 21s/step - loss: 0.3822 - accuracy: 0.8125 - val_loss: 0.3276 - val_accuracy: 0.7500\n",
      "Epoch 15/100\n",
      "1/1 [==============================] - 19s 19s/step - loss: 0.2885 - accuracy: 0.9375 - val_loss: 0.3328 - val_accuracy: 0.7500\n",
      "Epoch 16/100\n",
      "1/1 [==============================] - 22s 22s/step - loss: 0.3364 - accuracy: 0.8125 - val_loss: 0.4336 - val_accuracy: 0.7500\n",
      "Epoch 17/100\n",
      "1/1 [==============================] - 19s 19s/step - loss: 0.3842 - accuracy: 0.8750 - val_loss: 0.1851 - val_accuracy: 1.0000\n",
      "Epoch 18/100\n",
      "1/1 [==============================] - 22s 22s/step - loss: 0.1729 - accuracy: 0.9375 - val_loss: 6.0520 - val_accuracy: 0.5000\n",
      "Epoch 19/100\n",
      "1/1 [==============================] - 23s 23s/step - loss: 5.9476 - accuracy: 0.5000 - val_loss: 6.6013 - val_accuracy: 0.5000\n",
      "Epoch 20/100\n",
      "1/1 [==============================] - 21s 21s/step - loss: 6.6023 - accuracy: 0.5000 - val_loss: 0.3887 - val_accuracy: 0.7500\n",
      "Epoch 21/100\n",
      "1/1 [==============================] - 21s 21s/step - loss: 0.3682 - accuracy: 0.8750 - val_loss: 1.4619 - val_accuracy: 0.5000\n",
      "Epoch 22/100\n",
      "1/1 [==============================] - 23s 23s/step - loss: 1.4461 - accuracy: 0.5000 - val_loss: 9.6844 - val_accuracy: 0.5000\n",
      "Epoch 23/100\n",
      "1/1 [==============================] - 15s 15s/step - loss: 9.7039 - accuracy: 0.5000 - val_loss: 3.6328 - val_accuracy: 0.5000\n",
      "Epoch 24/100\n",
      "1/1 [==============================] - 15s 15s/step - loss: 3.7014 - accuracy: 0.5000 - val_loss: 0.2959 - val_accuracy: 0.7500\n",
      "Epoch 25/100\n",
      "1/1 [==============================] - 17s 17s/step - loss: 0.3122 - accuracy: 0.8750 - val_loss: 0.2465 - val_accuracy: 1.0000\n",
      "Epoch 26/100\n",
      "1/1 [==============================] - 25s 25s/step - loss: 0.2979 - accuracy: 1.0000 - val_loss: 0.2032 - val_accuracy: 1.0000\n",
      "Epoch 27/100\n",
      "1/1 [==============================] - 18s 18s/step - loss: 0.2658 - accuracy: 1.0000 - val_loss: 0.1396 - val_accuracy: 1.0000\n",
      "Epoch 28/100\n",
      "1/1 [==============================] - 21s 21s/step - loss: 0.2101 - accuracy: 1.0000 - val_loss: 0.0831 - val_accuracy: 1.0000\n",
      "Epoch 29/100\n",
      "1/1 [==============================] - 23s 23s/step - loss: 0.1424 - accuracy: 1.0000 - val_loss: 0.0378 - val_accuracy: 1.0000\n",
      "Epoch 30/100\n",
      "1/1 [==============================] - 21s 21s/step - loss: 0.0776 - accuracy: 1.0000 - val_loss: 0.0141 - val_accuracy: 1.0000\n",
      "Epoch 31/100\n",
      "1/1 [==============================] - 18s 18s/step - loss: 0.0363 - accuracy: 1.0000 - val_loss: 0.0047 - val_accuracy: 1.0000\n",
      "Epoch 32/100\n",
      "1/1 [==============================] - 19s 19s/step - loss: 0.0162 - accuracy: 1.0000 - val_loss: 0.0014 - val_accuracy: 1.0000\n",
      "Epoch 33/100\n",
      "1/1 [==============================] - 21s 21s/step - loss: 0.0069 - accuracy: 1.0000 - val_loss: 3.9123e-04 - val_accuracy: 1.0000\n",
      "Epoch 34/100\n",
      "1/1 [==============================] - 20s 20s/step - loss: 0.0030 - accuracy: 1.0000 - val_loss: 5.7919 - val_accuracy: 0.5000\n",
      "Epoch 35/100\n",
      "1/1 [==============================] - 20s 20s/step - loss: 7.3134 - accuracy: 0.5000 - val_loss: 10.3032 - val_accuracy: 0.5000\n",
      "Epoch 36/100\n",
      "1/1 [==============================] - 42s 42s/step - loss: 9.9590 - accuracy: 0.5000 - val_loss: 0.3475 - val_accuracy: 1.0000\n",
      "Epoch 37/100\n",
      "1/1 [==============================] - 53s 53s/step - loss: 0.3783 - accuracy: 0.9375 - val_loss: 0.4742 - val_accuracy: 0.5000\n",
      "Epoch 38/100\n",
      "1/1 [==============================] - 20s 20s/step - loss: 0.7052 - accuracy: 0.5000 - val_loss: 0.6365 - val_accuracy: 0.5000\n",
      "Epoch 39/100\n",
      "1/1 [==============================] - 22s 22s/step - loss: 0.5568 - accuracy: 0.6250 - val_loss: 0.5268 - val_accuracy: 0.7500\n",
      "Epoch 40/100\n",
      "1/1 [==============================] - 19s 19s/step - loss: 0.5410 - accuracy: 0.7500 - val_loss: 0.5430 - val_accuracy: 1.0000\n",
      "Epoch 41/100\n",
      "1/1 [==============================] - 20s 20s/step - loss: 0.5658 - accuracy: 1.0000 - val_loss: 1.3098 - val_accuracy: 0.5000\n",
      "Epoch 42/100\n",
      "1/1 [==============================] - 16s 16s/step - loss: 1.3958 - accuracy: 0.5000 - val_loss: 0.6531 - val_accuracy: 0.5000\n",
      "Epoch 43/100\n",
      "1/1 [==============================] - 18s 18s/step - loss: 0.6353 - accuracy: 0.5625 - val_loss: 0.5825 - val_accuracy: 1.0000\n",
      "Epoch 44/100\n",
      "1/1 [==============================] - 22s 22s/step - loss: 0.6353 - accuracy: 0.9375 - val_loss: 0.6094 - val_accuracy: 1.0000\n",
      "Epoch 45/100\n",
      "1/1 [==============================] - 21s 21s/step - loss: 0.6698 - accuracy: 0.7500 - val_loss: 0.6382 - val_accuracy: 1.0000\n",
      "Epoch 46/100\n",
      "1/1 [==============================] - 25s 25s/step - loss: 0.6836 - accuracy: 0.6875 - val_loss: 0.6615 - val_accuracy: 1.0000\n",
      "Epoch 47/100\n",
      "1/1 [==============================] - 25s 25s/step - loss: 0.6887 - accuracy: 0.5000 - val_loss: 0.6737 - val_accuracy: 1.0000\n",
      "Epoch 48/100\n",
      "1/1 [==============================] - 28s 28s/step - loss: 0.6903 - accuracy: 0.5000 - val_loss: 0.6813 - val_accuracy: 1.0000\n",
      "Epoch 49/100\n",
      "1/1 [==============================] - 21s 21s/step - loss: 0.6914 - accuracy: 0.5000 - val_loss: 0.6858 - val_accuracy: 0.7500\n",
      "Epoch 50/100\n",
      "1/1 [==============================] - 22s 22s/step - loss: 0.6921 - accuracy: 0.5000 - val_loss: 0.6875 - val_accuracy: 0.7500\n",
      "Epoch 51/100\n",
      "1/1 [==============================] - 21s 21s/step - loss: 0.6919 - accuracy: 0.5000 - val_loss: 0.6876 - val_accuracy: 0.7500\n",
      "Epoch 52/100\n",
      "1/1 [==============================] - 36s 36s/step - loss: 0.6914 - accuracy: 0.5000 - val_loss: 0.6866 - val_accuracy: 0.7500\n",
      "Epoch 53/100\n",
      "1/1 [==============================] - 30s 30s/step - loss: 0.6906 - accuracy: 0.5625 - val_loss: 0.6852 - val_accuracy: 0.7500\n",
      "Epoch 54/100\n",
      "1/1 [==============================] - 21s 21s/step - loss: 0.6896 - accuracy: 0.5625 - val_loss: 0.6840 - val_accuracy: 0.7500\n",
      "Epoch 55/100\n",
      "1/1 [==============================] - 21s 21s/step - loss: 0.6882 - accuracy: 0.5625 - val_loss: 0.6822 - val_accuracy: 0.7500\n",
      "Epoch 56/100\n",
      "1/1 [==============================] - 20s 20s/step - loss: 0.6863 - accuracy: 0.5625 - val_loss: 0.6807 - val_accuracy: 0.5000\n",
      "Epoch 57/100\n",
      "1/1 [==============================] - 17s 17s/step - loss: 0.6838 - accuracy: 0.5625 - val_loss: 0.6771 - val_accuracy: 0.5000\n",
      "Epoch 58/100\n",
      "1/1 [==============================] - 17s 17s/step - loss: 0.6782 - accuracy: 0.5625 - val_loss: 0.6693 - val_accuracy: 0.5000\n",
      "Epoch 59/100\n",
      "1/1 [==============================] - 16s 16s/step - loss: 0.6692 - accuracy: 0.6250 - val_loss: 0.6454 - val_accuracy: 1.0000\n",
      "Epoch 60/100\n",
      "1/1 [==============================] - 24s 24s/step - loss: 0.6542 - accuracy: 0.6875 - val_loss: 0.6259 - val_accuracy: 1.0000\n",
      "Epoch 61/100\n",
      "1/1 [==============================] - 19s 19s/step - loss: 0.6215 - accuracy: 0.8750 - val_loss: 0.5872 - val_accuracy: 0.7500\n",
      "Epoch 62/100\n",
      "1/1 [==============================] - 24s 24s/step - loss: 0.5243 - accuracy: 0.8750 - val_loss: 0.5000 - val_accuracy: 0.7500\n",
      "Epoch 63/100\n",
      "1/1 [==============================] - 23s 23s/step - loss: 0.3869 - accuracy: 0.8750 - val_loss: 0.3734 - val_accuracy: 1.0000\n",
      "Epoch 64/100\n",
      "1/1 [==============================] - 23s 23s/step - loss: 0.2581 - accuracy: 1.0000 - val_loss: 0.4021 - val_accuracy: 0.7500\n",
      "Epoch 65/100\n",
      "1/1 [==============================] - 18s 18s/step - loss: 0.1876 - accuracy: 0.9375 - val_loss: 0.3823 - val_accuracy: 0.7500\n",
      "Epoch 66/100\n",
      "1/1 [==============================] - 19s 19s/step - loss: 0.1888 - accuracy: 1.0000 - val_loss: 0.3266 - val_accuracy: 0.7500\n",
      "Epoch 67/100\n",
      "1/1 [==============================] - 21s 21s/step - loss: 0.1378 - accuracy: 1.0000 - val_loss: 0.3384 - val_accuracy: 0.7500\n",
      "Epoch 68/100\n",
      "1/1 [==============================] - 23s 23s/step - loss: 0.0440 - accuracy: 1.0000 - val_loss: 0.5151 - val_accuracy: 0.7500\n",
      "Epoch 69/100\n",
      "1/1 [==============================] - 19s 19s/step - loss: 0.0212 - accuracy: 1.0000 - val_loss: 0.5327 - val_accuracy: 0.7500\n",
      "Epoch 70/100\n",
      "1/1 [==============================] - 21s 21s/step - loss: 0.0111 - accuracy: 1.0000 - val_loss: 0.2528 - val_accuracy: 0.7500\n",
      "Epoch 71/100\n",
      "1/1 [==============================] - 24s 24s/step - loss: 8.7852e-04 - accuracy: 1.0000 - val_loss: 0.0630 - val_accuracy: 1.0000\n",
      "Epoch 72/100\n",
      "1/1 [==============================] - 24s 24s/step - loss: 4.7746e-05 - accuracy: 1.0000 - val_loss: 0.3351 - val_accuracy: 0.7500\n",
      "Epoch 73/100\n",
      "1/1 [==============================] - 24s 24s/step - loss: 6.5901e-05 - accuracy: 1.0000 - val_loss: 0.0849 - val_accuracy: 1.0000\n",
      "Epoch 74/100\n",
      "1/1 [==============================] - 23s 23s/step - loss: 5.4686e-06 - accuracy: 1.0000 - val_loss: 4.8336e-05 - val_accuracy: 1.0000\n",
      "Epoch 75/100\n",
      "1/1 [==============================] - 18s 18s/step - loss: 5.9610e-04 - accuracy: 1.0000 - val_loss: 22.2706 - val_accuracy: 0.5000\n",
      "Epoch 76/100\n",
      "1/1 [==============================] - 22s 22s/step - loss: 20.2227 - accuracy: 0.5000 - val_loss: 0.2900 - val_accuracy: 0.7500\n",
      "Epoch 77/100\n",
      "1/1 [==============================] - 59s 59s/step - loss: 0.3824 - accuracy: 0.7500 - val_loss: 0.3593 - val_accuracy: 0.7500\n",
      "Epoch 78/100\n",
      "1/1 [==============================] - 21s 21s/step - loss: 0.4139 - accuracy: 0.8125 - val_loss: 0.1736 - val_accuracy: 1.0000\n",
      "Epoch 79/100\n",
      "1/1 [==============================] - 20s 20s/step - loss: 0.1987 - accuracy: 0.8750 - val_loss: 0.0611 - val_accuracy: 1.0000\n",
      "Epoch 80/100\n",
      "1/1 [==============================] - 18s 18s/step - loss: 0.0731 - accuracy: 1.0000 - val_loss: 0.0225 - val_accuracy: 1.0000\n",
      "Epoch 81/100\n",
      "1/1 [==============================] - 31s 31s/step - loss: 0.0295 - accuracy: 1.0000 - val_loss: 0.0132 - val_accuracy: 1.0000\n",
      "Epoch 82/100\n",
      "1/1 [==============================] - 21s 21s/step - loss: 0.0199 - accuracy: 1.0000 - val_loss: 0.0197 - val_accuracy: 1.0000\n",
      "Epoch 83/100\n",
      "1/1 [==============================] - 20s 20s/step - loss: 0.0159 - accuracy: 1.0000 - val_loss: 2.0390 - val_accuracy: 0.5000\n",
      "Epoch 84/100\n",
      "1/1 [==============================] - 21s 21s/step - loss: 2.1933 - accuracy: 0.5000 - val_loss: 0.2348 - val_accuracy: 0.7500\n",
      "Epoch 85/100\n",
      "1/1 [==============================] - 18s 18s/step - loss: 0.0337 - accuracy: 1.0000 - val_loss: 0.7186 - val_accuracy: 0.5000\n",
      "Epoch 86/100\n",
      "1/1 [==============================] - 25s 25s/step - loss: 0.0575 - accuracy: 0.9375 - val_loss: 0.8605 - val_accuracy: 0.5000\n",
      "Epoch 87/100\n",
      "1/1 [==============================] - 22s 22s/step - loss: 0.0127 - accuracy: 1.0000 - val_loss: 0.3974 - val_accuracy: 0.7500\n",
      "Epoch 88/100\n",
      "1/1 [==============================] - 25s 25s/step - loss: 6.2432e-04 - accuracy: 1.0000 - val_loss: 19.8088 - val_accuracy: 0.5000\n",
      "Epoch 89/100\n",
      "1/1 [==============================] - 21s 21s/step - loss: 21.8195 - accuracy: 0.5000 - val_loss: 6.1800 - val_accuracy: 0.5000\n",
      "Epoch 90/100\n",
      "1/1 [==============================] - 27s 27s/step - loss: 6.8230 - accuracy: 0.5000 - val_loss: 23.1302 - val_accuracy: 0.5000\n",
      "Epoch 91/100\n",
      "1/1 [==============================] - 23s 23s/step - loss: 24.1460 - accuracy: 0.5000 - val_loss: 75.6098 - val_accuracy: 0.5000\n",
      "Epoch 92/100\n",
      "1/1 [==============================] - 20s 20s/step - loss: 74.6162 - accuracy: 0.5000 - val_loss: 2.3741 - val_accuracy: 0.5000\n",
      "Epoch 93/100\n",
      "1/1 [==============================] - 20s 20s/step - loss: 0.8235 - accuracy: 0.5625 - val_loss: 0.7947 - val_accuracy: 0.5000\n",
      "Epoch 94/100\n",
      "1/1 [==============================] - 19s 19s/step - loss: 0.2113 - accuracy: 1.0000 - val_loss: 0.2013 - val_accuracy: 1.0000\n",
      "Epoch 95/100\n",
      "1/1 [==============================] - 24s 24s/step - loss: 0.2792 - accuracy: 0.8750 - val_loss: 0.4085 - val_accuracy: 0.7500\n",
      "Epoch 96/100\n",
      "1/1 [==============================] - 18s 18s/step - loss: 0.2044 - accuracy: 1.0000 - val_loss: 0.4532 - val_accuracy: 0.7500\n",
      "Epoch 97/100\n",
      "1/1 [==============================] - 16s 16s/step - loss: 0.2095 - accuracy: 0.9375 - val_loss: 0.4915 - val_accuracy: 0.7500\n",
      "Epoch 98/100\n",
      "1/1 [==============================] - 14s 14s/step - loss: 0.1999 - accuracy: 0.9375 - val_loss: 0.5058 - val_accuracy: 0.7500\n",
      "Epoch 99/100\n",
      "1/1 [==============================] - 21s 21s/step - loss: 0.1791 - accuracy: 0.9375 - val_loss: 0.4426 - val_accuracy: 0.7500\n",
      "Epoch 100/100\n",
      "1/1 [==============================] - 25s 25s/step - loss: 0.1392 - accuracy: 0.9375 - val_loss: 0.3075 - val_accuracy: 0.7500\n"
     ]
    },
    {
     "data": {
      "text/plain": [
       "<keras.src.callbacks.History at 0x16d3058beb0>"
      ]
     },
     "execution_count": 150,
     "metadata": {},
     "output_type": "execute_result"
    },
    {
     "name": "stdout",
     "output_type": "stream",
     "text": [
      "Epoch 338/500\n",
      "6/6 [==============================] - 1s 115ms/step - loss: 2.2567e-07 - accuracy: 1.0000 - val_loss: 1.3492 - val_accuracy: 0.9425\n",
      "Epoch 339/500\n",
      "6/6 [==============================] - 1s 114ms/step - loss: 2.2429e-07 - accuracy: 1.0000 - val_loss: 1.3498 - val_accuracy: 0.9425\n",
      "Epoch 340/500\n",
      "6/6 [==============================] - 1s 111ms/step - loss: 2.2188e-07 - accuracy: 1.0000 - val_loss: 1.3506 - val_accuracy: 0.9425\n",
      "Epoch 341/500\n",
      "6/6 [==============================] - 1s 111ms/step - loss: 2.2119e-07 - accuracy: 1.0000 - val_loss: 1.3513 - val_accuracy: 0.9425\n",
      "Epoch 342/500\n",
      "6/6 [==============================] - 1s 111ms/step - loss: 2.1912e-07 - accuracy: 1.0000 - val_loss: 1.3520 - val_accuracy: 0.9425\n",
      "Epoch 343/500\n",
      "6/6 [==============================] - 1s 117ms/step - loss: 2.1809e-07 - accuracy: 1.0000 - val_loss: 1.3526 - val_accuracy: 0.9425\n",
      "Epoch 344/500\n",
      "6/6 [==============================] - 1s 114ms/step - loss: 2.1671e-07 - accuracy: 1.0000 - val_loss: 1.3533 - val_accuracy: 0.9425\n",
      "Epoch 345/500\n",
      "6/6 [==============================] - 1s 113ms/step - loss: 2.1499e-07 - accuracy: 1.0000 - val_loss: 1.3540 - val_accuracy: 0.9425\n",
      "Epoch 346/500\n",
      "6/6 [==============================] - 1s 111ms/step - loss: 2.1396e-07 - accuracy: 1.0000 - val_loss: 1.3547 - val_accuracy: 0.9425\n",
      "Epoch 347/500\n",
      "6/6 [==============================] - 1s 114ms/step - loss: 2.1154e-07 - accuracy: 1.0000 - val_loss: 1.3553 - val_accuracy: 0.9425\n",
      "Epoch 348/500\n",
      "6/6 [==============================] - 1s 112ms/step - loss: 2.0810e-07 - accuracy: 1.0000 - val_loss: 1.3560 - val_accuracy: 0.9425\n",
      "Epoch 349/500\n",
      "6/6 [==============================] - 1s 114ms/step - loss: 2.0672e-07 - accuracy: 1.0000 - val_loss: 1.3569 - val_accuracy: 0.9425\n",
      "Epoch 350/500\n",
      "6/6 [==============================] - 1s 115ms/step - loss: 2.0534e-07 - accuracy: 1.0000 - val_loss: 1.3576 - val_accuracy: 0.9425\n",
      "Epoch 351/500\n",
      "6/6 [==============================] - 1s 117ms/step - loss: 2.0396e-07 - accuracy: 1.0000 - val_loss: 1.3584 - val_accuracy: 0.9425\n",
      "Epoch 352/500\n",
      "6/6 [==============================] - 1s 113ms/step - loss: 2.0224e-07 - accuracy: 1.0000 - val_loss: 1.3590 - val_accuracy: 0.9425\n",
      "Epoch 353/500\n",
      "6/6 [==============================] - 1s 111ms/step - loss: 2.0052e-07 - accuracy: 1.0000 - val_loss: 1.3597 - val_accuracy: 0.9425\n",
      "Epoch 354/500\n",
      "6/6 [==============================] - 1s 111ms/step - loss: 1.9914e-07 - accuracy: 1.0000 - val_loss: 1.3603 - val_accuracy: 0.9425\n",
      "Epoch 355/500\n",
      "6/6 [==============================] - 1s 113ms/step - loss: 1.9845e-07 - accuracy: 1.0000 - val_loss: 1.3610 - val_accuracy: 0.9425\n",
      "Epoch 356/500\n",
      "6/6 [==============================] - 1s 111ms/step - loss: 1.9742e-07 - accuracy: 1.0000 - val_loss: 1.3616 - val_accuracy: 0.9425\n",
      "Epoch 357/500\n",
      "6/6 [==============================] - 1s 111ms/step - loss: 1.9570e-07 - accuracy: 1.0000 - val_loss: 1.3623 - val_accuracy: 0.9425\n",
      "Epoch 358/500\n",
      "6/6 [==============================] - 1s 114ms/step - loss: 1.9397e-07 - accuracy: 1.0000 - val_loss: 1.3631 - val_accuracy: 0.9425\n",
      "Epoch 359/500\n",
      "6/6 [==============================] - 1s 114ms/step - loss: 1.9294e-07 - accuracy: 1.0000 - val_loss: 1.3638 - val_accuracy: 0.9425\n",
      "Epoch 360/500\n",
      "6/6 [==============================] - 1s 114ms/step - loss: 1.9191e-07 - accuracy: 1.0000 - val_loss: 1.3645 - val_accuracy: 0.9425\n",
      "Epoch 361/500\n",
      "6/6 [==============================] - 1s 115ms/step - loss: 1.9122e-07 - accuracy: 1.0000 - val_loss: 1.3651 - val_accuracy: 0.9425\n",
      "Epoch 362/500\n",
      "6/6 [==============================] - 1s 112ms/step - loss: 1.8949e-07 - accuracy: 1.0000 - val_loss: 1.3658 - val_accuracy: 0.9425\n",
      "Epoch 363/500\n",
      "6/6 [==============================] - 1s 116ms/step - loss: 1.8812e-07 - accuracy: 1.0000 - val_loss: 1.3665 - val_accuracy: 0.9425\n",
      "Epoch 364/500\n",
      "6/6 [==============================] - 1s 115ms/step - loss: 1.8708e-07 - accuracy: 1.0000 - val_loss: 1.3671 - val_accuracy: 0.9425\n",
      "Epoch 365/500\n",
      "6/6 [==============================] - 1s 114ms/step - loss: 1.8502e-07 - accuracy: 1.0000 - val_loss: 1.3678 - val_accuracy: 0.9425\n",
      "Epoch 366/500\n",
      "6/6 [==============================] - 1s 111ms/step - loss: 1.8364e-07 - accuracy: 1.0000 - val_loss: 1.3685 - val_accuracy: 0.9425\n",
      "Epoch 367/500\n",
      "6/6 [==============================] - 1s 115ms/step - loss: 1.8329e-07 - accuracy: 1.0000 - val_loss: 1.3692 - val_accuracy: 0.9425\n",
      "Epoch 368/500\n",
      "6/6 [==============================] - 1s 112ms/step - loss: 1.8157e-07 - accuracy: 1.0000 - val_loss: 1.3698 - val_accuracy: 0.9425\n",
      "Epoch 369/500\n",
      "6/6 [==============================] - 1s 115ms/step - loss: 1.8054e-07 - accuracy: 1.0000 - val_loss: 1.3705 - val_accuracy: 0.9425\n",
      "Epoch 370/500\n",
      "6/6 [==============================] - 1s 110ms/step - loss: 1.7847e-07 - accuracy: 1.0000 - val_loss: 1.3712 - val_accuracy: 0.9425\n",
      "Epoch 371/500\n",
      "6/6 [==============================] - 1s 114ms/step - loss: 1.7709e-07 - accuracy: 1.0000 - val_loss: 1.3721 - val_accuracy: 0.9425\n",
      "Epoch 372/500\n",
      "6/6 [==============================] - 1s 112ms/step - loss: 1.7709e-07 - accuracy: 1.0000 - val_loss: 1.3728 - val_accuracy: 0.9425\n",
      "Epoch 373/500\n",
      "6/6 [==============================] - 1s 112ms/step - loss: 1.7640e-07 - accuracy: 1.0000 - val_loss: 1.3735 - val_accuracy: 0.9425\n",
      "Epoch 374/500\n",
      "6/6 [==============================] - 1s 119ms/step - loss: 1.7365e-07 - accuracy: 1.0000 - val_loss: 1.3742 - val_accuracy: 0.9425\n",
      "Epoch 375/500\n",
      "6/6 [==============================] - 1s 113ms/step - loss: 1.7296e-07 - accuracy: 1.0000 - val_loss: 1.3749 - val_accuracy: 0.9425\n",
      "Epoch 376/500\n",
      "6/6 [==============================] - 1s 115ms/step - loss: 1.7158e-07 - accuracy: 1.0000 - val_loss: 1.3756 - val_accuracy: 0.9425\n",
      "Epoch 377/500\n",
      "6/6 [==============================] - 1s 111ms/step - loss: 1.6986e-07 - accuracy: 1.0000 - val_loss: 1.3763 - val_accuracy: 0.9425\n",
      "Epoch 378/500\n",
      "6/6 [==============================] - 1s 114ms/step - loss: 1.6951e-07 - accuracy: 1.0000 - val_loss: 1.3770 - val_accuracy: 0.9425\n",
      "Epoch 379/500\n",
      "6/6 [==============================] - 1s 117ms/step - loss: 1.6779e-07 - accuracy: 1.0000 - val_loss: 1.3777 - val_accuracy: 0.9425\n",
      "Epoch 380/500\n",
      "6/6 [==============================] - 1s 115ms/step - loss: 1.6641e-07 - accuracy: 1.0000 - val_loss: 1.3784 - val_accuracy: 0.9425\n",
      "Epoch 381/500\n",
      "6/6 [==============================] - 1s 114ms/step - loss: 1.6434e-07 - accuracy: 1.0000 - val_loss: 1.3791 - val_accuracy: 0.9425\n",
      "Epoch 382/500\n",
      "6/6 [==============================] - 1s 110ms/step - loss: 1.6262e-07 - accuracy: 1.0000 - val_loss: 1.3799 - val_accuracy: 0.9425\n",
      "Epoch 383/500\n",
      "6/6 [==============================] - 1s 112ms/step - loss: 1.6159e-07 - accuracy: 1.0000 - val_loss: 1.3806 - val_accuracy: 0.9425\n",
      "Epoch 384/500\n",
      "6/6 [==============================] - 1s 116ms/step - loss: 1.6090e-07 - accuracy: 1.0000 - val_loss: 1.3813 - val_accuracy: 0.9425\n",
      "Epoch 385/500\n",
      "6/6 [==============================] - 1s 116ms/step - loss: 1.5952e-07 - accuracy: 1.0000 - val_loss: 1.3820 - val_accuracy: 0.9425\n",
      "Epoch 386/500\n",
      "6/6 [==============================] - 1s 116ms/step - loss: 1.5814e-07 - accuracy: 1.0000 - val_loss: 1.3827 - val_accuracy: 0.9425\n",
      "Epoch 387/500\n",
      "6/6 [==============================] - 1s 110ms/step - loss: 1.5745e-07 - accuracy: 1.0000 - val_loss: 1.3835 - val_accuracy: 0.9425\n",
      "Epoch 388/500\n",
      "6/6 [==============================] - 1s 114ms/step - loss: 1.5711e-07 - accuracy: 1.0000 - val_loss: 1.3842 - val_accuracy: 0.9425\n",
      "Epoch 389/500\n",
      "6/6 [==============================] - 1s 113ms/step - loss: 1.5607e-07 - accuracy: 1.0000 - val_loss: 1.3850 - val_accuracy: 0.9425\n",
      "Epoch 390/500\n",
      "6/6 [==============================] - 1s 112ms/step - loss: 1.5435e-07 - accuracy: 1.0000 - val_loss: 1.3857 - val_accuracy: 0.9425\n",
      "Epoch 391/500\n",
      "6/6 [==============================] - 1s 116ms/step - loss: 1.5263e-07 - accuracy: 1.0000 - val_loss: 1.3864 - val_accuracy: 0.9425\n",
      "Epoch 392/500\n",
      "6/6 [==============================] - 1s 117ms/step - loss: 1.5160e-07 - accuracy: 1.0000 - val_loss: 1.3871 - val_accuracy: 0.9425\n",
      "Epoch 393/500\n",
      "6/6 [==============================] - 1s 114ms/step - loss: 1.5091e-07 - accuracy: 1.0000 - val_loss: 1.3878 - val_accuracy: 0.9425\n"
     ]
    },
    {
     "name": "stdout",
     "output_type": "stream",
     "text": [
      "Epoch 394/500\n",
      "6/6 [==============================] - 1s 113ms/step - loss: 1.4884e-07 - accuracy: 1.0000 - val_loss: 1.3885 - val_accuracy: 0.9425\n",
      "Epoch 395/500\n",
      "6/6 [==============================] - 1s 114ms/step - loss: 1.4815e-07 - accuracy: 1.0000 - val_loss: 1.3892 - val_accuracy: 0.9425\n",
      "Epoch 396/500\n",
      "6/6 [==============================] - 1s 146ms/step - loss: 1.4677e-07 - accuracy: 1.0000 - val_loss: 1.3900 - val_accuracy: 0.9425\n",
      "Epoch 397/500\n",
      "6/6 [==============================] - 1s 113ms/step - loss: 1.4574e-07 - accuracy: 1.0000 - val_loss: 1.3907 - val_accuracy: 0.9425\n",
      "Epoch 398/500\n",
      "6/6 [==============================] - 1s 117ms/step - loss: 1.4470e-07 - accuracy: 1.0000 - val_loss: 1.3913 - val_accuracy: 0.9425\n",
      "Epoch 399/500\n",
      "6/6 [==============================] - 1s 113ms/step - loss: 1.4367e-07 - accuracy: 1.0000 - val_loss: 1.3920 - val_accuracy: 0.9425\n",
      "Epoch 400/500\n",
      "6/6 [==============================] - 1s 113ms/step - loss: 1.4298e-07 - accuracy: 1.0000 - val_loss: 1.3927 - val_accuracy: 0.9425\n",
      "Epoch 401/500\n",
      "6/6 [==============================] - 1s 114ms/step - loss: 1.4160e-07 - accuracy: 1.0000 - val_loss: 1.3933 - val_accuracy: 0.9425\n",
      "Epoch 402/500\n",
      "6/6 [==============================] - 1s 114ms/step - loss: 1.4091e-07 - accuracy: 1.0000 - val_loss: 1.3939 - val_accuracy: 0.9425\n",
      "Epoch 403/500\n",
      "6/6 [==============================] - 1s 112ms/step - loss: 1.4057e-07 - accuracy: 1.0000 - val_loss: 1.3945 - val_accuracy: 0.9425\n",
      "Epoch 404/500\n",
      "6/6 [==============================] - 1s 114ms/step - loss: 1.3988e-07 - accuracy: 1.0000 - val_loss: 1.3950 - val_accuracy: 0.9425\n",
      "Epoch 405/500\n",
      "6/6 [==============================] - 1s 113ms/step - loss: 1.3919e-07 - accuracy: 1.0000 - val_loss: 1.3957 - val_accuracy: 0.9425\n",
      "Epoch 406/500\n",
      "6/6 [==============================] - 1s 115ms/step - loss: 1.3747e-07 - accuracy: 1.0000 - val_loss: 1.3963 - val_accuracy: 0.9425\n",
      "Epoch 407/500\n",
      "6/6 [==============================] - 1s 112ms/step - loss: 1.3644e-07 - accuracy: 1.0000 - val_loss: 1.3969 - val_accuracy: 0.9425\n",
      "Epoch 408/500\n",
      "6/6 [==============================] - 1s 112ms/step - loss: 1.3609e-07 - accuracy: 1.0000 - val_loss: 1.3976 - val_accuracy: 0.9425\n",
      "Epoch 409/500\n",
      "6/6 [==============================] - 1s 118ms/step - loss: 1.3506e-07 - accuracy: 1.0000 - val_loss: 1.3983 - val_accuracy: 0.9425\n",
      "Epoch 410/500\n",
      "6/6 [==============================] - 1s 112ms/step - loss: 1.3437e-07 - accuracy: 1.0000 - val_loss: 1.3990 - val_accuracy: 0.9425\n",
      "Epoch 411/500\n",
      "6/6 [==============================] - 1s 110ms/step - loss: 1.3334e-07 - accuracy: 1.0000 - val_loss: 1.3996 - val_accuracy: 0.9425\n",
      "Epoch 412/500\n",
      "6/6 [==============================] - 1s 112ms/step - loss: 1.3196e-07 - accuracy: 1.0000 - val_loss: 1.4002 - val_accuracy: 0.9425\n",
      "Epoch 413/500\n",
      "6/6 [==============================] - 1s 112ms/step - loss: 1.3092e-07 - accuracy: 1.0000 - val_loss: 1.4009 - val_accuracy: 0.9425\n",
      "Epoch 414/500\n",
      "6/6 [==============================] - 1s 121ms/step - loss: 1.2989e-07 - accuracy: 1.0000 - val_loss: 1.4016 - val_accuracy: 0.9425\n",
      "Epoch 415/500\n",
      "6/6 [==============================] - 1s 114ms/step - loss: 1.2851e-07 - accuracy: 1.0000 - val_loss: 1.4022 - val_accuracy: 0.9425\n",
      "Epoch 416/500\n",
      "6/6 [==============================] - 1s 115ms/step - loss: 1.2782e-07 - accuracy: 1.0000 - val_loss: 1.4028 - val_accuracy: 0.9425\n",
      "Epoch 417/500\n",
      "6/6 [==============================] - 1s 116ms/step - loss: 1.2748e-07 - accuracy: 1.0000 - val_loss: 1.4036 - val_accuracy: 0.9425\n",
      "Epoch 418/500\n",
      "6/6 [==============================] - 1s 115ms/step - loss: 1.2576e-07 - accuracy: 1.0000 - val_loss: 1.4043 - val_accuracy: 0.9425\n",
      "Epoch 419/500\n",
      "6/6 [==============================] - 1s 110ms/step - loss: 1.2576e-07 - accuracy: 1.0000 - val_loss: 1.4050 - val_accuracy: 0.9425\n",
      "Epoch 420/500\n",
      "6/6 [==============================] - 1s 113ms/step - loss: 1.2541e-07 - accuracy: 1.0000 - val_loss: 1.4057 - val_accuracy: 0.9425\n",
      "Epoch 421/500\n",
      "6/6 [==============================] - 1s 113ms/step - loss: 1.2438e-07 - accuracy: 1.0000 - val_loss: 1.4063 - val_accuracy: 0.9425\n",
      "Epoch 422/500\n",
      "6/6 [==============================] - 1s 259ms/step - loss: 1.2369e-07 - accuracy: 1.0000 - val_loss: 1.4069 - val_accuracy: 0.9425\n",
      "Epoch 423/500\n",
      "6/6 [==============================] - 1s 116ms/step - loss: 1.2300e-07 - accuracy: 1.0000 - val_loss: 1.4075 - val_accuracy: 0.9425\n",
      "Epoch 424/500\n",
      "6/6 [==============================] - 1s 115ms/step - loss: 1.2162e-07 - accuracy: 1.0000 - val_loss: 1.4082 - val_accuracy: 0.9425\n",
      "Epoch 425/500\n",
      "6/6 [==============================] - 1s 113ms/step - loss: 1.2162e-07 - accuracy: 1.0000 - val_loss: 1.4088 - val_accuracy: 0.9425\n",
      "Epoch 426/500\n",
      "6/6 [==============================] - 1s 114ms/step - loss: 1.2128e-07 - accuracy: 1.0000 - val_loss: 1.4095 - val_accuracy: 0.9425\n",
      "Epoch 427/500\n",
      "6/6 [==============================] - 1s 111ms/step - loss: 1.1990e-07 - accuracy: 1.0000 - val_loss: 1.4101 - val_accuracy: 0.9425\n",
      "Epoch 428/500\n",
      "6/6 [==============================] - 1s 130ms/step - loss: 1.1921e-07 - accuracy: 1.0000 - val_loss: 1.4107 - val_accuracy: 0.9425\n",
      "Epoch 429/500\n",
      "6/6 [==============================] - 1s 110ms/step - loss: 1.1852e-07 - accuracy: 1.0000 - val_loss: 1.4113 - val_accuracy: 0.9425\n",
      "Epoch 430/500\n",
      "6/6 [==============================] - 1s 115ms/step - loss: 1.1783e-07 - accuracy: 1.0000 - val_loss: 1.4120 - val_accuracy: 0.9425\n",
      "Epoch 431/500\n",
      "6/6 [==============================] - 1s 111ms/step - loss: 1.1714e-07 - accuracy: 1.0000 - val_loss: 1.4127 - val_accuracy: 0.9425\n",
      "Epoch 432/500\n",
      "6/6 [==============================] - 1s 114ms/step - loss: 1.1611e-07 - accuracy: 1.0000 - val_loss: 1.4133 - val_accuracy: 0.9425\n",
      "Epoch 433/500\n",
      "6/6 [==============================] - 1s 111ms/step - loss: 1.1542e-07 - accuracy: 1.0000 - val_loss: 1.4139 - val_accuracy: 0.9425\n",
      "Epoch 434/500\n",
      "6/6 [==============================] - 1s 112ms/step - loss: 1.1439e-07 - accuracy: 1.0000 - val_loss: 1.4145 - val_accuracy: 0.9425\n",
      "Epoch 435/500\n",
      "6/6 [==============================] - 1s 114ms/step - loss: 1.1404e-07 - accuracy: 1.0000 - val_loss: 1.4151 - val_accuracy: 0.9425\n",
      "Epoch 436/500\n",
      "6/6 [==============================] - 1s 251ms/step - loss: 1.1335e-07 - accuracy: 1.0000 - val_loss: 1.4157 - val_accuracy: 0.9425\n",
      "Epoch 437/500\n",
      "6/6 [==============================] - 1s 112ms/step - loss: 1.1301e-07 - accuracy: 1.0000 - val_loss: 1.4163 - val_accuracy: 0.9425\n",
      "Epoch 438/500\n",
      "6/6 [==============================] - 1s 112ms/step - loss: 1.1094e-07 - accuracy: 1.0000 - val_loss: 1.4168 - val_accuracy: 0.9425\n",
      "Epoch 439/500\n",
      "6/6 [==============================] - 1s 115ms/step - loss: 1.1060e-07 - accuracy: 1.0000 - val_loss: 1.4175 - val_accuracy: 0.9425\n",
      "Epoch 440/500\n",
      "6/6 [==============================] - 1s 114ms/step - loss: 1.0991e-07 - accuracy: 1.0000 - val_loss: 1.4181 - val_accuracy: 0.9425\n",
      "Epoch 441/500\n",
      "6/6 [==============================] - 1s 110ms/step - loss: 1.0922e-07 - accuracy: 1.0000 - val_loss: 1.4187 - val_accuracy: 0.9425\n",
      "Epoch 442/500\n",
      "6/6 [==============================] - 1s 115ms/step - loss: 1.0853e-07 - accuracy: 1.0000 - val_loss: 1.4194 - val_accuracy: 0.9425\n",
      "Epoch 443/500\n",
      "6/6 [==============================] - 1s 145ms/step - loss: 1.0853e-07 - accuracy: 1.0000 - val_loss: 1.4200 - val_accuracy: 0.9425\n",
      "Epoch 444/500\n",
      "6/6 [==============================] - 1s 149ms/step - loss: 1.0818e-07 - accuracy: 1.0000 - val_loss: 1.4206 - val_accuracy: 0.9425\n",
      "Epoch 445/500\n",
      "6/6 [==============================] - 1s 112ms/step - loss: 1.0681e-07 - accuracy: 1.0000 - val_loss: 1.4212 - val_accuracy: 0.9425\n",
      "Epoch 446/500\n",
      "6/6 [==============================] - 1s 110ms/step - loss: 1.0543e-07 - accuracy: 1.0000 - val_loss: 1.4219 - val_accuracy: 0.9425\n",
      "Epoch 447/500\n",
      "6/6 [==============================] - 1s 112ms/step - loss: 1.0508e-07 - accuracy: 1.0000 - val_loss: 1.4225 - val_accuracy: 0.9425\n",
      "Epoch 448/500\n",
      "6/6 [==============================] - 1s 114ms/step - loss: 1.0405e-07 - accuracy: 1.0000 - val_loss: 1.4230 - val_accuracy: 0.9425\n",
      "Epoch 449/500\n",
      "6/6 [==============================] - 1s 113ms/step - loss: 1.0336e-07 - accuracy: 1.0000 - val_loss: 1.4236 - val_accuracy: 0.9425\n"
     ]
    },
    {
     "name": "stdout",
     "output_type": "stream",
     "text": [
      "Epoch 450/500\n",
      "6/6 [==============================] - 1s 113ms/step - loss: 1.0302e-07 - accuracy: 1.0000 - val_loss: 1.4242 - val_accuracy: 0.9425\n",
      "Epoch 451/500\n",
      "6/6 [==============================] - 1s 117ms/step - loss: 1.0233e-07 - accuracy: 1.0000 - val_loss: 1.4248 - val_accuracy: 0.9425\n",
      "Epoch 452/500\n",
      "6/6 [==============================] - 1s 112ms/step - loss: 1.0233e-07 - accuracy: 1.0000 - val_loss: 1.4254 - val_accuracy: 0.9425\n",
      "Epoch 453/500\n",
      "6/6 [==============================] - 1s 112ms/step - loss: 1.0129e-07 - accuracy: 1.0000 - val_loss: 1.4259 - val_accuracy: 0.9425\n",
      "Epoch 454/500\n",
      "6/6 [==============================] - 1s 113ms/step - loss: 1.0060e-07 - accuracy: 1.0000 - val_loss: 1.4267 - val_accuracy: 0.9425\n",
      "Epoch 455/500\n",
      "6/6 [==============================] - 1s 114ms/step - loss: 9.9915e-08 - accuracy: 1.0000 - val_loss: 1.4274 - val_accuracy: 0.9425\n",
      "Epoch 456/500\n",
      "6/6 [==============================] - 1s 115ms/step - loss: 9.9226e-08 - accuracy: 1.0000 - val_loss: 1.4281 - val_accuracy: 0.9425\n",
      "Epoch 457/500\n",
      "6/6 [==============================] - 1s 114ms/step - loss: 9.9226e-08 - accuracy: 1.0000 - val_loss: 1.4287 - val_accuracy: 0.9425\n",
      "Epoch 458/500\n",
      "6/6 [==============================] - 1s 125ms/step - loss: 9.7503e-08 - accuracy: 1.0000 - val_loss: 1.4293 - val_accuracy: 0.9425\n",
      "Epoch 459/500\n",
      "6/6 [==============================] - 1s 112ms/step - loss: 9.6814e-08 - accuracy: 1.0000 - val_loss: 1.4299 - val_accuracy: 0.9425\n",
      "Epoch 460/500\n",
      "6/6 [==============================] - 1s 116ms/step - loss: 9.6125e-08 - accuracy: 1.0000 - val_loss: 1.4304 - val_accuracy: 0.9425\n",
      "Epoch 461/500\n",
      "6/6 [==============================] - 1s 114ms/step - loss: 9.5092e-08 - accuracy: 1.0000 - val_loss: 1.4310 - val_accuracy: 0.9425\n",
      "Epoch 462/500\n",
      "6/6 [==============================] - 1s 113ms/step - loss: 9.4747e-08 - accuracy: 1.0000 - val_loss: 1.4316 - val_accuracy: 0.9425\n",
      "Epoch 463/500\n",
      "6/6 [==============================] - 1s 116ms/step - loss: 9.4058e-08 - accuracy: 1.0000 - val_loss: 1.4321 - val_accuracy: 0.9425\n",
      "Epoch 464/500\n",
      "6/6 [==============================] - 1s 112ms/step - loss: 9.4058e-08 - accuracy: 1.0000 - val_loss: 1.4328 - val_accuracy: 0.9425\n",
      "Epoch 465/500\n",
      "6/6 [==============================] - 1s 113ms/step - loss: 9.2335e-08 - accuracy: 1.0000 - val_loss: 1.4333 - val_accuracy: 0.9425\n",
      "Epoch 466/500\n",
      "6/6 [==============================] - 1s 113ms/step - loss: 9.2335e-08 - accuracy: 1.0000 - val_loss: 1.4337 - val_accuracy: 0.9425\n",
      "Epoch 467/500\n",
      "6/6 [==============================] - 1s 114ms/step - loss: 9.1991e-08 - accuracy: 1.0000 - val_loss: 1.4342 - val_accuracy: 0.9425\n",
      "Epoch 468/500\n",
      "6/6 [==============================] - 1s 152ms/step - loss: 9.1646e-08 - accuracy: 1.0000 - val_loss: 1.4348 - val_accuracy: 0.9425\n",
      "Epoch 469/500\n",
      "6/6 [==============================] - 1s 113ms/step - loss: 9.1302e-08 - accuracy: 1.0000 - val_loss: 1.4353 - val_accuracy: 0.9425\n",
      "Epoch 470/500\n",
      "6/6 [==============================] - 1s 115ms/step - loss: 9.0613e-08 - accuracy: 1.0000 - val_loss: 1.4359 - val_accuracy: 0.9425\n",
      "Epoch 471/500\n",
      "6/6 [==============================] - 1s 116ms/step - loss: 8.9924e-08 - accuracy: 1.0000 - val_loss: 1.4365 - val_accuracy: 0.9425\n",
      "Epoch 472/500\n",
      "6/6 [==============================] - 1s 116ms/step - loss: 8.9235e-08 - accuracy: 1.0000 - val_loss: 1.4371 - val_accuracy: 0.9425\n",
      "Epoch 473/500\n",
      "6/6 [==============================] - 1s 111ms/step - loss: 8.8546e-08 - accuracy: 1.0000 - val_loss: 1.4377 - val_accuracy: 0.9425\n",
      "Epoch 474/500\n",
      "6/6 [==============================] - 1s 125ms/step - loss: 8.8201e-08 - accuracy: 1.0000 - val_loss: 1.4383 - val_accuracy: 0.9425\n",
      "Epoch 475/500\n",
      "6/6 [==============================] - 1s 113ms/step - loss: 8.8201e-08 - accuracy: 1.0000 - val_loss: 1.4389 - val_accuracy: 0.9425\n",
      "Epoch 476/500\n",
      "6/6 [==============================] - 1s 113ms/step - loss: 8.7167e-08 - accuracy: 1.0000 - val_loss: 1.4395 - val_accuracy: 0.9425\n",
      "Epoch 477/500\n",
      "6/6 [==============================] - 1s 113ms/step - loss: 8.7167e-08 - accuracy: 1.0000 - val_loss: 1.4401 - val_accuracy: 0.9425\n",
      "Epoch 478/500\n",
      "6/6 [==============================] - 1s 118ms/step - loss: 8.6134e-08 - accuracy: 1.0000 - val_loss: 1.4407 - val_accuracy: 0.9425\n",
      "Epoch 479/500\n",
      "6/6 [==============================] - 1s 117ms/step - loss: 8.6134e-08 - accuracy: 1.0000 - val_loss: 1.4413 - val_accuracy: 0.9425\n",
      "Epoch 480/500\n",
      "6/6 [==============================] - 1s 112ms/step - loss: 8.5445e-08 - accuracy: 1.0000 - val_loss: 1.4419 - val_accuracy: 0.9425\n",
      "Epoch 481/500\n",
      "6/6 [==============================] - 1s 116ms/step - loss: 8.4411e-08 - accuracy: 1.0000 - val_loss: 1.4424 - val_accuracy: 0.9425\n",
      "Epoch 482/500\n",
      "6/6 [==============================] - 1s 112ms/step - loss: 8.3378e-08 - accuracy: 1.0000 - val_loss: 1.4431 - val_accuracy: 0.9425\n",
      "Epoch 483/500\n",
      "6/6 [==============================] - 1s 114ms/step - loss: 8.3378e-08 - accuracy: 1.0000 - val_loss: 1.4437 - val_accuracy: 0.9425\n",
      "Epoch 484/500\n",
      "6/6 [==============================] - 1s 113ms/step - loss: 8.2688e-08 - accuracy: 1.0000 - val_loss: 1.4442 - val_accuracy: 0.9425\n",
      "Epoch 485/500\n",
      "6/6 [==============================] - 1s 112ms/step - loss: 8.2688e-08 - accuracy: 1.0000 - val_loss: 1.4448 - val_accuracy: 0.9425\n",
      "Epoch 486/500\n",
      "6/6 [==============================] - 1s 114ms/step - loss: 8.2344e-08 - accuracy: 1.0000 - val_loss: 1.4454 - val_accuracy: 0.9425\n",
      "Epoch 487/500\n",
      "6/6 [==============================] - 1s 114ms/step - loss: 8.1999e-08 - accuracy: 1.0000 - val_loss: 1.4460 - val_accuracy: 0.9425\n",
      "Epoch 488/500\n",
      "6/6 [==============================] - 1s 115ms/step - loss: 8.0277e-08 - accuracy: 1.0000 - val_loss: 1.4467 - val_accuracy: 0.9425\n",
      "Epoch 489/500\n",
      "6/6 [==============================] - 1s 113ms/step - loss: 7.9588e-08 - accuracy: 1.0000 - val_loss: 1.4472 - val_accuracy: 0.9425\n",
      "Epoch 490/500\n",
      "6/6 [==============================] - 1s 121ms/step - loss: 7.9243e-08 - accuracy: 1.0000 - val_loss: 1.4478 - val_accuracy: 0.9425\n",
      "Epoch 491/500\n",
      "6/6 [==============================] - 1s 114ms/step - loss: 7.9243e-08 - accuracy: 1.0000 - val_loss: 1.4484 - val_accuracy: 0.9425\n",
      "Epoch 492/500\n",
      "6/6 [==============================] - 1s 113ms/step - loss: 7.9243e-08 - accuracy: 1.0000 - val_loss: 1.4490 - val_accuracy: 0.9425\n",
      "Epoch 493/500\n",
      "6/6 [==============================] - 1s 114ms/step - loss: 7.8899e-08 - accuracy: 1.0000 - val_loss: 1.4496 - val_accuracy: 0.9425\n",
      "Epoch 494/500\n",
      "6/6 [==============================] - 1s 115ms/step - loss: 7.7865e-08 - accuracy: 1.0000 - val_loss: 1.4503 - val_accuracy: 0.9425\n",
      "Epoch 495/500\n",
      "6/6 [==============================] - 1s 115ms/step - loss: 7.7520e-08 - accuracy: 1.0000 - val_loss: 1.4510 - val_accuracy: 0.9425\n",
      "Epoch 496/500\n",
      "6/6 [==============================] - 2s 295ms/step - loss: 7.7176e-08 - accuracy: 1.0000 - val_loss: 1.4516 - val_accuracy: 0.9425\n",
      "Epoch 497/500\n",
      "6/6 [==============================] - 1s 114ms/step - loss: 7.7176e-08 - accuracy: 1.0000 - val_loss: 1.4522 - val_accuracy: 0.9425\n",
      "Epoch 498/500\n",
      "6/6 [==============================] - 1s 114ms/step - loss: 7.6487e-08 - accuracy: 1.0000 - val_loss: 1.4528 - val_accuracy: 0.9425\n",
      "Epoch 499/500\n",
      "6/6 [==============================] - 1s 115ms/step - loss: 7.5798e-08 - accuracy: 1.0000 - val_loss: 1.4534 - val_accuracy: 0.9425\n",
      "Epoch 500/500\n",
      "6/6 [==============================] - 1s 113ms/step - loss: 7.5798e-08 - accuracy: 1.0000 - val_loss: 1.4539 - val_accuracy: 0.9425\n"
     ]
    },
    {
     "data": {
      "text/plain": [
       "<tensorflow.python.keras.callbacks.History at 0x1a5eddfdf98>"
      ]
     },
     "execution_count": 31,
     "metadata": {},
     "output_type": "execute_result"
    }
   ],
   "source": [
    "model.fit(X_train, y_train, epochs=100, batch_size=64, verbose=1, \n",
    "          validation_data=(X_test, y_test),\n",
    "          callbacks=[tensorboard_callback])"
   ]
  },
  {
   "cell_type": "markdown",
   "metadata": {},
   "source": [
    "### 3.2.7 Summary"
   ]
  },
  {
   "cell_type": "code",
   "execution_count": 152,
   "metadata": {},
   "outputs": [
    {
     "name": "stdout",
     "output_type": "stream",
     "text": [
      "Model: \"sequential_1\"\n",
      "_________________________________________________________________\n",
      " Layer (type)                Output Shape              Param #   \n",
      "=================================================================\n",
      " conv2d_3 (Conv2D)           (None, 298, 298, 32)      320       \n",
      "                                                                 \n",
      " max_pooling2d_3 (MaxPoolin  (None, 149, 149, 32)      0         \n",
      " g2D)                                                            \n",
      "                                                                 \n",
      " conv2d_4 (Conv2D)           (None, 147, 147, 64)      18496     \n",
      "                                                                 \n",
      " max_pooling2d_4 (MaxPoolin  (None, 73, 73, 64)        0         \n",
      " g2D)                                                            \n",
      "                                                                 \n",
      " conv2d_5 (Conv2D)           (None, 71, 71, 64)        36928     \n",
      "                                                                 \n",
      " max_pooling2d_5 (MaxPoolin  (None, 35, 35, 64)        0         \n",
      " g2D)                                                            \n",
      "                                                                 \n",
      " flatten_1 (Flatten)         (None, 78400)             0         \n",
      "                                                                 \n",
      " dense_3 (Dense)             (None, 1024)              80282624  \n",
      "                                                                 \n",
      " dense_4 (Dense)             (None, 1024)              1049600   \n",
      "                                                                 \n",
      " dense_5 (Dense)             (None, 2)                 2050      \n",
      "                                                                 \n",
      "=================================================================\n",
      "Total params: 81390018 (310.48 MB)\n",
      "Trainable params: 81390018 (310.48 MB)\n",
      "Non-trainable params: 0 (0.00 Byte)\n",
      "_________________________________________________________________\n"
     ]
    }
   ],
   "source": [
    "model.summary()"
   ]
  },
  {
   "cell_type": "markdown",
   "metadata": {},
   "source": [
    "### 3.2.8. Tensorboard Display"
   ]
  },
  {
   "cell_type": "code",
   "execution_count": 154,
   "metadata": {
    "scrolled": true
   },
   "outputs": [
    {
     "data": {
      "text/plain": [
       "ERROR: Could not find `tensorboard`. Please ensure that your PATH\n",
       "contains an executable `tensorboard` program, or explicitly specify\n",
       "the path to a TensorBoard binary by setting the `TENSORBOARD_BINARY`\n",
       "environment variable."
      ]
     },
     "metadata": {},
     "output_type": "display_data"
    }
   ],
   "source": [
    "%tensorboard --logdir logs/fit"
   ]
  },
  {
   "cell_type": "markdown",
   "metadata": {},
   "source": [
    "## 3.8 Save the Model"
   ]
  },
  {
   "cell_type": "code",
   "execution_count": 156,
   "metadata": {
    "scrolled": true
   },
   "outputs": [
    {
     "name": "stdout",
     "output_type": "stream",
     "text": [
      "INFO:tensorflow:Assets written to: saved_model/model_Chr_09_cnn_iteration_0\\assets\n"
     ]
    },
    {
     "name": "stderr",
     "output_type": "stream",
     "text": [
      "INFO:tensorflow:Assets written to: saved_model/model_Chr_09_cnn_iteration_0\\assets\n"
     ]
    }
   ],
   "source": [
    "model.save('saved_model/model_Chr_09_cnn_iteration_'+str(iterationNumber))"
   ]
  },
  {
   "cell_type": "markdown",
   "metadata": {},
   "source": [
    "## 3.9 Load the Model"
   ]
  },
  {
   "cell_type": "code",
   "execution_count": 158,
   "metadata": {},
   "outputs": [],
   "source": [
    "model_reload = keras.models.load_model('saved_model/model_Chr_09_cnn_iteration_'+str(iterationNumber))"
   ]
  },
  {
   "cell_type": "markdown",
   "metadata": {},
   "source": [
    "## 3.10. Performance Measures"
   ]
  },
  {
   "cell_type": "markdown",
   "metadata": {},
   "source": [
    "### 3.10.0. Accuracy"
   ]
  },
  {
   "cell_type": "code",
   "execution_count": 161,
   "metadata": {},
   "outputs": [
    {
     "name": "stdout",
     "output_type": "stream",
     "text": [
      "Test Accuracy: 0.750\n"
     ]
    }
   ],
   "source": [
    "loss, acc = model_reload.evaluate(X_test, y_test, verbose=0)\n",
    "print('Test Accuracy: %.3f' % acc)"
   ]
  },
  {
   "cell_type": "code",
   "execution_count": 162,
   "metadata": {},
   "outputs": [
    {
     "data": {
      "text/plain": [
       "4"
      ]
     },
     "execution_count": 162,
     "metadata": {},
     "output_type": "execute_result"
    }
   ],
   "source": [
    "len(X_test)"
   ]
  },
  {
   "cell_type": "code",
   "execution_count": 163,
   "metadata": {},
   "outputs": [
    {
     "name": "stdout",
     "output_type": "stream",
     "text": [
      "1/1 [==============================] - 0s 149ms/step\n"
     ]
    }
   ],
   "source": [
    "y_predict = model_reload.predict(X_test)"
   ]
  },
  {
   "cell_type": "code",
   "execution_count": 164,
   "metadata": {},
   "outputs": [
    {
     "data": {
      "text/plain": [
       "4"
      ]
     },
     "execution_count": 164,
     "metadata": {},
     "output_type": "execute_result"
    }
   ],
   "source": [
    "len(y_predict)"
   ]
  },
  {
   "cell_type": "code",
   "execution_count": 165,
   "metadata": {},
   "outputs": [],
   "source": [
    "# The number 32 means the type number of all chromosome class number inlcuding abnormal ones\n",
    "y_predict_filtered = []\n",
    "\n",
    "for sample in y_predict:\n",
    "    maximum = 0\n",
    "    indicator = 0\n",
    "    for i in range(2):\n",
    "        if sample[i] > maximum:\n",
    "            maximum = sample[i]\n",
    "            indicator = i\n",
    "    y_predict_filtered.append(indicator)        "
   ]
  },
  {
   "cell_type": "code",
   "execution_count": 166,
   "metadata": {},
   "outputs": [
    {
     "data": {
      "text/plain": [
       "4"
      ]
     },
     "execution_count": 166,
     "metadata": {},
     "output_type": "execute_result"
    }
   ],
   "source": [
    "len(y_predict_filtered)"
   ]
  },
  {
   "cell_type": "code",
   "execution_count": 167,
   "metadata": {},
   "outputs": [],
   "source": [
    "label = ['chr_09', 'chr_9_inversion']\n",
    "\n",
    "label_convert = []\n",
    "\n",
    "for i in range(2):\n",
    "    label_convert.append(chromConvert_reverse[i])"
   ]
  },
  {
   "cell_type": "markdown",
   "metadata": {},
   "source": [
    "### 3.10.1 Save y_test and y_predict"
   ]
  },
  {
   "cell_type": "code",
   "execution_count": 169,
   "metadata": {},
   "outputs": [],
   "source": [
    "with open('data_y_test_value_iteration_' + str(iterationNumber) + '.npy', 'wb') as file_y_test_value:\n",
    "    np.save(file_y_test_value, y_test)"
   ]
  },
  {
   "cell_type": "code",
   "execution_count": 170,
   "metadata": {},
   "outputs": [],
   "source": [
    "with open('data_y_predict_value_iteration_' + str(iterationNumber) + '.npy', 'wb') as file_y_predict_value:\n",
    "    np.save(file_y_predict_value, y_predict)"
   ]
  },
  {
   "cell_type": "code",
   "execution_count": 171,
   "metadata": {},
   "outputs": [],
   "source": [
    "with open('data_y_predict_filtered_value_iteration_' + str(iterationNumber) + '.npy', 'wb') as file_y_predict_filtered_value:\n",
    "    np.save(file_y_predict_filtered_value, np.array(y_predict_filtered))"
   ]
  },
  {
   "cell_type": "markdown",
   "metadata": {},
   "source": [
    "#### Test for load the files"
   ]
  },
  {
   "cell_type": "code",
   "execution_count": 173,
   "metadata": {},
   "outputs": [],
   "source": [
    "with open('data_y_test_value_iteration_' + str(iterationNumber) + '.npy', 'rb') as f1:\n",
    "    y_test = np.load(f1)\n",
    "    \n",
    "with open('data_y_predict_value_iteration_' + str(iterationNumber) + '.npy', 'rb') as f2:\n",
    "    y_predict = np.load(f2)\n",
    "    \n",
    "with open('data_y_predict_filtered_value_iteration_' + str(iterationNumber) + '.npy', 'rb') as f3:\n",
    "    y_predict_filtered = np.load(f3)"
   ]
  },
  {
   "cell_type": "code",
   "execution_count": 174,
   "metadata": {},
   "outputs": [
    {
     "data": {
      "text/plain": [
       "array([0, 0, 1, 1])"
      ]
     },
     "execution_count": 174,
     "metadata": {},
     "output_type": "execute_result"
    }
   ],
   "source": [
    "y_test"
   ]
  },
  {
   "cell_type": "code",
   "execution_count": 175,
   "metadata": {
    "scrolled": true
   },
   "outputs": [
    {
     "data": {
      "text/plain": [
       "array([[0.84960556, 0.05832672],\n",
       "       [0.25954133, 0.45228878],\n",
       "       [0.02276843, 0.86967975],\n",
       "       [0.03190836, 0.86640733]], dtype=float32)"
      ]
     },
     "execution_count": 175,
     "metadata": {},
     "output_type": "execute_result"
    }
   ],
   "source": [
    "y_predict"
   ]
  },
  {
   "cell_type": "markdown",
   "metadata": {},
   "source": [
    "### 3.10.2. Classification Report"
   ]
  },
  {
   "cell_type": "code",
   "execution_count": 177,
   "metadata": {},
   "outputs": [
    {
     "name": "stdout",
     "output_type": "stream",
     "text": [
      "                 precision    recall  f1-score   support\n",
      "\n",
      "         chr_09       1.00      0.50      0.67         2\n",
      "chr_9_inversion       0.67      1.00      0.80         2\n",
      "\n",
      "       accuracy                           0.75         4\n",
      "      macro avg       0.83      0.75      0.73         4\n",
      "   weighted avg       0.83      0.75      0.73         4\n",
      "\n"
     ]
    }
   ],
   "source": [
    "performanceReport = classification_report(y_test, y_predict_filtered, target_names=label_convert)\n",
    "\n",
    "\n",
    "print(performanceReport)"
   ]
  },
  {
   "cell_type": "markdown",
   "metadata": {},
   "source": [
    "### 3.10.3. Confusion Matrix"
   ]
  },
  {
   "cell_type": "code",
   "execution_count": 179,
   "metadata": {},
   "outputs": [
    {
     "data": {
      "text/html": [
       "<div>\n",
       "<style scoped>\n",
       "    .dataframe tbody tr th:only-of-type {\n",
       "        vertical-align: middle;\n",
       "    }\n",
       "\n",
       "    .dataframe tbody tr th {\n",
       "        vertical-align: top;\n",
       "    }\n",
       "\n",
       "    .dataframe thead th {\n",
       "        text-align: right;\n",
       "    }\n",
       "</style>\n",
       "<table border=\"1\" class=\"dataframe\">\n",
       "  <thead>\n",
       "    <tr style=\"text-align: right;\">\n",
       "      <th></th>\n",
       "      <th>chr_09</th>\n",
       "      <th>chr_9_inversion</th>\n",
       "    </tr>\n",
       "  </thead>\n",
       "  <tbody>\n",
       "    <tr>\n",
       "      <th>chr_09</th>\n",
       "      <td>1</td>\n",
       "      <td>1</td>\n",
       "    </tr>\n",
       "    <tr>\n",
       "      <th>chr_9_inversion</th>\n",
       "      <td>0</td>\n",
       "      <td>2</td>\n",
       "    </tr>\n",
       "  </tbody>\n",
       "</table>\n",
       "</div>"
      ],
      "text/plain": [
       "                 chr_09  chr_9_inversion\n",
       "chr_09                1                1\n",
       "chr_9_inversion       0                2"
      ]
     },
     "execution_count": 179,
     "metadata": {},
     "output_type": "execute_result"
    }
   ],
   "source": [
    "cm = np.array(confusion_matrix(y_test, y_predict_filtered, labels=[0, 1]))\n",
    "confusion = pd.DataFrame(cm, index=label_convert,\n",
    "                        columns=label_convert)\n",
    "confusion.to_csv('ConfusionMatrix_Chr_05_KaryoType_CNN' + str(iterationNumber) + '.csv')\n",
    "confusion"
   ]
  },
  {
   "cell_type": "markdown",
   "metadata": {},
   "source": [
    "#### Heat Map"
   ]
  },
  {
   "cell_type": "code",
   "execution_count": 181,
   "metadata": {
    "scrolled": true
   },
   "outputs": [
    {
     "data": {
      "image/png": "[encoded data removed]",
      "text/plain": [
       "<Figure size 3000x2400 with 2 Axes>"
      ]
     },
     "metadata": {},
     "output_type": "display_data"
    }
   ],
   "source": [
    "plt.figure(figsize=(30, 24))\n",
    "heat_map = sb.heatmap(confusion, annot=True,  # It's a Seaborn function\n",
    "                      cmap='coolwarm', \n",
    "                      xticklabels=confusion.columns, yticklabels=confusion.index, \n",
    "                      linewidths=.5, \n",
    "                      annot_kws={\"size\": 20})\n",
    "sb.set(font_scale = 2)"
   ]
  },
  {
   "cell_type": "code",
   "execution_count": 182,
   "metadata": {},
   "outputs": [],
   "source": [
    "fig = heat_map.get_figure()    \n",
    "fig.savefig('Heatmap_Chr_09_Iteration_' + str(iterationNumber) + '.png', dpi=400)"
   ]
  },
  {
   "cell_type": "markdown",
   "metadata": {},
   "source": [
    "### 3.10.4. ROC"
   ]
  },
  {
   "cell_type": "code",
   "execution_count": 184,
   "metadata": {},
   "outputs": [
    {
     "data": {
      "text/plain": [
       "array([[0.84960556, 0.05832672],\n",
       "       [0.25954133, 0.45228878],\n",
       "       [0.02276843, 0.86967975],\n",
       "       [0.03190836, 0.86640733]], dtype=float32)"
      ]
     },
     "execution_count": 184,
     "metadata": {},
     "output_type": "execute_result"
    }
   ],
   "source": [
    "y_predict"
   ]
  },
  {
   "cell_type": "code",
   "execution_count": 185,
   "metadata": {},
   "outputs": [
    {
     "data": {
      "text/plain": [
       "[<matplotlib.lines.Line2D at 0x16d3211f970>,\n",
       " <matplotlib.lines.Line2D at 0x16d3211f9d0>]"
      ]
     },
     "execution_count": 185,
     "metadata": {},
     "output_type": "execute_result"
    },
    {
     "data": {
      "image/png": "[encoded data removed]",
      "text/plain": [
       "<Figure size 640x480 with 1 Axes>"
      ]
     },
     "metadata": {},
     "output_type": "display_data"
    }
   ],
   "source": [
    "plt.plot(y_predict)"
   ]
  },
  {
   "cell_type": "code",
   "execution_count": 186,
   "metadata": {},
   "outputs": [],
   "source": [
    "y_predict_1D = y_predict[:,0]"
   ]
  },
  {
   "cell_type": "code",
   "execution_count": 187,
   "metadata": {},
   "outputs": [],
   "source": [
    "y_predict_1D_processed = 1- y_predict_1D"
   ]
  },
  {
   "cell_type": "code",
   "execution_count": 188,
   "metadata": {},
   "outputs": [],
   "source": [
    "fpr , tpr , thresholds = roc_curve(y_test , y_predict_1D_processed)\n",
    "auc_rf = auc(fpr, tpr)"
   ]
  },
  {
   "cell_type": "code",
   "execution_count": 189,
   "metadata": {},
   "outputs": [
    {
     "data": {
      "text/plain": [
       "1.0"
      ]
     },
     "execution_count": 189,
     "metadata": {},
     "output_type": "execute_result"
    }
   ],
   "source": [
    "auc_rf"
   ]
  },
  {
   "cell_type": "code",
   "execution_count": 190,
   "metadata": {},
   "outputs": [],
   "source": [
    "x = y = np.arange(0,1.1,0.1)"
   ]
  },
  {
   "cell_type": "code",
   "execution_count": 191,
   "metadata": {},
   "outputs": [
    {
     "data": {
      "text/plain": [
       "array([0. , 0.1, 0.2, 0.3, 0.4, 0.5, 0.6, 0.7, 0.8, 0.9, 1. ])"
      ]
     },
     "execution_count": 191,
     "metadata": {},
     "output_type": "execute_result"
    }
   ],
   "source": [
    "x"
   ]
  },
  {
   "cell_type": "code",
   "execution_count": 192,
   "metadata": {},
   "outputs": [
    {
     "data": {
      "image/png": "[encoded data removed]",
      "text/plain": [
       "<Figure size 640x480 with 1 Axes>"
      ]
     },
     "metadata": {},
     "output_type": "display_data"
    }
   ],
   "source": [
    "plt.plot(fpr, tpr)\n",
    "plt.plot(x, y, '--', color='black')\n",
    "plt.title('ROC curve of Chr 9 Inversion', fontsize=15, fontname = 'Times New Roman')\n",
    "plt.xlabel('False Positive Rate', fontsize=10, fontname = 'Times New Roman')\n",
    "plt.ylabel('True positive Rate', fontsize=10, fontname = 'Times New Roman')\n",
    "plt.axis('equal')\n",
    "plt.xlim(-0.08, 1.1)\n",
    "plt.ylim(-0.08, 1.1)\n",
    "plt.xticks(fontsize=10, fontname = 'Times New Roman')\n",
    "plt.yticks(fontsize=10, fontname = 'Times New Roman')\n",
    "\n",
    "plt.savefig('ROC_Curve_Chr_09_' + str(iterationNumber) + '.png', dpi=400)\n",
    "plt.show()"
   ]
  },
  {
   "cell_type": "markdown",
   "metadata": {},
   "source": [
    "#### 3.10.4.1 AUC Value"
   ]
  },
  {
   "cell_type": "code",
   "execution_count": 194,
   "metadata": {},
   "outputs": [],
   "source": [
    "auc_value = auc(fpr, tpr)"
   ]
  },
  {
   "cell_type": "code",
   "execution_count": 195,
   "metadata": {},
   "outputs": [
    {
     "name": "stdout",
     "output_type": "stream",
     "text": [
      "AUC is  1.0\n"
     ]
    }
   ],
   "source": [
    "print('AUC is ', auc_value)"
   ]
  },
  {
   "cell_type": "markdown",
   "metadata": {},
   "source": [
    "# Results"
   ]
  },
  {
   "cell_type": "code",
   "execution_count": 197,
   "metadata": {},
   "outputs": [
    {
     "name": "stdout",
     "output_type": "stream",
     "text": [
      "Test Accuracy: 0.750\n"
     ]
    }
   ],
   "source": [
    "print('Test Accuracy: %.3f' % acc)"
   ]
  },
  {
   "cell_type": "code",
   "execution_count": 198,
   "metadata": {
    "scrolled": true
   },
   "outputs": [
    {
     "name": "stdout",
     "output_type": "stream",
     "text": [
      "                 precision    recall  f1-score   support\n",
      "\n",
      "         chr_09       1.00      0.50      0.67         2\n",
      "chr_9_inversion       0.67      1.00      0.80         2\n",
      "\n",
      "       accuracy                           0.75         4\n",
      "      macro avg       0.83      0.75      0.73         4\n",
      "   weighted avg       0.83      0.75      0.73         4\n",
      "\n"
     ]
    }
   ],
   "source": [
    "print(performanceReport)"
   ]
  },
  {
   "cell_type": "code",
   "execution_count": 199,
   "metadata": {},
   "outputs": [
    {
     "data": {
      "text/plain": [
       "str"
      ]
     },
     "execution_count": 199,
     "metadata": {},
     "output_type": "execute_result"
    }
   ],
   "source": [
    "type(performanceReport)"
   ]
  },
  {
   "cell_type": "code",
   "execution_count": 200,
   "metadata": {},
   "outputs": [
    {
     "data": {
      "text/html": [
       "<div>\n",
       "<style scoped>\n",
       "    .dataframe tbody tr th:only-of-type {\n",
       "        vertical-align: middle;\n",
       "    }\n",
       "\n",
       "    .dataframe tbody tr th {\n",
       "        vertical-align: top;\n",
       "    }\n",
       "\n",
       "    .dataframe thead th {\n",
       "        text-align: right;\n",
       "    }\n",
       "</style>\n",
       "<table border=\"1\" class=\"dataframe\">\n",
       "  <thead>\n",
       "    <tr style=\"text-align: right;\">\n",
       "      <th></th>\n",
       "      <th>chr_09</th>\n",
       "      <th>chr_9_inversion</th>\n",
       "    </tr>\n",
       "  </thead>\n",
       "  <tbody>\n",
       "    <tr>\n",
       "      <th>chr_09</th>\n",
       "      <td>1</td>\n",
       "      <td>1</td>\n",
       "    </tr>\n",
       "    <tr>\n",
       "      <th>chr_9_inversion</th>\n",
       "      <td>0</td>\n",
       "      <td>2</td>\n",
       "    </tr>\n",
       "  </tbody>\n",
       "</table>\n",
       "</div>"
      ],
      "text/plain": [
       "                 chr_09  chr_9_inversion\n",
       "chr_09                1                1\n",
       "chr_9_inversion       0                2"
      ]
     },
     "execution_count": 200,
     "metadata": {},
     "output_type": "execute_result"
    }
   ],
   "source": [
    "confusion"
   ]
  },
  {
   "cell_type": "code",
   "execution_count": 201,
   "metadata": {},
   "outputs": [
    {
     "name": "stdout",
     "output_type": "stream",
     "text": [
      "AUC is  1.0\n"
     ]
    }
   ],
   "source": [
    "print('AUC is ', auc_value)"
   ]
  },
  {
   "cell_type": "markdown",
   "metadata": {},
   "source": [
    "## Export to a text file"
   ]
  },
  {
   "cell_type": "code",
   "execution_count": 203,
   "metadata": {},
   "outputs": [],
   "source": [
    "file_report = open('Results'+str(iterationNumber)+'.txt', 'w')\n",
    "file_report.write('Accuracy: %s\\n\\n' % acc)\n",
    "file_report.write('AUC: %s.\\n\\n' % auc_value)\n",
    "file_report.write('Performance Report: \\n%s\\n\\n' % performanceReport)\n",
    "file_report.write('Confusion Matrix: \\n%s.\\n\\n' % confusion)\n",
    "file_report.close()"
   ]
  },
  {
   "cell_type": "code",
   "execution_count": null,
   "metadata": {},
   "outputs": [],
   "source": []
  }
 ],
 "metadata": {
  "anaconda-cloud": {},
  "celltoolbar": "Slideshow",
  "colab": {
   "name": "KaryoChimneyRock_FullyConnectedNN.ipynb",
   "provenance": []
  },
  "kernelspec": {
   "display_name": "Python (Karyotyping_Pinnacle)",
   "language": "python",
   "name": "karyotyping_pinnacle"
  },
  "language_info": {
   "codemirror_mode": {
    "name": "ipython",
    "version": 3
   },
   "file_extension": ".py",
   "mimetype": "text/x-python",
   "name": "python",
   "nbconvert_exporter": "python",
   "pygments_lexer": "ipython3",
   "version": "3.8.20"
  }
 },
 "nbformat": 4,
 "nbformat_minor": 4
}
