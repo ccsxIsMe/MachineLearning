{
 "cells": [
  {
   "cell_type": "code",
   "execution_count": 3,
   "id": "3fd3c07b-946e-4680-bc3a-aa54a142d657",
   "metadata": {},
   "outputs": [
    {
     "data": {
      "text/html": [
       "<div>\n",
       "<style scoped>\n",
       "    .dataframe tbody tr th:only-of-type {\n",
       "        vertical-align: middle;\n",
       "    }\n",
       "\n",
       "    .dataframe tbody tr th {\n",
       "        vertical-align: top;\n",
       "    }\n",
       "\n",
       "    .dataframe thead th {\n",
       "        text-align: right;\n",
       "    }\n",
       "</style>\n",
       "<table border=\"1\" class=\"dataframe\">\n",
       "  <thead>\n",
       "    <tr style=\"text-align: right;\">\n",
       "      <th></th>\n",
       "      <th>文件名</th>\n",
       "      <th>简介（首行 Markdown）</th>\n",
       "    </tr>\n",
       "  </thead>\n",
       "  <tbody>\n",
       "    <tr>\n",
       "      <th>0</th>\n",
       "      <td>Untitled.ipynb</td>\n",
       "      <td></td>\n",
       "    </tr>\n",
       "  </tbody>\n",
       "</table>\n",
       "</div>"
      ],
      "text/plain": [
       "              文件名 简介（首行 Markdown）\n",
       "0  Untitled.ipynb                "
      ]
     },
     "metadata": {},
     "output_type": "display_data"
    }
   ],
   "source": [
    "import os\n",
    "import nbformat\n",
    "import pandas as pd\n",
    "from IPython.display import display\n",
    "\n",
    "# 扫描当前目录下所有 .ipynb 文件\n",
    "notebooks = [f for f in os.listdir('.') if f.endswith('.ipynb')]\n",
    "info = []\n",
    "\n",
    "# 提取每个 notebook 的第一段 markdown 作为描述\n",
    "for nb in notebooks:\n",
    "    try:\n",
    "        nb_node = nbformat.read(nb, as_version=4)\n",
    "        desc = \"\"\n",
    "        for cell in nb_node.cells:\n",
    "            if cell.cell_type == 'markdown':\n",
    "                lines = cell.source.splitlines()\n",
    "                desc = lines[0].strip() if lines else \"\"\n",
    "                break\n",
    "        info.append({'文件名': nb, '简介（首行 Markdown）': desc})\n",
    "    except Exception as e:\n",
    "        info.append({'文件名': nb, '简介（首行 Markdown）': f'读取失败: {e}'})\n",
    "\n",
    "# 用 DataFrame 展示\n",
    "df = pd.DataFrame(info)\n",
    "display(df)\n"
   ]
  },
  {
   "cell_type": "code",
   "execution_count": null,
   "id": "9ecb0c0a-aa37-4d68-898c-ef8295b7bef7",
   "metadata": {},
   "outputs": [],
   "source": []
  }
 ],
 "metadata": {
  "kernelspec": {
   "display_name": "Python [conda env:base] *",
   "language": "python",
   "name": "conda-base-py"
  },
  "language_info": {
   "codemirror_mode": {
    "name": "ipython",
    "version": 3
   },
   "file_extension": ".py",
   "mimetype": "text/x-python",
   "name": "python",
   "nbconvert_exporter": "python",
   "pygments_lexer": "ipython3",
   "version": "3.12.7"
  }
 },
 "nbformat": 4,
 "nbformat_minor": 5
}
