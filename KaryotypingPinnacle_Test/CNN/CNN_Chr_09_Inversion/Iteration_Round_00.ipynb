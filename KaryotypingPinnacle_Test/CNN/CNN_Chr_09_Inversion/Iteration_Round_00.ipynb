{
 "cells": [
  {
   "cell_type": "markdown",
   "metadata": {
    "colab_type": "text",
    "id": "slIdjqTJhM8B"
   },
   "source": [
    "# Facilitated Machine Learning Models for Karyotyping in the Patients with Chromosomal Abnormalities: Retrospective Study"
   ]
  },
  {
   "cell_type": "markdown",
   "metadata": {
    "colab_type": "text",
    "id": "aBT9lgVVhM8D"
   },
   "source": [
    "- **Chuan Yang**, MD, PhD Student\n",
    "- Mentor: **Yanyan Zhao**, MD, PhD\n",
    "- Shengjing Hospital of China Medical University"
   ]
  },
  {
   "cell_type": "markdown",
   "metadata": {},
   "source": [
    "# Chr 09 vs Chr 09 Inversion"
   ]
  },
  {
   "cell_type": "markdown",
   "metadata": {
    "colab_type": "text",
    "id": "xrnbxOZChM8E"
   },
   "source": [
    "# Modules"
   ]
  },
  {
   "cell_type": "code",
   "execution_count": 6,
   "metadata": {
    "colab": {},
    "colab_type": "code",
    "id": "aKjA8v4hhM8E"
   },
   "outputs": [],
   "source": [
    "from PIL import Image\n",
    "import numpy as np\n",
    "import pandas as pd\n",
    "import matplotlib.pyplot as plt\n",
    "\n",
    "import seaborn as sb\n",
    "\n",
    "from sklearn.metrics import classification_report, confusion_matrix, roc_curve, auc\n",
    "from sklearn.model_selection import KFold\n",
    "\n",
    "from tensorflow.keras import Sequential\n",
    "from tensorflow.keras.layers import Dense, Conv2D, MaxPooling2D, Flatten\n",
    "from tensorflow import keras\n",
    "\n",
    "from os import walk\n",
    "\n",
    "import time\n",
    "import datetime\n",
    "\n",
    "import json\n",
    "\n",
    "%matplotlib inline"
   ]
  },
  {
   "cell_type": "code",
   "execution_count": 7,
   "metadata": {},
   "outputs": [],
   "source": [
    "iterationNumber = 0"
   ]
  },
  {
   "cell_type": "markdown",
   "metadata": {},
   "source": [
    "# 1. Read the File to Acquire the Filename"
   ]
  },
  {
   "cell_type": "code",
   "execution_count": 9,
   "metadata": {
    "scrolled": true
   },
   "outputs": [
    {
     "data": {
      "text/plain": [
       "{'chr_09': {'0': ['F:\\\\MyProject\\\\MachineLearning\\\\Mydata\\\\chr_09\\\\78034.12~A15.K_9R.png',\n",
       "   'F:\\\\MyProject\\\\MachineLearning\\\\Mydata\\\\chr_09\\\\78034.12~A21.K_9R.png',\n",
       "   'F:\\\\MyProject\\\\MachineLearning\\\\Mydata\\\\chr_09\\\\78034.13~A17.K_9R.png',\n",
       "   'F:\\\\MyProject\\\\MachineLearning\\\\Mydata\\\\chr_09\\\\78034.13~A22.K_9R.png',\n",
       "   'F:\\\\MyProject\\\\MachineLearning\\\\Mydata\\\\chr_09\\\\78034.13~A6.K_9R.png',\n",
       "   'F:\\\\MyProject\\\\MachineLearning\\\\Mydata\\\\chr_09\\\\78034.14~A40.K_9R.png',\n",
       "   'F:\\\\MyProject\\\\MachineLearning\\\\Mydata\\\\chr_09\\\\78034.2~A23.K_9R.png',\n",
       "   'F:\\\\MyProject\\\\MachineLearning\\\\Mydata\\\\chr_09\\\\78034.2~A48.K_9R.png',\n",
       "   'F:\\\\MyProject\\\\MachineLearning\\\\Mydata\\\\chr_09\\\\78034.3~A39.K_9R.png',\n",
       "   'F:\\\\MyProject\\\\MachineLearning\\\\Mydata\\\\chr_09\\\\78034.4~A36.K_9R.png',\n",
       "   'F:\\\\MyProject\\\\MachineLearning\\\\Mydata\\\\chr_09\\\\78058.3~A19.K_9R.png',\n",
       "   'F:\\\\MyProject\\\\MachineLearning\\\\Mydata\\\\chr_09\\\\78058.3~A2.K_9R.png',\n",
       "   'F:\\\\MyProject\\\\MachineLearning\\\\Mydata\\\\chr_09\\\\78058.3~A26.K_9R.png',\n",
       "   'F:\\\\MyProject\\\\MachineLearning\\\\Mydata\\\\chr_09\\\\78058.4~A15.K_9R.png',\n",
       "   'F:\\\\MyProject\\\\MachineLearning\\\\Mydata\\\\chr_09\\\\78058.4~A48.K_9R.png',\n",
       "   'F:\\\\MyProject\\\\MachineLearning\\\\Mydata\\\\chr_09\\\\78058.4~A8.K_9R.png',\n",
       "   'F:\\\\MyProject\\\\MachineLearning\\\\Mydata\\\\chr_09\\\\78142.12~A27.K_9R.png',\n",
       "   'F:\\\\MyProject\\\\MachineLearning\\\\Mydata\\\\chr_09\\\\78142.13~A20.K_9R.png',\n",
       "   'F:\\\\MyProject\\\\MachineLearning\\\\Mydata\\\\chr_09\\\\78142.2~A13.K_9R.png',\n",
       "   'F:\\\\MyProject\\\\MachineLearning\\\\Mydata\\\\chr_09\\\\78142.4~A44.K_9R.png',\n",
       "   'F:\\\\MyProject\\\\MachineLearning\\\\Mydata\\\\chr_09\\\\78220.1~A45.K_9R.png',\n",
       "   'F:\\\\MyProject\\\\MachineLearning\\\\Mydata\\\\chr_09\\\\78220.2~A21.K_9R.png',\n",
       "   'F:\\\\MyProject\\\\MachineLearning\\\\Mydata\\\\chr_09\\\\78220.3~A23.K_9R.png',\n",
       "   'F:\\\\MyProject\\\\MachineLearning\\\\Mydata\\\\chr_09\\\\78220.4~A17.K_9R.png',\n",
       "   'F:\\\\MyProject\\\\MachineLearning\\\\Mydata\\\\chr_09\\\\78220.4~A38.K_9R.png',\n",
       "   'F:\\\\MyProject\\\\MachineLearning\\\\Mydata\\\\chr_09\\\\78230.13~A12.K_9R.png',\n",
       "   'F:\\\\MyProject\\\\MachineLearning\\\\Mydata\\\\chr_09\\\\78230.2~A1.K_9R.png',\n",
       "   'F:\\\\MyProject\\\\MachineLearning\\\\Mydata\\\\chr_09\\\\78230.3~A5.K_9R.png',\n",
       "   'F:\\\\MyProject\\\\MachineLearning\\\\Mydata\\\\chr_09\\\\78230.4~A17.K_9R.png',\n",
       "   'F:\\\\MyProject\\\\MachineLearning\\\\Mydata\\\\chr_09\\\\78451.12~A1.K_9R.png',\n",
       "   'F:\\\\MyProject\\\\MachineLearning\\\\Mydata\\\\chr_09\\\\78451.12~A38.K_9R.png',\n",
       "   'F:\\\\MyProject\\\\MachineLearning\\\\Mydata\\\\chr_09\\\\78451.2~A16.K_9R.png',\n",
       "   'F:\\\\MyProject\\\\MachineLearning\\\\Mydata\\\\chr_09\\\\78451.3~A37.K_9R.png',\n",
       "   'F:\\\\MyProject\\\\MachineLearning\\\\Mydata\\\\chr_09\\\\78451.4~A16.K_9R.png',\n",
       "   'F:\\\\MyProject\\\\MachineLearning\\\\Mydata\\\\chr_09\\\\78834.12~A25.K_9R.png',\n",
       "   'F:\\\\MyProject\\\\MachineLearning\\\\Mydata\\\\chr_09\\\\78834.14~A21.K_9R.png',\n",
       "   'F:\\\\MyProject\\\\MachineLearning\\\\Mydata\\\\chr_09\\\\78834.3~A16.K_9R.png',\n",
       "   'F:\\\\MyProject\\\\MachineLearning\\\\Mydata\\\\chr_09\\\\78834.3~A35.K_9R.png',\n",
       "   'F:\\\\MyProject\\\\MachineLearning\\\\Mydata\\\\chr_09\\\\79501.1~A19.K_9R.png',\n",
       "   'F:\\\\MyProject\\\\MachineLearning\\\\Mydata\\\\chr_09\\\\79501.3~A30.K_9R.png'],\n",
       "  '1': ['F:\\\\MyProject\\\\MachineLearning\\\\Mydata\\\\chr_09\\\\78034.12~A15.K_9R.png',\n",
       "   'F:\\\\MyProject\\\\MachineLearning\\\\Mydata\\\\chr_09\\\\78034.12~A21.K_9R.png',\n",
       "   'F:\\\\MyProject\\\\MachineLearning\\\\Mydata\\\\chr_09\\\\78034.12~A30.K_9R.png',\n",
       "   'F:\\\\MyProject\\\\MachineLearning\\\\Mydata\\\\chr_09\\\\78034.13~A1.K_9R.png',\n",
       "   'F:\\\\MyProject\\\\MachineLearning\\\\Mydata\\\\chr_09\\\\78034.13~A17.K_9R.png',\n",
       "   'F:\\\\MyProject\\\\MachineLearning\\\\Mydata\\\\chr_09\\\\78034.13~A22.K_9R.png',\n",
       "   'F:\\\\MyProject\\\\MachineLearning\\\\Mydata\\\\chr_09\\\\78034.13~A6.K_9R.png',\n",
       "   'F:\\\\MyProject\\\\MachineLearning\\\\Mydata\\\\chr_09\\\\78034.14~A40.K_9R.png',\n",
       "   'F:\\\\MyProject\\\\MachineLearning\\\\Mydata\\\\chr_09\\\\78034.2~A23.K_9R.png',\n",
       "   'F:\\\\MyProject\\\\MachineLearning\\\\Mydata\\\\chr_09\\\\78034.2~A48.K_9R.png',\n",
       "   'F:\\\\MyProject\\\\MachineLearning\\\\Mydata\\\\chr_09\\\\78034.3~A39.K_9R.png',\n",
       "   'F:\\\\MyProject\\\\MachineLearning\\\\Mydata\\\\chr_09\\\\78034.4~A36.K_9R.png',\n",
       "   'F:\\\\MyProject\\\\MachineLearning\\\\Mydata\\\\chr_09\\\\78058.3~A19.K_9R.png',\n",
       "   'F:\\\\MyProject\\\\MachineLearning\\\\Mydata\\\\chr_09\\\\78058.3~A26.K_9R.png',\n",
       "   'F:\\\\MyProject\\\\MachineLearning\\\\Mydata\\\\chr_09\\\\78058.4~A15.K_9R.png',\n",
       "   'F:\\\\MyProject\\\\MachineLearning\\\\Mydata\\\\chr_09\\\\78058.4~A48.K_9R.png',\n",
       "   'F:\\\\MyProject\\\\MachineLearning\\\\Mydata\\\\chr_09\\\\78058.4~A8.K_9R.png',\n",
       "   'F:\\\\MyProject\\\\MachineLearning\\\\Mydata\\\\chr_09\\\\78142.12~A27.K_9R.png',\n",
       "   'F:\\\\MyProject\\\\MachineLearning\\\\Mydata\\\\chr_09\\\\78142.2~A13.K_9R.png',\n",
       "   'F:\\\\MyProject\\\\MachineLearning\\\\Mydata\\\\chr_09\\\\78220.2~A21.K_9R.png',\n",
       "   'F:\\\\MyProject\\\\MachineLearning\\\\Mydata\\\\chr_09\\\\78220.3~A23.K_9R.png',\n",
       "   'F:\\\\MyProject\\\\MachineLearning\\\\Mydata\\\\chr_09\\\\78220.4~A17.K_9R.png',\n",
       "   'F:\\\\MyProject\\\\MachineLearning\\\\Mydata\\\\chr_09\\\\78230.12~A47.K_9R.png',\n",
       "   'F:\\\\MyProject\\\\MachineLearning\\\\Mydata\\\\chr_09\\\\78230.13~A12.K_9R.png',\n",
       "   'F:\\\\MyProject\\\\MachineLearning\\\\Mydata\\\\chr_09\\\\78230.14~A47.K_9R.png',\n",
       "   'F:\\\\MyProject\\\\MachineLearning\\\\Mydata\\\\chr_09\\\\78230.2~A1.K_9R.png',\n",
       "   'F:\\\\MyProject\\\\MachineLearning\\\\Mydata\\\\chr_09\\\\78230.3~A14.K_9R.png',\n",
       "   'F:\\\\MyProject\\\\MachineLearning\\\\Mydata\\\\chr_09\\\\78230.4~A17.K_9R.png',\n",
       "   'F:\\\\MyProject\\\\MachineLearning\\\\Mydata\\\\chr_09\\\\78451.12~A1.K_9R.png',\n",
       "   'F:\\\\MyProject\\\\MachineLearning\\\\Mydata\\\\chr_09\\\\78451.12~A32.K_9R.png',\n",
       "   'F:\\\\MyProject\\\\MachineLearning\\\\Mydata\\\\chr_09\\\\78451.2~A16.K_9R.png',\n",
       "   'F:\\\\MyProject\\\\MachineLearning\\\\Mydata\\\\chr_09\\\\78451.2~A30.K_9R.png',\n",
       "   'F:\\\\MyProject\\\\MachineLearning\\\\Mydata\\\\chr_09\\\\78451.3~A41.K_9R.png',\n",
       "   'F:\\\\MyProject\\\\MachineLearning\\\\Mydata\\\\chr_09\\\\78451.4~A16.K_9R.png',\n",
       "   'F:\\\\MyProject\\\\MachineLearning\\\\Mydata\\\\chr_09\\\\78834.14~A21.K_9R.png',\n",
       "   'F:\\\\MyProject\\\\MachineLearning\\\\Mydata\\\\chr_09\\\\78834.3~A16.K_9R.png',\n",
       "   'F:\\\\MyProject\\\\MachineLearning\\\\Mydata\\\\chr_09\\\\78834.3~A35.K_9R.png',\n",
       "   'F:\\\\MyProject\\\\MachineLearning\\\\Mydata\\\\chr_09\\\\78834.4~A24.K_9R.png',\n",
       "   'F:\\\\MyProject\\\\MachineLearning\\\\Mydata\\\\chr_09\\\\79501.1~A19.K_9R.png',\n",
       "   'F:\\\\MyProject\\\\MachineLearning\\\\Mydata\\\\chr_09\\\\79501.3~A10.K_9R.png'],\n",
       "  '2': ['F:\\\\MyProject\\\\MachineLearning\\\\Mydata\\\\chr_09\\\\78034.12~A15.K_9R.png',\n",
       "   'F:\\\\MyProject\\\\MachineLearning\\\\Mydata\\\\chr_09\\\\78034.12~A21.K_9R.png',\n",
       "   'F:\\\\MyProject\\\\MachineLearning\\\\Mydata\\\\chr_09\\\\78034.12~A30.K_9R.png',\n",
       "   'F:\\\\MyProject\\\\MachineLearning\\\\Mydata\\\\chr_09\\\\78034.13~A1.K_9R.png',\n",
       "   'F:\\\\MyProject\\\\MachineLearning\\\\Mydata\\\\chr_09\\\\78034.13~A22.K_9R.png',\n",
       "   'F:\\\\MyProject\\\\MachineLearning\\\\Mydata\\\\chr_09\\\\78034.13~A6.K_9R.png',\n",
       "   'F:\\\\MyProject\\\\MachineLearning\\\\Mydata\\\\chr_09\\\\78034.14~A40.K_9R.png',\n",
       "   'F:\\\\MyProject\\\\MachineLearning\\\\Mydata\\\\chr_09\\\\78034.2~A23.K_9R.png',\n",
       "   'F:\\\\MyProject\\\\MachineLearning\\\\Mydata\\\\chr_09\\\\78034.2~A48.K_9R.png',\n",
       "   'F:\\\\MyProject\\\\MachineLearning\\\\Mydata\\\\chr_09\\\\78034.4~A36.K_9R.png',\n",
       "   'F:\\\\MyProject\\\\MachineLearning\\\\Mydata\\\\chr_09\\\\78058.3~A19.K_9R.png',\n",
       "   'F:\\\\MyProject\\\\MachineLearning\\\\Mydata\\\\chr_09\\\\78058.3~A2.K_9R.png',\n",
       "   'F:\\\\MyProject\\\\MachineLearning\\\\Mydata\\\\chr_09\\\\78058.4~A15.K_9R.png',\n",
       "   'F:\\\\MyProject\\\\MachineLearning\\\\Mydata\\\\chr_09\\\\78058.4~A48.K_9R.png',\n",
       "   'F:\\\\MyProject\\\\MachineLearning\\\\Mydata\\\\chr_09\\\\78142.12~A27.K_9R.png',\n",
       "   'F:\\\\MyProject\\\\MachineLearning\\\\Mydata\\\\chr_09\\\\78142.13~A20.K_9R.png',\n",
       "   'F:\\\\MyProject\\\\MachineLearning\\\\Mydata\\\\chr_09\\\\78142.2~A13.K_9R.png',\n",
       "   'F:\\\\MyProject\\\\MachineLearning\\\\Mydata\\\\chr_09\\\\78142.4~A44.K_9R.png',\n",
       "   'F:\\\\MyProject\\\\MachineLearning\\\\Mydata\\\\chr_09\\\\78220.1~A45.K_9R.png',\n",
       "   'F:\\\\MyProject\\\\MachineLearning\\\\Mydata\\\\chr_09\\\\78220.4~A17.K_9R.png',\n",
       "   'F:\\\\MyProject\\\\MachineLearning\\\\Mydata\\\\chr_09\\\\78220.4~A38.K_9R.png',\n",
       "   'F:\\\\MyProject\\\\MachineLearning\\\\Mydata\\\\chr_09\\\\78230.12~A47.K_9R.png',\n",
       "   'F:\\\\MyProject\\\\MachineLearning\\\\Mydata\\\\chr_09\\\\78230.13~A12.K_9R.png',\n",
       "   'F:\\\\MyProject\\\\MachineLearning\\\\Mydata\\\\chr_09\\\\78230.14~A47.K_9R.png',\n",
       "   'F:\\\\MyProject\\\\MachineLearning\\\\Mydata\\\\chr_09\\\\78230.3~A14.K_9R.png',\n",
       "   'F:\\\\MyProject\\\\MachineLearning\\\\Mydata\\\\chr_09\\\\78230.3~A5.K_9R.png',\n",
       "   'F:\\\\MyProject\\\\MachineLearning\\\\Mydata\\\\chr_09\\\\78451.12~A1.K_9R.png',\n",
       "   'F:\\\\MyProject\\\\MachineLearning\\\\Mydata\\\\chr_09\\\\78451.12~A32.K_9R.png',\n",
       "   'F:\\\\MyProject\\\\MachineLearning\\\\Mydata\\\\chr_09\\\\78451.12~A38.K_9R.png',\n",
       "   'F:\\\\MyProject\\\\MachineLearning\\\\Mydata\\\\chr_09\\\\78451.2~A16.K_9R.png',\n",
       "   'F:\\\\MyProject\\\\MachineLearning\\\\Mydata\\\\chr_09\\\\78451.2~A30.K_9R.png',\n",
       "   'F:\\\\MyProject\\\\MachineLearning\\\\Mydata\\\\chr_09\\\\78451.3~A37.K_9R.png',\n",
       "   'F:\\\\MyProject\\\\MachineLearning\\\\Mydata\\\\chr_09\\\\78451.3~A41.K_9R.png',\n",
       "   'F:\\\\MyProject\\\\MachineLearning\\\\Mydata\\\\chr_09\\\\78834.12~A25.K_9R.png',\n",
       "   'F:\\\\MyProject\\\\MachineLearning\\\\Mydata\\\\chr_09\\\\78834.14~A21.K_9R.png',\n",
       "   'F:\\\\MyProject\\\\MachineLearning\\\\Mydata\\\\chr_09\\\\78834.3~A16.K_9R.png',\n",
       "   'F:\\\\MyProject\\\\MachineLearning\\\\Mydata\\\\chr_09\\\\78834.4~A24.K_9R.png',\n",
       "   'F:\\\\MyProject\\\\MachineLearning\\\\Mydata\\\\chr_09\\\\79501.1~A19.K_9R.png',\n",
       "   'F:\\\\MyProject\\\\MachineLearning\\\\Mydata\\\\chr_09\\\\79501.3~A10.K_9R.png',\n",
       "   'F:\\\\MyProject\\\\MachineLearning\\\\Mydata\\\\chr_09\\\\79501.3~A30.K_9R.png'],\n",
       "  '3': ['F:\\\\MyProject\\\\MachineLearning\\\\Mydata\\\\chr_09\\\\78034.12~A15.K_9R.png',\n",
       "   'F:\\\\MyProject\\\\MachineLearning\\\\Mydata\\\\chr_09\\\\78034.12~A30.K_9R.png',\n",
       "   'F:\\\\MyProject\\\\MachineLearning\\\\Mydata\\\\chr_09\\\\78034.13~A1.K_9R.png',\n",
       "   'F:\\\\MyProject\\\\MachineLearning\\\\Mydata\\\\chr_09\\\\78034.13~A17.K_9R.png',\n",
       "   'F:\\\\MyProject\\\\MachineLearning\\\\Mydata\\\\chr_09\\\\78034.13~A22.K_9R.png',\n",
       "   'F:\\\\MyProject\\\\MachineLearning\\\\Mydata\\\\chr_09\\\\78034.2~A23.K_9R.png',\n",
       "   'F:\\\\MyProject\\\\MachineLearning\\\\Mydata\\\\chr_09\\\\78034.2~A48.K_9R.png',\n",
       "   'F:\\\\MyProject\\\\MachineLearning\\\\Mydata\\\\chr_09\\\\78034.3~A39.K_9R.png',\n",
       "   'F:\\\\MyProject\\\\MachineLearning\\\\Mydata\\\\chr_09\\\\78034.4~A36.K_9R.png',\n",
       "   'F:\\\\MyProject\\\\MachineLearning\\\\Mydata\\\\chr_09\\\\78058.3~A19.K_9R.png',\n",
       "   'F:\\\\MyProject\\\\MachineLearning\\\\Mydata\\\\chr_09\\\\78058.3~A2.K_9R.png',\n",
       "   'F:\\\\MyProject\\\\MachineLearning\\\\Mydata\\\\chr_09\\\\78058.3~A26.K_9R.png',\n",
       "   'F:\\\\MyProject\\\\MachineLearning\\\\Mydata\\\\chr_09\\\\78058.4~A15.K_9R.png',\n",
       "   'F:\\\\MyProject\\\\MachineLearning\\\\Mydata\\\\chr_09\\\\78058.4~A48.K_9R.png',\n",
       "   'F:\\\\MyProject\\\\MachineLearning\\\\Mydata\\\\chr_09\\\\78058.4~A8.K_9R.png',\n",
       "   'F:\\\\MyProject\\\\MachineLearning\\\\Mydata\\\\chr_09\\\\78142.13~A20.K_9R.png',\n",
       "   'F:\\\\MyProject\\\\MachineLearning\\\\Mydata\\\\chr_09\\\\78142.4~A44.K_9R.png',\n",
       "   'F:\\\\MyProject\\\\MachineLearning\\\\Mydata\\\\chr_09\\\\78220.1~A45.K_9R.png',\n",
       "   'F:\\\\MyProject\\\\MachineLearning\\\\Mydata\\\\chr_09\\\\78220.2~A21.K_9R.png',\n",
       "   'F:\\\\MyProject\\\\MachineLearning\\\\Mydata\\\\chr_09\\\\78220.3~A23.K_9R.png',\n",
       "   'F:\\\\MyProject\\\\MachineLearning\\\\Mydata\\\\chr_09\\\\78220.4~A38.K_9R.png',\n",
       "   'F:\\\\MyProject\\\\MachineLearning\\\\Mydata\\\\chr_09\\\\78230.12~A47.K_9R.png',\n",
       "   'F:\\\\MyProject\\\\MachineLearning\\\\Mydata\\\\chr_09\\\\78230.14~A47.K_9R.png',\n",
       "   'F:\\\\MyProject\\\\MachineLearning\\\\Mydata\\\\chr_09\\\\78230.2~A1.K_9R.png',\n",
       "   'F:\\\\MyProject\\\\MachineLearning\\\\Mydata\\\\chr_09\\\\78230.3~A14.K_9R.png',\n",
       "   'F:\\\\MyProject\\\\MachineLearning\\\\Mydata\\\\chr_09\\\\78230.3~A5.K_9R.png',\n",
       "   'F:\\\\MyProject\\\\MachineLearning\\\\Mydata\\\\chr_09\\\\78230.4~A17.K_9R.png',\n",
       "   'F:\\\\MyProject\\\\MachineLearning\\\\Mydata\\\\chr_09\\\\78451.12~A32.K_9R.png',\n",
       "   'F:\\\\MyProject\\\\MachineLearning\\\\Mydata\\\\chr_09\\\\78451.12~A38.K_9R.png',\n",
       "   'F:\\\\MyProject\\\\MachineLearning\\\\Mydata\\\\chr_09\\\\78451.2~A16.K_9R.png',\n",
       "   'F:\\\\MyProject\\\\MachineLearning\\\\Mydata\\\\chr_09\\\\78451.2~A30.K_9R.png',\n",
       "   'F:\\\\MyProject\\\\MachineLearning\\\\Mydata\\\\chr_09\\\\78451.3~A37.K_9R.png',\n",
       "   'F:\\\\MyProject\\\\MachineLearning\\\\Mydata\\\\chr_09\\\\78451.3~A41.K_9R.png',\n",
       "   'F:\\\\MyProject\\\\MachineLearning\\\\Mydata\\\\chr_09\\\\78451.4~A16.K_9R.png',\n",
       "   'F:\\\\MyProject\\\\MachineLearning\\\\Mydata\\\\chr_09\\\\78834.12~A25.K_9R.png',\n",
       "   'F:\\\\MyProject\\\\MachineLearning\\\\Mydata\\\\chr_09\\\\78834.14~A21.K_9R.png',\n",
       "   'F:\\\\MyProject\\\\MachineLearning\\\\Mydata\\\\chr_09\\\\78834.3~A35.K_9R.png',\n",
       "   'F:\\\\MyProject\\\\MachineLearning\\\\Mydata\\\\chr_09\\\\78834.4~A24.K_9R.png',\n",
       "   'F:\\\\MyProject\\\\MachineLearning\\\\Mydata\\\\chr_09\\\\79501.3~A10.K_9R.png',\n",
       "   'F:\\\\MyProject\\\\MachineLearning\\\\Mydata\\\\chr_09\\\\79501.3~A30.K_9R.png'],\n",
       "  '4': ['F:\\\\MyProject\\\\MachineLearning\\\\Mydata\\\\chr_09\\\\78034.12~A21.K_9R.png',\n",
       "   'F:\\\\MyProject\\\\MachineLearning\\\\Mydata\\\\chr_09\\\\78034.12~A30.K_9R.png',\n",
       "   'F:\\\\MyProject\\\\MachineLearning\\\\Mydata\\\\chr_09\\\\78034.13~A1.K_9R.png',\n",
       "   'F:\\\\MyProject\\\\MachineLearning\\\\Mydata\\\\chr_09\\\\78034.13~A17.K_9R.png',\n",
       "   'F:\\\\MyProject\\\\MachineLearning\\\\Mydata\\\\chr_09\\\\78034.13~A6.K_9R.png',\n",
       "   'F:\\\\MyProject\\\\MachineLearning\\\\Mydata\\\\chr_09\\\\78034.14~A40.K_9R.png',\n",
       "   'F:\\\\MyProject\\\\MachineLearning\\\\Mydata\\\\chr_09\\\\78034.3~A39.K_9R.png',\n",
       "   'F:\\\\MyProject\\\\MachineLearning\\\\Mydata\\\\chr_09\\\\78058.3~A2.K_9R.png',\n",
       "   'F:\\\\MyProject\\\\MachineLearning\\\\Mydata\\\\chr_09\\\\78058.3~A26.K_9R.png',\n",
       "   'F:\\\\MyProject\\\\MachineLearning\\\\Mydata\\\\chr_09\\\\78058.4~A8.K_9R.png',\n",
       "   'F:\\\\MyProject\\\\MachineLearning\\\\Mydata\\\\chr_09\\\\78142.12~A27.K_9R.png',\n",
       "   'F:\\\\MyProject\\\\MachineLearning\\\\Mydata\\\\chr_09\\\\78142.13~A20.K_9R.png',\n",
       "   'F:\\\\MyProject\\\\MachineLearning\\\\Mydata\\\\chr_09\\\\78142.2~A13.K_9R.png',\n",
       "   'F:\\\\MyProject\\\\MachineLearning\\\\Mydata\\\\chr_09\\\\78142.4~A44.K_9R.png',\n",
       "   'F:\\\\MyProject\\\\MachineLearning\\\\Mydata\\\\chr_09\\\\78220.1~A45.K_9R.png',\n",
       "   'F:\\\\MyProject\\\\MachineLearning\\\\Mydata\\\\chr_09\\\\78220.2~A21.K_9R.png',\n",
       "   'F:\\\\MyProject\\\\MachineLearning\\\\Mydata\\\\chr_09\\\\78220.3~A23.K_9R.png',\n",
       "   'F:\\\\MyProject\\\\MachineLearning\\\\Mydata\\\\chr_09\\\\78220.4~A17.K_9R.png',\n",
       "   'F:\\\\MyProject\\\\MachineLearning\\\\Mydata\\\\chr_09\\\\78220.4~A38.K_9R.png',\n",
       "   'F:\\\\MyProject\\\\MachineLearning\\\\Mydata\\\\chr_09\\\\78230.12~A47.K_9R.png',\n",
       "   'F:\\\\MyProject\\\\MachineLearning\\\\Mydata\\\\chr_09\\\\78230.13~A12.K_9R.png',\n",
       "   'F:\\\\MyProject\\\\MachineLearning\\\\Mydata\\\\chr_09\\\\78230.14~A47.K_9R.png',\n",
       "   'F:\\\\MyProject\\\\MachineLearning\\\\Mydata\\\\chr_09\\\\78230.2~A1.K_9R.png',\n",
       "   'F:\\\\MyProject\\\\MachineLearning\\\\Mydata\\\\chr_09\\\\78230.3~A14.K_9R.png',\n",
       "   'F:\\\\MyProject\\\\MachineLearning\\\\Mydata\\\\chr_09\\\\78230.3~A5.K_9R.png',\n",
       "   'F:\\\\MyProject\\\\MachineLearning\\\\Mydata\\\\chr_09\\\\78230.4~A17.K_9R.png',\n",
       "   'F:\\\\MyProject\\\\MachineLearning\\\\Mydata\\\\chr_09\\\\78451.12~A1.K_9R.png',\n",
       "   'F:\\\\MyProject\\\\MachineLearning\\\\Mydata\\\\chr_09\\\\78451.12~A32.K_9R.png',\n",
       "   'F:\\\\MyProject\\\\MachineLearning\\\\Mydata\\\\chr_09\\\\78451.12~A38.K_9R.png',\n",
       "   'F:\\\\MyProject\\\\MachineLearning\\\\Mydata\\\\chr_09\\\\78451.2~A30.K_9R.png',\n",
       "   'F:\\\\MyProject\\\\MachineLearning\\\\Mydata\\\\chr_09\\\\78451.3~A37.K_9R.png',\n",
       "   'F:\\\\MyProject\\\\MachineLearning\\\\Mydata\\\\chr_09\\\\78451.3~A41.K_9R.png',\n",
       "   'F:\\\\MyProject\\\\MachineLearning\\\\Mydata\\\\chr_09\\\\78451.4~A16.K_9R.png',\n",
       "   'F:\\\\MyProject\\\\MachineLearning\\\\Mydata\\\\chr_09\\\\78834.12~A25.K_9R.png',\n",
       "   'F:\\\\MyProject\\\\MachineLearning\\\\Mydata\\\\chr_09\\\\78834.3~A16.K_9R.png',\n",
       "   'F:\\\\MyProject\\\\MachineLearning\\\\Mydata\\\\chr_09\\\\78834.3~A35.K_9R.png',\n",
       "   'F:\\\\MyProject\\\\MachineLearning\\\\Mydata\\\\chr_09\\\\78834.4~A24.K_9R.png',\n",
       "   'F:\\\\MyProject\\\\MachineLearning\\\\Mydata\\\\chr_09\\\\79501.1~A19.K_9R.png',\n",
       "   'F:\\\\MyProject\\\\MachineLearning\\\\Mydata\\\\chr_09\\\\79501.3~A10.K_9R.png',\n",
       "   'F:\\\\MyProject\\\\MachineLearning\\\\Mydata\\\\chr_09\\\\79501.3~A30.K_9R.png']},\n",
       " 'chr_9_inversion': {'0': ['F:\\\\MyProject\\\\MachineLearning\\\\Mydata\\\\chr_9_inversion\\\\78034.12~A15.K_9L.png',\n",
       "   'F:\\\\MyProject\\\\MachineLearning\\\\Mydata\\\\chr_9_inversion\\\\78034.12~A21.K_9L.png',\n",
       "   'F:\\\\MyProject\\\\MachineLearning\\\\Mydata\\\\chr_9_inversion\\\\78034.13~A17.K_9L.png',\n",
       "   'F:\\\\MyProject\\\\MachineLearning\\\\Mydata\\\\chr_9_inversion\\\\78034.13~A22.K_9L.png',\n",
       "   'F:\\\\MyProject\\\\MachineLearning\\\\Mydata\\\\chr_9_inversion\\\\78034.13~A6.K_9L.png',\n",
       "   'F:\\\\MyProject\\\\MachineLearning\\\\Mydata\\\\chr_9_inversion\\\\78034.14~A40.K_9L.png',\n",
       "   'F:\\\\MyProject\\\\MachineLearning\\\\Mydata\\\\chr_9_inversion\\\\78034.2~A23.K_9L.png',\n",
       "   'F:\\\\MyProject\\\\MachineLearning\\\\Mydata\\\\chr_9_inversion\\\\78034.2~A48.K_9L.png',\n",
       "   'F:\\\\MyProject\\\\MachineLearning\\\\Mydata\\\\chr_9_inversion\\\\78034.3~A39.K_9L.png',\n",
       "   'F:\\\\MyProject\\\\MachineLearning\\\\Mydata\\\\chr_9_inversion\\\\78034.4~A36.K_9L.png',\n",
       "   'F:\\\\MyProject\\\\MachineLearning\\\\Mydata\\\\chr_9_inversion\\\\78058.3~A19.K_9L.png',\n",
       "   'F:\\\\MyProject\\\\MachineLearning\\\\Mydata\\\\chr_9_inversion\\\\78058.3~A2.K_9L.png',\n",
       "   'F:\\\\MyProject\\\\MachineLearning\\\\Mydata\\\\chr_9_inversion\\\\78058.3~A26.K_9L.png',\n",
       "   'F:\\\\MyProject\\\\MachineLearning\\\\Mydata\\\\chr_9_inversion\\\\78058.4~A15.K_9L.png',\n",
       "   'F:\\\\MyProject\\\\MachineLearning\\\\Mydata\\\\chr_9_inversion\\\\78058.4~A48.K_9L.png',\n",
       "   'F:\\\\MyProject\\\\MachineLearning\\\\Mydata\\\\chr_9_inversion\\\\78058.4~A8.K_9L.png',\n",
       "   'F:\\\\MyProject\\\\MachineLearning\\\\Mydata\\\\chr_9_inversion\\\\78142.12~A27.K_9L.png',\n",
       "   'F:\\\\MyProject\\\\MachineLearning\\\\Mydata\\\\chr_9_inversion\\\\78142.13~A20.K_9L.png',\n",
       "   'F:\\\\MyProject\\\\MachineLearning\\\\Mydata\\\\chr_9_inversion\\\\78142.2~A13.K_9L.png',\n",
       "   'F:\\\\MyProject\\\\MachineLearning\\\\Mydata\\\\chr_9_inversion\\\\78142.4~A44.K_9l.png',\n",
       "   'F:\\\\MyProject\\\\MachineLearning\\\\Mydata\\\\chr_9_inversion\\\\78220.1~A45.K_9L.png',\n",
       "   'F:\\\\MyProject\\\\MachineLearning\\\\Mydata\\\\chr_9_inversion\\\\78220.2~A21.K_9L.png',\n",
       "   'F:\\\\MyProject\\\\MachineLearning\\\\Mydata\\\\chr_9_inversion\\\\78220.3~A23.K_9L.png',\n",
       "   'F:\\\\MyProject\\\\MachineLearning\\\\Mydata\\\\chr_9_inversion\\\\78220.4~A17.K_9L.png',\n",
       "   'F:\\\\MyProject\\\\MachineLearning\\\\Mydata\\\\chr_9_inversion\\\\78220.4~A38.K_9L.png',\n",
       "   'F:\\\\MyProject\\\\MachineLearning\\\\Mydata\\\\chr_9_inversion\\\\78230.13~A12.K_9L.png',\n",
       "   'F:\\\\MyProject\\\\MachineLearning\\\\Mydata\\\\chr_9_inversion\\\\78230.2~A1.K_9L.png',\n",
       "   'F:\\\\MyProject\\\\MachineLearning\\\\Mydata\\\\chr_9_inversion\\\\78230.3~A5.K_9L.png',\n",
       "   'F:\\\\MyProject\\\\MachineLearning\\\\Mydata\\\\chr_9_inversion\\\\78230.4~A17.K_9L.png',\n",
       "   'F:\\\\MyProject\\\\MachineLearning\\\\Mydata\\\\chr_9_inversion\\\\78451.12~A1.K_9L.png',\n",
       "   'F:\\\\MyProject\\\\MachineLearning\\\\Mydata\\\\chr_9_inversion\\\\78451.12~A38.K_9L.png',\n",
       "   'F:\\\\MyProject\\\\MachineLearning\\\\Mydata\\\\chr_9_inversion\\\\78451.2~A16.K_9L.png',\n",
       "   'F:\\\\MyProject\\\\MachineLearning\\\\Mydata\\\\chr_9_inversion\\\\78451.3~A37.K_9L.png',\n",
       "   'F:\\\\MyProject\\\\MachineLearning\\\\Mydata\\\\chr_9_inversion\\\\78451.4~A16.K_9L.png',\n",
       "   'F:\\\\MyProject\\\\MachineLearning\\\\Mydata\\\\chr_9_inversion\\\\78834.12~A25.K_9L.png',\n",
       "   'F:\\\\MyProject\\\\MachineLearning\\\\Mydata\\\\chr_9_inversion\\\\78834.14~A21.K_9L.png',\n",
       "   'F:\\\\MyProject\\\\MachineLearning\\\\Mydata\\\\chr_9_inversion\\\\78834.3~A16.K_9L.png',\n",
       "   'F:\\\\MyProject\\\\MachineLearning\\\\Mydata\\\\chr_9_inversion\\\\78834.3~A35.K_9L.png',\n",
       "   'F:\\\\MyProject\\\\MachineLearning\\\\Mydata\\\\chr_9_inversion\\\\79501.1~A19.K_9L.png',\n",
       "   'F:\\\\MyProject\\\\MachineLearning\\\\Mydata\\\\chr_9_inversion\\\\79501.3~A30.K_9L.png'],\n",
       "  '1': ['F:\\\\MyProject\\\\MachineLearning\\\\Mydata\\\\chr_9_inversion\\\\78034.12~A15.K_9L.png',\n",
       "   'F:\\\\MyProject\\\\MachineLearning\\\\Mydata\\\\chr_9_inversion\\\\78034.12~A21.K_9L.png',\n",
       "   'F:\\\\MyProject\\\\MachineLearning\\\\Mydata\\\\chr_9_inversion\\\\78034.12~A30.K_9L.png',\n",
       "   'F:\\\\MyProject\\\\MachineLearning\\\\Mydata\\\\chr_9_inversion\\\\78034.13~A1.K_9L.png',\n",
       "   'F:\\\\MyProject\\\\MachineLearning\\\\Mydata\\\\chr_9_inversion\\\\78034.13~A17.K_9L.png',\n",
       "   'F:\\\\MyProject\\\\MachineLearning\\\\Mydata\\\\chr_9_inversion\\\\78034.13~A22.K_9L.png',\n",
       "   'F:\\\\MyProject\\\\MachineLearning\\\\Mydata\\\\chr_9_inversion\\\\78034.13~A6.K_9L.png',\n",
       "   'F:\\\\MyProject\\\\MachineLearning\\\\Mydata\\\\chr_9_inversion\\\\78034.14~A40.K_9L.png',\n",
       "   'F:\\\\MyProject\\\\MachineLearning\\\\Mydata\\\\chr_9_inversion\\\\78034.2~A23.K_9L.png',\n",
       "   'F:\\\\MyProject\\\\MachineLearning\\\\Mydata\\\\chr_9_inversion\\\\78034.2~A48.K_9L.png',\n",
       "   'F:\\\\MyProject\\\\MachineLearning\\\\Mydata\\\\chr_9_inversion\\\\78034.3~A39.K_9L.png',\n",
       "   'F:\\\\MyProject\\\\MachineLearning\\\\Mydata\\\\chr_9_inversion\\\\78034.4~A36.K_9L.png',\n",
       "   'F:\\\\MyProject\\\\MachineLearning\\\\Mydata\\\\chr_9_inversion\\\\78058.3~A19.K_9L.png',\n",
       "   'F:\\\\MyProject\\\\MachineLearning\\\\Mydata\\\\chr_9_inversion\\\\78058.3~A26.K_9L.png',\n",
       "   'F:\\\\MyProject\\\\MachineLearning\\\\Mydata\\\\chr_9_inversion\\\\78058.4~A15.K_9L.png',\n",
       "   'F:\\\\MyProject\\\\MachineLearning\\\\Mydata\\\\chr_9_inversion\\\\78058.4~A48.K_9L.png',\n",
       "   'F:\\\\MyProject\\\\MachineLearning\\\\Mydata\\\\chr_9_inversion\\\\78058.4~A8.K_9L.png',\n",
       "   'F:\\\\MyProject\\\\MachineLearning\\\\Mydata\\\\chr_9_inversion\\\\78142.12~A27.K_9L.png',\n",
       "   'F:\\\\MyProject\\\\MachineLearning\\\\Mydata\\\\chr_9_inversion\\\\78142.2~A13.K_9L.png',\n",
       "   'F:\\\\MyProject\\\\MachineLearning\\\\Mydata\\\\chr_9_inversion\\\\78220.2~A21.K_9L.png',\n",
       "   'F:\\\\MyProject\\\\MachineLearning\\\\Mydata\\\\chr_9_inversion\\\\78220.3~A23.K_9L.png',\n",
       "   'F:\\\\MyProject\\\\MachineLearning\\\\Mydata\\\\chr_9_inversion\\\\78220.4~A17.K_9L.png',\n",
       "   'F:\\\\MyProject\\\\MachineLearning\\\\Mydata\\\\chr_9_inversion\\\\78230.12~A47.K_9L.png',\n",
       "   'F:\\\\MyProject\\\\MachineLearning\\\\Mydata\\\\chr_9_inversion\\\\78230.13~A12.K_9L.png',\n",
       "   'F:\\\\MyProject\\\\MachineLearning\\\\Mydata\\\\chr_9_inversion\\\\78230.14~A47.K_9L.png',\n",
       "   'F:\\\\MyProject\\\\MachineLearning\\\\Mydata\\\\chr_9_inversion\\\\78230.2~A1.K_9L.png',\n",
       "   'F:\\\\MyProject\\\\MachineLearning\\\\Mydata\\\\chr_9_inversion\\\\78230.3~A14.K_9L.png',\n",
       "   'F:\\\\MyProject\\\\MachineLearning\\\\Mydata\\\\chr_9_inversion\\\\78230.4~A17.K_9L.png',\n",
       "   'F:\\\\MyProject\\\\MachineLearning\\\\Mydata\\\\chr_9_inversion\\\\78451.12~A1.K_9L.png',\n",
       "   'F:\\\\MyProject\\\\MachineLearning\\\\Mydata\\\\chr_9_inversion\\\\78451.12~A32.K_9L.png',\n",
       "   'F:\\\\MyProject\\\\MachineLearning\\\\Mydata\\\\chr_9_inversion\\\\78451.2~A16.K_9L.png',\n",
       "   'F:\\\\MyProject\\\\MachineLearning\\\\Mydata\\\\chr_9_inversion\\\\78451.2~A30.K_9L.png',\n",
       "   'F:\\\\MyProject\\\\MachineLearning\\\\Mydata\\\\chr_9_inversion\\\\78451.3~A41.K_9L.png',\n",
       "   'F:\\\\MyProject\\\\MachineLearning\\\\Mydata\\\\chr_9_inversion\\\\78451.4~A16.K_9L.png',\n",
       "   'F:\\\\MyProject\\\\MachineLearning\\\\Mydata\\\\chr_9_inversion\\\\78834.14~A21.K_9L.png',\n",
       "   'F:\\\\MyProject\\\\MachineLearning\\\\Mydata\\\\chr_9_inversion\\\\78834.3~A16.K_9L.png',\n",
       "   'F:\\\\MyProject\\\\MachineLearning\\\\Mydata\\\\chr_9_inversion\\\\78834.3~A35.K_9L.png',\n",
       "   'F:\\\\MyProject\\\\MachineLearning\\\\Mydata\\\\chr_9_inversion\\\\78834.4~A24.K_9L.png',\n",
       "   'F:\\\\MyProject\\\\MachineLearning\\\\Mydata\\\\chr_9_inversion\\\\79501.1~A19.K_9L.png',\n",
       "   'F:\\\\MyProject\\\\MachineLearning\\\\Mydata\\\\chr_9_inversion\\\\79501.3~A10.K_9L.png'],\n",
       "  '2': ['F:\\\\MyProject\\\\MachineLearning\\\\Mydata\\\\chr_9_inversion\\\\78034.12~A15.K_9L.png',\n",
       "   'F:\\\\MyProject\\\\MachineLearning\\\\Mydata\\\\chr_9_inversion\\\\78034.12~A21.K_9L.png',\n",
       "   'F:\\\\MyProject\\\\MachineLearning\\\\Mydata\\\\chr_9_inversion\\\\78034.12~A30.K_9L.png',\n",
       "   'F:\\\\MyProject\\\\MachineLearning\\\\Mydata\\\\chr_9_inversion\\\\78034.13~A1.K_9L.png',\n",
       "   'F:\\\\MyProject\\\\MachineLearning\\\\Mydata\\\\chr_9_inversion\\\\78034.13~A22.K_9L.png',\n",
       "   'F:\\\\MyProject\\\\MachineLearning\\\\Mydata\\\\chr_9_inversion\\\\78034.13~A6.K_9L.png',\n",
       "   'F:\\\\MyProject\\\\MachineLearning\\\\Mydata\\\\chr_9_inversion\\\\78034.14~A40.K_9L.png',\n",
       "   'F:\\\\MyProject\\\\MachineLearning\\\\Mydata\\\\chr_9_inversion\\\\78034.2~A23.K_9L.png',\n",
       "   'F:\\\\MyProject\\\\MachineLearning\\\\Mydata\\\\chr_9_inversion\\\\78034.2~A48.K_9L.png',\n",
       "   'F:\\\\MyProject\\\\MachineLearning\\\\Mydata\\\\chr_9_inversion\\\\78034.4~A36.K_9L.png',\n",
       "   'F:\\\\MyProject\\\\MachineLearning\\\\Mydata\\\\chr_9_inversion\\\\78058.3~A19.K_9L.png',\n",
       "   'F:\\\\MyProject\\\\MachineLearning\\\\Mydata\\\\chr_9_inversion\\\\78058.3~A2.K_9L.png',\n",
       "   'F:\\\\MyProject\\\\MachineLearning\\\\Mydata\\\\chr_9_inversion\\\\78058.4~A15.K_9L.png',\n",
       "   'F:\\\\MyProject\\\\MachineLearning\\\\Mydata\\\\chr_9_inversion\\\\78058.4~A48.K_9L.png',\n",
       "   'F:\\\\MyProject\\\\MachineLearning\\\\Mydata\\\\chr_9_inversion\\\\78142.12~A27.K_9L.png',\n",
       "   'F:\\\\MyProject\\\\MachineLearning\\\\Mydata\\\\chr_9_inversion\\\\78142.13~A20.K_9L.png',\n",
       "   'F:\\\\MyProject\\\\MachineLearning\\\\Mydata\\\\chr_9_inversion\\\\78142.2~A13.K_9L.png',\n",
       "   'F:\\\\MyProject\\\\MachineLearning\\\\Mydata\\\\chr_9_inversion\\\\78142.4~A44.K_9l.png',\n",
       "   'F:\\\\MyProject\\\\MachineLearning\\\\Mydata\\\\chr_9_inversion\\\\78220.1~A45.K_9L.png',\n",
       "   'F:\\\\MyProject\\\\MachineLearning\\\\Mydata\\\\chr_9_inversion\\\\78220.4~A17.K_9L.png',\n",
       "   'F:\\\\MyProject\\\\MachineLearning\\\\Mydata\\\\chr_9_inversion\\\\78220.4~A38.K_9L.png',\n",
       "   'F:\\\\MyProject\\\\MachineLearning\\\\Mydata\\\\chr_9_inversion\\\\78230.12~A47.K_9L.png',\n",
       "   'F:\\\\MyProject\\\\MachineLearning\\\\Mydata\\\\chr_9_inversion\\\\78230.13~A12.K_9L.png',\n",
       "   'F:\\\\MyProject\\\\MachineLearning\\\\Mydata\\\\chr_9_inversion\\\\78230.14~A47.K_9L.png',\n",
       "   'F:\\\\MyProject\\\\MachineLearning\\\\Mydata\\\\chr_9_inversion\\\\78230.3~A14.K_9L.png',\n",
       "   'F:\\\\MyProject\\\\MachineLearning\\\\Mydata\\\\chr_9_inversion\\\\78230.3~A5.K_9L.png',\n",
       "   'F:\\\\MyProject\\\\MachineLearning\\\\Mydata\\\\chr_9_inversion\\\\78451.12~A1.K_9L.png',\n",
       "   'F:\\\\MyProject\\\\MachineLearning\\\\Mydata\\\\chr_9_inversion\\\\78451.12~A32.K_9L.png',\n",
       "   'F:\\\\MyProject\\\\MachineLearning\\\\Mydata\\\\chr_9_inversion\\\\78451.12~A38.K_9L.png',\n",
       "   'F:\\\\MyProject\\\\MachineLearning\\\\Mydata\\\\chr_9_inversion\\\\78451.2~A16.K_9L.png',\n",
       "   'F:\\\\MyProject\\\\MachineLearning\\\\Mydata\\\\chr_9_inversion\\\\78451.2~A30.K_9L.png',\n",
       "   'F:\\\\MyProject\\\\MachineLearning\\\\Mydata\\\\chr_9_inversion\\\\78451.3~A37.K_9L.png',\n",
       "   'F:\\\\MyProject\\\\MachineLearning\\\\Mydata\\\\chr_9_inversion\\\\78451.3~A41.K_9L.png',\n",
       "   'F:\\\\MyProject\\\\MachineLearning\\\\Mydata\\\\chr_9_inversion\\\\78834.12~A25.K_9L.png',\n",
       "   'F:\\\\MyProject\\\\MachineLearning\\\\Mydata\\\\chr_9_inversion\\\\78834.14~A21.K_9L.png',\n",
       "   'F:\\\\MyProject\\\\MachineLearning\\\\Mydata\\\\chr_9_inversion\\\\78834.3~A16.K_9L.png',\n",
       "   'F:\\\\MyProject\\\\MachineLearning\\\\Mydata\\\\chr_9_inversion\\\\78834.4~A24.K_9L.png',\n",
       "   'F:\\\\MyProject\\\\MachineLearning\\\\Mydata\\\\chr_9_inversion\\\\79501.1~A19.K_9L.png',\n",
       "   'F:\\\\MyProject\\\\MachineLearning\\\\Mydata\\\\chr_9_inversion\\\\79501.3~A10.K_9L.png',\n",
       "   'F:\\\\MyProject\\\\MachineLearning\\\\Mydata\\\\chr_9_inversion\\\\79501.3~A30.K_9L.png'],\n",
       "  '3': ['F:\\\\MyProject\\\\MachineLearning\\\\Mydata\\\\chr_9_inversion\\\\78034.12~A15.K_9L.png',\n",
       "   'F:\\\\MyProject\\\\MachineLearning\\\\Mydata\\\\chr_9_inversion\\\\78034.12~A30.K_9L.png',\n",
       "   'F:\\\\MyProject\\\\MachineLearning\\\\Mydata\\\\chr_9_inversion\\\\78034.13~A1.K_9L.png',\n",
       "   'F:\\\\MyProject\\\\MachineLearning\\\\Mydata\\\\chr_9_inversion\\\\78034.13~A17.K_9L.png',\n",
       "   'F:\\\\MyProject\\\\MachineLearning\\\\Mydata\\\\chr_9_inversion\\\\78034.13~A22.K_9L.png',\n",
       "   'F:\\\\MyProject\\\\MachineLearning\\\\Mydata\\\\chr_9_inversion\\\\78034.2~A23.K_9L.png',\n",
       "   'F:\\\\MyProject\\\\MachineLearning\\\\Mydata\\\\chr_9_inversion\\\\78034.2~A48.K_9L.png',\n",
       "   'F:\\\\MyProject\\\\MachineLearning\\\\Mydata\\\\chr_9_inversion\\\\78034.3~A39.K_9L.png',\n",
       "   'F:\\\\MyProject\\\\MachineLearning\\\\Mydata\\\\chr_9_inversion\\\\78034.4~A36.K_9L.png',\n",
       "   'F:\\\\MyProject\\\\MachineLearning\\\\Mydata\\\\chr_9_inversion\\\\78058.3~A19.K_9L.png',\n",
       "   'F:\\\\MyProject\\\\MachineLearning\\\\Mydata\\\\chr_9_inversion\\\\78058.3~A2.K_9L.png',\n",
       "   'F:\\\\MyProject\\\\MachineLearning\\\\Mydata\\\\chr_9_inversion\\\\78058.3~A26.K_9L.png',\n",
       "   'F:\\\\MyProject\\\\MachineLearning\\\\Mydata\\\\chr_9_inversion\\\\78058.4~A15.K_9L.png',\n",
       "   'F:\\\\MyProject\\\\MachineLearning\\\\Mydata\\\\chr_9_inversion\\\\78058.4~A48.K_9L.png',\n",
       "   'F:\\\\MyProject\\\\MachineLearning\\\\Mydata\\\\chr_9_inversion\\\\78058.4~A8.K_9L.png',\n",
       "   'F:\\\\MyProject\\\\MachineLearning\\\\Mydata\\\\chr_9_inversion\\\\78142.13~A20.K_9L.png',\n",
       "   'F:\\\\MyProject\\\\MachineLearning\\\\Mydata\\\\chr_9_inversion\\\\78142.4~A44.K_9l.png',\n",
       "   'F:\\\\MyProject\\\\MachineLearning\\\\Mydata\\\\chr_9_inversion\\\\78220.1~A45.K_9L.png',\n",
       "   'F:\\\\MyProject\\\\MachineLearning\\\\Mydata\\\\chr_9_inversion\\\\78220.2~A21.K_9L.png',\n",
       "   'F:\\\\MyProject\\\\MachineLearning\\\\Mydata\\\\chr_9_inversion\\\\78220.3~A23.K_9L.png',\n",
       "   'F:\\\\MyProject\\\\MachineLearning\\\\Mydata\\\\chr_9_inversion\\\\78220.4~A38.K_9L.png',\n",
       "   'F:\\\\MyProject\\\\MachineLearning\\\\Mydata\\\\chr_9_inversion\\\\78230.12~A47.K_9L.png',\n",
       "   'F:\\\\MyProject\\\\MachineLearning\\\\Mydata\\\\chr_9_inversion\\\\78230.14~A47.K_9L.png',\n",
       "   'F:\\\\MyProject\\\\MachineLearning\\\\Mydata\\\\chr_9_inversion\\\\78230.2~A1.K_9L.png',\n",
       "   'F:\\\\MyProject\\\\MachineLearning\\\\Mydata\\\\chr_9_inversion\\\\78230.3~A14.K_9L.png',\n",
       "   'F:\\\\MyProject\\\\MachineLearning\\\\Mydata\\\\chr_9_inversion\\\\78230.3~A5.K_9L.png',\n",
       "   'F:\\\\MyProject\\\\MachineLearning\\\\Mydata\\\\chr_9_inversion\\\\78230.4~A17.K_9L.png',\n",
       "   'F:\\\\MyProject\\\\MachineLearning\\\\Mydata\\\\chr_9_inversion\\\\78451.12~A32.K_9L.png',\n",
       "   'F:\\\\MyProject\\\\MachineLearning\\\\Mydata\\\\chr_9_inversion\\\\78451.12~A38.K_9L.png',\n",
       "   'F:\\\\MyProject\\\\MachineLearning\\\\Mydata\\\\chr_9_inversion\\\\78451.2~A16.K_9L.png',\n",
       "   'F:\\\\MyProject\\\\MachineLearning\\\\Mydata\\\\chr_9_inversion\\\\78451.2~A30.K_9L.png',\n",
       "   'F:\\\\MyProject\\\\MachineLearning\\\\Mydata\\\\chr_9_inversion\\\\78451.3~A37.K_9L.png',\n",
       "   'F:\\\\MyProject\\\\MachineLearning\\\\Mydata\\\\chr_9_inversion\\\\78451.3~A41.K_9L.png',\n",
       "   'F:\\\\MyProject\\\\MachineLearning\\\\Mydata\\\\chr_9_inversion\\\\78451.4~A16.K_9L.png',\n",
       "   'F:\\\\MyProject\\\\MachineLearning\\\\Mydata\\\\chr_9_inversion\\\\78834.12~A25.K_9L.png',\n",
       "   'F:\\\\MyProject\\\\MachineLearning\\\\Mydata\\\\chr_9_inversion\\\\78834.14~A21.K_9L.png',\n",
       "   'F:\\\\MyProject\\\\MachineLearning\\\\Mydata\\\\chr_9_inversion\\\\78834.3~A35.K_9L.png',\n",
       "   'F:\\\\MyProject\\\\MachineLearning\\\\Mydata\\\\chr_9_inversion\\\\78834.4~A24.K_9L.png',\n",
       "   'F:\\\\MyProject\\\\MachineLearning\\\\Mydata\\\\chr_9_inversion\\\\79501.3~A10.K_9L.png',\n",
       "   'F:\\\\MyProject\\\\MachineLearning\\\\Mydata\\\\chr_9_inversion\\\\79501.3~A30.K_9L.png'],\n",
       "  '4': ['F:\\\\MyProject\\\\MachineLearning\\\\Mydata\\\\chr_9_inversion\\\\78034.12~A21.K_9L.png',\n",
       "   'F:\\\\MyProject\\\\MachineLearning\\\\Mydata\\\\chr_9_inversion\\\\78034.12~A30.K_9L.png',\n",
       "   'F:\\\\MyProject\\\\MachineLearning\\\\Mydata\\\\chr_9_inversion\\\\78034.13~A1.K_9L.png',\n",
       "   'F:\\\\MyProject\\\\MachineLearning\\\\Mydata\\\\chr_9_inversion\\\\78034.13~A17.K_9L.png',\n",
       "   'F:\\\\MyProject\\\\MachineLearning\\\\Mydata\\\\chr_9_inversion\\\\78034.13~A6.K_9L.png',\n",
       "   'F:\\\\MyProject\\\\MachineLearning\\\\Mydata\\\\chr_9_inversion\\\\78034.14~A40.K_9L.png',\n",
       "   'F:\\\\MyProject\\\\MachineLearning\\\\Mydata\\\\chr_9_inversion\\\\78034.3~A39.K_9L.png',\n",
       "   'F:\\\\MyProject\\\\MachineLearning\\\\Mydata\\\\chr_9_inversion\\\\78058.3~A2.K_9L.png',\n",
       "   'F:\\\\MyProject\\\\MachineLearning\\\\Mydata\\\\chr_9_inversion\\\\78058.3~A26.K_9L.png',\n",
       "   'F:\\\\MyProject\\\\MachineLearning\\\\Mydata\\\\chr_9_inversion\\\\78058.4~A8.K_9L.png',\n",
       "   'F:\\\\MyProject\\\\MachineLearning\\\\Mydata\\\\chr_9_inversion\\\\78142.12~A27.K_9L.png',\n",
       "   'F:\\\\MyProject\\\\MachineLearning\\\\Mydata\\\\chr_9_inversion\\\\78142.13~A20.K_9L.png',\n",
       "   'F:\\\\MyProject\\\\MachineLearning\\\\Mydata\\\\chr_9_inversion\\\\78142.2~A13.K_9L.png',\n",
       "   'F:\\\\MyProject\\\\MachineLearning\\\\Mydata\\\\chr_9_inversion\\\\78142.4~A44.K_9l.png',\n",
       "   'F:\\\\MyProject\\\\MachineLearning\\\\Mydata\\\\chr_9_inversion\\\\78220.1~A45.K_9L.png',\n",
       "   'F:\\\\MyProject\\\\MachineLearning\\\\Mydata\\\\chr_9_inversion\\\\78220.2~A21.K_9L.png',\n",
       "   'F:\\\\MyProject\\\\MachineLearning\\\\Mydata\\\\chr_9_inversion\\\\78220.3~A23.K_9L.png',\n",
       "   'F:\\\\MyProject\\\\MachineLearning\\\\Mydata\\\\chr_9_inversion\\\\78220.4~A17.K_9L.png',\n",
       "   'F:\\\\MyProject\\\\MachineLearning\\\\Mydata\\\\chr_9_inversion\\\\78220.4~A38.K_9L.png',\n",
       "   'F:\\\\MyProject\\\\MachineLearning\\\\Mydata\\\\chr_9_inversion\\\\78230.12~A47.K_9L.png',\n",
       "   'F:\\\\MyProject\\\\MachineLearning\\\\Mydata\\\\chr_9_inversion\\\\78230.13~A12.K_9L.png',\n",
       "   'F:\\\\MyProject\\\\MachineLearning\\\\Mydata\\\\chr_9_inversion\\\\78230.14~A47.K_9L.png',\n",
       "   'F:\\\\MyProject\\\\MachineLearning\\\\Mydata\\\\chr_9_inversion\\\\78230.2~A1.K_9L.png',\n",
       "   'F:\\\\MyProject\\\\MachineLearning\\\\Mydata\\\\chr_9_inversion\\\\78230.3~A14.K_9L.png',\n",
       "   'F:\\\\MyProject\\\\MachineLearning\\\\Mydata\\\\chr_9_inversion\\\\78230.3~A5.K_9L.png',\n",
       "   'F:\\\\MyProject\\\\MachineLearning\\\\Mydata\\\\chr_9_inversion\\\\78230.4~A17.K_9L.png',\n",
       "   'F:\\\\MyProject\\\\MachineLearning\\\\Mydata\\\\chr_9_inversion\\\\78451.12~A1.K_9L.png',\n",
       "   'F:\\\\MyProject\\\\MachineLearning\\\\Mydata\\\\chr_9_inversion\\\\78451.12~A32.K_9L.png',\n",
       "   'F:\\\\MyProject\\\\MachineLearning\\\\Mydata\\\\chr_9_inversion\\\\78451.12~A38.K_9L.png',\n",
       "   'F:\\\\MyProject\\\\MachineLearning\\\\Mydata\\\\chr_9_inversion\\\\78451.2~A30.K_9L.png',\n",
       "   'F:\\\\MyProject\\\\MachineLearning\\\\Mydata\\\\chr_9_inversion\\\\78451.3~A37.K_9L.png',\n",
       "   'F:\\\\MyProject\\\\MachineLearning\\\\Mydata\\\\chr_9_inversion\\\\78451.3~A41.K_9L.png',\n",
       "   'F:\\\\MyProject\\\\MachineLearning\\\\Mydata\\\\chr_9_inversion\\\\78451.4~A16.K_9L.png',\n",
       "   'F:\\\\MyProject\\\\MachineLearning\\\\Mydata\\\\chr_9_inversion\\\\78834.12~A25.K_9L.png',\n",
       "   'F:\\\\MyProject\\\\MachineLearning\\\\Mydata\\\\chr_9_inversion\\\\78834.3~A16.K_9L.png',\n",
       "   'F:\\\\MyProject\\\\MachineLearning\\\\Mydata\\\\chr_9_inversion\\\\78834.3~A35.K_9L.png',\n",
       "   'F:\\\\MyProject\\\\MachineLearning\\\\Mydata\\\\chr_9_inversion\\\\78834.4~A24.K_9L.png',\n",
       "   'F:\\\\MyProject\\\\MachineLearning\\\\Mydata\\\\chr_9_inversion\\\\79501.1~A19.K_9L.png',\n",
       "   'F:\\\\MyProject\\\\MachineLearning\\\\Mydata\\\\chr_9_inversion\\\\79501.3~A10.K_9L.png',\n",
       "   'F:\\\\MyProject\\\\MachineLearning\\\\Mydata\\\\chr_9_inversion\\\\79501.3~A30.K_9L.png']}}"
      ]
     },
     "execution_count": 9,
     "metadata": {},
     "output_type": "execute_result"
    }
   ],
   "source": [
    "with open('data_X_train_name.json') as json_file:\n",
    "    X_train_name = json.load(json_file)\n",
    "X_train_name"
   ]
  },
  {
   "cell_type": "code",
   "execution_count": 10,
   "metadata": {},
   "outputs": [
    {
     "data": {
      "text/plain": [
       "{'chr_09': {'0': ['F:\\\\MyProject\\\\MachineLearning\\\\Mydata\\\\chr_09\\\\78034.12~A30.K_9R.png',\n",
       "   'F:\\\\MyProject\\\\MachineLearning\\\\Mydata\\\\chr_09\\\\78034.13~A1.K_9R.png',\n",
       "   'F:\\\\MyProject\\\\MachineLearning\\\\Mydata\\\\chr_09\\\\78230.12~A47.K_9R.png',\n",
       "   'F:\\\\MyProject\\\\MachineLearning\\\\Mydata\\\\chr_09\\\\78230.14~A47.K_9R.png',\n",
       "   'F:\\\\MyProject\\\\MachineLearning\\\\Mydata\\\\chr_09\\\\78230.3~A14.K_9R.png',\n",
       "   'F:\\\\MyProject\\\\MachineLearning\\\\Mydata\\\\chr_09\\\\78451.12~A32.K_9R.png',\n",
       "   'F:\\\\MyProject\\\\MachineLearning\\\\Mydata\\\\chr_09\\\\78451.2~A30.K_9R.png',\n",
       "   'F:\\\\MyProject\\\\MachineLearning\\\\Mydata\\\\chr_09\\\\78451.3~A41.K_9R.png',\n",
       "   'F:\\\\MyProject\\\\MachineLearning\\\\Mydata\\\\chr_09\\\\78834.4~A24.K_9R.png',\n",
       "   'F:\\\\MyProject\\\\MachineLearning\\\\Mydata\\\\chr_09\\\\79501.3~A10.K_9R.png'],\n",
       "  '1': ['F:\\\\MyProject\\\\MachineLearning\\\\Mydata\\\\chr_09\\\\78058.3~A2.K_9R.png',\n",
       "   'F:\\\\MyProject\\\\MachineLearning\\\\Mydata\\\\chr_09\\\\78142.13~A20.K_9R.png',\n",
       "   'F:\\\\MyProject\\\\MachineLearning\\\\Mydata\\\\chr_09\\\\78142.4~A44.K_9R.png',\n",
       "   'F:\\\\MyProject\\\\MachineLearning\\\\Mydata\\\\chr_09\\\\78220.1~A45.K_9R.png',\n",
       "   'F:\\\\MyProject\\\\MachineLearning\\\\Mydata\\\\chr_09\\\\78220.4~A38.K_9R.png',\n",
       "   'F:\\\\MyProject\\\\MachineLearning\\\\Mydata\\\\chr_09\\\\78230.3~A5.K_9R.png',\n",
       "   'F:\\\\MyProject\\\\MachineLearning\\\\Mydata\\\\chr_09\\\\78451.12~A38.K_9R.png',\n",
       "   'F:\\\\MyProject\\\\MachineLearning\\\\Mydata\\\\chr_09\\\\78451.3~A37.K_9R.png',\n",
       "   'F:\\\\MyProject\\\\MachineLearning\\\\Mydata\\\\chr_09\\\\78834.12~A25.K_9R.png',\n",
       "   'F:\\\\MyProject\\\\MachineLearning\\\\Mydata\\\\chr_09\\\\79501.3~A30.K_9R.png'],\n",
       "  '2': ['F:\\\\MyProject\\\\MachineLearning\\\\Mydata\\\\chr_09\\\\78034.13~A17.K_9R.png',\n",
       "   'F:\\\\MyProject\\\\MachineLearning\\\\Mydata\\\\chr_09\\\\78034.3~A39.K_9R.png',\n",
       "   'F:\\\\MyProject\\\\MachineLearning\\\\Mydata\\\\chr_09\\\\78058.3~A26.K_9R.png',\n",
       "   'F:\\\\MyProject\\\\MachineLearning\\\\Mydata\\\\chr_09\\\\78058.4~A8.K_9R.png',\n",
       "   'F:\\\\MyProject\\\\MachineLearning\\\\Mydata\\\\chr_09\\\\78220.2~A21.K_9R.png',\n",
       "   'F:\\\\MyProject\\\\MachineLearning\\\\Mydata\\\\chr_09\\\\78220.3~A23.K_9R.png',\n",
       "   'F:\\\\MyProject\\\\MachineLearning\\\\Mydata\\\\chr_09\\\\78230.2~A1.K_9R.png',\n",
       "   'F:\\\\MyProject\\\\MachineLearning\\\\Mydata\\\\chr_09\\\\78230.4~A17.K_9R.png',\n",
       "   'F:\\\\MyProject\\\\MachineLearning\\\\Mydata\\\\chr_09\\\\78451.4~A16.K_9R.png',\n",
       "   'F:\\\\MyProject\\\\MachineLearning\\\\Mydata\\\\chr_09\\\\78834.3~A35.K_9R.png'],\n",
       "  '3': ['F:\\\\MyProject\\\\MachineLearning\\\\Mydata\\\\chr_09\\\\78034.12~A21.K_9R.png',\n",
       "   'F:\\\\MyProject\\\\MachineLearning\\\\Mydata\\\\chr_09\\\\78034.13~A6.K_9R.png',\n",
       "   'F:\\\\MyProject\\\\MachineLearning\\\\Mydata\\\\chr_09\\\\78034.14~A40.K_9R.png',\n",
       "   'F:\\\\MyProject\\\\MachineLearning\\\\Mydata\\\\chr_09\\\\78142.12~A27.K_9R.png',\n",
       "   'F:\\\\MyProject\\\\MachineLearning\\\\Mydata\\\\chr_09\\\\78142.2~A13.K_9R.png',\n",
       "   'F:\\\\MyProject\\\\MachineLearning\\\\Mydata\\\\chr_09\\\\78220.4~A17.K_9R.png',\n",
       "   'F:\\\\MyProject\\\\MachineLearning\\\\Mydata\\\\chr_09\\\\78230.13~A12.K_9R.png',\n",
       "   'F:\\\\MyProject\\\\MachineLearning\\\\Mydata\\\\chr_09\\\\78451.12~A1.K_9R.png',\n",
       "   'F:\\\\MyProject\\\\MachineLearning\\\\Mydata\\\\chr_09\\\\78834.3~A16.K_9R.png',\n",
       "   'F:\\\\MyProject\\\\MachineLearning\\\\Mydata\\\\chr_09\\\\79501.1~A19.K_9R.png'],\n",
       "  '4': ['F:\\\\MyProject\\\\MachineLearning\\\\Mydata\\\\chr_09\\\\78034.12~A15.K_9R.png',\n",
       "   'F:\\\\MyProject\\\\MachineLearning\\\\Mydata\\\\chr_09\\\\78034.13~A22.K_9R.png',\n",
       "   'F:\\\\MyProject\\\\MachineLearning\\\\Mydata\\\\chr_09\\\\78034.2~A23.K_9R.png',\n",
       "   'F:\\\\MyProject\\\\MachineLearning\\\\Mydata\\\\chr_09\\\\78034.2~A48.K_9R.png',\n",
       "   'F:\\\\MyProject\\\\MachineLearning\\\\Mydata\\\\chr_09\\\\78034.4~A36.K_9R.png',\n",
       "   'F:\\\\MyProject\\\\MachineLearning\\\\Mydata\\\\chr_09\\\\78058.3~A19.K_9R.png',\n",
       "   'F:\\\\MyProject\\\\MachineLearning\\\\Mydata\\\\chr_09\\\\78058.4~A15.K_9R.png',\n",
       "   'F:\\\\MyProject\\\\MachineLearning\\\\Mydata\\\\chr_09\\\\78058.4~A48.K_9R.png',\n",
       "   'F:\\\\MyProject\\\\MachineLearning\\\\Mydata\\\\chr_09\\\\78451.2~A16.K_9R.png',\n",
       "   'F:\\\\MyProject\\\\MachineLearning\\\\Mydata\\\\chr_09\\\\78834.14~A21.K_9R.png']},\n",
       " 'chr_9_inversion': {'0': ['F:\\\\MyProject\\\\MachineLearning\\\\Mydata\\\\chr_9_inversion\\\\78034.12~A30.K_9L.png',\n",
       "   'F:\\\\MyProject\\\\MachineLearning\\\\Mydata\\\\chr_9_inversion\\\\78034.13~A1.K_9L.png',\n",
       "   'F:\\\\MyProject\\\\MachineLearning\\\\Mydata\\\\chr_9_inversion\\\\78230.12~A47.K_9L.png',\n",
       "   'F:\\\\MyProject\\\\MachineLearning\\\\Mydata\\\\chr_9_inversion\\\\78230.14~A47.K_9L.png',\n",
       "   'F:\\\\MyProject\\\\MachineLearning\\\\Mydata\\\\chr_9_inversion\\\\78230.3~A14.K_9L.png',\n",
       "   'F:\\\\MyProject\\\\MachineLearning\\\\Mydata\\\\chr_9_inversion\\\\78451.12~A32.K_9L.png',\n",
       "   'F:\\\\MyProject\\\\MachineLearning\\\\Mydata\\\\chr_9_inversion\\\\78451.2~A30.K_9L.png',\n",
       "   'F:\\\\MyProject\\\\MachineLearning\\\\Mydata\\\\chr_9_inversion\\\\78451.3~A41.K_9L.png',\n",
       "   'F:\\\\MyProject\\\\MachineLearning\\\\Mydata\\\\chr_9_inversion\\\\78834.4~A24.K_9L.png',\n",
       "   'F:\\\\MyProject\\\\MachineLearning\\\\Mydata\\\\chr_9_inversion\\\\79501.3~A10.K_9L.png'],\n",
       "  '1': ['F:\\\\MyProject\\\\MachineLearning\\\\Mydata\\\\chr_9_inversion\\\\78058.3~A2.K_9L.png',\n",
       "   'F:\\\\MyProject\\\\MachineLearning\\\\Mydata\\\\chr_9_inversion\\\\78142.13~A20.K_9L.png',\n",
       "   'F:\\\\MyProject\\\\MachineLearning\\\\Mydata\\\\chr_9_inversion\\\\78142.4~A44.K_9l.png',\n",
       "   'F:\\\\MyProject\\\\MachineLearning\\\\Mydata\\\\chr_9_inversion\\\\78220.1~A45.K_9L.png',\n",
       "   'F:\\\\MyProject\\\\MachineLearning\\\\Mydata\\\\chr_9_inversion\\\\78220.4~A38.K_9L.png',\n",
       "   'F:\\\\MyProject\\\\MachineLearning\\\\Mydata\\\\chr_9_inversion\\\\78230.3~A5.K_9L.png',\n",
       "   'F:\\\\MyProject\\\\MachineLearning\\\\Mydata\\\\chr_9_inversion\\\\78451.12~A38.K_9L.png',\n",
       "   'F:\\\\MyProject\\\\MachineLearning\\\\Mydata\\\\chr_9_inversion\\\\78451.3~A37.K_9L.png',\n",
       "   'F:\\\\MyProject\\\\MachineLearning\\\\Mydata\\\\chr_9_inversion\\\\78834.12~A25.K_9L.png',\n",
       "   'F:\\\\MyProject\\\\MachineLearning\\\\Mydata\\\\chr_9_inversion\\\\79501.3~A30.K_9L.png'],\n",
       "  '2': ['F:\\\\MyProject\\\\MachineLearning\\\\Mydata\\\\chr_9_inversion\\\\78034.13~A17.K_9L.png',\n",
       "   'F:\\\\MyProject\\\\MachineLearning\\\\Mydata\\\\chr_9_inversion\\\\78034.3~A39.K_9L.png',\n",
       "   'F:\\\\MyProject\\\\MachineLearning\\\\Mydata\\\\chr_9_inversion\\\\78058.3~A26.K_9L.png',\n",
       "   'F:\\\\MyProject\\\\MachineLearning\\\\Mydata\\\\chr_9_inversion\\\\78058.4~A8.K_9L.png',\n",
       "   'F:\\\\MyProject\\\\MachineLearning\\\\Mydata\\\\chr_9_inversion\\\\78220.2~A21.K_9L.png',\n",
       "   'F:\\\\MyProject\\\\MachineLearning\\\\Mydata\\\\chr_9_inversion\\\\78220.3~A23.K_9L.png',\n",
       "   'F:\\\\MyProject\\\\MachineLearning\\\\Mydata\\\\chr_9_inversion\\\\78230.2~A1.K_9L.png',\n",
       "   'F:\\\\MyProject\\\\MachineLearning\\\\Mydata\\\\chr_9_inversion\\\\78230.4~A17.K_9L.png',\n",
       "   'F:\\\\MyProject\\\\MachineLearning\\\\Mydata\\\\chr_9_inversion\\\\78451.4~A16.K_9L.png',\n",
       "   'F:\\\\MyProject\\\\MachineLearning\\\\Mydata\\\\chr_9_inversion\\\\78834.3~A35.K_9L.png'],\n",
       "  '3': ['F:\\\\MyProject\\\\MachineLearning\\\\Mydata\\\\chr_9_inversion\\\\78034.12~A21.K_9L.png',\n",
       "   'F:\\\\MyProject\\\\MachineLearning\\\\Mydata\\\\chr_9_inversion\\\\78034.13~A6.K_9L.png',\n",
       "   'F:\\\\MyProject\\\\MachineLearning\\\\Mydata\\\\chr_9_inversion\\\\78034.14~A40.K_9L.png',\n",
       "   'F:\\\\MyProject\\\\MachineLearning\\\\Mydata\\\\chr_9_inversion\\\\78142.12~A27.K_9L.png',\n",
       "   'F:\\\\MyProject\\\\MachineLearning\\\\Mydata\\\\chr_9_inversion\\\\78142.2~A13.K_9L.png',\n",
       "   'F:\\\\MyProject\\\\MachineLearning\\\\Mydata\\\\chr_9_inversion\\\\78220.4~A17.K_9L.png',\n",
       "   'F:\\\\MyProject\\\\MachineLearning\\\\Mydata\\\\chr_9_inversion\\\\78230.13~A12.K_9L.png',\n",
       "   'F:\\\\MyProject\\\\MachineLearning\\\\Mydata\\\\chr_9_inversion\\\\78451.12~A1.K_9L.png',\n",
       "   'F:\\\\MyProject\\\\MachineLearning\\\\Mydata\\\\chr_9_inversion\\\\78834.3~A16.K_9L.png',\n",
       "   'F:\\\\MyProject\\\\MachineLearning\\\\Mydata\\\\chr_9_inversion\\\\79501.1~A19.K_9L.png'],\n",
       "  '4': ['F:\\\\MyProject\\\\MachineLearning\\\\Mydata\\\\chr_9_inversion\\\\78034.12~A15.K_9L.png',\n",
       "   'F:\\\\MyProject\\\\MachineLearning\\\\Mydata\\\\chr_9_inversion\\\\78034.13~A22.K_9L.png',\n",
       "   'F:\\\\MyProject\\\\MachineLearning\\\\Mydata\\\\chr_9_inversion\\\\78034.2~A23.K_9L.png',\n",
       "   'F:\\\\MyProject\\\\MachineLearning\\\\Mydata\\\\chr_9_inversion\\\\78034.2~A48.K_9L.png',\n",
       "   'F:\\\\MyProject\\\\MachineLearning\\\\Mydata\\\\chr_9_inversion\\\\78034.4~A36.K_9L.png',\n",
       "   'F:\\\\MyProject\\\\MachineLearning\\\\Mydata\\\\chr_9_inversion\\\\78058.3~A19.K_9L.png',\n",
       "   'F:\\\\MyProject\\\\MachineLearning\\\\Mydata\\\\chr_9_inversion\\\\78058.4~A15.K_9L.png',\n",
       "   'F:\\\\MyProject\\\\MachineLearning\\\\Mydata\\\\chr_9_inversion\\\\78058.4~A48.K_9L.png',\n",
       "   'F:\\\\MyProject\\\\MachineLearning\\\\Mydata\\\\chr_9_inversion\\\\78451.2~A16.K_9L.png',\n",
       "   'F:\\\\MyProject\\\\MachineLearning\\\\Mydata\\\\chr_9_inversion\\\\78834.14~A21.K_9L.png']}}"
      ]
     },
     "execution_count": 10,
     "metadata": {},
     "output_type": "execute_result"
    }
   ],
   "source": [
    "with open('data_X_test_name.json') as json_file:\n",
    "    X_test_name = json.load(json_file)\n",
    "X_test_name"
   ]
  },
  {
   "cell_type": "code",
   "execution_count": 11,
   "metadata": {},
   "outputs": [
    {
     "data": {
      "text/plain": [
       "{'chr_09': ['F:\\\\MyProject\\\\MachineLearning\\\\Mydata\\\\chr_09\\\\78034.12~A15.K_9R.png',\n",
       "  'F:\\\\MyProject\\\\MachineLearning\\\\Mydata\\\\chr_09\\\\78034.12~A21.K_9R.png',\n",
       "  'F:\\\\MyProject\\\\MachineLearning\\\\Mydata\\\\chr_09\\\\78034.12~A30.K_9R.png',\n",
       "  'F:\\\\MyProject\\\\MachineLearning\\\\Mydata\\\\chr_09\\\\78034.13~A1.K_9R.png',\n",
       "  'F:\\\\MyProject\\\\MachineLearning\\\\Mydata\\\\chr_09\\\\78034.13~A17.K_9R.png',\n",
       "  'F:\\\\MyProject\\\\MachineLearning\\\\Mydata\\\\chr_09\\\\78034.13~A22.K_9R.png',\n",
       "  'F:\\\\MyProject\\\\MachineLearning\\\\Mydata\\\\chr_09\\\\78034.13~A6.K_9R.png',\n",
       "  'F:\\\\MyProject\\\\MachineLearning\\\\Mydata\\\\chr_09\\\\78034.14~A40.K_9R.png',\n",
       "  'F:\\\\MyProject\\\\MachineLearning\\\\Mydata\\\\chr_09\\\\78034.2~A23.K_9R.png',\n",
       "  'F:\\\\MyProject\\\\MachineLearning\\\\Mydata\\\\chr_09\\\\78034.2~A48.K_9R.png',\n",
       "  'F:\\\\MyProject\\\\MachineLearning\\\\Mydata\\\\chr_09\\\\78034.3~A39.K_9R.png',\n",
       "  'F:\\\\MyProject\\\\MachineLearning\\\\Mydata\\\\chr_09\\\\78034.4~A36.K_9R.png',\n",
       "  'F:\\\\MyProject\\\\MachineLearning\\\\Mydata\\\\chr_09\\\\78058.3~A19.K_9R.png',\n",
       "  'F:\\\\MyProject\\\\MachineLearning\\\\Mydata\\\\chr_09\\\\78058.3~A2.K_9R.png',\n",
       "  'F:\\\\MyProject\\\\MachineLearning\\\\Mydata\\\\chr_09\\\\78058.3~A26.K_9R.png',\n",
       "  'F:\\\\MyProject\\\\MachineLearning\\\\Mydata\\\\chr_09\\\\78058.4~A15.K_9R.png',\n",
       "  'F:\\\\MyProject\\\\MachineLearning\\\\Mydata\\\\chr_09\\\\78058.4~A48.K_9R.png',\n",
       "  'F:\\\\MyProject\\\\MachineLearning\\\\Mydata\\\\chr_09\\\\78058.4~A8.K_9R.png',\n",
       "  'F:\\\\MyProject\\\\MachineLearning\\\\Mydata\\\\chr_09\\\\78142.12~A27.K_9R.png',\n",
       "  'F:\\\\MyProject\\\\MachineLearning\\\\Mydata\\\\chr_09\\\\78142.13~A20.K_9R.png',\n",
       "  'F:\\\\MyProject\\\\MachineLearning\\\\Mydata\\\\chr_09\\\\78142.2~A13.K_9R.png',\n",
       "  'F:\\\\MyProject\\\\MachineLearning\\\\Mydata\\\\chr_09\\\\78142.4~A44.K_9R.png',\n",
       "  'F:\\\\MyProject\\\\MachineLearning\\\\Mydata\\\\chr_09\\\\78220.1~A45.K_9R.png',\n",
       "  'F:\\\\MyProject\\\\MachineLearning\\\\Mydata\\\\chr_09\\\\78220.2~A21.K_9R.png',\n",
       "  'F:\\\\MyProject\\\\MachineLearning\\\\Mydata\\\\chr_09\\\\78220.3~A23.K_9R.png',\n",
       "  'F:\\\\MyProject\\\\MachineLearning\\\\Mydata\\\\chr_09\\\\78220.4~A17.K_9R.png',\n",
       "  'F:\\\\MyProject\\\\MachineLearning\\\\Mydata\\\\chr_09\\\\78220.4~A38.K_9R.png',\n",
       "  'F:\\\\MyProject\\\\MachineLearning\\\\Mydata\\\\chr_09\\\\78230.12~A47.K_9R.png',\n",
       "  'F:\\\\MyProject\\\\MachineLearning\\\\Mydata\\\\chr_09\\\\78230.13~A12.K_9R.png',\n",
       "  'F:\\\\MyProject\\\\MachineLearning\\\\Mydata\\\\chr_09\\\\78230.14~A47.K_9R.png',\n",
       "  'F:\\\\MyProject\\\\MachineLearning\\\\Mydata\\\\chr_09\\\\78230.2~A1.K_9R.png',\n",
       "  'F:\\\\MyProject\\\\MachineLearning\\\\Mydata\\\\chr_09\\\\78230.3~A14.K_9R.png',\n",
       "  'F:\\\\MyProject\\\\MachineLearning\\\\Mydata\\\\chr_09\\\\78230.3~A5.K_9R.png',\n",
       "  'F:\\\\MyProject\\\\MachineLearning\\\\Mydata\\\\chr_09\\\\78230.4~A17.K_9R.png',\n",
       "  'F:\\\\MyProject\\\\MachineLearning\\\\Mydata\\\\chr_09\\\\78451.12~A1.K_9R.png',\n",
       "  'F:\\\\MyProject\\\\MachineLearning\\\\Mydata\\\\chr_09\\\\78451.12~A32.K_9R.png',\n",
       "  'F:\\\\MyProject\\\\MachineLearning\\\\Mydata\\\\chr_09\\\\78451.12~A38.K_9R.png',\n",
       "  'F:\\\\MyProject\\\\MachineLearning\\\\Mydata\\\\chr_09\\\\78451.2~A16.K_9R.png',\n",
       "  'F:\\\\MyProject\\\\MachineLearning\\\\Mydata\\\\chr_09\\\\78451.2~A30.K_9R.png',\n",
       "  'F:\\\\MyProject\\\\MachineLearning\\\\Mydata\\\\chr_09\\\\78451.3~A37.K_9R.png',\n",
       "  'F:\\\\MyProject\\\\MachineLearning\\\\Mydata\\\\chr_09\\\\78451.3~A41.K_9R.png',\n",
       "  'F:\\\\MyProject\\\\MachineLearning\\\\Mydata\\\\chr_09\\\\78451.4~A16.K_9R.png',\n",
       "  'F:\\\\MyProject\\\\MachineLearning\\\\Mydata\\\\chr_09\\\\78834.12~A25.K_9R.png',\n",
       "  'F:\\\\MyProject\\\\MachineLearning\\\\Mydata\\\\chr_09\\\\78834.14~A21.K_9R.png',\n",
       "  'F:\\\\MyProject\\\\MachineLearning\\\\Mydata\\\\chr_09\\\\78834.3~A16.K_9R.png',\n",
       "  'F:\\\\MyProject\\\\MachineLearning\\\\Mydata\\\\chr_09\\\\78834.3~A35.K_9R.png',\n",
       "  'F:\\\\MyProject\\\\MachineLearning\\\\Mydata\\\\chr_09\\\\78834.4~A24.K_9R.png',\n",
       "  'F:\\\\MyProject\\\\MachineLearning\\\\Mydata\\\\chr_09\\\\79501.1~A19.K_9R.png',\n",
       "  'F:\\\\MyProject\\\\MachineLearning\\\\Mydata\\\\chr_09\\\\79501.3~A10.K_9R.png',\n",
       "  'F:\\\\MyProject\\\\MachineLearning\\\\Mydata\\\\chr_09\\\\79501.3~A30.K_9R.png'],\n",
       " 'chr_9_inversion': ['F:\\\\MyProject\\\\MachineLearning\\\\Mydata\\\\chr_9_inversion\\\\78034.12~A15.K_9L.png',\n",
       "  'F:\\\\MyProject\\\\MachineLearning\\\\Mydata\\\\chr_9_inversion\\\\78034.12~A21.K_9L.png',\n",
       "  'F:\\\\MyProject\\\\MachineLearning\\\\Mydata\\\\chr_9_inversion\\\\78034.12~A30.K_9L.png',\n",
       "  'F:\\\\MyProject\\\\MachineLearning\\\\Mydata\\\\chr_9_inversion\\\\78034.13~A1.K_9L.png',\n",
       "  'F:\\\\MyProject\\\\MachineLearning\\\\Mydata\\\\chr_9_inversion\\\\78034.13~A17.K_9L.png',\n",
       "  'F:\\\\MyProject\\\\MachineLearning\\\\Mydata\\\\chr_9_inversion\\\\78034.13~A22.K_9L.png',\n",
       "  'F:\\\\MyProject\\\\MachineLearning\\\\Mydata\\\\chr_9_inversion\\\\78034.13~A6.K_9L.png',\n",
       "  'F:\\\\MyProject\\\\MachineLearning\\\\Mydata\\\\chr_9_inversion\\\\78034.14~A40.K_9L.png',\n",
       "  'F:\\\\MyProject\\\\MachineLearning\\\\Mydata\\\\chr_9_inversion\\\\78034.2~A23.K_9L.png',\n",
       "  'F:\\\\MyProject\\\\MachineLearning\\\\Mydata\\\\chr_9_inversion\\\\78034.2~A48.K_9L.png',\n",
       "  'F:\\\\MyProject\\\\MachineLearning\\\\Mydata\\\\chr_9_inversion\\\\78034.3~A39.K_9L.png',\n",
       "  'F:\\\\MyProject\\\\MachineLearning\\\\Mydata\\\\chr_9_inversion\\\\78034.4~A36.K_9L.png',\n",
       "  'F:\\\\MyProject\\\\MachineLearning\\\\Mydata\\\\chr_9_inversion\\\\78058.3~A19.K_9L.png',\n",
       "  'F:\\\\MyProject\\\\MachineLearning\\\\Mydata\\\\chr_9_inversion\\\\78058.3~A2.K_9L.png',\n",
       "  'F:\\\\MyProject\\\\MachineLearning\\\\Mydata\\\\chr_9_inversion\\\\78058.3~A26.K_9L.png',\n",
       "  'F:\\\\MyProject\\\\MachineLearning\\\\Mydata\\\\chr_9_inversion\\\\78058.4~A15.K_9L.png',\n",
       "  'F:\\\\MyProject\\\\MachineLearning\\\\Mydata\\\\chr_9_inversion\\\\78058.4~A48.K_9L.png',\n",
       "  'F:\\\\MyProject\\\\MachineLearning\\\\Mydata\\\\chr_9_inversion\\\\78058.4~A8.K_9L.png',\n",
       "  'F:\\\\MyProject\\\\MachineLearning\\\\Mydata\\\\chr_9_inversion\\\\78142.12~A27.K_9L.png',\n",
       "  'F:\\\\MyProject\\\\MachineLearning\\\\Mydata\\\\chr_9_inversion\\\\78142.13~A20.K_9L.png',\n",
       "  'F:\\\\MyProject\\\\MachineLearning\\\\Mydata\\\\chr_9_inversion\\\\78142.2~A13.K_9L.png',\n",
       "  'F:\\\\MyProject\\\\MachineLearning\\\\Mydata\\\\chr_9_inversion\\\\78142.4~A44.K_9l.png',\n",
       "  'F:\\\\MyProject\\\\MachineLearning\\\\Mydata\\\\chr_9_inversion\\\\78220.1~A45.K_9L.png',\n",
       "  'F:\\\\MyProject\\\\MachineLearning\\\\Mydata\\\\chr_9_inversion\\\\78220.2~A21.K_9L.png',\n",
       "  'F:\\\\MyProject\\\\MachineLearning\\\\Mydata\\\\chr_9_inversion\\\\78220.3~A23.K_9L.png',\n",
       "  'F:\\\\MyProject\\\\MachineLearning\\\\Mydata\\\\chr_9_inversion\\\\78220.4~A17.K_9L.png',\n",
       "  'F:\\\\MyProject\\\\MachineLearning\\\\Mydata\\\\chr_9_inversion\\\\78220.4~A38.K_9L.png',\n",
       "  'F:\\\\MyProject\\\\MachineLearning\\\\Mydata\\\\chr_9_inversion\\\\78230.12~A47.K_9L.png',\n",
       "  'F:\\\\MyProject\\\\MachineLearning\\\\Mydata\\\\chr_9_inversion\\\\78230.13~A12.K_9L.png',\n",
       "  'F:\\\\MyProject\\\\MachineLearning\\\\Mydata\\\\chr_9_inversion\\\\78230.14~A47.K_9L.png',\n",
       "  'F:\\\\MyProject\\\\MachineLearning\\\\Mydata\\\\chr_9_inversion\\\\78230.2~A1.K_9L.png',\n",
       "  'F:\\\\MyProject\\\\MachineLearning\\\\Mydata\\\\chr_9_inversion\\\\78230.3~A14.K_9L.png',\n",
       "  'F:\\\\MyProject\\\\MachineLearning\\\\Mydata\\\\chr_9_inversion\\\\78230.3~A5.K_9L.png',\n",
       "  'F:\\\\MyProject\\\\MachineLearning\\\\Mydata\\\\chr_9_inversion\\\\78230.4~A17.K_9L.png',\n",
       "  'F:\\\\MyProject\\\\MachineLearning\\\\Mydata\\\\chr_9_inversion\\\\78451.12~A1.K_9L.png',\n",
       "  'F:\\\\MyProject\\\\MachineLearning\\\\Mydata\\\\chr_9_inversion\\\\78451.12~A32.K_9L.png',\n",
       "  'F:\\\\MyProject\\\\MachineLearning\\\\Mydata\\\\chr_9_inversion\\\\78451.12~A38.K_9L.png',\n",
       "  'F:\\\\MyProject\\\\MachineLearning\\\\Mydata\\\\chr_9_inversion\\\\78451.2~A16.K_9L.png',\n",
       "  'F:\\\\MyProject\\\\MachineLearning\\\\Mydata\\\\chr_9_inversion\\\\78451.2~A30.K_9L.png',\n",
       "  'F:\\\\MyProject\\\\MachineLearning\\\\Mydata\\\\chr_9_inversion\\\\78451.3~A37.K_9L.png',\n",
       "  'F:\\\\MyProject\\\\MachineLearning\\\\Mydata\\\\chr_9_inversion\\\\78451.3~A41.K_9L.png',\n",
       "  'F:\\\\MyProject\\\\MachineLearning\\\\Mydata\\\\chr_9_inversion\\\\78451.4~A16.K_9L.png',\n",
       "  'F:\\\\MyProject\\\\MachineLearning\\\\Mydata\\\\chr_9_inversion\\\\78834.12~A25.K_9L.png',\n",
       "  'F:\\\\MyProject\\\\MachineLearning\\\\Mydata\\\\chr_9_inversion\\\\78834.14~A21.K_9L.png',\n",
       "  'F:\\\\MyProject\\\\MachineLearning\\\\Mydata\\\\chr_9_inversion\\\\78834.3~A16.K_9L.png',\n",
       "  'F:\\\\MyProject\\\\MachineLearning\\\\Mydata\\\\chr_9_inversion\\\\78834.3~A35.K_9L.png',\n",
       "  'F:\\\\MyProject\\\\MachineLearning\\\\Mydata\\\\chr_9_inversion\\\\78834.4~A24.K_9L.png',\n",
       "  'F:\\\\MyProject\\\\MachineLearning\\\\Mydata\\\\chr_9_inversion\\\\79501.1~A19.K_9L.png',\n",
       "  'F:\\\\MyProject\\\\MachineLearning\\\\Mydata\\\\chr_9_inversion\\\\79501.3~A10.K_9L.png',\n",
       "  'F:\\\\MyProject\\\\MachineLearning\\\\Mydata\\\\chr_9_inversion\\\\79501.3~A30.K_9L.png']}"
      ]
     },
     "execution_count": 11,
     "metadata": {},
     "output_type": "execute_result"
    }
   ],
   "source": [
    "with open('data_theWhole.json') as json_file:\n",
    "    theWhole = json.load(json_file)\n",
    "theWhole"
   ]
  },
  {
   "cell_type": "markdown",
   "metadata": {},
   "source": [
    "# 3. Iteration"
   ]
  },
  {
   "cell_type": "markdown",
   "metadata": {},
   "source": [
    "## 3.1 Image Input"
   ]
  },
  {
   "cell_type": "markdown",
   "metadata": {},
   "source": [
    "### 3.1.x Display the Split Method"
   ]
  },
  {
   "cell_type": "code",
   "execution_count": 15,
   "metadata": {},
   "outputs": [
    {
     "data": {
      "text/plain": [
       "dict"
      ]
     },
     "execution_count": 15,
     "metadata": {},
     "output_type": "execute_result"
    }
   ],
   "source": [
    "type(X_train_name)"
   ]
  },
  {
   "cell_type": "code",
   "execution_count": 16,
   "metadata": {},
   "outputs": [
    {
     "data": {
      "text/plain": [
       "dict_keys(['chr_09', 'chr_9_inversion'])"
      ]
     },
     "execution_count": 16,
     "metadata": {},
     "output_type": "execute_result"
    }
   ],
   "source": [
    "X_train_name.keys()"
   ]
  },
  {
   "cell_type": "code",
   "execution_count": 17,
   "metadata": {},
   "outputs": [
    {
     "name": "stdout",
     "output_type": "stream",
     "text": [
      "Iteration No.  0\n",
      "chr_09\n",
      "   Train: \n",
      "        78034.12~A15.K_9R.png\n",
      "        78034.12~A21.K_9R.png\n",
      "        78034.13~A17.K_9R.png\n",
      "        78034.13~A22.K_9R.png\n",
      "        78034.13~A6.K_9R.png\n",
      "        78034.14~A40.K_9R.png\n",
      "        78034.2~A23.K_9R.png\n",
      "        78034.2~A48.K_9R.png\n",
      "        78034.3~A39.K_9R.png\n",
      "        78034.4~A36.K_9R.png\n",
      "        78058.3~A19.K_9R.png\n",
      "        78058.3~A2.K_9R.png\n",
      "        78058.3~A26.K_9R.png\n",
      "        78058.4~A15.K_9R.png\n",
      "        78058.4~A48.K_9R.png\n",
      "        78058.4~A8.K_9R.png\n",
      "        78142.12~A27.K_9R.png\n",
      "        78142.13~A20.K_9R.png\n",
      "        78142.2~A13.K_9R.png\n",
      "        78142.4~A44.K_9R.png\n",
      "        78220.1~A45.K_9R.png\n",
      "        78220.2~A21.K_9R.png\n",
      "        78220.3~A23.K_9R.png\n",
      "        78220.4~A17.K_9R.png\n",
      "        78220.4~A38.K_9R.png\n",
      "        78230.13~A12.K_9R.png\n",
      "        78230.2~A1.K_9R.png\n",
      "        78230.3~A5.K_9R.png\n",
      "        78230.4~A17.K_9R.png\n",
      "        78451.12~A1.K_9R.png\n",
      "        78451.12~A38.K_9R.png\n",
      "        78451.2~A16.K_9R.png\n",
      "        78451.3~A37.K_9R.png\n",
      "        78451.4~A16.K_9R.png\n",
      "        78834.12~A25.K_9R.png\n",
      "        78834.14~A21.K_9R.png\n",
      "        78834.3~A16.K_9R.png\n",
      "        78834.3~A35.K_9R.png\n",
      "        79501.1~A19.K_9R.png\n",
      "        79501.3~A30.K_9R.png\n",
      "   Test: \n",
      "        78034.12~A30.K_9R.png\n",
      "        78034.13~A1.K_9R.png\n",
      "        78230.12~A47.K_9R.png\n",
      "        78230.14~A47.K_9R.png\n",
      "        78230.3~A14.K_9R.png\n",
      "        78451.12~A32.K_9R.png\n",
      "        78451.2~A30.K_9R.png\n",
      "        78451.3~A41.K_9R.png\n",
      "        78834.4~A24.K_9R.png\n",
      "        79501.3~A10.K_9R.png\n",
      "chr_9_inversion\n",
      "   Train: \n",
      "        78034.12~A15.K_9L.png\n",
      "        78034.12~A21.K_9L.png\n",
      "        78034.13~A17.K_9L.png\n",
      "        78034.13~A22.K_9L.png\n",
      "        78034.13~A6.K_9L.png\n",
      "        78034.14~A40.K_9L.png\n",
      "        78034.2~A23.K_9L.png\n",
      "        78034.2~A48.K_9L.png\n",
      "        78034.3~A39.K_9L.png\n",
      "        78034.4~A36.K_9L.png\n",
      "        78058.3~A19.K_9L.png\n",
      "        78058.3~A2.K_9L.png\n",
      "        78058.3~A26.K_9L.png\n",
      "        78058.4~A15.K_9L.png\n",
      "        78058.4~A48.K_9L.png\n",
      "        78058.4~A8.K_9L.png\n",
      "        78142.12~A27.K_9L.png\n",
      "        78142.13~A20.K_9L.png\n",
      "        78142.2~A13.K_9L.png\n",
      "        78142.4~A44.K_9l.png\n",
      "        78220.1~A45.K_9L.png\n",
      "        78220.2~A21.K_9L.png\n",
      "        78220.3~A23.K_9L.png\n",
      "        78220.4~A17.K_9L.png\n",
      "        78220.4~A38.K_9L.png\n",
      "        78230.13~A12.K_9L.png\n",
      "        78230.2~A1.K_9L.png\n",
      "        78230.3~A5.K_9L.png\n",
      "        78230.4~A17.K_9L.png\n",
      "        78451.12~A1.K_9L.png\n",
      "        78451.12~A38.K_9L.png\n",
      "        78451.2~A16.K_9L.png\n",
      "        78451.3~A37.K_9L.png\n",
      "        78451.4~A16.K_9L.png\n",
      "        78834.12~A25.K_9L.png\n",
      "        78834.14~A21.K_9L.png\n",
      "        78834.3~A16.K_9L.png\n",
      "        78834.3~A35.K_9L.png\n",
      "        79501.1~A19.K_9L.png\n",
      "        79501.3~A30.K_9L.png\n",
      "   Test: \n",
      "        78034.12~A30.K_9L.png\n",
      "        78034.13~A1.K_9L.png\n",
      "        78230.12~A47.K_9L.png\n",
      "        78230.14~A47.K_9L.png\n",
      "        78230.3~A14.K_9L.png\n",
      "        78451.12~A32.K_9L.png\n",
      "        78451.2~A30.K_9L.png\n",
      "        78451.3~A41.K_9L.png\n",
      "        78834.4~A24.K_9L.png\n",
      "        79501.3~A10.K_9L.png\n"
     ]
    }
   ],
   "source": [
    "file_k_fold = open('KFold_Round_'+str(iterationNumber)+'.txt', 'w')\n",
    "\n",
    "print('Iteration No. ', iterationNumber)\n",
    "file_k_fold.write('Iteration No. %s\\n\\n' % iterationNumber)\n",
    "\n",
    "\n",
    "for chrNo in theWhole.keys():\n",
    "    print(chrNo)\n",
    "    file_k_fold.write('%s\\n' % chrNo)\n",
    "    print('   Train: ')\n",
    "    file_k_fold.write('Train: \\n')\n",
    "    for item in X_train_name[chrNo][str(iterationNumber)]:\n",
    "        print('       ', item.split('\\\\')[-1])\n",
    "        file_k_fold.write('      %s\\n' % item.split('\\\\')[-1])\n",
    "    print('   Test: ')\n",
    "    file_k_fold.write('Test: \\n')\n",
    "    for item in X_test_name[chrNo][str(iterationNumber)]:\n",
    "        print('       ', item.split('\\\\')[-1])\n",
    "        file_k_fold.write('      %s\\n' % item.split('\\\\')[-1])\n",
    "    file_k_fold.write('\\n')\n",
    "        \n",
    "file_k_fold.close()"
   ]
  },
  {
   "cell_type": "markdown",
   "metadata": {},
   "source": [
    "### 3.1.1. Helper Functions"
   ]
  },
  {
   "cell_type": "code",
   "execution_count": 19,
   "metadata": {},
   "outputs": [],
   "source": [
    "def extractData(image):\n",
    "    x = image.size[0]\n",
    "    y = image.size[1]\n",
    "    \n",
    "    matrix = []\n",
    "    rgb_matrix = []\n",
    "\n",
    "    for i in range(x):\n",
    "        matrix.append([])\n",
    "        rgb_matrix.append([])\n",
    "        \n",
    "        for j in range(y):\n",
    "            r, g, b = image.getpixel((j, i))            \n",
    "            value = r * 299.0/1000 + g * 587.0/1000 + b * 114.0/1000\n",
    "            value = int(value)\n",
    "            matrix[i].append(value)\n",
    "            rgb_matrix[i].append((r,g,b))\n",
    "    return matrix, rgb_matrix"
   ]
  },
  {
   "cell_type": "code",
   "execution_count": 20,
   "metadata": {},
   "outputs": [],
   "source": [
    "def imageReconstruct(matrix):\n",
    "    df = np.array(matrix, dtype=np.uint8)\n",
    "    img = Image.fromarray(df, 'RGB')\n",
    "    img.save('image.png')\n",
    "    return img"
   ]
  },
  {
   "cell_type": "markdown",
   "metadata": {},
   "source": [
    "### 3.1.2. Assignment of Training Data"
   ]
  },
  {
   "cell_type": "markdown",
   "metadata": {},
   "source": [
    "#### 3.1.2.1 Training: Image Object Assignment"
   ]
  },
  {
   "cell_type": "code",
   "execution_count": 23,
   "metadata": {},
   "outputs": [],
   "source": [
    "image = {}\n",
    "\n",
    "# 定义容纳图片对象的dictionary类型的变量image\n",
    "\n",
    "i = 0\n",
    "\n",
    "for chrNo in theWhole.keys():\n",
    "    image[chrNo] = []\n",
    "    for case in X_train_name[chrNo][str(iterationNumber)]:\n",
    "        \n",
    "        # 上面一行第二个中括号内为split的序号，0为第0次split分法\n",
    "        \n",
    "        img = Image.open(case)\n",
    "        image[chrNo].append(img)\n",
    "        \n",
    "        # image字典接受的是图片对象"
   ]
  },
  {
   "cell_type": "markdown",
   "metadata": {},
   "source": [
    "#### 3.1.2.2. Training: Data Extraction from Images"
   ]
  },
  {
   "cell_type": "markdown",
   "metadata": {},
   "source": [
    "#### - Training Set Data: 将图像对象转变为矩阵数值"
   ]
  },
  {
   "cell_type": "code",
   "execution_count": 26,
   "metadata": {},
   "outputs": [],
   "source": [
    "data = {}\n",
    "#rgb_data = {}\n",
    "\n",
    "for chrNo in image.keys():\n",
    "    data[chrNo] = []; \n",
    "    #rgb_data[chrNo] = []\n",
    "    for case in image[chrNo]:\n",
    "        grey, rgb = extractData(case)\n",
    "        data[chrNo].append(grey)\n",
    "        #rgb_data[chrNo].append(rgb)"
   ]
  },
  {
   "cell_type": "code",
   "execution_count": 27,
   "metadata": {},
   "outputs": [],
   "source": [
    "array = {}\n",
    "\n",
    "for chrNo in data.keys():\n",
    "    array[chrNo] = []\n",
    "    for case in data[chrNo]:            \n",
    "        array[chrNo].append(case)\n",
    "\n",
    "x_train_list = []\n",
    "y_train_list = []\n",
    "\n",
    "for y, x in array.items():    \n",
    "    for x_item in x:\n",
    "        x_train_list.append(x_item)\n",
    "        y_train_list.append(y)\n",
    "        \n",
    "        # 将图像数据赋值给x_train_list;\n",
    "        # 将标签数据赋值给y_train_list."
   ]
  },
  {
   "cell_type": "markdown",
   "metadata": {},
   "source": [
    "### 3.1.3. Assignment of Testing Data"
   ]
  },
  {
   "cell_type": "markdown",
   "metadata": {},
   "source": [
    "#### 3.1.3.1. Testing: Image Object Assignment"
   ]
  },
  {
   "cell_type": "code",
   "execution_count": 30,
   "metadata": {},
   "outputs": [],
   "source": [
    "# 方法同前面的Training Set\n",
    "\n",
    "image = {}\n",
    "i = 0\n",
    "\n",
    "for chrNo in theWhole.keys():\n",
    "    image[chrNo] = []\n",
    "    for case in X_test_name[chrNo][str(iterationNumber)]: # Change here for different iterations!!!!!\n",
    "        \n",
    "        # 上面一行第二个中括号内为split的序号，0为第0次split分法\n",
    "        \n",
    "        img = Image.open(case)\n",
    "        image[chrNo].append(img)"
   ]
  },
  {
   "cell_type": "markdown",
   "metadata": {},
   "source": [
    "#### 3.1.3.2. Testing: Data Extraction from Images"
   ]
  },
  {
   "cell_type": "code",
   "execution_count": 32,
   "metadata": {},
   "outputs": [],
   "source": [
    "data = {}\n",
    "#rgb_data = {}\n",
    "\n",
    "for chrNo in image.keys():\n",
    "    data[chrNo] = []; \n",
    "    #rgb_data[chrNo] = []\n",
    "    for case in image[chrNo]:\n",
    "        grey, rgb = extractData(case)\n",
    "        data[chrNo].append(grey)\n",
    "        #rgb_data[chrNo].append(rgb)"
   ]
  },
  {
   "cell_type": "code",
   "execution_count": 33,
   "metadata": {},
   "outputs": [],
   "source": [
    "array = {}\n",
    "\n",
    "for chrNo in data.keys():\n",
    "    array[chrNo] = []\n",
    "    for case in data[chrNo]:            \n",
    "        array[chrNo].append(case)\n",
    "\n",
    "x_test_list = []\n",
    "y_test_list = []\n",
    "\n",
    "for y, x in array.items():    \n",
    "    for x_item in x:\n",
    "        x_test_list.append(x_item)\n",
    "        y_test_list.append(y)"
   ]
  },
  {
   "cell_type": "markdown",
   "metadata": {},
   "source": [
    "### 3.1.4. ChromConvert"
   ]
  },
  {
   "cell_type": "code",
   "execution_count": 35,
   "metadata": {},
   "outputs": [],
   "source": [
    "chromConvert = {\n",
    "               'chr_09': 0, \n",
    "               'chr_9_inversion': 1\n",
    "               }"
   ]
  },
  {
   "cell_type": "code",
   "execution_count": 36,
   "metadata": {},
   "outputs": [],
   "source": [
    "chromConvert_reverse = {\n",
    "                0: 'chr_09',\n",
    "                1: 'chr_9_inversion'\n",
    "               }"
   ]
  },
  {
   "cell_type": "code",
   "execution_count": 37,
   "metadata": {},
   "outputs": [],
   "source": [
    "# 将染色体序号和异常核型名称更换为序号，序号定义在程序开始部分\n",
    "\n",
    "y_train_digital_list = []\n",
    "for item in y_train_list:\n",
    "    y_train_digital_list.append(chromConvert[item])\n",
    "    \n",
    "y_test_digital_list = []\n",
    "for item in y_test_list:\n",
    "    y_test_digital_list.append(chromConvert[item])"
   ]
  },
  {
   "cell_type": "markdown",
   "metadata": {},
   "source": [
    "### 3.1.5. Change to Numpy Array"
   ]
  },
  {
   "cell_type": "code",
   "execution_count": 39,
   "metadata": {},
   "outputs": [],
   "source": [
    "X_train = np.array(x_train_list)\n",
    "y_train = np.array(y_train_digital_list)"
   ]
  },
  {
   "cell_type": "code",
   "execution_count": 40,
   "metadata": {},
   "outputs": [],
   "source": [
    "X_test = np.array(x_test_list)\n",
    "y_test = np.array(y_test_digital_list)"
   ]
  },
  {
   "cell_type": "code",
   "execution_count": 41,
   "metadata": {},
   "outputs": [
    {
     "data": {
      "text/plain": [
       "array([0, 0, 0, 0, 0, 0, 0, 0, 0, 0, 1, 1, 1, 1, 1, 1, 1, 1, 1, 1])"
      ]
     },
     "execution_count": 41,
     "metadata": {},
     "output_type": "execute_result"
    }
   ],
   "source": [
    "y_test"
   ]
  },
  {
   "cell_type": "code",
   "execution_count": 42,
   "metadata": {},
   "outputs": [
    {
     "data": {
      "text/plain": [
       "80"
      ]
     },
     "execution_count": 42,
     "metadata": {},
     "output_type": "execute_result"
    }
   ],
   "source": [
    "len(X_train)"
   ]
  },
  {
   "cell_type": "code",
   "execution_count": 43,
   "metadata": {},
   "outputs": [
    {
     "data": {
      "text/plain": [
       "(300, 300)"
      ]
     },
     "execution_count": 43,
     "metadata": {},
     "output_type": "execute_result"
    }
   ],
   "source": [
    "X_train[0].shape"
   ]
  },
  {
   "cell_type": "markdown",
   "metadata": {},
   "source": [
    "## 3.2. Convolutional Neural Network"
   ]
  },
  {
   "cell_type": "markdown",
   "metadata": {},
   "source": [
    "### 3.2.1 Data Preparation"
   ]
  },
  {
   "cell_type": "code",
   "execution_count": 46,
   "metadata": {},
   "outputs": [],
   "source": [
    "X_train = X_train.reshape(-1, 300, 300, 1)\n",
    "X_test = X_test.reshape(-1, 300, 300, 1)"
   ]
  },
  {
   "cell_type": "markdown",
   "metadata": {},
   "source": [
    "### 3.2.3 Training Model Design"
   ]
  },
  {
   "cell_type": "code",
   "execution_count": 48,
   "metadata": {},
   "outputs": [],
   "source": [
    "model = Sequential()"
   ]
  },
  {
   "cell_type": "code",
   "execution_count": 49,
   "metadata": {},
   "outputs": [],
   "source": [
    "model.add(Conv2D(32, (3, 3), activation='relu', input_shape=(300, 300, 1)))\n",
    "model.add(MaxPooling2D((2, 2)))\n",
    "model.add(Conv2D(64, (3, 3), activation='relu'))\n",
    "model.add(MaxPooling2D((2, 2)))\n",
    "model.add(Conv2D(64, (3, 3), activation='relu'))\n",
    "model.add(MaxPooling2D((2, 2)))"
   ]
  },
  {
   "cell_type": "code",
   "execution_count": 50,
   "metadata": {},
   "outputs": [],
   "source": [
    "model.add(Flatten())\n",
    "model.add(Dense(1024, activation='relu'))\n",
    "model.add(Dense(1024, activation='relu'))\n",
    "model.add(Dense(2, activation='sigmoid'))"
   ]
  },
  {
   "cell_type": "markdown",
   "metadata": {},
   "source": [
    "### 3.2.4. Tensorboard Initilization"
   ]
  },
  {
   "cell_type": "code",
   "execution_count": 52,
   "metadata": {},
   "outputs": [],
   "source": [
    "%load_ext tensorboard\n",
    "log_dir = \"logs/fit/\" + datetime.datetime.now().strftime(\"%Y%m%d-%H%M%S\")\n",
    "tensorboard_callback = keras.callbacks.TensorBoard(log_dir=log_dir, histogram_freq=1)"
   ]
  },
  {
   "cell_type": "markdown",
   "metadata": {},
   "source": [
    "### 3.2.5. Compile the modal"
   ]
  },
  {
   "cell_type": "code",
   "execution_count": 54,
   "metadata": {},
   "outputs": [],
   "source": [
    "model.compile(optimizer='adam', loss='sparse_categorical_crossentropy', metrics=['accuracy'])"
   ]
  },
  {
   "cell_type": "markdown",
   "metadata": {},
   "source": [
    "### 3.2.6. Fitting (拟合)"
   ]
  },
  {
   "cell_type": "code",
   "execution_count": 56,
   "metadata": {
    "scrolled": true
   },
   "outputs": [
    {
     "name": "stdout",
     "output_type": "stream",
     "text": [
      "Epoch 1/500\n",
      "2/2 [==============================] - 69s 64s/step - loss: 1265.1085 - accuracy: 0.4750 - val_loss: 349.4671 - val_accuracy: 0.5000\n",
      "Epoch 2/500\n",
      "2/2 [==============================] - 42s 37s/step - loss: 516.4673 - accuracy: 0.5250 - val_loss: 659.8469 - val_accuracy: 0.5000\n",
      "Epoch 3/500\n"
     ]
    },
    {
     "ename": "KeyboardInterrupt",
     "evalue": "",
     "output_type": "error",
     "traceback": [
      "\u001b[1;31m---------------------------------------------------------------------------\u001b[0m",
      "\u001b[1;31mKeyboardInterrupt\u001b[0m                         Traceback (most recent call last)",
      "Cell \u001b[1;32mIn[56], line 1\u001b[0m\n\u001b[1;32m----> 1\u001b[0m \u001b[43mmodel\u001b[49m\u001b[38;5;241;43m.\u001b[39;49m\u001b[43mfit\u001b[49m\u001b[43m(\u001b[49m\u001b[43mX_train\u001b[49m\u001b[43m,\u001b[49m\u001b[43m \u001b[49m\u001b[43my_train\u001b[49m\u001b[43m,\u001b[49m\u001b[43m \u001b[49m\u001b[43mepochs\u001b[49m\u001b[38;5;241;43m=\u001b[39;49m\u001b[38;5;241;43m500\u001b[39;49m\u001b[43m,\u001b[49m\u001b[43m \u001b[49m\u001b[43mbatch_size\u001b[49m\u001b[38;5;241;43m=\u001b[39;49m\u001b[38;5;241;43m64\u001b[39;49m\u001b[43m,\u001b[49m\u001b[43m \u001b[49m\u001b[43mverbose\u001b[49m\u001b[38;5;241;43m=\u001b[39;49m\u001b[38;5;241;43m1\u001b[39;49m\u001b[43m,\u001b[49m\u001b[43m \u001b[49m\n\u001b[0;32m      2\u001b[0m \u001b[43m          \u001b[49m\u001b[43mvalidation_data\u001b[49m\u001b[38;5;241;43m=\u001b[39;49m\u001b[43m(\u001b[49m\u001b[43mX_test\u001b[49m\u001b[43m,\u001b[49m\u001b[43m \u001b[49m\u001b[43my_test\u001b[49m\u001b[43m)\u001b[49m\u001b[43m,\u001b[49m\n\u001b[0;32m      3\u001b[0m \u001b[43m          \u001b[49m\u001b[43mcallbacks\u001b[49m\u001b[38;5;241;43m=\u001b[39;49m\u001b[43m[\u001b[49m\u001b[43mtensorboard_callback\u001b[49m\u001b[43m]\u001b[49m\u001b[43m)\u001b[49m\n",
      "File \u001b[1;32mG:\\Anaconda3\\envs\\Karyotyping_Pinnacle\\lib\\site-packages\\keras\\src\\utils\\traceback_utils.py:65\u001b[0m, in \u001b[0;36mfilter_traceback.<locals>.error_handler\u001b[1;34m(*args, **kwargs)\u001b[0m\n\u001b[0;32m     63\u001b[0m filtered_tb \u001b[38;5;241m=\u001b[39m \u001b[38;5;28;01mNone\u001b[39;00m\n\u001b[0;32m     64\u001b[0m \u001b[38;5;28;01mtry\u001b[39;00m:\n\u001b[1;32m---> 65\u001b[0m     \u001b[38;5;28;01mreturn\u001b[39;00m \u001b[43mfn\u001b[49m\u001b[43m(\u001b[49m\u001b[38;5;241;43m*\u001b[39;49m\u001b[43margs\u001b[49m\u001b[43m,\u001b[49m\u001b[43m \u001b[49m\u001b[38;5;241;43m*\u001b[39;49m\u001b[38;5;241;43m*\u001b[39;49m\u001b[43mkwargs\u001b[49m\u001b[43m)\u001b[49m\n\u001b[0;32m     66\u001b[0m \u001b[38;5;28;01mexcept\u001b[39;00m \u001b[38;5;167;01mException\u001b[39;00m \u001b[38;5;28;01mas\u001b[39;00m e:\n\u001b[0;32m     67\u001b[0m     filtered_tb \u001b[38;5;241m=\u001b[39m _process_traceback_frames(e\u001b[38;5;241m.\u001b[39m__traceback__)\n",
      "File \u001b[1;32mG:\\Anaconda3\\envs\\Karyotyping_Pinnacle\\lib\\site-packages\\keras\\src\\engine\\training.py:1742\u001b[0m, in \u001b[0;36mModel.fit\u001b[1;34m(self, x, y, batch_size, epochs, verbose, callbacks, validation_split, validation_data, shuffle, class_weight, sample_weight, initial_epoch, steps_per_epoch, validation_steps, validation_batch_size, validation_freq, max_queue_size, workers, use_multiprocessing)\u001b[0m\n\u001b[0;32m   1734\u001b[0m \u001b[38;5;28;01mwith\u001b[39;00m tf\u001b[38;5;241m.\u001b[39mprofiler\u001b[38;5;241m.\u001b[39mexperimental\u001b[38;5;241m.\u001b[39mTrace(\n\u001b[0;32m   1735\u001b[0m     \u001b[38;5;124m\"\u001b[39m\u001b[38;5;124mtrain\u001b[39m\u001b[38;5;124m\"\u001b[39m,\n\u001b[0;32m   1736\u001b[0m     epoch_num\u001b[38;5;241m=\u001b[39mepoch,\n\u001b[1;32m   (...)\u001b[0m\n\u001b[0;32m   1739\u001b[0m     _r\u001b[38;5;241m=\u001b[39m\u001b[38;5;241m1\u001b[39m,\n\u001b[0;32m   1740\u001b[0m ):\n\u001b[0;32m   1741\u001b[0m     callbacks\u001b[38;5;241m.\u001b[39mon_train_batch_begin(step)\n\u001b[1;32m-> 1742\u001b[0m     tmp_logs \u001b[38;5;241m=\u001b[39m \u001b[38;5;28;43mself\u001b[39;49m\u001b[38;5;241;43m.\u001b[39;49m\u001b[43mtrain_function\u001b[49m\u001b[43m(\u001b[49m\u001b[43miterator\u001b[49m\u001b[43m)\u001b[49m\n\u001b[0;32m   1743\u001b[0m     \u001b[38;5;28;01mif\u001b[39;00m data_handler\u001b[38;5;241m.\u001b[39mshould_sync:\n\u001b[0;32m   1744\u001b[0m         context\u001b[38;5;241m.\u001b[39masync_wait()\n",
      "File \u001b[1;32mG:\\Anaconda3\\envs\\Karyotyping_Pinnacle\\lib\\site-packages\\tensorflow\\python\\util\\traceback_utils.py:150\u001b[0m, in \u001b[0;36mfilter_traceback.<locals>.error_handler\u001b[1;34m(*args, **kwargs)\u001b[0m\n\u001b[0;32m    148\u001b[0m filtered_tb \u001b[38;5;241m=\u001b[39m \u001b[38;5;28;01mNone\u001b[39;00m\n\u001b[0;32m    149\u001b[0m \u001b[38;5;28;01mtry\u001b[39;00m:\n\u001b[1;32m--> 150\u001b[0m   \u001b[38;5;28;01mreturn\u001b[39;00m \u001b[43mfn\u001b[49m\u001b[43m(\u001b[49m\u001b[38;5;241;43m*\u001b[39;49m\u001b[43margs\u001b[49m\u001b[43m,\u001b[49m\u001b[43m \u001b[49m\u001b[38;5;241;43m*\u001b[39;49m\u001b[38;5;241;43m*\u001b[39;49m\u001b[43mkwargs\u001b[49m\u001b[43m)\u001b[49m\n\u001b[0;32m    151\u001b[0m \u001b[38;5;28;01mexcept\u001b[39;00m \u001b[38;5;167;01mException\u001b[39;00m \u001b[38;5;28;01mas\u001b[39;00m e:\n\u001b[0;32m    152\u001b[0m   filtered_tb \u001b[38;5;241m=\u001b[39m _process_traceback_frames(e\u001b[38;5;241m.\u001b[39m__traceback__)\n",
      "File \u001b[1;32mG:\\Anaconda3\\envs\\Karyotyping_Pinnacle\\lib\\site-packages\\tensorflow\\python\\eager\\polymorphic_function\\polymorphic_function.py:825\u001b[0m, in \u001b[0;36mFunction.__call__\u001b[1;34m(self, *args, **kwds)\u001b[0m\n\u001b[0;32m    822\u001b[0m compiler \u001b[38;5;241m=\u001b[39m \u001b[38;5;124m\"\u001b[39m\u001b[38;5;124mxla\u001b[39m\u001b[38;5;124m\"\u001b[39m \u001b[38;5;28;01mif\u001b[39;00m \u001b[38;5;28mself\u001b[39m\u001b[38;5;241m.\u001b[39m_jit_compile \u001b[38;5;28;01melse\u001b[39;00m \u001b[38;5;124m\"\u001b[39m\u001b[38;5;124mnonXla\u001b[39m\u001b[38;5;124m\"\u001b[39m\n\u001b[0;32m    824\u001b[0m \u001b[38;5;28;01mwith\u001b[39;00m OptionalXlaContext(\u001b[38;5;28mself\u001b[39m\u001b[38;5;241m.\u001b[39m_jit_compile):\n\u001b[1;32m--> 825\u001b[0m   result \u001b[38;5;241m=\u001b[39m \u001b[38;5;28;43mself\u001b[39;49m\u001b[38;5;241;43m.\u001b[39;49m\u001b[43m_call\u001b[49m\u001b[43m(\u001b[49m\u001b[38;5;241;43m*\u001b[39;49m\u001b[43margs\u001b[49m\u001b[43m,\u001b[49m\u001b[43m \u001b[49m\u001b[38;5;241;43m*\u001b[39;49m\u001b[38;5;241;43m*\u001b[39;49m\u001b[43mkwds\u001b[49m\u001b[43m)\u001b[49m\n\u001b[0;32m    827\u001b[0m new_tracing_count \u001b[38;5;241m=\u001b[39m \u001b[38;5;28mself\u001b[39m\u001b[38;5;241m.\u001b[39mexperimental_get_tracing_count()\n\u001b[0;32m    828\u001b[0m without_tracing \u001b[38;5;241m=\u001b[39m (tracing_count \u001b[38;5;241m==\u001b[39m new_tracing_count)\n",
      "File \u001b[1;32mG:\\Anaconda3\\envs\\Karyotyping_Pinnacle\\lib\\site-packages\\tensorflow\\python\\eager\\polymorphic_function\\polymorphic_function.py:857\u001b[0m, in \u001b[0;36mFunction._call\u001b[1;34m(self, *args, **kwds)\u001b[0m\n\u001b[0;32m    854\u001b[0m   \u001b[38;5;28mself\u001b[39m\u001b[38;5;241m.\u001b[39m_lock\u001b[38;5;241m.\u001b[39mrelease()\n\u001b[0;32m    855\u001b[0m   \u001b[38;5;66;03m# In this case we have created variables on the first call, so we run the\u001b[39;00m\n\u001b[0;32m    856\u001b[0m   \u001b[38;5;66;03m# defunned version which is guaranteed to never create variables.\u001b[39;00m\n\u001b[1;32m--> 857\u001b[0m   \u001b[38;5;28;01mreturn\u001b[39;00m \u001b[38;5;28;43mself\u001b[39;49m\u001b[38;5;241;43m.\u001b[39;49m\u001b[43m_no_variable_creation_fn\u001b[49m\u001b[43m(\u001b[49m\u001b[38;5;241;43m*\u001b[39;49m\u001b[43margs\u001b[49m\u001b[43m,\u001b[49m\u001b[43m \u001b[49m\u001b[38;5;241;43m*\u001b[39;49m\u001b[38;5;241;43m*\u001b[39;49m\u001b[43mkwds\u001b[49m\u001b[43m)\u001b[49m  \u001b[38;5;66;03m# pylint: disable=not-callable\u001b[39;00m\n\u001b[0;32m    858\u001b[0m \u001b[38;5;28;01melif\u001b[39;00m \u001b[38;5;28mself\u001b[39m\u001b[38;5;241m.\u001b[39m_variable_creation_fn \u001b[38;5;129;01mis\u001b[39;00m \u001b[38;5;129;01mnot\u001b[39;00m \u001b[38;5;28;01mNone\u001b[39;00m:\n\u001b[0;32m    859\u001b[0m   \u001b[38;5;66;03m# Release the lock early so that multiple threads can perform the call\u001b[39;00m\n\u001b[0;32m    860\u001b[0m   \u001b[38;5;66;03m# in parallel.\u001b[39;00m\n\u001b[0;32m    861\u001b[0m   \u001b[38;5;28mself\u001b[39m\u001b[38;5;241m.\u001b[39m_lock\u001b[38;5;241m.\u001b[39mrelease()\n",
      "File \u001b[1;32mG:\\Anaconda3\\envs\\Karyotyping_Pinnacle\\lib\\site-packages\\tensorflow\\python\\eager\\polymorphic_function\\tracing_compiler.py:148\u001b[0m, in \u001b[0;36mTracingCompiler.__call__\u001b[1;34m(self, *args, **kwargs)\u001b[0m\n\u001b[0;32m    145\u001b[0m \u001b[38;5;28;01mwith\u001b[39;00m \u001b[38;5;28mself\u001b[39m\u001b[38;5;241m.\u001b[39m_lock:\n\u001b[0;32m    146\u001b[0m   (concrete_function,\n\u001b[0;32m    147\u001b[0m    filtered_flat_args) \u001b[38;5;241m=\u001b[39m \u001b[38;5;28mself\u001b[39m\u001b[38;5;241m.\u001b[39m_maybe_define_function(args, kwargs)\n\u001b[1;32m--> 148\u001b[0m \u001b[38;5;28;01mreturn\u001b[39;00m \u001b[43mconcrete_function\u001b[49m\u001b[38;5;241;43m.\u001b[39;49m\u001b[43m_call_flat\u001b[49m\u001b[43m(\u001b[49m\n\u001b[0;32m    149\u001b[0m \u001b[43m    \u001b[49m\u001b[43mfiltered_flat_args\u001b[49m\u001b[43m,\u001b[49m\u001b[43m \u001b[49m\u001b[43mcaptured_inputs\u001b[49m\u001b[38;5;241;43m=\u001b[39;49m\u001b[43mconcrete_function\u001b[49m\u001b[38;5;241;43m.\u001b[39;49m\u001b[43mcaptured_inputs\u001b[49m\u001b[43m)\u001b[49m\n",
      "File \u001b[1;32mG:\\Anaconda3\\envs\\Karyotyping_Pinnacle\\lib\\site-packages\\tensorflow\\python\\eager\\polymorphic_function\\monomorphic_function.py:1349\u001b[0m, in \u001b[0;36mConcreteFunction._call_flat\u001b[1;34m(self, args, captured_inputs)\u001b[0m\n\u001b[0;32m   1345\u001b[0m possible_gradient_type \u001b[38;5;241m=\u001b[39m gradients_util\u001b[38;5;241m.\u001b[39mPossibleTapeGradientTypes(args)\n\u001b[0;32m   1346\u001b[0m \u001b[38;5;28;01mif\u001b[39;00m (possible_gradient_type \u001b[38;5;241m==\u001b[39m gradients_util\u001b[38;5;241m.\u001b[39mPOSSIBLE_GRADIENT_TYPES_NONE\n\u001b[0;32m   1347\u001b[0m     \u001b[38;5;129;01mand\u001b[39;00m executing_eagerly):\n\u001b[0;32m   1348\u001b[0m   \u001b[38;5;66;03m# No tape is watching; skip to running the function.\u001b[39;00m\n\u001b[1;32m-> 1349\u001b[0m   \u001b[38;5;28;01mreturn\u001b[39;00m \u001b[38;5;28mself\u001b[39m\u001b[38;5;241m.\u001b[39m_build_call_outputs(\u001b[38;5;28;43mself\u001b[39;49m\u001b[38;5;241;43m.\u001b[39;49m\u001b[43m_inference_function\u001b[49m\u001b[43m(\u001b[49m\u001b[38;5;241;43m*\u001b[39;49m\u001b[43margs\u001b[49m\u001b[43m)\u001b[49m)\n\u001b[0;32m   1350\u001b[0m forward_backward \u001b[38;5;241m=\u001b[39m \u001b[38;5;28mself\u001b[39m\u001b[38;5;241m.\u001b[39m_select_forward_and_backward_functions(\n\u001b[0;32m   1351\u001b[0m     args,\n\u001b[0;32m   1352\u001b[0m     possible_gradient_type,\n\u001b[0;32m   1353\u001b[0m     executing_eagerly)\n\u001b[0;32m   1354\u001b[0m forward_function, args_with_tangents \u001b[38;5;241m=\u001b[39m forward_backward\u001b[38;5;241m.\u001b[39mforward()\n",
      "File \u001b[1;32mG:\\Anaconda3\\envs\\Karyotyping_Pinnacle\\lib\\site-packages\\tensorflow\\python\\eager\\polymorphic_function\\atomic_function.py:196\u001b[0m, in \u001b[0;36mAtomicFunction.__call__\u001b[1;34m(self, *args)\u001b[0m\n\u001b[0;32m    194\u001b[0m \u001b[38;5;28;01mwith\u001b[39;00m record\u001b[38;5;241m.\u001b[39mstop_recording():\n\u001b[0;32m    195\u001b[0m   \u001b[38;5;28;01mif\u001b[39;00m \u001b[38;5;28mself\u001b[39m\u001b[38;5;241m.\u001b[39m_bound_context\u001b[38;5;241m.\u001b[39mexecuting_eagerly():\n\u001b[1;32m--> 196\u001b[0m     outputs \u001b[38;5;241m=\u001b[39m \u001b[38;5;28;43mself\u001b[39;49m\u001b[38;5;241;43m.\u001b[39;49m\u001b[43m_bound_context\u001b[49m\u001b[38;5;241;43m.\u001b[39;49m\u001b[43mcall_function\u001b[49m\u001b[43m(\u001b[49m\n\u001b[0;32m    197\u001b[0m \u001b[43m        \u001b[49m\u001b[38;5;28;43mself\u001b[39;49m\u001b[38;5;241;43m.\u001b[39;49m\u001b[43mname\u001b[49m\u001b[43m,\u001b[49m\n\u001b[0;32m    198\u001b[0m \u001b[43m        \u001b[49m\u001b[38;5;28;43mlist\u001b[39;49m\u001b[43m(\u001b[49m\u001b[43margs\u001b[49m\u001b[43m)\u001b[49m\u001b[43m,\u001b[49m\n\u001b[0;32m    199\u001b[0m \u001b[43m        \u001b[49m\u001b[38;5;28;43mlen\u001b[39;49m\u001b[43m(\u001b[49m\u001b[38;5;28;43mself\u001b[39;49m\u001b[38;5;241;43m.\u001b[39;49m\u001b[43mfunction_type\u001b[49m\u001b[38;5;241;43m.\u001b[39;49m\u001b[43mflat_outputs\u001b[49m\u001b[43m)\u001b[49m\u001b[43m,\u001b[49m\n\u001b[0;32m    200\u001b[0m \u001b[43m    \u001b[49m\u001b[43m)\u001b[49m\n\u001b[0;32m    201\u001b[0m   \u001b[38;5;28;01melse\u001b[39;00m:\n\u001b[0;32m    202\u001b[0m     outputs \u001b[38;5;241m=\u001b[39m make_call_op_in_graph(\u001b[38;5;28mself\u001b[39m, \u001b[38;5;28mlist\u001b[39m(args))\n",
      "File \u001b[1;32mG:\\Anaconda3\\envs\\Karyotyping_Pinnacle\\lib\\site-packages\\tensorflow\\python\\eager\\context.py:1457\u001b[0m, in \u001b[0;36mContext.call_function\u001b[1;34m(self, name, tensor_inputs, num_outputs)\u001b[0m\n\u001b[0;32m   1455\u001b[0m cancellation_context \u001b[38;5;241m=\u001b[39m cancellation\u001b[38;5;241m.\u001b[39mcontext()\n\u001b[0;32m   1456\u001b[0m \u001b[38;5;28;01mif\u001b[39;00m cancellation_context \u001b[38;5;129;01mis\u001b[39;00m \u001b[38;5;28;01mNone\u001b[39;00m:\n\u001b[1;32m-> 1457\u001b[0m   outputs \u001b[38;5;241m=\u001b[39m \u001b[43mexecute\u001b[49m\u001b[38;5;241;43m.\u001b[39;49m\u001b[43mexecute\u001b[49m\u001b[43m(\u001b[49m\n\u001b[0;32m   1458\u001b[0m \u001b[43m      \u001b[49m\u001b[43mname\u001b[49m\u001b[38;5;241;43m.\u001b[39;49m\u001b[43mdecode\u001b[49m\u001b[43m(\u001b[49m\u001b[38;5;124;43m\"\u001b[39;49m\u001b[38;5;124;43mutf-8\u001b[39;49m\u001b[38;5;124;43m\"\u001b[39;49m\u001b[43m)\u001b[49m\u001b[43m,\u001b[49m\n\u001b[0;32m   1459\u001b[0m \u001b[43m      \u001b[49m\u001b[43mnum_outputs\u001b[49m\u001b[38;5;241;43m=\u001b[39;49m\u001b[43mnum_outputs\u001b[49m\u001b[43m,\u001b[49m\n\u001b[0;32m   1460\u001b[0m \u001b[43m      \u001b[49m\u001b[43minputs\u001b[49m\u001b[38;5;241;43m=\u001b[39;49m\u001b[43mtensor_inputs\u001b[49m\u001b[43m,\u001b[49m\n\u001b[0;32m   1461\u001b[0m \u001b[43m      \u001b[49m\u001b[43mattrs\u001b[49m\u001b[38;5;241;43m=\u001b[39;49m\u001b[43mattrs\u001b[49m\u001b[43m,\u001b[49m\n\u001b[0;32m   1462\u001b[0m \u001b[43m      \u001b[49m\u001b[43mctx\u001b[49m\u001b[38;5;241;43m=\u001b[39;49m\u001b[38;5;28;43mself\u001b[39;49m\u001b[43m,\u001b[49m\n\u001b[0;32m   1463\u001b[0m \u001b[43m  \u001b[49m\u001b[43m)\u001b[49m\n\u001b[0;32m   1464\u001b[0m \u001b[38;5;28;01melse\u001b[39;00m:\n\u001b[0;32m   1465\u001b[0m   outputs \u001b[38;5;241m=\u001b[39m execute\u001b[38;5;241m.\u001b[39mexecute_with_cancellation(\n\u001b[0;32m   1466\u001b[0m       name\u001b[38;5;241m.\u001b[39mdecode(\u001b[38;5;124m\"\u001b[39m\u001b[38;5;124mutf-8\u001b[39m\u001b[38;5;124m\"\u001b[39m),\n\u001b[0;32m   1467\u001b[0m       num_outputs\u001b[38;5;241m=\u001b[39mnum_outputs,\n\u001b[1;32m   (...)\u001b[0m\n\u001b[0;32m   1471\u001b[0m       cancellation_manager\u001b[38;5;241m=\u001b[39mcancellation_context,\n\u001b[0;32m   1472\u001b[0m   )\n",
      "File \u001b[1;32mG:\\Anaconda3\\envs\\Karyotyping_Pinnacle\\lib\\site-packages\\tensorflow\\python\\eager\\execute.py:53\u001b[0m, in \u001b[0;36mquick_execute\u001b[1;34m(op_name, num_outputs, inputs, attrs, ctx, name)\u001b[0m\n\u001b[0;32m     51\u001b[0m \u001b[38;5;28;01mtry\u001b[39;00m:\n\u001b[0;32m     52\u001b[0m   ctx\u001b[38;5;241m.\u001b[39mensure_initialized()\n\u001b[1;32m---> 53\u001b[0m   tensors \u001b[38;5;241m=\u001b[39m \u001b[43mpywrap_tfe\u001b[49m\u001b[38;5;241;43m.\u001b[39;49m\u001b[43mTFE_Py_Execute\u001b[49m\u001b[43m(\u001b[49m\u001b[43mctx\u001b[49m\u001b[38;5;241;43m.\u001b[39;49m\u001b[43m_handle\u001b[49m\u001b[43m,\u001b[49m\u001b[43m \u001b[49m\u001b[43mdevice_name\u001b[49m\u001b[43m,\u001b[49m\u001b[43m \u001b[49m\u001b[43mop_name\u001b[49m\u001b[43m,\u001b[49m\n\u001b[0;32m     54\u001b[0m \u001b[43m                                      \u001b[49m\u001b[43minputs\u001b[49m\u001b[43m,\u001b[49m\u001b[43m \u001b[49m\u001b[43mattrs\u001b[49m\u001b[43m,\u001b[49m\u001b[43m \u001b[49m\u001b[43mnum_outputs\u001b[49m\u001b[43m)\u001b[49m\n\u001b[0;32m     55\u001b[0m \u001b[38;5;28;01mexcept\u001b[39;00m core\u001b[38;5;241m.\u001b[39m_NotOkStatusException \u001b[38;5;28;01mas\u001b[39;00m e:\n\u001b[0;32m     56\u001b[0m   \u001b[38;5;28;01mif\u001b[39;00m name \u001b[38;5;129;01mis\u001b[39;00m \u001b[38;5;129;01mnot\u001b[39;00m \u001b[38;5;28;01mNone\u001b[39;00m:\n",
      "\u001b[1;31mKeyboardInterrupt\u001b[0m: "
     ]
    },
    {
     "name": "stdout",
     "output_type": "stream",
     "text": [
      "Epoch 226/500\n",
      "6/6 [==============================] - 1s 112ms/step - loss: 6.1637e-07 - accuracy: 1.0000 - val_loss: 1.2592 - val_accuracy: 0.9425\n",
      "Epoch 227/500\n",
      "6/6 [==============================] - 1s 115ms/step - loss: 6.1120e-07 - accuracy: 1.0000 - val_loss: 1.2602 - val_accuracy: 0.9425\n",
      "Epoch 228/500\n",
      "6/6 [==============================] - 1s 110ms/step - loss: 6.0362e-07 - accuracy: 1.0000 - val_loss: 1.2610 - val_accuracy: 0.9425\n",
      "Epoch 229/500\n",
      "6/6 [==============================] - 1s 114ms/step - loss: 5.9811e-07 - accuracy: 1.0000 - val_loss: 1.2618 - val_accuracy: 0.9425\n",
      "Epoch 230/500\n",
      "6/6 [==============================] - 1s 110ms/step - loss: 5.9122e-07 - accuracy: 1.0000 - val_loss: 1.2626 - val_accuracy: 0.9425\n",
      "Epoch 231/500\n",
      "6/6 [==============================] - 1s 112ms/step - loss: 5.8605e-07 - accuracy: 1.0000 - val_loss: 1.2634 - val_accuracy: 0.9425\n",
      "Epoch 232/500\n",
      "6/6 [==============================] - 1s 112ms/step - loss: 5.8054e-07 - accuracy: 1.0000 - val_loss: 1.2642 - val_accuracy: 0.9425\n",
      "Epoch 233/500\n",
      "6/6 [==============================] - 1s 114ms/step - loss: 5.7365e-07 - accuracy: 1.0000 - val_loss: 1.2650 - val_accuracy: 0.9425\n",
      "Epoch 234/500\n",
      "6/6 [==============================] - 1s 113ms/step - loss: 5.6917e-07 - accuracy: 1.0000 - val_loss: 1.2659 - val_accuracy: 0.9425\n",
      "Epoch 235/500\n",
      "6/6 [==============================] - 1s 114ms/step - loss: 5.6331e-07 - accuracy: 1.0000 - val_loss: 1.2668 - val_accuracy: 0.9425\n",
      "Epoch 236/500\n",
      "6/6 [==============================] - 1s 112ms/step - loss: 5.5504e-07 - accuracy: 1.0000 - val_loss: 1.2677 - val_accuracy: 0.9425\n",
      "Epoch 237/500\n",
      "6/6 [==============================] - 1s 112ms/step - loss: 5.5022e-07 - accuracy: 1.0000 - val_loss: 1.2687 - val_accuracy: 0.9425\n",
      "Epoch 238/500\n",
      "6/6 [==============================] - 1s 252ms/step - loss: 5.4471e-07 - accuracy: 1.0000 - val_loss: 1.2697 - val_accuracy: 0.9425\n",
      "Epoch 239/500\n",
      "6/6 [==============================] - 1s 113ms/step - loss: 5.4023e-07 - accuracy: 1.0000 - val_loss: 1.2707 - val_accuracy: 0.9425\n",
      "Epoch 240/500\n",
      "6/6 [==============================] - 1s 114ms/step - loss: 5.3437e-07 - accuracy: 1.0000 - val_loss: 1.2715 - val_accuracy: 0.9425\n",
      "Epoch 241/500\n",
      "6/6 [==============================] - 1s 110ms/step - loss: 5.2851e-07 - accuracy: 1.0000 - val_loss: 1.2724 - val_accuracy: 0.9425\n",
      "Epoch 242/500\n",
      "6/6 [==============================] - 1s 115ms/step - loss: 5.2472e-07 - accuracy: 1.0000 - val_loss: 1.2733 - val_accuracy: 0.9425\n",
      "Epoch 243/500\n",
      "6/6 [==============================] - 1s 114ms/step - loss: 5.1887e-07 - accuracy: 1.0000 - val_loss: 1.2742 - val_accuracy: 0.9425\n",
      "Epoch 244/500\n",
      "6/6 [==============================] - 1s 111ms/step - loss: 5.1370e-07 - accuracy: 1.0000 - val_loss: 1.2750 - val_accuracy: 0.9425\n",
      "Epoch 245/500\n",
      "6/6 [==============================] - 1s 112ms/step - loss: 5.0922e-07 - accuracy: 1.0000 - val_loss: 1.2759 - val_accuracy: 0.9425\n",
      "Epoch 246/500\n",
      "6/6 [==============================] - 1s 117ms/step - loss: 5.0612e-07 - accuracy: 1.0000 - val_loss: 1.2768 - val_accuracy: 0.9425\n",
      "Epoch 247/500\n",
      "6/6 [==============================] - 1s 114ms/step - loss: 4.9992e-07 - accuracy: 1.0000 - val_loss: 1.2777 - val_accuracy: 0.9425\n",
      "Epoch 248/500\n",
      "6/6 [==============================] - 1s 111ms/step - loss: 4.9578e-07 - accuracy: 1.0000 - val_loss: 1.2786 - val_accuracy: 0.9425\n",
      "Epoch 249/500\n",
      "6/6 [==============================] - 1s 112ms/step - loss: 4.8889e-07 - accuracy: 1.0000 - val_loss: 1.2794 - val_accuracy: 0.9425\n",
      "Epoch 250/500\n",
      "6/6 [==============================] - 1s 109ms/step - loss: 4.8579e-07 - accuracy: 1.0000 - val_loss: 1.2803 - val_accuracy: 0.9425\n",
      "Epoch 251/500\n",
      "6/6 [==============================] - 2s 292ms/step - loss: 4.7994e-07 - accuracy: 1.0000 - val_loss: 1.2812 - val_accuracy: 0.9425\n",
      "Epoch 252/500\n",
      "6/6 [==============================] - 1s 110ms/step - loss: 4.7511e-07 - accuracy: 1.0000 - val_loss: 1.2821 - val_accuracy: 0.9425\n",
      "Epoch 253/500\n",
      "6/6 [==============================] - 1s 114ms/step - loss: 4.7029e-07 - accuracy: 1.0000 - val_loss: 1.2831 - val_accuracy: 0.9425\n",
      "Epoch 254/500\n",
      "6/6 [==============================] - 1s 114ms/step - loss: 4.6512e-07 - accuracy: 1.0000 - val_loss: 1.2840 - val_accuracy: 0.9425\n",
      "Epoch 255/500\n",
      "6/6 [==============================] - 1s 114ms/step - loss: 4.5961e-07 - accuracy: 1.0000 - val_loss: 1.2848 - val_accuracy: 0.9425\n",
      "Epoch 256/500\n",
      "6/6 [==============================] - 1s 115ms/step - loss: 4.5720e-07 - accuracy: 1.0000 - val_loss: 1.2857 - val_accuracy: 0.9425\n",
      "Epoch 257/500\n",
      "6/6 [==============================] - 1s 113ms/step - loss: 4.5134e-07 - accuracy: 1.0000 - val_loss: 1.2866 - val_accuracy: 0.9425\n",
      "Epoch 258/500\n",
      "6/6 [==============================] - 1s 110ms/step - loss: 4.4720e-07 - accuracy: 1.0000 - val_loss: 1.2874 - val_accuracy: 0.9425\n",
      "Epoch 259/500\n",
      "6/6 [==============================] - 1s 113ms/step - loss: 4.4341e-07 - accuracy: 1.0000 - val_loss: 1.2883 - val_accuracy: 0.9425\n",
      "Epoch 260/500\n",
      "6/6 [==============================] - 1s 113ms/step - loss: 4.3894e-07 - accuracy: 1.0000 - val_loss: 1.2891 - val_accuracy: 0.9425\n",
      "Epoch 261/500\n",
      "6/6 [==============================] - 1s 113ms/step - loss: 4.3411e-07 - accuracy: 1.0000 - val_loss: 1.2900 - val_accuracy: 0.9425\n",
      "Epoch 262/500\n",
      "6/6 [==============================] - 1s 108ms/step - loss: 4.2998e-07 - accuracy: 1.0000 - val_loss: 1.2909 - val_accuracy: 0.9425\n",
      "Epoch 263/500\n",
      "6/6 [==============================] - 1s 113ms/step - loss: 4.2619e-07 - accuracy: 1.0000 - val_loss: 1.2917 - val_accuracy: 0.9425\n",
      "Epoch 264/500\n",
      "6/6 [==============================] - 1s 110ms/step - loss: 4.2171e-07 - accuracy: 1.0000 - val_loss: 1.2925 - val_accuracy: 0.9425\n",
      "Epoch 265/500\n",
      "6/6 [==============================] - 1s 110ms/step - loss: 4.1792e-07 - accuracy: 1.0000 - val_loss: 1.2934 - val_accuracy: 0.9425\n",
      "Epoch 266/500\n",
      "6/6 [==============================] - 1s 115ms/step - loss: 4.1447e-07 - accuracy: 1.0000 - val_loss: 1.2942 - val_accuracy: 0.9425\n",
      "Epoch 267/500\n",
      "6/6 [==============================] - 1s 110ms/step - loss: 4.1000e-07 - accuracy: 1.0000 - val_loss: 1.2951 - val_accuracy: 0.9425\n",
      "Epoch 268/500\n",
      "6/6 [==============================] - 1s 113ms/step - loss: 4.0655e-07 - accuracy: 1.0000 - val_loss: 1.2959 - val_accuracy: 0.9425\n",
      "Epoch 269/500\n",
      "6/6 [==============================] - 1s 113ms/step - loss: 4.0207e-07 - accuracy: 1.0000 - val_loss: 1.2968 - val_accuracy: 0.9425\n",
      "Epoch 270/500\n",
      "6/6 [==============================] - 1s 116ms/step - loss: 3.9759e-07 - accuracy: 1.0000 - val_loss: 1.2977 - val_accuracy: 0.9425\n",
      "Epoch 271/500\n",
      "6/6 [==============================] - 1s 114ms/step - loss: 3.9518e-07 - accuracy: 1.0000 - val_loss: 1.2986 - val_accuracy: 0.9425\n",
      "Epoch 272/500\n",
      "6/6 [==============================] - 1s 114ms/step - loss: 3.9070e-07 - accuracy: 1.0000 - val_loss: 1.2995 - val_accuracy: 0.9425\n",
      "Epoch 273/500\n",
      "6/6 [==============================] - 1s 109ms/step - loss: 3.8760e-07 - accuracy: 1.0000 - val_loss: 1.3004 - val_accuracy: 0.9425\n",
      "Epoch 274/500\n",
      "6/6 [==============================] - 1s 114ms/step - loss: 3.8347e-07 - accuracy: 1.0000 - val_loss: 1.3014 - val_accuracy: 0.9425\n",
      "Epoch 275/500\n",
      "6/6 [==============================] - 1s 125ms/step - loss: 3.7933e-07 - accuracy: 1.0000 - val_loss: 1.3023 - val_accuracy: 0.9425\n",
      "Epoch 276/500\n",
      "6/6 [==============================] - 1s 114ms/step - loss: 3.7623e-07 - accuracy: 1.0000 - val_loss: 1.3032 - val_accuracy: 0.9425\n",
      "Epoch 277/500\n",
      "6/6 [==============================] - 1s 112ms/step - loss: 3.7382e-07 - accuracy: 1.0000 - val_loss: 1.3041 - val_accuracy: 0.9425\n",
      "Epoch 278/500\n",
      "6/6 [==============================] - 1s 114ms/step - loss: 3.7141e-07 - accuracy: 1.0000 - val_loss: 1.3049 - val_accuracy: 0.9425\n",
      "Epoch 279/500\n",
      "6/6 [==============================] - 1s 111ms/step - loss: 3.6900e-07 - accuracy: 1.0000 - val_loss: 1.3056 - val_accuracy: 0.9425\n",
      "Epoch 280/500\n",
      "6/6 [==============================] - 1s 115ms/step - loss: 3.6452e-07 - accuracy: 1.0000 - val_loss: 1.3063 - val_accuracy: 0.9425\n",
      "Epoch 281/500\n",
      "6/6 [==============================] - 1s 112ms/step - loss: 3.6038e-07 - accuracy: 1.0000 - val_loss: 1.3070 - val_accuracy: 0.9425\n"
     ]
    },
    {
     "name": "stdout",
     "output_type": "stream",
     "text": [
      "Epoch 282/500\n",
      "6/6 [==============================] - 1s 113ms/step - loss: 3.5866e-07 - accuracy: 1.0000 - val_loss: 1.3077 - val_accuracy: 0.9425\n",
      "Epoch 283/500\n",
      "6/6 [==============================] - 1s 114ms/step - loss: 3.5590e-07 - accuracy: 1.0000 - val_loss: 1.3086 - val_accuracy: 0.9425\n",
      "Epoch 284/500\n",
      "6/6 [==============================] - 1s 110ms/step - loss: 3.5074e-07 - accuracy: 1.0000 - val_loss: 1.3094 - val_accuracy: 0.9425\n",
      "Epoch 285/500\n",
      "6/6 [==============================] - 1s 111ms/step - loss: 3.4557e-07 - accuracy: 1.0000 - val_loss: 1.3102 - val_accuracy: 0.9425\n",
      "Epoch 286/500\n",
      "6/6 [==============================] - 1s 111ms/step - loss: 3.4316e-07 - accuracy: 1.0000 - val_loss: 1.3110 - val_accuracy: 0.9425\n",
      "Epoch 287/500\n",
      "6/6 [==============================] - 1s 113ms/step - loss: 3.3937e-07 - accuracy: 1.0000 - val_loss: 1.3117 - val_accuracy: 0.9425\n",
      "Epoch 288/500\n",
      "6/6 [==============================] - 1s 110ms/step - loss: 3.3592e-07 - accuracy: 1.0000 - val_loss: 1.3125 - val_accuracy: 0.9425\n",
      "Epoch 289/500\n",
      "6/6 [==============================] - 2s 450ms/step - loss: 3.3385e-07 - accuracy: 1.0000 - val_loss: 1.3133 - val_accuracy: 0.9425\n",
      "Epoch 290/500\n",
      "6/6 [==============================] - 1s 116ms/step - loss: 3.3110e-07 - accuracy: 1.0000 - val_loss: 1.3142 - val_accuracy: 0.9425\n",
      "Epoch 291/500\n",
      "6/6 [==============================] - 1s 110ms/step - loss: 3.2800e-07 - accuracy: 1.0000 - val_loss: 1.3150 - val_accuracy: 0.9425\n",
      "Epoch 292/500\n",
      "6/6 [==============================] - 1s 112ms/step - loss: 3.2524e-07 - accuracy: 1.0000 - val_loss: 1.3157 - val_accuracy: 0.9425\n",
      "Epoch 293/500\n",
      "6/6 [==============================] - 1s 115ms/step - loss: 3.2352e-07 - accuracy: 1.0000 - val_loss: 1.3164 - val_accuracy: 0.9425\n",
      "Epoch 294/500\n",
      "6/6 [==============================] - 1s 113ms/step - loss: 3.2076e-07 - accuracy: 1.0000 - val_loss: 1.3171 - val_accuracy: 0.9425\n",
      "Epoch 295/500\n",
      "6/6 [==============================] - 1s 116ms/step - loss: 3.1559e-07 - accuracy: 1.0000 - val_loss: 1.3178 - val_accuracy: 0.9425\n",
      "Epoch 296/500\n",
      "6/6 [==============================] - 1s 112ms/step - loss: 3.1387e-07 - accuracy: 1.0000 - val_loss: 1.3186 - val_accuracy: 0.9425\n",
      "Epoch 297/500\n",
      "6/6 [==============================] - 1s 114ms/step - loss: 3.1249e-07 - accuracy: 1.0000 - val_loss: 1.3193 - val_accuracy: 0.9425\n",
      "Epoch 298/500\n",
      "6/6 [==============================] - 1s 113ms/step - loss: 3.0939e-07 - accuracy: 1.0000 - val_loss: 1.3199 - val_accuracy: 0.9425\n",
      "Epoch 299/500\n",
      "6/6 [==============================] - 1s 111ms/step - loss: 3.0836e-07 - accuracy: 1.0000 - val_loss: 1.3206 - val_accuracy: 0.9425\n",
      "Epoch 300/500\n",
      "6/6 [==============================] - 1s 115ms/step - loss: 3.0595e-07 - accuracy: 1.0000 - val_loss: 1.3212 - val_accuracy: 0.9425\n",
      "Epoch 301/500\n",
      "6/6 [==============================] - 1s 113ms/step - loss: 3.0319e-07 - accuracy: 1.0000 - val_loss: 1.3219 - val_accuracy: 0.9425\n",
      "Epoch 302/500\n",
      "6/6 [==============================] - 1s 111ms/step - loss: 3.0009e-07 - accuracy: 1.0000 - val_loss: 1.3227 - val_accuracy: 0.9425\n",
      "Epoch 303/500\n",
      "6/6 [==============================] - 1s 113ms/step - loss: 2.9802e-07 - accuracy: 1.0000 - val_loss: 1.3234 - val_accuracy: 0.9425\n",
      "Epoch 304/500\n",
      "6/6 [==============================] - 1s 111ms/step - loss: 2.9561e-07 - accuracy: 1.0000 - val_loss: 1.3241 - val_accuracy: 0.9425\n",
      "Epoch 305/500\n",
      "6/6 [==============================] - 1s 112ms/step - loss: 2.9251e-07 - accuracy: 1.0000 - val_loss: 1.3249 - val_accuracy: 0.9425\n",
      "Epoch 306/500\n",
      "6/6 [==============================] - 1s 116ms/step - loss: 2.9079e-07 - accuracy: 1.0000 - val_loss: 1.3257 - val_accuracy: 0.9425\n",
      "Epoch 307/500\n",
      "6/6 [==============================] - 1s 113ms/step - loss: 2.8838e-07 - accuracy: 1.0000 - val_loss: 1.3265 - val_accuracy: 0.9425\n",
      "Epoch 308/500\n",
      "6/6 [==============================] - 1s 112ms/step - loss: 2.8459e-07 - accuracy: 1.0000 - val_loss: 1.3272 - val_accuracy: 0.9425\n",
      "Epoch 309/500\n",
      "6/6 [==============================] - 1s 112ms/step - loss: 2.8355e-07 - accuracy: 1.0000 - val_loss: 1.3280 - val_accuracy: 0.9425\n",
      "Epoch 310/500\n",
      "6/6 [==============================] - 1s 112ms/step - loss: 2.8080e-07 - accuracy: 1.0000 - val_loss: 1.3288 - val_accuracy: 0.9425\n",
      "Epoch 311/500\n",
      "6/6 [==============================] - 1s 110ms/step - loss: 2.7838e-07 - accuracy: 1.0000 - val_loss: 1.3295 - val_accuracy: 0.9425\n",
      "Epoch 312/500\n",
      "6/6 [==============================] - 1s 114ms/step - loss: 2.7528e-07 - accuracy: 1.0000 - val_loss: 1.3302 - val_accuracy: 0.9425\n",
      "Epoch 313/500\n",
      "6/6 [==============================] - 1s 112ms/step - loss: 2.7322e-07 - accuracy: 1.0000 - val_loss: 1.3311 - val_accuracy: 0.9425\n",
      "Epoch 314/500\n",
      "6/6 [==============================] - 1s 112ms/step - loss: 2.7115e-07 - accuracy: 1.0000 - val_loss: 1.3319 - val_accuracy: 0.9425\n",
      "Epoch 315/500\n",
      "6/6 [==============================] - 1s 113ms/step - loss: 2.6874e-07 - accuracy: 1.0000 - val_loss: 1.3326 - val_accuracy: 0.9425\n",
      "Epoch 316/500\n",
      "6/6 [==============================] - 1s 109ms/step - loss: 2.6667e-07 - accuracy: 1.0000 - val_loss: 1.3333 - val_accuracy: 0.9425\n",
      "Epoch 317/500\n",
      "6/6 [==============================] - 1s 114ms/step - loss: 2.6529e-07 - accuracy: 1.0000 - val_loss: 1.3340 - val_accuracy: 0.9425\n",
      "Epoch 318/500\n",
      "6/6 [==============================] - 1s 118ms/step - loss: 2.6357e-07 - accuracy: 1.0000 - val_loss: 1.3347 - val_accuracy: 0.9425\n",
      "Epoch 319/500\n",
      "6/6 [==============================] - 1s 116ms/step - loss: 2.6116e-07 - accuracy: 1.0000 - val_loss: 1.3353 - val_accuracy: 0.9425\n",
      "Epoch 320/500\n",
      "6/6 [==============================] - 1s 110ms/step - loss: 2.5840e-07 - accuracy: 1.0000 - val_loss: 1.3360 - val_accuracy: 0.9425\n",
      "Epoch 321/500\n",
      "6/6 [==============================] - 1s 113ms/step - loss: 2.5633e-07 - accuracy: 1.0000 - val_loss: 1.3368 - val_accuracy: 0.9425\n",
      "Epoch 322/500\n",
      "6/6 [==============================] - 1s 114ms/step - loss: 2.5530e-07 - accuracy: 1.0000 - val_loss: 1.3376 - val_accuracy: 0.9425\n",
      "Epoch 323/500\n",
      "6/6 [==============================] - 2s 403ms/step - loss: 2.5358e-07 - accuracy: 1.0000 - val_loss: 1.3383 - val_accuracy: 0.9425\n",
      "Epoch 324/500\n",
      "6/6 [==============================] - 1s 112ms/step - loss: 2.5048e-07 - accuracy: 1.0000 - val_loss: 1.3391 - val_accuracy: 0.9425\n",
      "Epoch 325/500\n",
      "6/6 [==============================] - 1s 114ms/step - loss: 2.4703e-07 - accuracy: 1.0000 - val_loss: 1.3397 - val_accuracy: 0.9425\n",
      "Epoch 326/500\n",
      "6/6 [==============================] - 1s 112ms/step - loss: 2.4634e-07 - accuracy: 1.0000 - val_loss: 1.3404 - val_accuracy: 0.9425\n",
      "Epoch 327/500\n",
      "6/6 [==============================] - 1s 113ms/step - loss: 2.4427e-07 - accuracy: 1.0000 - val_loss: 1.3413 - val_accuracy: 0.9425\n",
      "Epoch 328/500\n",
      "6/6 [==============================] - 1s 112ms/step - loss: 2.4290e-07 - accuracy: 1.0000 - val_loss: 1.3420 - val_accuracy: 0.9425\n",
      "Epoch 329/500\n",
      "6/6 [==============================] - 1s 117ms/step - loss: 2.4083e-07 - accuracy: 1.0000 - val_loss: 1.3428 - val_accuracy: 0.9425\n",
      "Epoch 330/500\n",
      "6/6 [==============================] - 1s 109ms/step - loss: 2.3980e-07 - accuracy: 1.0000 - val_loss: 1.3436 - val_accuracy: 0.9425\n",
      "Epoch 331/500\n",
      "6/6 [==============================] - 1s 117ms/step - loss: 2.3635e-07 - accuracy: 1.0000 - val_loss: 1.3443 - val_accuracy: 0.9425\n",
      "Epoch 332/500\n",
      "6/6 [==============================] - 1s 112ms/step - loss: 2.3497e-07 - accuracy: 1.0000 - val_loss: 1.3450 - val_accuracy: 0.9425\n",
      "Epoch 333/500\n",
      "6/6 [==============================] - 1s 114ms/step - loss: 2.3428e-07 - accuracy: 1.0000 - val_loss: 1.3458 - val_accuracy: 0.9425\n",
      "Epoch 334/500\n",
      "6/6 [==============================] - 1s 112ms/step - loss: 2.3222e-07 - accuracy: 1.0000 - val_loss: 1.3465 - val_accuracy: 0.9425\n",
      "Epoch 335/500\n",
      "6/6 [==============================] - 1s 118ms/step - loss: 2.2980e-07 - accuracy: 1.0000 - val_loss: 1.3473 - val_accuracy: 0.9425\n",
      "Epoch 336/500\n",
      "6/6 [==============================] - 1s 114ms/step - loss: 2.2808e-07 - accuracy: 1.0000 - val_loss: 1.3480 - val_accuracy: 0.9425\n",
      "Epoch 337/500\n",
      "6/6 [==============================] - 1s 109ms/step - loss: 2.2705e-07 - accuracy: 1.0000 - val_loss: 1.3486 - val_accuracy: 0.9425\n"
     ]
    },
    {
     "name": "stdout",
     "output_type": "stream",
     "text": [
      "Epoch 338/500\n",
      "6/6 [==============================] - 1s 115ms/step - loss: 2.2567e-07 - accuracy: 1.0000 - val_loss: 1.3492 - val_accuracy: 0.9425\n",
      "Epoch 339/500\n",
      "6/6 [==============================] - 1s 114ms/step - loss: 2.2429e-07 - accuracy: 1.0000 - val_loss: 1.3498 - val_accuracy: 0.9425\n",
      "Epoch 340/500\n",
      "6/6 [==============================] - 1s 111ms/step - loss: 2.2188e-07 - accuracy: 1.0000 - val_loss: 1.3506 - val_accuracy: 0.9425\n",
      "Epoch 341/500\n",
      "6/6 [==============================] - 1s 111ms/step - loss: 2.2119e-07 - accuracy: 1.0000 - val_loss: 1.3513 - val_accuracy: 0.9425\n",
      "Epoch 342/500\n",
      "6/6 [==============================] - 1s 111ms/step - loss: 2.1912e-07 - accuracy: 1.0000 - val_loss: 1.3520 - val_accuracy: 0.9425\n",
      "Epoch 343/500\n",
      "6/6 [==============================] - 1s 117ms/step - loss: 2.1809e-07 - accuracy: 1.0000 - val_loss: 1.3526 - val_accuracy: 0.9425\n",
      "Epoch 344/500\n",
      "6/6 [==============================] - 1s 114ms/step - loss: 2.1671e-07 - accuracy: 1.0000 - val_loss: 1.3533 - val_accuracy: 0.9425\n",
      "Epoch 345/500\n",
      "6/6 [==============================] - 1s 113ms/step - loss: 2.1499e-07 - accuracy: 1.0000 - val_loss: 1.3540 - val_accuracy: 0.9425\n",
      "Epoch 346/500\n",
      "6/6 [==============================] - 1s 111ms/step - loss: 2.1396e-07 - accuracy: 1.0000 - val_loss: 1.3547 - val_accuracy: 0.9425\n",
      "Epoch 347/500\n",
      "6/6 [==============================] - 1s 114ms/step - loss: 2.1154e-07 - accuracy: 1.0000 - val_loss: 1.3553 - val_accuracy: 0.9425\n",
      "Epoch 348/500\n",
      "6/6 [==============================] - 1s 112ms/step - loss: 2.0810e-07 - accuracy: 1.0000 - val_loss: 1.3560 - val_accuracy: 0.9425\n",
      "Epoch 349/500\n",
      "6/6 [==============================] - 1s 114ms/step - loss: 2.0672e-07 - accuracy: 1.0000 - val_loss: 1.3569 - val_accuracy: 0.9425\n",
      "Epoch 350/500\n",
      "6/6 [==============================] - 1s 115ms/step - loss: 2.0534e-07 - accuracy: 1.0000 - val_loss: 1.3576 - val_accuracy: 0.9425\n",
      "Epoch 351/500\n",
      "6/6 [==============================] - 1s 117ms/step - loss: 2.0396e-07 - accuracy: 1.0000 - val_loss: 1.3584 - val_accuracy: 0.9425\n",
      "Epoch 352/500\n",
      "6/6 [==============================] - 1s 113ms/step - loss: 2.0224e-07 - accuracy: 1.0000 - val_loss: 1.3590 - val_accuracy: 0.9425\n",
      "Epoch 353/500\n",
      "6/6 [==============================] - 1s 111ms/step - loss: 2.0052e-07 - accuracy: 1.0000 - val_loss: 1.3597 - val_accuracy: 0.9425\n",
      "Epoch 354/500\n",
      "6/6 [==============================] - 1s 111ms/step - loss: 1.9914e-07 - accuracy: 1.0000 - val_loss: 1.3603 - val_accuracy: 0.9425\n",
      "Epoch 355/500\n",
      "6/6 [==============================] - 1s 113ms/step - loss: 1.9845e-07 - accuracy: 1.0000 - val_loss: 1.3610 - val_accuracy: 0.9425\n",
      "Epoch 356/500\n",
      "6/6 [==============================] - 1s 111ms/step - loss: 1.9742e-07 - accuracy: 1.0000 - val_loss: 1.3616 - val_accuracy: 0.9425\n",
      "Epoch 357/500\n",
      "6/6 [==============================] - 1s 111ms/step - loss: 1.9570e-07 - accuracy: 1.0000 - val_loss: 1.3623 - val_accuracy: 0.9425\n",
      "Epoch 358/500\n",
      "6/6 [==============================] - 1s 114ms/step - loss: 1.9397e-07 - accuracy: 1.0000 - val_loss: 1.3631 - val_accuracy: 0.9425\n",
      "Epoch 359/500\n",
      "6/6 [==============================] - 1s 114ms/step - loss: 1.9294e-07 - accuracy: 1.0000 - val_loss: 1.3638 - val_accuracy: 0.9425\n",
      "Epoch 360/500\n",
      "6/6 [==============================] - 1s 114ms/step - loss: 1.9191e-07 - accuracy: 1.0000 - val_loss: 1.3645 - val_accuracy: 0.9425\n",
      "Epoch 361/500\n",
      "6/6 [==============================] - 1s 115ms/step - loss: 1.9122e-07 - accuracy: 1.0000 - val_loss: 1.3651 - val_accuracy: 0.9425\n",
      "Epoch 362/500\n",
      "6/6 [==============================] - 1s 112ms/step - loss: 1.8949e-07 - accuracy: 1.0000 - val_loss: 1.3658 - val_accuracy: 0.9425\n",
      "Epoch 363/500\n",
      "6/6 [==============================] - 1s 116ms/step - loss: 1.8812e-07 - accuracy: 1.0000 - val_loss: 1.3665 - val_accuracy: 0.9425\n",
      "Epoch 364/500\n",
      "6/6 [==============================] - 1s 115ms/step - loss: 1.8708e-07 - accuracy: 1.0000 - val_loss: 1.3671 - val_accuracy: 0.9425\n",
      "Epoch 365/500\n",
      "6/6 [==============================] - 1s 114ms/step - loss: 1.8502e-07 - accuracy: 1.0000 - val_loss: 1.3678 - val_accuracy: 0.9425\n",
      "Epoch 366/500\n",
      "6/6 [==============================] - 1s 111ms/step - loss: 1.8364e-07 - accuracy: 1.0000 - val_loss: 1.3685 - val_accuracy: 0.9425\n",
      "Epoch 367/500\n",
      "6/6 [==============================] - 1s 115ms/step - loss: 1.8329e-07 - accuracy: 1.0000 - val_loss: 1.3692 - val_accuracy: 0.9425\n",
      "Epoch 368/500\n",
      "6/6 [==============================] - 1s 112ms/step - loss: 1.8157e-07 - accuracy: 1.0000 - val_loss: 1.3698 - val_accuracy: 0.9425\n",
      "Epoch 369/500\n",
      "6/6 [==============================] - 1s 115ms/step - loss: 1.8054e-07 - accuracy: 1.0000 - val_loss: 1.3705 - val_accuracy: 0.9425\n",
      "Epoch 370/500\n",
      "6/6 [==============================] - 1s 110ms/step - loss: 1.7847e-07 - accuracy: 1.0000 - val_loss: 1.3712 - val_accuracy: 0.9425\n",
      "Epoch 371/500\n",
      "6/6 [==============================] - 1s 114ms/step - loss: 1.7709e-07 - accuracy: 1.0000 - val_loss: 1.3721 - val_accuracy: 0.9425\n",
      "Epoch 372/500\n",
      "6/6 [==============================] - 1s 112ms/step - loss: 1.7709e-07 - accuracy: 1.0000 - val_loss: 1.3728 - val_accuracy: 0.9425\n",
      "Epoch 373/500\n",
      "6/6 [==============================] - 1s 112ms/step - loss: 1.7640e-07 - accuracy: 1.0000 - val_loss: 1.3735 - val_accuracy: 0.9425\n",
      "Epoch 374/500\n",
      "6/6 [==============================] - 1s 119ms/step - loss: 1.7365e-07 - accuracy: 1.0000 - val_loss: 1.3742 - val_accuracy: 0.9425\n",
      "Epoch 375/500\n",
      "6/6 [==============================] - 1s 113ms/step - loss: 1.7296e-07 - accuracy: 1.0000 - val_loss: 1.3749 - val_accuracy: 0.9425\n",
      "Epoch 376/500\n",
      "6/6 [==============================] - 1s 115ms/step - loss: 1.7158e-07 - accuracy: 1.0000 - val_loss: 1.3756 - val_accuracy: 0.9425\n",
      "Epoch 377/500\n",
      "6/6 [==============================] - 1s 111ms/step - loss: 1.6986e-07 - accuracy: 1.0000 - val_loss: 1.3763 - val_accuracy: 0.9425\n",
      "Epoch 378/500\n",
      "6/6 [==============================] - 1s 114ms/step - loss: 1.6951e-07 - accuracy: 1.0000 - val_loss: 1.3770 - val_accuracy: 0.9425\n",
      "Epoch 379/500\n",
      "6/6 [==============================] - 1s 117ms/step - loss: 1.6779e-07 - accuracy: 1.0000 - val_loss: 1.3777 - val_accuracy: 0.9425\n",
      "Epoch 380/500\n",
      "6/6 [==============================] - 1s 115ms/step - loss: 1.6641e-07 - accuracy: 1.0000 - val_loss: 1.3784 - val_accuracy: 0.9425\n",
      "Epoch 381/500\n",
      "6/6 [==============================] - 1s 114ms/step - loss: 1.6434e-07 - accuracy: 1.0000 - val_loss: 1.3791 - val_accuracy: 0.9425\n",
      "Epoch 382/500\n",
      "6/6 [==============================] - 1s 110ms/step - loss: 1.6262e-07 - accuracy: 1.0000 - val_loss: 1.3799 - val_accuracy: 0.9425\n",
      "Epoch 383/500\n",
      "6/6 [==============================] - 1s 112ms/step - loss: 1.6159e-07 - accuracy: 1.0000 - val_loss: 1.3806 - val_accuracy: 0.9425\n",
      "Epoch 384/500\n",
      "6/6 [==============================] - 1s 116ms/step - loss: 1.6090e-07 - accuracy: 1.0000 - val_loss: 1.3813 - val_accuracy: 0.9425\n",
      "Epoch 385/500\n",
      "6/6 [==============================] - 1s 116ms/step - loss: 1.5952e-07 - accuracy: 1.0000 - val_loss: 1.3820 - val_accuracy: 0.9425\n",
      "Epoch 386/500\n",
      "6/6 [==============================] - 1s 116ms/step - loss: 1.5814e-07 - accuracy: 1.0000 - val_loss: 1.3827 - val_accuracy: 0.9425\n",
      "Epoch 387/500\n",
      "6/6 [==============================] - 1s 110ms/step - loss: 1.5745e-07 - accuracy: 1.0000 - val_loss: 1.3835 - val_accuracy: 0.9425\n",
      "Epoch 388/500\n",
      "6/6 [==============================] - 1s 114ms/step - loss: 1.5711e-07 - accuracy: 1.0000 - val_loss: 1.3842 - val_accuracy: 0.9425\n",
      "Epoch 389/500\n",
      "6/6 [==============================] - 1s 113ms/step - loss: 1.5607e-07 - accuracy: 1.0000 - val_loss: 1.3850 - val_accuracy: 0.9425\n",
      "Epoch 390/500\n",
      "6/6 [==============================] - 1s 112ms/step - loss: 1.5435e-07 - accuracy: 1.0000 - val_loss: 1.3857 - val_accuracy: 0.9425\n",
      "Epoch 391/500\n",
      "6/6 [==============================] - 1s 116ms/step - loss: 1.5263e-07 - accuracy: 1.0000 - val_loss: 1.3864 - val_accuracy: 0.9425\n",
      "Epoch 392/500\n",
      "6/6 [==============================] - 1s 117ms/step - loss: 1.5160e-07 - accuracy: 1.0000 - val_loss: 1.3871 - val_accuracy: 0.9425\n",
      "Epoch 393/500\n",
      "6/6 [==============================] - 1s 114ms/step - loss: 1.5091e-07 - accuracy: 1.0000 - val_loss: 1.3878 - val_accuracy: 0.9425\n"
     ]
    },
    {
     "name": "stdout",
     "output_type": "stream",
     "text": [
      "Epoch 394/500\n",
      "6/6 [==============================] - 1s 113ms/step - loss: 1.4884e-07 - accuracy: 1.0000 - val_loss: 1.3885 - val_accuracy: 0.9425\n",
      "Epoch 395/500\n",
      "6/6 [==============================] - 1s 114ms/step - loss: 1.4815e-07 - accuracy: 1.0000 - val_loss: 1.3892 - val_accuracy: 0.9425\n",
      "Epoch 396/500\n",
      "6/6 [==============================] - 1s 146ms/step - loss: 1.4677e-07 - accuracy: 1.0000 - val_loss: 1.3900 - val_accuracy: 0.9425\n",
      "Epoch 397/500\n",
      "6/6 [==============================] - 1s 113ms/step - loss: 1.4574e-07 - accuracy: 1.0000 - val_loss: 1.3907 - val_accuracy: 0.9425\n",
      "Epoch 398/500\n",
      "6/6 [==============================] - 1s 117ms/step - loss: 1.4470e-07 - accuracy: 1.0000 - val_loss: 1.3913 - val_accuracy: 0.9425\n",
      "Epoch 399/500\n",
      "6/6 [==============================] - 1s 113ms/step - loss: 1.4367e-07 - accuracy: 1.0000 - val_loss: 1.3920 - val_accuracy: 0.9425\n",
      "Epoch 400/500\n",
      "6/6 [==============================] - 1s 113ms/step - loss: 1.4298e-07 - accuracy: 1.0000 - val_loss: 1.3927 - val_accuracy: 0.9425\n",
      "Epoch 401/500\n",
      "6/6 [==============================] - 1s 114ms/step - loss: 1.4160e-07 - accuracy: 1.0000 - val_loss: 1.3933 - val_accuracy: 0.9425\n",
      "Epoch 402/500\n",
      "6/6 [==============================] - 1s 114ms/step - loss: 1.4091e-07 - accuracy: 1.0000 - val_loss: 1.3939 - val_accuracy: 0.9425\n",
      "Epoch 403/500\n",
      "6/6 [==============================] - 1s 112ms/step - loss: 1.4057e-07 - accuracy: 1.0000 - val_loss: 1.3945 - val_accuracy: 0.9425\n",
      "Epoch 404/500\n",
      "6/6 [==============================] - 1s 114ms/step - loss: 1.3988e-07 - accuracy: 1.0000 - val_loss: 1.3950 - val_accuracy: 0.9425\n",
      "Epoch 405/500\n",
      "6/6 [==============================] - 1s 113ms/step - loss: 1.3919e-07 - accuracy: 1.0000 - val_loss: 1.3957 - val_accuracy: 0.9425\n",
      "Epoch 406/500\n",
      "6/6 [==============================] - 1s 115ms/step - loss: 1.3747e-07 - accuracy: 1.0000 - val_loss: 1.3963 - val_accuracy: 0.9425\n",
      "Epoch 407/500\n",
      "6/6 [==============================] - 1s 112ms/step - loss: 1.3644e-07 - accuracy: 1.0000 - val_loss: 1.3969 - val_accuracy: 0.9425\n",
      "Epoch 408/500\n",
      "6/6 [==============================] - 1s 112ms/step - loss: 1.3609e-07 - accuracy: 1.0000 - val_loss: 1.3976 - val_accuracy: 0.9425\n",
      "Epoch 409/500\n",
      "6/6 [==============================] - 1s 118ms/step - loss: 1.3506e-07 - accuracy: 1.0000 - val_loss: 1.3983 - val_accuracy: 0.9425\n",
      "Epoch 410/500\n",
      "6/6 [==============================] - 1s 112ms/step - loss: 1.3437e-07 - accuracy: 1.0000 - val_loss: 1.3990 - val_accuracy: 0.9425\n",
      "Epoch 411/500\n",
      "6/6 [==============================] - 1s 110ms/step - loss: 1.3334e-07 - accuracy: 1.0000 - val_loss: 1.3996 - val_accuracy: 0.9425\n",
      "Epoch 412/500\n",
      "6/6 [==============================] - 1s 112ms/step - loss: 1.3196e-07 - accuracy: 1.0000 - val_loss: 1.4002 - val_accuracy: 0.9425\n",
      "Epoch 413/500\n",
      "6/6 [==============================] - 1s 112ms/step - loss: 1.3092e-07 - accuracy: 1.0000 - val_loss: 1.4009 - val_accuracy: 0.9425\n",
      "Epoch 414/500\n",
      "6/6 [==============================] - 1s 121ms/step - loss: 1.2989e-07 - accuracy: 1.0000 - val_loss: 1.4016 - val_accuracy: 0.9425\n",
      "Epoch 415/500\n",
      "6/6 [==============================] - 1s 114ms/step - loss: 1.2851e-07 - accuracy: 1.0000 - val_loss: 1.4022 - val_accuracy: 0.9425\n",
      "Epoch 416/500\n",
      "6/6 [==============================] - 1s 115ms/step - loss: 1.2782e-07 - accuracy: 1.0000 - val_loss: 1.4028 - val_accuracy: 0.9425\n",
      "Epoch 417/500\n",
      "6/6 [==============================] - 1s 116ms/step - loss: 1.2748e-07 - accuracy: 1.0000 - val_loss: 1.4036 - val_accuracy: 0.9425\n",
      "Epoch 418/500\n",
      "6/6 [==============================] - 1s 115ms/step - loss: 1.2576e-07 - accuracy: 1.0000 - val_loss: 1.4043 - val_accuracy: 0.9425\n",
      "Epoch 419/500\n",
      "6/6 [==============================] - 1s 110ms/step - loss: 1.2576e-07 - accuracy: 1.0000 - val_loss: 1.4050 - val_accuracy: 0.9425\n",
      "Epoch 420/500\n",
      "6/6 [==============================] - 1s 113ms/step - loss: 1.2541e-07 - accuracy: 1.0000 - val_loss: 1.4057 - val_accuracy: 0.9425\n",
      "Epoch 421/500\n",
      "6/6 [==============================] - 1s 113ms/step - loss: 1.2438e-07 - accuracy: 1.0000 - val_loss: 1.4063 - val_accuracy: 0.9425\n",
      "Epoch 422/500\n",
      "6/6 [==============================] - 1s 259ms/step - loss: 1.2369e-07 - accuracy: 1.0000 - val_loss: 1.4069 - val_accuracy: 0.9425\n",
      "Epoch 423/500\n",
      "6/6 [==============================] - 1s 116ms/step - loss: 1.2300e-07 - accuracy: 1.0000 - val_loss: 1.4075 - val_accuracy: 0.9425\n",
      "Epoch 424/500\n",
      "6/6 [==============================] - 1s 115ms/step - loss: 1.2162e-07 - accuracy: 1.0000 - val_loss: 1.4082 - val_accuracy: 0.9425\n",
      "Epoch 425/500\n",
      "6/6 [==============================] - 1s 113ms/step - loss: 1.2162e-07 - accuracy: 1.0000 - val_loss: 1.4088 - val_accuracy: 0.9425\n",
      "Epoch 426/500\n",
      "6/6 [==============================] - 1s 114ms/step - loss: 1.2128e-07 - accuracy: 1.0000 - val_loss: 1.4095 - val_accuracy: 0.9425\n",
      "Epoch 427/500\n",
      "6/6 [==============================] - 1s 111ms/step - loss: 1.1990e-07 - accuracy: 1.0000 - val_loss: 1.4101 - val_accuracy: 0.9425\n",
      "Epoch 428/500\n",
      "6/6 [==============================] - 1s 130ms/step - loss: 1.1921e-07 - accuracy: 1.0000 - val_loss: 1.4107 - val_accuracy: 0.9425\n",
      "Epoch 429/500\n",
      "6/6 [==============================] - 1s 110ms/step - loss: 1.1852e-07 - accuracy: 1.0000 - val_loss: 1.4113 - val_accuracy: 0.9425\n",
      "Epoch 430/500\n",
      "6/6 [==============================] - 1s 115ms/step - loss: 1.1783e-07 - accuracy: 1.0000 - val_loss: 1.4120 - val_accuracy: 0.9425\n",
      "Epoch 431/500\n",
      "6/6 [==============================] - 1s 111ms/step - loss: 1.1714e-07 - accuracy: 1.0000 - val_loss: 1.4127 - val_accuracy: 0.9425\n",
      "Epoch 432/500\n",
      "6/6 [==============================] - 1s 114ms/step - loss: 1.1611e-07 - accuracy: 1.0000 - val_loss: 1.4133 - val_accuracy: 0.9425\n",
      "Epoch 433/500\n",
      "6/6 [==============================] - 1s 111ms/step - loss: 1.1542e-07 - accuracy: 1.0000 - val_loss: 1.4139 - val_accuracy: 0.9425\n",
      "Epoch 434/500\n",
      "6/6 [==============================] - 1s 112ms/step - loss: 1.1439e-07 - accuracy: 1.0000 - val_loss: 1.4145 - val_accuracy: 0.9425\n",
      "Epoch 435/500\n",
      "6/6 [==============================] - 1s 114ms/step - loss: 1.1404e-07 - accuracy: 1.0000 - val_loss: 1.4151 - val_accuracy: 0.9425\n",
      "Epoch 436/500\n",
      "6/6 [==============================] - 1s 251ms/step - loss: 1.1335e-07 - accuracy: 1.0000 - val_loss: 1.4157 - val_accuracy: 0.9425\n",
      "Epoch 437/500\n",
      "6/6 [==============================] - 1s 112ms/step - loss: 1.1301e-07 - accuracy: 1.0000 - val_loss: 1.4163 - val_accuracy: 0.9425\n",
      "Epoch 438/500\n",
      "6/6 [==============================] - 1s 112ms/step - loss: 1.1094e-07 - accuracy: 1.0000 - val_loss: 1.4168 - val_accuracy: 0.9425\n",
      "Epoch 439/500\n",
      "6/6 [==============================] - 1s 115ms/step - loss: 1.1060e-07 - accuracy: 1.0000 - val_loss: 1.4175 - val_accuracy: 0.9425\n",
      "Epoch 440/500\n",
      "6/6 [==============================] - 1s 114ms/step - loss: 1.0991e-07 - accuracy: 1.0000 - val_loss: 1.4181 - val_accuracy: 0.9425\n",
      "Epoch 441/500\n",
      "6/6 [==============================] - 1s 110ms/step - loss: 1.0922e-07 - accuracy: 1.0000 - val_loss: 1.4187 - val_accuracy: 0.9425\n",
      "Epoch 442/500\n",
      "6/6 [==============================] - 1s 115ms/step - loss: 1.0853e-07 - accuracy: 1.0000 - val_loss: 1.4194 - val_accuracy: 0.9425\n",
      "Epoch 443/500\n",
      "6/6 [==============================] - 1s 145ms/step - loss: 1.0853e-07 - accuracy: 1.0000 - val_loss: 1.4200 - val_accuracy: 0.9425\n",
      "Epoch 444/500\n",
      "6/6 [==============================] - 1s 149ms/step - loss: 1.0818e-07 - accuracy: 1.0000 - val_loss: 1.4206 - val_accuracy: 0.9425\n",
      "Epoch 445/500\n",
      "6/6 [==============================] - 1s 112ms/step - loss: 1.0681e-07 - accuracy: 1.0000 - val_loss: 1.4212 - val_accuracy: 0.9425\n",
      "Epoch 446/500\n",
      "6/6 [==============================] - 1s 110ms/step - loss: 1.0543e-07 - accuracy: 1.0000 - val_loss: 1.4219 - val_accuracy: 0.9425\n",
      "Epoch 447/500\n",
      "6/6 [==============================] - 1s 112ms/step - loss: 1.0508e-07 - accuracy: 1.0000 - val_loss: 1.4225 - val_accuracy: 0.9425\n",
      "Epoch 448/500\n",
      "6/6 [==============================] - 1s 114ms/step - loss: 1.0405e-07 - accuracy: 1.0000 - val_loss: 1.4230 - val_accuracy: 0.9425\n",
      "Epoch 449/500\n",
      "6/6 [==============================] - 1s 113ms/step - loss: 1.0336e-07 - accuracy: 1.0000 - val_loss: 1.4236 - val_accuracy: 0.9425\n"
     ]
    },
    {
     "name": "stdout",
     "output_type": "stream",
     "text": [
      "Epoch 450/500\n",
      "6/6 [==============================] - 1s 113ms/step - loss: 1.0302e-07 - accuracy: 1.0000 - val_loss: 1.4242 - val_accuracy: 0.9425\n",
      "Epoch 451/500\n",
      "6/6 [==============================] - 1s 117ms/step - loss: 1.0233e-07 - accuracy: 1.0000 - val_loss: 1.4248 - val_accuracy: 0.9425\n",
      "Epoch 452/500\n",
      "6/6 [==============================] - 1s 112ms/step - loss: 1.0233e-07 - accuracy: 1.0000 - val_loss: 1.4254 - val_accuracy: 0.9425\n",
      "Epoch 453/500\n",
      "6/6 [==============================] - 1s 112ms/step - loss: 1.0129e-07 - accuracy: 1.0000 - val_loss: 1.4259 - val_accuracy: 0.9425\n",
      "Epoch 454/500\n",
      "6/6 [==============================] - 1s 113ms/step - loss: 1.0060e-07 - accuracy: 1.0000 - val_loss: 1.4267 - val_accuracy: 0.9425\n",
      "Epoch 455/500\n",
      "6/6 [==============================] - 1s 114ms/step - loss: 9.9915e-08 - accuracy: 1.0000 - val_loss: 1.4274 - val_accuracy: 0.9425\n",
      "Epoch 456/500\n",
      "6/6 [==============================] - 1s 115ms/step - loss: 9.9226e-08 - accuracy: 1.0000 - val_loss: 1.4281 - val_accuracy: 0.9425\n",
      "Epoch 457/500\n",
      "6/6 [==============================] - 1s 114ms/step - loss: 9.9226e-08 - accuracy: 1.0000 - val_loss: 1.4287 - val_accuracy: 0.9425\n",
      "Epoch 458/500\n",
      "6/6 [==============================] - 1s 125ms/step - loss: 9.7503e-08 - accuracy: 1.0000 - val_loss: 1.4293 - val_accuracy: 0.9425\n",
      "Epoch 459/500\n",
      "6/6 [==============================] - 1s 112ms/step - loss: 9.6814e-08 - accuracy: 1.0000 - val_loss: 1.4299 - val_accuracy: 0.9425\n",
      "Epoch 460/500\n",
      "6/6 [==============================] - 1s 116ms/step - loss: 9.6125e-08 - accuracy: 1.0000 - val_loss: 1.4304 - val_accuracy: 0.9425\n",
      "Epoch 461/500\n",
      "6/6 [==============================] - 1s 114ms/step - loss: 9.5092e-08 - accuracy: 1.0000 - val_loss: 1.4310 - val_accuracy: 0.9425\n",
      "Epoch 462/500\n",
      "6/6 [==============================] - 1s 113ms/step - loss: 9.4747e-08 - accuracy: 1.0000 - val_loss: 1.4316 - val_accuracy: 0.9425\n",
      "Epoch 463/500\n",
      "6/6 [==============================] - 1s 116ms/step - loss: 9.4058e-08 - accuracy: 1.0000 - val_loss: 1.4321 - val_accuracy: 0.9425\n",
      "Epoch 464/500\n",
      "6/6 [==============================] - 1s 112ms/step - loss: 9.4058e-08 - accuracy: 1.0000 - val_loss: 1.4328 - val_accuracy: 0.9425\n",
      "Epoch 465/500\n",
      "6/6 [==============================] - 1s 113ms/step - loss: 9.2335e-08 - accuracy: 1.0000 - val_loss: 1.4333 - val_accuracy: 0.9425\n",
      "Epoch 466/500\n",
      "6/6 [==============================] - 1s 113ms/step - loss: 9.2335e-08 - accuracy: 1.0000 - val_loss: 1.4337 - val_accuracy: 0.9425\n",
      "Epoch 467/500\n",
      "6/6 [==============================] - 1s 114ms/step - loss: 9.1991e-08 - accuracy: 1.0000 - val_loss: 1.4342 - val_accuracy: 0.9425\n",
      "Epoch 468/500\n",
      "6/6 [==============================] - 1s 152ms/step - loss: 9.1646e-08 - accuracy: 1.0000 - val_loss: 1.4348 - val_accuracy: 0.9425\n",
      "Epoch 469/500\n",
      "6/6 [==============================] - 1s 113ms/step - loss: 9.1302e-08 - accuracy: 1.0000 - val_loss: 1.4353 - val_accuracy: 0.9425\n",
      "Epoch 470/500\n",
      "6/6 [==============================] - 1s 115ms/step - loss: 9.0613e-08 - accuracy: 1.0000 - val_loss: 1.4359 - val_accuracy: 0.9425\n",
      "Epoch 471/500\n",
      "6/6 [==============================] - 1s 116ms/step - loss: 8.9924e-08 - accuracy: 1.0000 - val_loss: 1.4365 - val_accuracy: 0.9425\n",
      "Epoch 472/500\n",
      "6/6 [==============================] - 1s 116ms/step - loss: 8.9235e-08 - accuracy: 1.0000 - val_loss: 1.4371 - val_accuracy: 0.9425\n",
      "Epoch 473/500\n",
      "6/6 [==============================] - 1s 111ms/step - loss: 8.8546e-08 - accuracy: 1.0000 - val_loss: 1.4377 - val_accuracy: 0.9425\n",
      "Epoch 474/500\n",
      "6/6 [==============================] - 1s 125ms/step - loss: 8.8201e-08 - accuracy: 1.0000 - val_loss: 1.4383 - val_accuracy: 0.9425\n",
      "Epoch 475/500\n",
      "6/6 [==============================] - 1s 113ms/step - loss: 8.8201e-08 - accuracy: 1.0000 - val_loss: 1.4389 - val_accuracy: 0.9425\n",
      "Epoch 476/500\n",
      "6/6 [==============================] - 1s 113ms/step - loss: 8.7167e-08 - accuracy: 1.0000 - val_loss: 1.4395 - val_accuracy: 0.9425\n",
      "Epoch 477/500\n",
      "6/6 [==============================] - 1s 113ms/step - loss: 8.7167e-08 - accuracy: 1.0000 - val_loss: 1.4401 - val_accuracy: 0.9425\n",
      "Epoch 478/500\n",
      "6/6 [==============================] - 1s 118ms/step - loss: 8.6134e-08 - accuracy: 1.0000 - val_loss: 1.4407 - val_accuracy: 0.9425\n",
      "Epoch 479/500\n",
      "6/6 [==============================] - 1s 117ms/step - loss: 8.6134e-08 - accuracy: 1.0000 - val_loss: 1.4413 - val_accuracy: 0.9425\n",
      "Epoch 480/500\n",
      "6/6 [==============================] - 1s 112ms/step - loss: 8.5445e-08 - accuracy: 1.0000 - val_loss: 1.4419 - val_accuracy: 0.9425\n",
      "Epoch 481/500\n",
      "6/6 [==============================] - 1s 116ms/step - loss: 8.4411e-08 - accuracy: 1.0000 - val_loss: 1.4424 - val_accuracy: 0.9425\n",
      "Epoch 482/500\n",
      "6/6 [==============================] - 1s 112ms/step - loss: 8.3378e-08 - accuracy: 1.0000 - val_loss: 1.4431 - val_accuracy: 0.9425\n",
      "Epoch 483/500\n",
      "6/6 [==============================] - 1s 114ms/step - loss: 8.3378e-08 - accuracy: 1.0000 - val_loss: 1.4437 - val_accuracy: 0.9425\n",
      "Epoch 484/500\n",
      "6/6 [==============================] - 1s 113ms/step - loss: 8.2688e-08 - accuracy: 1.0000 - val_loss: 1.4442 - val_accuracy: 0.9425\n",
      "Epoch 485/500\n",
      "6/6 [==============================] - 1s 112ms/step - loss: 8.2688e-08 - accuracy: 1.0000 - val_loss: 1.4448 - val_accuracy: 0.9425\n",
      "Epoch 486/500\n",
      "6/6 [==============================] - 1s 114ms/step - loss: 8.2344e-08 - accuracy: 1.0000 - val_loss: 1.4454 - val_accuracy: 0.9425\n",
      "Epoch 487/500\n",
      "6/6 [==============================] - 1s 114ms/step - loss: 8.1999e-08 - accuracy: 1.0000 - val_loss: 1.4460 - val_accuracy: 0.9425\n",
      "Epoch 488/500\n",
      "6/6 [==============================] - 1s 115ms/step - loss: 8.0277e-08 - accuracy: 1.0000 - val_loss: 1.4467 - val_accuracy: 0.9425\n",
      "Epoch 489/500\n",
      "6/6 [==============================] - 1s 113ms/step - loss: 7.9588e-08 - accuracy: 1.0000 - val_loss: 1.4472 - val_accuracy: 0.9425\n",
      "Epoch 490/500\n",
      "6/6 [==============================] - 1s 121ms/step - loss: 7.9243e-08 - accuracy: 1.0000 - val_loss: 1.4478 - val_accuracy: 0.9425\n",
      "Epoch 491/500\n",
      "6/6 [==============================] - 1s 114ms/step - loss: 7.9243e-08 - accuracy: 1.0000 - val_loss: 1.4484 - val_accuracy: 0.9425\n",
      "Epoch 492/500\n",
      "6/6 [==============================] - 1s 113ms/step - loss: 7.9243e-08 - accuracy: 1.0000 - val_loss: 1.4490 - val_accuracy: 0.9425\n",
      "Epoch 493/500\n",
      "6/6 [==============================] - 1s 114ms/step - loss: 7.8899e-08 - accuracy: 1.0000 - val_loss: 1.4496 - val_accuracy: 0.9425\n",
      "Epoch 494/500\n",
      "6/6 [==============================] - 1s 115ms/step - loss: 7.7865e-08 - accuracy: 1.0000 - val_loss: 1.4503 - val_accuracy: 0.9425\n",
      "Epoch 495/500\n",
      "6/6 [==============================] - 1s 115ms/step - loss: 7.7520e-08 - accuracy: 1.0000 - val_loss: 1.4510 - val_accuracy: 0.9425\n",
      "Epoch 496/500\n",
      "6/6 [==============================] - 2s 295ms/step - loss: 7.7176e-08 - accuracy: 1.0000 - val_loss: 1.4516 - val_accuracy: 0.9425\n",
      "Epoch 497/500\n",
      "6/6 [==============================] - 1s 114ms/step - loss: 7.7176e-08 - accuracy: 1.0000 - val_loss: 1.4522 - val_accuracy: 0.9425\n",
      "Epoch 498/500\n",
      "6/6 [==============================] - 1s 114ms/step - loss: 7.6487e-08 - accuracy: 1.0000 - val_loss: 1.4528 - val_accuracy: 0.9425\n",
      "Epoch 499/500\n",
      "6/6 [==============================] - 1s 115ms/step - loss: 7.5798e-08 - accuracy: 1.0000 - val_loss: 1.4534 - val_accuracy: 0.9425\n",
      "Epoch 500/500\n",
      "6/6 [==============================] - 1s 113ms/step - loss: 7.5798e-08 - accuracy: 1.0000 - val_loss: 1.4539 - val_accuracy: 0.9425\n"
     ]
    },
    {
     "data": {
      "text/plain": [
       "<tensorflow.python.keras.callbacks.History at 0x1a5eddfdf98>"
      ]
     },
     "execution_count": 31,
     "metadata": {},
     "output_type": "execute_result"
    }
   ],
   "source": [
    "model.fit(X_train, y_train, epochs=500, batch_size=64, verbose=1, \n",
    "          validation_data=(X_test, y_test),\n",
    "          callbacks=[tensorboard_callback])"
   ]
  },
  {
   "cell_type": "markdown",
   "metadata": {},
   "source": [
    "### 3.2.7 Summary"
   ]
  },
  {
   "cell_type": "code",
   "execution_count": null,
   "metadata": {},
   "outputs": [],
   "source": [
    "model.summary()"
   ]
  },
  {
   "cell_type": "markdown",
   "metadata": {},
   "source": [
    "### 3.2.8. Tensorboard Display"
   ]
  },
  {
   "cell_type": "code",
   "execution_count": null,
   "metadata": {
    "scrolled": true
   },
   "outputs": [],
   "source": [
    "%tensorboard --logdir logs/fit"
   ]
  },
  {
   "cell_type": "markdown",
   "metadata": {},
   "source": [
    "## 3.8 Save the Model"
   ]
  },
  {
   "cell_type": "code",
   "execution_count": null,
   "metadata": {
    "scrolled": true
   },
   "outputs": [],
   "source": [
    "model.save('saved_model/model_Chr_09_cnn_iteration_'+str(iterationNumber))"
   ]
  },
  {
   "cell_type": "markdown",
   "metadata": {},
   "source": [
    "## 3.9 Load the Model"
   ]
  },
  {
   "cell_type": "code",
   "execution_count": null,
   "metadata": {},
   "outputs": [],
   "source": [
    "model_reload = keras.models.load_model('saved_model/model_Chr_09_cnn_iteration_'+str(iterationNumber))"
   ]
  },
  {
   "cell_type": "markdown",
   "metadata": {},
   "source": [
    "## 3.10. Performance Measures"
   ]
  },
  {
   "cell_type": "markdown",
   "metadata": {},
   "source": [
    "### 3.10.0. Accuracy"
   ]
  },
  {
   "cell_type": "code",
   "execution_count": null,
   "metadata": {},
   "outputs": [],
   "source": [
    "loss, acc = model_reload.evaluate(X_test, y_test, verbose=0)\n",
    "print('Test Accuracy: %.3f' % acc)"
   ]
  },
  {
   "cell_type": "code",
   "execution_count": null,
   "metadata": {},
   "outputs": [],
   "source": [
    "len(X_test)"
   ]
  },
  {
   "cell_type": "code",
   "execution_count": null,
   "metadata": {},
   "outputs": [],
   "source": [
    "y_predict = model_reload.predict(X_test)"
   ]
  },
  {
   "cell_type": "code",
   "execution_count": null,
   "metadata": {},
   "outputs": [],
   "source": [
    "len(y_predict)"
   ]
  },
  {
   "cell_type": "code",
   "execution_count": null,
   "metadata": {},
   "outputs": [],
   "source": [
    "# The number 32 means the type number of all chromosome class number inlcuding abnormal ones\n",
    "y_predict_filtered = []\n",
    "\n",
    "for sample in y_predict:\n",
    "    maximum = 0\n",
    "    indicator = 0\n",
    "    for i in range(2):\n",
    "        if sample[i] > maximum:\n",
    "            maximum = sample[i]\n",
    "            indicator = i\n",
    "    y_predict_filtered.append(indicator)        "
   ]
  },
  {
   "cell_type": "code",
   "execution_count": null,
   "metadata": {},
   "outputs": [],
   "source": [
    "len(y_predict_filtered)"
   ]
  },
  {
   "cell_type": "code",
   "execution_count": null,
   "metadata": {},
   "outputs": [],
   "source": [
    "label = ['chr_09', 'chr_9_inversion']\n",
    "\n",
    "label_convert = []\n",
    "\n",
    "for i in range(2):\n",
    "    label_convert.append(chromConvert_reverse[i])"
   ]
  },
  {
   "cell_type": "markdown",
   "metadata": {},
   "source": [
    "### 3.10.1 Save y_test and y_predict"
   ]
  },
  {
   "cell_type": "code",
   "execution_count": null,
   "metadata": {},
   "outputs": [],
   "source": [
    "with open('data_y_test_value_iteration_' + str(iterationNumber) + '.npy', 'wb') as file_y_test_value:\n",
    "    np.save(file_y_test_value, y_test)"
   ]
  },
  {
   "cell_type": "code",
   "execution_count": null,
   "metadata": {},
   "outputs": [],
   "source": [
    "with open('data_y_predict_value_iteration_' + str(iterationNumber) + '.npy', 'wb') as file_y_predict_value:\n",
    "    np.save(file_y_predict_value, y_predict)"
   ]
  },
  {
   "cell_type": "code",
   "execution_count": null,
   "metadata": {},
   "outputs": [],
   "source": [
    "with open('data_y_predict_filtered_value_iteration_' + str(iterationNumber) + '.npy', 'wb') as file_y_predict_filtered_value:\n",
    "    np.save(file_y_predict_filtered_value, np.array(y_predict_filtered))"
   ]
  },
  {
   "cell_type": "markdown",
   "metadata": {},
   "source": [
    "#### Test for load the files"
   ]
  },
  {
   "cell_type": "code",
   "execution_count": null,
   "metadata": {},
   "outputs": [],
   "source": [
    "with open('data_y_test_value_iteration_' + str(iterationNumber) + '.npy', 'rb') as f1:\n",
    "    y_test = np.load(f1)\n",
    "    \n",
    "with open('data_y_predict_value_iteration_' + str(iterationNumber) + '.npy', 'rb') as f2:\n",
    "    y_predict = np.load(f2)\n",
    "    \n",
    "with open('data_y_predict_filtered_value_iteration_' + str(iterationNumber) + '.npy', 'rb') as f3:\n",
    "    y_predict_filtered = np.load(f3)"
   ]
  },
  {
   "cell_type": "code",
   "execution_count": null,
   "metadata": {},
   "outputs": [],
   "source": [
    "y_test"
   ]
  },
  {
   "cell_type": "code",
   "execution_count": null,
   "metadata": {
    "scrolled": true
   },
   "outputs": [],
   "source": [
    "y_predict"
   ]
  },
  {
   "cell_type": "markdown",
   "metadata": {},
   "source": [
    "### 3.10.2. Classification Report"
   ]
  },
  {
   "cell_type": "code",
   "execution_count": null,
   "metadata": {},
   "outputs": [],
   "source": [
    "performanceReport = classification_report(y_test, y_predict_filtered, target_names=label_convert)\n",
    "\n",
    "\n",
    "print(performanceReport)"
   ]
  },
  {
   "cell_type": "markdown",
   "metadata": {},
   "source": [
    "### 3.10.3. Confusion Matrix"
   ]
  },
  {
   "cell_type": "code",
   "execution_count": null,
   "metadata": {},
   "outputs": [],
   "source": [
    "cm = np.array(confusion_matrix(y_test, y_predict_filtered, labels=[0, 1]))\n",
    "confusion = pd.DataFrame(cm, index=label_convert,\n",
    "                        columns=label_convert)\n",
    "confusion.to_csv('ConfusionMatrix_Chr_05_KaryoType_CNN' + str(iterationNumber) + '.csv')\n",
    "confusion"
   ]
  },
  {
   "cell_type": "markdown",
   "metadata": {},
   "source": [
    "#### Heat Map"
   ]
  },
  {
   "cell_type": "code",
   "execution_count": null,
   "metadata": {
    "scrolled": true
   },
   "outputs": [],
   "source": [
    "plt.figure(figsize=(30, 24))\n",
    "heat_map = sb.heatmap(confusion, annot=True,  # It's a Seaborn function\n",
    "                      cmap='coolwarm', \n",
    "                      xticklabels=confusion.columns, yticklabels=confusion.index, \n",
    "                      linewidths=.5, \n",
    "                      annot_kws={\"size\": 20})\n",
    "sb.set(font_scale = 2)"
   ]
  },
  {
   "cell_type": "code",
   "execution_count": null,
   "metadata": {},
   "outputs": [],
   "source": [
    "fig = heat_map.get_figure()    \n",
    "fig.savefig('Heatmap_Chr_09_Iteration_' + str(iterationNumber) + '.png', dpi=400)"
   ]
  },
  {
   "cell_type": "markdown",
   "metadata": {},
   "source": [
    "### 3.10.4. ROC"
   ]
  },
  {
   "cell_type": "code",
   "execution_count": null,
   "metadata": {},
   "outputs": [],
   "source": [
    "y_predict"
   ]
  },
  {
   "cell_type": "code",
   "execution_count": null,
   "metadata": {},
   "outputs": [],
   "source": [
    "plt.plot(y_predict)"
   ]
  },
  {
   "cell_type": "code",
   "execution_count": null,
   "metadata": {},
   "outputs": [],
   "source": [
    "y_predict_1D = y_predict[:,0]"
   ]
  },
  {
   "cell_type": "code",
   "execution_count": null,
   "metadata": {},
   "outputs": [],
   "source": [
    "y_predict_1D_processed = 1- y_predict_1D"
   ]
  },
  {
   "cell_type": "code",
   "execution_count": null,
   "metadata": {},
   "outputs": [],
   "source": [
    "fpr , tpr , thresholds = roc_curve(y_test , y_predict_1D_processed)\n",
    "auc_rf = auc(fpr, tpr)"
   ]
  },
  {
   "cell_type": "code",
   "execution_count": null,
   "metadata": {},
   "outputs": [],
   "source": [
    "auc_rf"
   ]
  },
  {
   "cell_type": "code",
   "execution_count": null,
   "metadata": {},
   "outputs": [],
   "source": [
    "x = y = np.arange(0,1.1,0.1)"
   ]
  },
  {
   "cell_type": "code",
   "execution_count": null,
   "metadata": {},
   "outputs": [],
   "source": [
    "x"
   ]
  },
  {
   "cell_type": "code",
   "execution_count": null,
   "metadata": {},
   "outputs": [],
   "source": [
    "plt.plot(fpr, tpr)\n",
    "plt.plot(x, y, '--', color='black')\n",
    "plt.title('ROC curve of Chr 9 Inversion', fontsize=15, fontname = 'Times New Roman')\n",
    "plt.xlabel('False Positive Rate', fontsize=10, fontname = 'Times New Roman')\n",
    "plt.ylabel('True positive Rate', fontsize=10, fontname = 'Times New Roman')\n",
    "plt.axis('equal')\n",
    "plt.xlim(-0.08, 1.1)\n",
    "plt.ylim(-0.08, 1.1)\n",
    "plt.xticks(fontsize=10, fontname = 'Times New Roman')\n",
    "plt.yticks(fontsize=10, fontname = 'Times New Roman')\n",
    "\n",
    "plt.savefig('ROC_Curve_Chr_09_' + str(iterationNumber) + '.png', dpi=400)\n",
    "plt.show()"
   ]
  },
  {
   "cell_type": "markdown",
   "metadata": {},
   "source": [
    "#### 3.10.4.1 AUC Value"
   ]
  },
  {
   "cell_type": "code",
   "execution_count": null,
   "metadata": {},
   "outputs": [],
   "source": [
    "auc_value = auc(fpr, tpr)"
   ]
  },
  {
   "cell_type": "code",
   "execution_count": null,
   "metadata": {},
   "outputs": [],
   "source": [
    "print('AUC is ', auc_value)"
   ]
  },
  {
   "cell_type": "markdown",
   "metadata": {},
   "source": [
    "# Results"
   ]
  },
  {
   "cell_type": "code",
   "execution_count": null,
   "metadata": {},
   "outputs": [],
   "source": [
    "print('Test Accuracy: %.3f' % acc)"
   ]
  },
  {
   "cell_type": "code",
   "execution_count": null,
   "metadata": {
    "scrolled": true
   },
   "outputs": [],
   "source": [
    "print(performanceReport)"
   ]
  },
  {
   "cell_type": "code",
   "execution_count": null,
   "metadata": {},
   "outputs": [],
   "source": [
    "type(performanceReport)"
   ]
  },
  {
   "cell_type": "code",
   "execution_count": null,
   "metadata": {},
   "outputs": [],
   "source": [
    "confusion"
   ]
  },
  {
   "cell_type": "code",
   "execution_count": null,
   "metadata": {},
   "outputs": [],
   "source": [
    "print('AUC is ', auc_value)"
   ]
  },
  {
   "cell_type": "markdown",
   "metadata": {},
   "source": [
    "## Export to a text file"
   ]
  },
  {
   "cell_type": "code",
   "execution_count": null,
   "metadata": {},
   "outputs": [],
   "source": [
    "file_report = open('Results'+str(iterationNumber)+'.txt', 'w')\n",
    "file_report.write('Accuracy: %s\\n\\n' % acc)\n",
    "file_report.write('AUC: %s.\\n\\n' % auc_value)\n",
    "file_report.write('Performance Report: \\n%s\\n\\n' % performanceReport)\n",
    "file_report.write('Confusion Matrix: \\n%s.\\n\\n' % confusion)\n",
    "file_report.close()"
   ]
  },
  {
   "cell_type": "code",
   "execution_count": null,
   "metadata": {},
   "outputs": [],
   "source": []
  }
 ],
 "metadata": {
  "anaconda-cloud": {},
  "celltoolbar": "Slideshow",
  "colab": {
   "name": "KaryoChimneyRock_FullyConnectedNN.ipynb",
   "provenance": []
  },
  "kernelspec": {
   "display_name": "Python (Karyotyping_Pinnacle)",
   "language": "python",
   "name": "karyotyping_pinnacle"
  },
  "language_info": {
   "codemirror_mode": {
    "name": "ipython",
    "version": 3
   },
   "file_extension": ".py",
   "mimetype": "text/x-python",
   "name": "python",
   "nbconvert_exporter": "python",
   "pygments_lexer": "ipython3",
   "version": "3.8.20"
  }
 },
 "nbformat": 4,
 "nbformat_minor": 4
}
