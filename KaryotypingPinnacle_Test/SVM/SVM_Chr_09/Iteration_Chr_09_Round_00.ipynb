{
 "cells": [
  {
   "cell_type": "markdown",
   "metadata": {
    "colab_type": "text",
    "id": "slIdjqTJhM8B"
   },
   "source": [
    "# Facilitated Machine Learning Models for Karyotyping in the Patients with Chromosomal Abnormalities: Retrospective Study"
   ]
  },
  {
   "cell_type": "markdown",
   "metadata": {
    "colab_type": "text",
    "id": "aBT9lgVVhM8D"
   },
   "source": [
    "- **Chuan Yang**, MD, PhD Student\n",
    "- Mentor: **Yanyan Zhao**, MD, PhD\n",
    "- Shengjing Hospital of China Medical University"
   ]
  },
  {
   "cell_type": "markdown",
   "metadata": {},
   "source": [
    "# All Chromosomes"
   ]
  },
  {
   "cell_type": "markdown",
   "metadata": {
    "colab_type": "text",
    "id": "xrnbxOZChM8E"
   },
   "source": [
    "# Modules"
   ]
  },
  {
   "cell_type": "code",
   "execution_count": 60,
   "metadata": {
    "colab": {},
    "colab_type": "code",
    "id": "aKjA8v4hhM8E"
   },
   "outputs": [],
   "source": [
    "from PIL import Image\n",
    "import numpy as np\n",
    "import pandas as pd\n",
    "import matplotlib.pyplot as plt\n",
    "\n",
    "import seaborn as sb\n",
    "\n",
    "from sklearn import svm\n",
    "from sklearn.metrics import classification_report, confusion_matrix, roc_curve, auc\n",
    "# from sklearn.externals import joblib！！！\n",
    "import joblib\n",
    "from sklearn.model_selection import KFold\n",
    "\n",
    "from tensorflow.keras import Sequential\n",
    "from tensorflow.keras.layers import Dense, Conv2D, MaxPooling2D, Flatten\n",
    "from tensorflow import keras\n",
    "\n",
    "from os import walk\n",
    "\n",
    "import time\n",
    "import datetime\n",
    "\n",
    "import json\n",
    "\n",
    "%matplotlib inline"
   ]
  },
  {
   "cell_type": "code",
   "execution_count": 61,
   "metadata": {},
   "outputs": [],
   "source": [
    "iterationNumber = 0"
   ]
  },
  {
   "cell_type": "markdown",
   "metadata": {},
   "source": [
    "# 1. Read the File to Acquire the Filename"
   ]
  },
  {
   "cell_type": "code",
   "execution_count": 63,
   "metadata": {
    "scrolled": true
   },
   "outputs": [
    {
     "data": {
      "text/plain": [
       "{'chr_09': {'0': ['F:\\\\MyProject\\\\MachineLearning\\\\Mydata\\\\chr_09\\\\78034.12~A15.K_9R.png',\n",
       "   'F:\\\\MyProject\\\\MachineLearning\\\\Mydata\\\\chr_09\\\\78034.12~A21.K_9R.png',\n",
       "   'F:\\\\MyProject\\\\MachineLearning\\\\Mydata\\\\chr_09\\\\78034.13~A17.K_9R.png',\n",
       "   'F:\\\\MyProject\\\\MachineLearning\\\\Mydata\\\\chr_09\\\\78034.13~A22.K_9R.png',\n",
       "   'F:\\\\MyProject\\\\MachineLearning\\\\Mydata\\\\chr_09\\\\78034.13~A6.K_9R.png',\n",
       "   'F:\\\\MyProject\\\\MachineLearning\\\\Mydata\\\\chr_09\\\\78034.14~A40.K_9R.png',\n",
       "   'F:\\\\MyProject\\\\MachineLearning\\\\Mydata\\\\chr_09\\\\78034.2~A23.K_9R.png',\n",
       "   'F:\\\\MyProject\\\\MachineLearning\\\\Mydata\\\\chr_09\\\\78034.2~A48.K_9R.png',\n",
       "   'F:\\\\MyProject\\\\MachineLearning\\\\Mydata\\\\chr_09\\\\78034.3~A39.K_9R.png',\n",
       "   'F:\\\\MyProject\\\\MachineLearning\\\\Mydata\\\\chr_09\\\\78034.4~A36.K_9R.png',\n",
       "   'F:\\\\MyProject\\\\MachineLearning\\\\Mydata\\\\chr_09\\\\78058.3~A19.K_9R.png',\n",
       "   'F:\\\\MyProject\\\\MachineLearning\\\\Mydata\\\\chr_09\\\\78058.3~A2.K_9R.png',\n",
       "   'F:\\\\MyProject\\\\MachineLearning\\\\Mydata\\\\chr_09\\\\78058.3~A26.K_9R.png',\n",
       "   'F:\\\\MyProject\\\\MachineLearning\\\\Mydata\\\\chr_09\\\\78058.4~A15.K_9R.png',\n",
       "   'F:\\\\MyProject\\\\MachineLearning\\\\Mydata\\\\chr_09\\\\78058.4~A48.K_9R.png',\n",
       "   'F:\\\\MyProject\\\\MachineLearning\\\\Mydata\\\\chr_09\\\\78058.4~A8.K_9R.png',\n",
       "   'F:\\\\MyProject\\\\MachineLearning\\\\Mydata\\\\chr_09\\\\78142.12~A27.K_9R.png',\n",
       "   'F:\\\\MyProject\\\\MachineLearning\\\\Mydata\\\\chr_09\\\\78142.13~A20.K_9R.png',\n",
       "   'F:\\\\MyProject\\\\MachineLearning\\\\Mydata\\\\chr_09\\\\78142.2~A13.K_9R.png',\n",
       "   'F:\\\\MyProject\\\\MachineLearning\\\\Mydata\\\\chr_09\\\\78142.4~A44.K_9R.png',\n",
       "   'F:\\\\MyProject\\\\MachineLearning\\\\Mydata\\\\chr_09\\\\78220.1~A45.K_9R.png',\n",
       "   'F:\\\\MyProject\\\\MachineLearning\\\\Mydata\\\\chr_09\\\\78220.2~A21.K_9R.png',\n",
       "   'F:\\\\MyProject\\\\MachineLearning\\\\Mydata\\\\chr_09\\\\78220.3~A23.K_9R.png',\n",
       "   'F:\\\\MyProject\\\\MachineLearning\\\\Mydata\\\\chr_09\\\\78220.4~A17.K_9R.png',\n",
       "   'F:\\\\MyProject\\\\MachineLearning\\\\Mydata\\\\chr_09\\\\78220.4~A38.K_9R.png',\n",
       "   'F:\\\\MyProject\\\\MachineLearning\\\\Mydata\\\\chr_09\\\\78230.13~A12.K_9R.png',\n",
       "   'F:\\\\MyProject\\\\MachineLearning\\\\Mydata\\\\chr_09\\\\78230.2~A1.K_9R.png',\n",
       "   'F:\\\\MyProject\\\\MachineLearning\\\\Mydata\\\\chr_09\\\\78230.3~A5.K_9R.png',\n",
       "   'F:\\\\MyProject\\\\MachineLearning\\\\Mydata\\\\chr_09\\\\78230.4~A17.K_9R.png',\n",
       "   'F:\\\\MyProject\\\\MachineLearning\\\\Mydata\\\\chr_09\\\\78451.12~A1.K_9R.png',\n",
       "   'F:\\\\MyProject\\\\MachineLearning\\\\Mydata\\\\chr_09\\\\78451.12~A38.K_9R.png',\n",
       "   'F:\\\\MyProject\\\\MachineLearning\\\\Mydata\\\\chr_09\\\\78451.2~A16.K_9R.png',\n",
       "   'F:\\\\MyProject\\\\MachineLearning\\\\Mydata\\\\chr_09\\\\78451.3~A37.K_9R.png',\n",
       "   'F:\\\\MyProject\\\\MachineLearning\\\\Mydata\\\\chr_09\\\\78451.4~A16.K_9R.png',\n",
       "   'F:\\\\MyProject\\\\MachineLearning\\\\Mydata\\\\chr_09\\\\78834.12~A25.K_9R.png',\n",
       "   'F:\\\\MyProject\\\\MachineLearning\\\\Mydata\\\\chr_09\\\\78834.14~A21.K_9R.png',\n",
       "   'F:\\\\MyProject\\\\MachineLearning\\\\Mydata\\\\chr_09\\\\78834.3~A16.K_9R.png',\n",
       "   'F:\\\\MyProject\\\\MachineLearning\\\\Mydata\\\\chr_09\\\\78834.3~A35.K_9R.png',\n",
       "   'F:\\\\MyProject\\\\MachineLearning\\\\Mydata\\\\chr_09\\\\79501.1~A19.K_9R.png',\n",
       "   'F:\\\\MyProject\\\\MachineLearning\\\\Mydata\\\\chr_09\\\\79501.3~A30.K_9R.png'],\n",
       "  '1': ['F:\\\\MyProject\\\\MachineLearning\\\\Mydata\\\\chr_09\\\\78034.12~A15.K_9R.png',\n",
       "   'F:\\\\MyProject\\\\MachineLearning\\\\Mydata\\\\chr_09\\\\78034.12~A21.K_9R.png',\n",
       "   'F:\\\\MyProject\\\\MachineLearning\\\\Mydata\\\\chr_09\\\\78034.12~A30.K_9R.png',\n",
       "   'F:\\\\MyProject\\\\MachineLearning\\\\Mydata\\\\chr_09\\\\78034.13~A1.K_9R.png',\n",
       "   'F:\\\\MyProject\\\\MachineLearning\\\\Mydata\\\\chr_09\\\\78034.13~A17.K_9R.png',\n",
       "   'F:\\\\MyProject\\\\MachineLearning\\\\Mydata\\\\chr_09\\\\78034.13~A22.K_9R.png',\n",
       "   'F:\\\\MyProject\\\\MachineLearning\\\\Mydata\\\\chr_09\\\\78034.13~A6.K_9R.png',\n",
       "   'F:\\\\MyProject\\\\MachineLearning\\\\Mydata\\\\chr_09\\\\78034.14~A40.K_9R.png',\n",
       "   'F:\\\\MyProject\\\\MachineLearning\\\\Mydata\\\\chr_09\\\\78034.2~A23.K_9R.png',\n",
       "   'F:\\\\MyProject\\\\MachineLearning\\\\Mydata\\\\chr_09\\\\78034.2~A48.K_9R.png',\n",
       "   'F:\\\\MyProject\\\\MachineLearning\\\\Mydata\\\\chr_09\\\\78034.3~A39.K_9R.png',\n",
       "   'F:\\\\MyProject\\\\MachineLearning\\\\Mydata\\\\chr_09\\\\78034.4~A36.K_9R.png',\n",
       "   'F:\\\\MyProject\\\\MachineLearning\\\\Mydata\\\\chr_09\\\\78058.3~A19.K_9R.png',\n",
       "   'F:\\\\MyProject\\\\MachineLearning\\\\Mydata\\\\chr_09\\\\78058.3~A26.K_9R.png',\n",
       "   'F:\\\\MyProject\\\\MachineLearning\\\\Mydata\\\\chr_09\\\\78058.4~A15.K_9R.png',\n",
       "   'F:\\\\MyProject\\\\MachineLearning\\\\Mydata\\\\chr_09\\\\78058.4~A48.K_9R.png',\n",
       "   'F:\\\\MyProject\\\\MachineLearning\\\\Mydata\\\\chr_09\\\\78058.4~A8.K_9R.png',\n",
       "   'F:\\\\MyProject\\\\MachineLearning\\\\Mydata\\\\chr_09\\\\78142.12~A27.K_9R.png',\n",
       "   'F:\\\\MyProject\\\\MachineLearning\\\\Mydata\\\\chr_09\\\\78142.2~A13.K_9R.png',\n",
       "   'F:\\\\MyProject\\\\MachineLearning\\\\Mydata\\\\chr_09\\\\78220.2~A21.K_9R.png',\n",
       "   'F:\\\\MyProject\\\\MachineLearning\\\\Mydata\\\\chr_09\\\\78220.3~A23.K_9R.png',\n",
       "   'F:\\\\MyProject\\\\MachineLearning\\\\Mydata\\\\chr_09\\\\78220.4~A17.K_9R.png',\n",
       "   'F:\\\\MyProject\\\\MachineLearning\\\\Mydata\\\\chr_09\\\\78230.12~A47.K_9R.png',\n",
       "   'F:\\\\MyProject\\\\MachineLearning\\\\Mydata\\\\chr_09\\\\78230.13~A12.K_9R.png',\n",
       "   'F:\\\\MyProject\\\\MachineLearning\\\\Mydata\\\\chr_09\\\\78230.14~A47.K_9R.png',\n",
       "   'F:\\\\MyProject\\\\MachineLearning\\\\Mydata\\\\chr_09\\\\78230.2~A1.K_9R.png',\n",
       "   'F:\\\\MyProject\\\\MachineLearning\\\\Mydata\\\\chr_09\\\\78230.3~A14.K_9R.png',\n",
       "   'F:\\\\MyProject\\\\MachineLearning\\\\Mydata\\\\chr_09\\\\78230.4~A17.K_9R.png',\n",
       "   'F:\\\\MyProject\\\\MachineLearning\\\\Mydata\\\\chr_09\\\\78451.12~A1.K_9R.png',\n",
       "   'F:\\\\MyProject\\\\MachineLearning\\\\Mydata\\\\chr_09\\\\78451.12~A32.K_9R.png',\n",
       "   'F:\\\\MyProject\\\\MachineLearning\\\\Mydata\\\\chr_09\\\\78451.2~A16.K_9R.png',\n",
       "   'F:\\\\MyProject\\\\MachineLearning\\\\Mydata\\\\chr_09\\\\78451.2~A30.K_9R.png',\n",
       "   'F:\\\\MyProject\\\\MachineLearning\\\\Mydata\\\\chr_09\\\\78451.3~A41.K_9R.png',\n",
       "   'F:\\\\MyProject\\\\MachineLearning\\\\Mydata\\\\chr_09\\\\78451.4~A16.K_9R.png',\n",
       "   'F:\\\\MyProject\\\\MachineLearning\\\\Mydata\\\\chr_09\\\\78834.14~A21.K_9R.png',\n",
       "   'F:\\\\MyProject\\\\MachineLearning\\\\Mydata\\\\chr_09\\\\78834.3~A16.K_9R.png',\n",
       "   'F:\\\\MyProject\\\\MachineLearning\\\\Mydata\\\\chr_09\\\\78834.3~A35.K_9R.png',\n",
       "   'F:\\\\MyProject\\\\MachineLearning\\\\Mydata\\\\chr_09\\\\78834.4~A24.K_9R.png',\n",
       "   'F:\\\\MyProject\\\\MachineLearning\\\\Mydata\\\\chr_09\\\\79501.1~A19.K_9R.png',\n",
       "   'F:\\\\MyProject\\\\MachineLearning\\\\Mydata\\\\chr_09\\\\79501.3~A10.K_9R.png'],\n",
       "  '2': ['F:\\\\MyProject\\\\MachineLearning\\\\Mydata\\\\chr_09\\\\78034.12~A15.K_9R.png',\n",
       "   'F:\\\\MyProject\\\\MachineLearning\\\\Mydata\\\\chr_09\\\\78034.12~A21.K_9R.png',\n",
       "   'F:\\\\MyProject\\\\MachineLearning\\\\Mydata\\\\chr_09\\\\78034.12~A30.K_9R.png',\n",
       "   'F:\\\\MyProject\\\\MachineLearning\\\\Mydata\\\\chr_09\\\\78034.13~A1.K_9R.png',\n",
       "   'F:\\\\MyProject\\\\MachineLearning\\\\Mydata\\\\chr_09\\\\78034.13~A22.K_9R.png',\n",
       "   'F:\\\\MyProject\\\\MachineLearning\\\\Mydata\\\\chr_09\\\\78034.13~A6.K_9R.png',\n",
       "   'F:\\\\MyProject\\\\MachineLearning\\\\Mydata\\\\chr_09\\\\78034.14~A40.K_9R.png',\n",
       "   'F:\\\\MyProject\\\\MachineLearning\\\\Mydata\\\\chr_09\\\\78034.2~A23.K_9R.png',\n",
       "   'F:\\\\MyProject\\\\MachineLearning\\\\Mydata\\\\chr_09\\\\78034.2~A48.K_9R.png',\n",
       "   'F:\\\\MyProject\\\\MachineLearning\\\\Mydata\\\\chr_09\\\\78034.4~A36.K_9R.png',\n",
       "   'F:\\\\MyProject\\\\MachineLearning\\\\Mydata\\\\chr_09\\\\78058.3~A19.K_9R.png',\n",
       "   'F:\\\\MyProject\\\\MachineLearning\\\\Mydata\\\\chr_09\\\\78058.3~A2.K_9R.png',\n",
       "   'F:\\\\MyProject\\\\MachineLearning\\\\Mydata\\\\chr_09\\\\78058.4~A15.K_9R.png',\n",
       "   'F:\\\\MyProject\\\\MachineLearning\\\\Mydata\\\\chr_09\\\\78058.4~A48.K_9R.png',\n",
       "   'F:\\\\MyProject\\\\MachineLearning\\\\Mydata\\\\chr_09\\\\78142.12~A27.K_9R.png',\n",
       "   'F:\\\\MyProject\\\\MachineLearning\\\\Mydata\\\\chr_09\\\\78142.13~A20.K_9R.png',\n",
       "   'F:\\\\MyProject\\\\MachineLearning\\\\Mydata\\\\chr_09\\\\78142.2~A13.K_9R.png',\n",
       "   'F:\\\\MyProject\\\\MachineLearning\\\\Mydata\\\\chr_09\\\\78142.4~A44.K_9R.png',\n",
       "   'F:\\\\MyProject\\\\MachineLearning\\\\Mydata\\\\chr_09\\\\78220.1~A45.K_9R.png',\n",
       "   'F:\\\\MyProject\\\\MachineLearning\\\\Mydata\\\\chr_09\\\\78220.4~A17.K_9R.png',\n",
       "   'F:\\\\MyProject\\\\MachineLearning\\\\Mydata\\\\chr_09\\\\78220.4~A38.K_9R.png',\n",
       "   'F:\\\\MyProject\\\\MachineLearning\\\\Mydata\\\\chr_09\\\\78230.12~A47.K_9R.png',\n",
       "   'F:\\\\MyProject\\\\MachineLearning\\\\Mydata\\\\chr_09\\\\78230.13~A12.K_9R.png',\n",
       "   'F:\\\\MyProject\\\\MachineLearning\\\\Mydata\\\\chr_09\\\\78230.14~A47.K_9R.png',\n",
       "   'F:\\\\MyProject\\\\MachineLearning\\\\Mydata\\\\chr_09\\\\78230.3~A14.K_9R.png',\n",
       "   'F:\\\\MyProject\\\\MachineLearning\\\\Mydata\\\\chr_09\\\\78230.3~A5.K_9R.png',\n",
       "   'F:\\\\MyProject\\\\MachineLearning\\\\Mydata\\\\chr_09\\\\78451.12~A1.K_9R.png',\n",
       "   'F:\\\\MyProject\\\\MachineLearning\\\\Mydata\\\\chr_09\\\\78451.12~A32.K_9R.png',\n",
       "   'F:\\\\MyProject\\\\MachineLearning\\\\Mydata\\\\chr_09\\\\78451.12~A38.K_9R.png',\n",
       "   'F:\\\\MyProject\\\\MachineLearning\\\\Mydata\\\\chr_09\\\\78451.2~A16.K_9R.png',\n",
       "   'F:\\\\MyProject\\\\MachineLearning\\\\Mydata\\\\chr_09\\\\78451.2~A30.K_9R.png',\n",
       "   'F:\\\\MyProject\\\\MachineLearning\\\\Mydata\\\\chr_09\\\\78451.3~A37.K_9R.png',\n",
       "   'F:\\\\MyProject\\\\MachineLearning\\\\Mydata\\\\chr_09\\\\78451.3~A41.K_9R.png',\n",
       "   'F:\\\\MyProject\\\\MachineLearning\\\\Mydata\\\\chr_09\\\\78834.12~A25.K_9R.png',\n",
       "   'F:\\\\MyProject\\\\MachineLearning\\\\Mydata\\\\chr_09\\\\78834.14~A21.K_9R.png',\n",
       "   'F:\\\\MyProject\\\\MachineLearning\\\\Mydata\\\\chr_09\\\\78834.3~A16.K_9R.png',\n",
       "   'F:\\\\MyProject\\\\MachineLearning\\\\Mydata\\\\chr_09\\\\78834.4~A24.K_9R.png',\n",
       "   'F:\\\\MyProject\\\\MachineLearning\\\\Mydata\\\\chr_09\\\\79501.1~A19.K_9R.png',\n",
       "   'F:\\\\MyProject\\\\MachineLearning\\\\Mydata\\\\chr_09\\\\79501.3~A10.K_9R.png',\n",
       "   'F:\\\\MyProject\\\\MachineLearning\\\\Mydata\\\\chr_09\\\\79501.3~A30.K_9R.png'],\n",
       "  '3': ['F:\\\\MyProject\\\\MachineLearning\\\\Mydata\\\\chr_09\\\\78034.12~A15.K_9R.png',\n",
       "   'F:\\\\MyProject\\\\MachineLearning\\\\Mydata\\\\chr_09\\\\78034.12~A30.K_9R.png',\n",
       "   'F:\\\\MyProject\\\\MachineLearning\\\\Mydata\\\\chr_09\\\\78034.13~A1.K_9R.png',\n",
       "   'F:\\\\MyProject\\\\MachineLearning\\\\Mydata\\\\chr_09\\\\78034.13~A17.K_9R.png',\n",
       "   'F:\\\\MyProject\\\\MachineLearning\\\\Mydata\\\\chr_09\\\\78034.13~A22.K_9R.png',\n",
       "   'F:\\\\MyProject\\\\MachineLearning\\\\Mydata\\\\chr_09\\\\78034.2~A23.K_9R.png',\n",
       "   'F:\\\\MyProject\\\\MachineLearning\\\\Mydata\\\\chr_09\\\\78034.2~A48.K_9R.png',\n",
       "   'F:\\\\MyProject\\\\MachineLearning\\\\Mydata\\\\chr_09\\\\78034.3~A39.K_9R.png',\n",
       "   'F:\\\\MyProject\\\\MachineLearning\\\\Mydata\\\\chr_09\\\\78034.4~A36.K_9R.png',\n",
       "   'F:\\\\MyProject\\\\MachineLearning\\\\Mydata\\\\chr_09\\\\78058.3~A19.K_9R.png',\n",
       "   'F:\\\\MyProject\\\\MachineLearning\\\\Mydata\\\\chr_09\\\\78058.3~A2.K_9R.png',\n",
       "   'F:\\\\MyProject\\\\MachineLearning\\\\Mydata\\\\chr_09\\\\78058.3~A26.K_9R.png',\n",
       "   'F:\\\\MyProject\\\\MachineLearning\\\\Mydata\\\\chr_09\\\\78058.4~A15.K_9R.png',\n",
       "   'F:\\\\MyProject\\\\MachineLearning\\\\Mydata\\\\chr_09\\\\78058.4~A48.K_9R.png',\n",
       "   'F:\\\\MyProject\\\\MachineLearning\\\\Mydata\\\\chr_09\\\\78058.4~A8.K_9R.png',\n",
       "   'F:\\\\MyProject\\\\MachineLearning\\\\Mydata\\\\chr_09\\\\78142.13~A20.K_9R.png',\n",
       "   'F:\\\\MyProject\\\\MachineLearning\\\\Mydata\\\\chr_09\\\\78142.4~A44.K_9R.png',\n",
       "   'F:\\\\MyProject\\\\MachineLearning\\\\Mydata\\\\chr_09\\\\78220.1~A45.K_9R.png',\n",
       "   'F:\\\\MyProject\\\\MachineLearning\\\\Mydata\\\\chr_09\\\\78220.2~A21.K_9R.png',\n",
       "   'F:\\\\MyProject\\\\MachineLearning\\\\Mydata\\\\chr_09\\\\78220.3~A23.K_9R.png',\n",
       "   'F:\\\\MyProject\\\\MachineLearning\\\\Mydata\\\\chr_09\\\\78220.4~A38.K_9R.png',\n",
       "   'F:\\\\MyProject\\\\MachineLearning\\\\Mydata\\\\chr_09\\\\78230.12~A47.K_9R.png',\n",
       "   'F:\\\\MyProject\\\\MachineLearning\\\\Mydata\\\\chr_09\\\\78230.14~A47.K_9R.png',\n",
       "   'F:\\\\MyProject\\\\MachineLearning\\\\Mydata\\\\chr_09\\\\78230.2~A1.K_9R.png',\n",
       "   'F:\\\\MyProject\\\\MachineLearning\\\\Mydata\\\\chr_09\\\\78230.3~A14.K_9R.png',\n",
       "   'F:\\\\MyProject\\\\MachineLearning\\\\Mydata\\\\chr_09\\\\78230.3~A5.K_9R.png',\n",
       "   'F:\\\\MyProject\\\\MachineLearning\\\\Mydata\\\\chr_09\\\\78230.4~A17.K_9R.png',\n",
       "   'F:\\\\MyProject\\\\MachineLearning\\\\Mydata\\\\chr_09\\\\78451.12~A32.K_9R.png',\n",
       "   'F:\\\\MyProject\\\\MachineLearning\\\\Mydata\\\\chr_09\\\\78451.12~A38.K_9R.png',\n",
       "   'F:\\\\MyProject\\\\MachineLearning\\\\Mydata\\\\chr_09\\\\78451.2~A16.K_9R.png',\n",
       "   'F:\\\\MyProject\\\\MachineLearning\\\\Mydata\\\\chr_09\\\\78451.2~A30.K_9R.png',\n",
       "   'F:\\\\MyProject\\\\MachineLearning\\\\Mydata\\\\chr_09\\\\78451.3~A37.K_9R.png',\n",
       "   'F:\\\\MyProject\\\\MachineLearning\\\\Mydata\\\\chr_09\\\\78451.3~A41.K_9R.png',\n",
       "   'F:\\\\MyProject\\\\MachineLearning\\\\Mydata\\\\chr_09\\\\78451.4~A16.K_9R.png',\n",
       "   'F:\\\\MyProject\\\\MachineLearning\\\\Mydata\\\\chr_09\\\\78834.12~A25.K_9R.png',\n",
       "   'F:\\\\MyProject\\\\MachineLearning\\\\Mydata\\\\chr_09\\\\78834.14~A21.K_9R.png',\n",
       "   'F:\\\\MyProject\\\\MachineLearning\\\\Mydata\\\\chr_09\\\\78834.3~A35.K_9R.png',\n",
       "   'F:\\\\MyProject\\\\MachineLearning\\\\Mydata\\\\chr_09\\\\78834.4~A24.K_9R.png',\n",
       "   'F:\\\\MyProject\\\\MachineLearning\\\\Mydata\\\\chr_09\\\\79501.3~A10.K_9R.png',\n",
       "   'F:\\\\MyProject\\\\MachineLearning\\\\Mydata\\\\chr_09\\\\79501.3~A30.K_9R.png'],\n",
       "  '4': ['F:\\\\MyProject\\\\MachineLearning\\\\Mydata\\\\chr_09\\\\78034.12~A21.K_9R.png',\n",
       "   'F:\\\\MyProject\\\\MachineLearning\\\\Mydata\\\\chr_09\\\\78034.12~A30.K_9R.png',\n",
       "   'F:\\\\MyProject\\\\MachineLearning\\\\Mydata\\\\chr_09\\\\78034.13~A1.K_9R.png',\n",
       "   'F:\\\\MyProject\\\\MachineLearning\\\\Mydata\\\\chr_09\\\\78034.13~A17.K_9R.png',\n",
       "   'F:\\\\MyProject\\\\MachineLearning\\\\Mydata\\\\chr_09\\\\78034.13~A6.K_9R.png',\n",
       "   'F:\\\\MyProject\\\\MachineLearning\\\\Mydata\\\\chr_09\\\\78034.14~A40.K_9R.png',\n",
       "   'F:\\\\MyProject\\\\MachineLearning\\\\Mydata\\\\chr_09\\\\78034.3~A39.K_9R.png',\n",
       "   'F:\\\\MyProject\\\\MachineLearning\\\\Mydata\\\\chr_09\\\\78058.3~A2.K_9R.png',\n",
       "   'F:\\\\MyProject\\\\MachineLearning\\\\Mydata\\\\chr_09\\\\78058.3~A26.K_9R.png',\n",
       "   'F:\\\\MyProject\\\\MachineLearning\\\\Mydata\\\\chr_09\\\\78058.4~A8.K_9R.png',\n",
       "   'F:\\\\MyProject\\\\MachineLearning\\\\Mydata\\\\chr_09\\\\78142.12~A27.K_9R.png',\n",
       "   'F:\\\\MyProject\\\\MachineLearning\\\\Mydata\\\\chr_09\\\\78142.13~A20.K_9R.png',\n",
       "   'F:\\\\MyProject\\\\MachineLearning\\\\Mydata\\\\chr_09\\\\78142.2~A13.K_9R.png',\n",
       "   'F:\\\\MyProject\\\\MachineLearning\\\\Mydata\\\\chr_09\\\\78142.4~A44.K_9R.png',\n",
       "   'F:\\\\MyProject\\\\MachineLearning\\\\Mydata\\\\chr_09\\\\78220.1~A45.K_9R.png',\n",
       "   'F:\\\\MyProject\\\\MachineLearning\\\\Mydata\\\\chr_09\\\\78220.2~A21.K_9R.png',\n",
       "   'F:\\\\MyProject\\\\MachineLearning\\\\Mydata\\\\chr_09\\\\78220.3~A23.K_9R.png',\n",
       "   'F:\\\\MyProject\\\\MachineLearning\\\\Mydata\\\\chr_09\\\\78220.4~A17.K_9R.png',\n",
       "   'F:\\\\MyProject\\\\MachineLearning\\\\Mydata\\\\chr_09\\\\78220.4~A38.K_9R.png',\n",
       "   'F:\\\\MyProject\\\\MachineLearning\\\\Mydata\\\\chr_09\\\\78230.12~A47.K_9R.png',\n",
       "   'F:\\\\MyProject\\\\MachineLearning\\\\Mydata\\\\chr_09\\\\78230.13~A12.K_9R.png',\n",
       "   'F:\\\\MyProject\\\\MachineLearning\\\\Mydata\\\\chr_09\\\\78230.14~A47.K_9R.png',\n",
       "   'F:\\\\MyProject\\\\MachineLearning\\\\Mydata\\\\chr_09\\\\78230.2~A1.K_9R.png',\n",
       "   'F:\\\\MyProject\\\\MachineLearning\\\\Mydata\\\\chr_09\\\\78230.3~A14.K_9R.png',\n",
       "   'F:\\\\MyProject\\\\MachineLearning\\\\Mydata\\\\chr_09\\\\78230.3~A5.K_9R.png',\n",
       "   'F:\\\\MyProject\\\\MachineLearning\\\\Mydata\\\\chr_09\\\\78230.4~A17.K_9R.png',\n",
       "   'F:\\\\MyProject\\\\MachineLearning\\\\Mydata\\\\chr_09\\\\78451.12~A1.K_9R.png',\n",
       "   'F:\\\\MyProject\\\\MachineLearning\\\\Mydata\\\\chr_09\\\\78451.12~A32.K_9R.png',\n",
       "   'F:\\\\MyProject\\\\MachineLearning\\\\Mydata\\\\chr_09\\\\78451.12~A38.K_9R.png',\n",
       "   'F:\\\\MyProject\\\\MachineLearning\\\\Mydata\\\\chr_09\\\\78451.2~A30.K_9R.png',\n",
       "   'F:\\\\MyProject\\\\MachineLearning\\\\Mydata\\\\chr_09\\\\78451.3~A37.K_9R.png',\n",
       "   'F:\\\\MyProject\\\\MachineLearning\\\\Mydata\\\\chr_09\\\\78451.3~A41.K_9R.png',\n",
       "   'F:\\\\MyProject\\\\MachineLearning\\\\Mydata\\\\chr_09\\\\78451.4~A16.K_9R.png',\n",
       "   'F:\\\\MyProject\\\\MachineLearning\\\\Mydata\\\\chr_09\\\\78834.12~A25.K_9R.png',\n",
       "   'F:\\\\MyProject\\\\MachineLearning\\\\Mydata\\\\chr_09\\\\78834.3~A16.K_9R.png',\n",
       "   'F:\\\\MyProject\\\\MachineLearning\\\\Mydata\\\\chr_09\\\\78834.3~A35.K_9R.png',\n",
       "   'F:\\\\MyProject\\\\MachineLearning\\\\Mydata\\\\chr_09\\\\78834.4~A24.K_9R.png',\n",
       "   'F:\\\\MyProject\\\\MachineLearning\\\\Mydata\\\\chr_09\\\\79501.1~A19.K_9R.png',\n",
       "   'F:\\\\MyProject\\\\MachineLearning\\\\Mydata\\\\chr_09\\\\79501.3~A10.K_9R.png',\n",
       "   'F:\\\\MyProject\\\\MachineLearning\\\\Mydata\\\\chr_09\\\\79501.3~A30.K_9R.png']},\n",
       " 'chr_9_inversion': {'0': ['F:\\\\MyProject\\\\MachineLearning\\\\Mydata\\\\chr_9_inversion\\\\78034.12~A15.K_9L.png',\n",
       "   'F:\\\\MyProject\\\\MachineLearning\\\\Mydata\\\\chr_9_inversion\\\\78034.12~A21.K_9L.png',\n",
       "   'F:\\\\MyProject\\\\MachineLearning\\\\Mydata\\\\chr_9_inversion\\\\78034.13~A17.K_9L.png',\n",
       "   'F:\\\\MyProject\\\\MachineLearning\\\\Mydata\\\\chr_9_inversion\\\\78034.13~A22.K_9L.png',\n",
       "   'F:\\\\MyProject\\\\MachineLearning\\\\Mydata\\\\chr_9_inversion\\\\78034.13~A6.K_9L.png',\n",
       "   'F:\\\\MyProject\\\\MachineLearning\\\\Mydata\\\\chr_9_inversion\\\\78034.14~A40.K_9L.png',\n",
       "   'F:\\\\MyProject\\\\MachineLearning\\\\Mydata\\\\chr_9_inversion\\\\78034.2~A23.K_9L.png',\n",
       "   'F:\\\\MyProject\\\\MachineLearning\\\\Mydata\\\\chr_9_inversion\\\\78034.2~A48.K_9L.png',\n",
       "   'F:\\\\MyProject\\\\MachineLearning\\\\Mydata\\\\chr_9_inversion\\\\78034.3~A39.K_9L.png',\n",
       "   'F:\\\\MyProject\\\\MachineLearning\\\\Mydata\\\\chr_9_inversion\\\\78034.4~A36.K_9L.png',\n",
       "   'F:\\\\MyProject\\\\MachineLearning\\\\Mydata\\\\chr_9_inversion\\\\78058.3~A19.K_9L.png',\n",
       "   'F:\\\\MyProject\\\\MachineLearning\\\\Mydata\\\\chr_9_inversion\\\\78058.3~A2.K_9L.png',\n",
       "   'F:\\\\MyProject\\\\MachineLearning\\\\Mydata\\\\chr_9_inversion\\\\78058.3~A26.K_9L.png',\n",
       "   'F:\\\\MyProject\\\\MachineLearning\\\\Mydata\\\\chr_9_inversion\\\\78058.4~A15.K_9L.png',\n",
       "   'F:\\\\MyProject\\\\MachineLearning\\\\Mydata\\\\chr_9_inversion\\\\78058.4~A48.K_9L.png',\n",
       "   'F:\\\\MyProject\\\\MachineLearning\\\\Mydata\\\\chr_9_inversion\\\\78058.4~A8.K_9L.png',\n",
       "   'F:\\\\MyProject\\\\MachineLearning\\\\Mydata\\\\chr_9_inversion\\\\78142.12~A27.K_9L.png',\n",
       "   'F:\\\\MyProject\\\\MachineLearning\\\\Mydata\\\\chr_9_inversion\\\\78142.13~A20.K_9L.png',\n",
       "   'F:\\\\MyProject\\\\MachineLearning\\\\Mydata\\\\chr_9_inversion\\\\78142.2~A13.K_9L.png',\n",
       "   'F:\\\\MyProject\\\\MachineLearning\\\\Mydata\\\\chr_9_inversion\\\\78142.4~A44.K_9l.png',\n",
       "   'F:\\\\MyProject\\\\MachineLearning\\\\Mydata\\\\chr_9_inversion\\\\78220.1~A45.K_9L.png',\n",
       "   'F:\\\\MyProject\\\\MachineLearning\\\\Mydata\\\\chr_9_inversion\\\\78220.2~A21.K_9L.png',\n",
       "   'F:\\\\MyProject\\\\MachineLearning\\\\Mydata\\\\chr_9_inversion\\\\78220.3~A23.K_9L.png',\n",
       "   'F:\\\\MyProject\\\\MachineLearning\\\\Mydata\\\\chr_9_inversion\\\\78220.4~A17.K_9L.png',\n",
       "   'F:\\\\MyProject\\\\MachineLearning\\\\Mydata\\\\chr_9_inversion\\\\78220.4~A38.K_9L.png',\n",
       "   'F:\\\\MyProject\\\\MachineLearning\\\\Mydata\\\\chr_9_inversion\\\\78230.13~A12.K_9L.png',\n",
       "   'F:\\\\MyProject\\\\MachineLearning\\\\Mydata\\\\chr_9_inversion\\\\78230.2~A1.K_9L.png',\n",
       "   'F:\\\\MyProject\\\\MachineLearning\\\\Mydata\\\\chr_9_inversion\\\\78230.3~A5.K_9L.png',\n",
       "   'F:\\\\MyProject\\\\MachineLearning\\\\Mydata\\\\chr_9_inversion\\\\78230.4~A17.K_9L.png',\n",
       "   'F:\\\\MyProject\\\\MachineLearning\\\\Mydata\\\\chr_9_inversion\\\\78451.12~A1.K_9L.png',\n",
       "   'F:\\\\MyProject\\\\MachineLearning\\\\Mydata\\\\chr_9_inversion\\\\78451.12~A38.K_9L.png',\n",
       "   'F:\\\\MyProject\\\\MachineLearning\\\\Mydata\\\\chr_9_inversion\\\\78451.2~A16.K_9L.png',\n",
       "   'F:\\\\MyProject\\\\MachineLearning\\\\Mydata\\\\chr_9_inversion\\\\78451.3~A37.K_9L.png',\n",
       "   'F:\\\\MyProject\\\\MachineLearning\\\\Mydata\\\\chr_9_inversion\\\\78451.4~A16.K_9L.png',\n",
       "   'F:\\\\MyProject\\\\MachineLearning\\\\Mydata\\\\chr_9_inversion\\\\78834.12~A25.K_9L.png',\n",
       "   'F:\\\\MyProject\\\\MachineLearning\\\\Mydata\\\\chr_9_inversion\\\\78834.14~A21.K_9L.png',\n",
       "   'F:\\\\MyProject\\\\MachineLearning\\\\Mydata\\\\chr_9_inversion\\\\78834.3~A16.K_9L.png',\n",
       "   'F:\\\\MyProject\\\\MachineLearning\\\\Mydata\\\\chr_9_inversion\\\\78834.3~A35.K_9L.png',\n",
       "   'F:\\\\MyProject\\\\MachineLearning\\\\Mydata\\\\chr_9_inversion\\\\79501.1~A19.K_9L.png',\n",
       "   'F:\\\\MyProject\\\\MachineLearning\\\\Mydata\\\\chr_9_inversion\\\\79501.3~A30.K_9L.png'],\n",
       "  '1': ['F:\\\\MyProject\\\\MachineLearning\\\\Mydata\\\\chr_9_inversion\\\\78034.12~A15.K_9L.png',\n",
       "   'F:\\\\MyProject\\\\MachineLearning\\\\Mydata\\\\chr_9_inversion\\\\78034.12~A21.K_9L.png',\n",
       "   'F:\\\\MyProject\\\\MachineLearning\\\\Mydata\\\\chr_9_inversion\\\\78034.12~A30.K_9L.png',\n",
       "   'F:\\\\MyProject\\\\MachineLearning\\\\Mydata\\\\chr_9_inversion\\\\78034.13~A1.K_9L.png',\n",
       "   'F:\\\\MyProject\\\\MachineLearning\\\\Mydata\\\\chr_9_inversion\\\\78034.13~A17.K_9L.png',\n",
       "   'F:\\\\MyProject\\\\MachineLearning\\\\Mydata\\\\chr_9_inversion\\\\78034.13~A22.K_9L.png',\n",
       "   'F:\\\\MyProject\\\\MachineLearning\\\\Mydata\\\\chr_9_inversion\\\\78034.13~A6.K_9L.png',\n",
       "   'F:\\\\MyProject\\\\MachineLearning\\\\Mydata\\\\chr_9_inversion\\\\78034.14~A40.K_9L.png',\n",
       "   'F:\\\\MyProject\\\\MachineLearning\\\\Mydata\\\\chr_9_inversion\\\\78034.2~A23.K_9L.png',\n",
       "   'F:\\\\MyProject\\\\MachineLearning\\\\Mydata\\\\chr_9_inversion\\\\78034.2~A48.K_9L.png',\n",
       "   'F:\\\\MyProject\\\\MachineLearning\\\\Mydata\\\\chr_9_inversion\\\\78034.3~A39.K_9L.png',\n",
       "   'F:\\\\MyProject\\\\MachineLearning\\\\Mydata\\\\chr_9_inversion\\\\78034.4~A36.K_9L.png',\n",
       "   'F:\\\\MyProject\\\\MachineLearning\\\\Mydata\\\\chr_9_inversion\\\\78058.3~A19.K_9L.png',\n",
       "   'F:\\\\MyProject\\\\MachineLearning\\\\Mydata\\\\chr_9_inversion\\\\78058.3~A26.K_9L.png',\n",
       "   'F:\\\\MyProject\\\\MachineLearning\\\\Mydata\\\\chr_9_inversion\\\\78058.4~A15.K_9L.png',\n",
       "   'F:\\\\MyProject\\\\MachineLearning\\\\Mydata\\\\chr_9_inversion\\\\78058.4~A48.K_9L.png',\n",
       "   'F:\\\\MyProject\\\\MachineLearning\\\\Mydata\\\\chr_9_inversion\\\\78058.4~A8.K_9L.png',\n",
       "   'F:\\\\MyProject\\\\MachineLearning\\\\Mydata\\\\chr_9_inversion\\\\78142.12~A27.K_9L.png',\n",
       "   'F:\\\\MyProject\\\\MachineLearning\\\\Mydata\\\\chr_9_inversion\\\\78142.2~A13.K_9L.png',\n",
       "   'F:\\\\MyProject\\\\MachineLearning\\\\Mydata\\\\chr_9_inversion\\\\78220.2~A21.K_9L.png',\n",
       "   'F:\\\\MyProject\\\\MachineLearning\\\\Mydata\\\\chr_9_inversion\\\\78220.3~A23.K_9L.png',\n",
       "   'F:\\\\MyProject\\\\MachineLearning\\\\Mydata\\\\chr_9_inversion\\\\78220.4~A17.K_9L.png',\n",
       "   'F:\\\\MyProject\\\\MachineLearning\\\\Mydata\\\\chr_9_inversion\\\\78230.12~A47.K_9L.png',\n",
       "   'F:\\\\MyProject\\\\MachineLearning\\\\Mydata\\\\chr_9_inversion\\\\78230.13~A12.K_9L.png',\n",
       "   'F:\\\\MyProject\\\\MachineLearning\\\\Mydata\\\\chr_9_inversion\\\\78230.14~A47.K_9L.png',\n",
       "   'F:\\\\MyProject\\\\MachineLearning\\\\Mydata\\\\chr_9_inversion\\\\78230.2~A1.K_9L.png',\n",
       "   'F:\\\\MyProject\\\\MachineLearning\\\\Mydata\\\\chr_9_inversion\\\\78230.3~A14.K_9L.png',\n",
       "   'F:\\\\MyProject\\\\MachineLearning\\\\Mydata\\\\chr_9_inversion\\\\78230.4~A17.K_9L.png',\n",
       "   'F:\\\\MyProject\\\\MachineLearning\\\\Mydata\\\\chr_9_inversion\\\\78451.12~A1.K_9L.png',\n",
       "   'F:\\\\MyProject\\\\MachineLearning\\\\Mydata\\\\chr_9_inversion\\\\78451.12~A32.K_9L.png',\n",
       "   'F:\\\\MyProject\\\\MachineLearning\\\\Mydata\\\\chr_9_inversion\\\\78451.2~A16.K_9L.png',\n",
       "   'F:\\\\MyProject\\\\MachineLearning\\\\Mydata\\\\chr_9_inversion\\\\78451.2~A30.K_9L.png',\n",
       "   'F:\\\\MyProject\\\\MachineLearning\\\\Mydata\\\\chr_9_inversion\\\\78451.3~A41.K_9L.png',\n",
       "   'F:\\\\MyProject\\\\MachineLearning\\\\Mydata\\\\chr_9_inversion\\\\78451.4~A16.K_9L.png',\n",
       "   'F:\\\\MyProject\\\\MachineLearning\\\\Mydata\\\\chr_9_inversion\\\\78834.14~A21.K_9L.png',\n",
       "   'F:\\\\MyProject\\\\MachineLearning\\\\Mydata\\\\chr_9_inversion\\\\78834.3~A16.K_9L.png',\n",
       "   'F:\\\\MyProject\\\\MachineLearning\\\\Mydata\\\\chr_9_inversion\\\\78834.3~A35.K_9L.png',\n",
       "   'F:\\\\MyProject\\\\MachineLearning\\\\Mydata\\\\chr_9_inversion\\\\78834.4~A24.K_9L.png',\n",
       "   'F:\\\\MyProject\\\\MachineLearning\\\\Mydata\\\\chr_9_inversion\\\\79501.1~A19.K_9L.png',\n",
       "   'F:\\\\MyProject\\\\MachineLearning\\\\Mydata\\\\chr_9_inversion\\\\79501.3~A10.K_9L.png'],\n",
       "  '2': ['F:\\\\MyProject\\\\MachineLearning\\\\Mydata\\\\chr_9_inversion\\\\78034.12~A15.K_9L.png',\n",
       "   'F:\\\\MyProject\\\\MachineLearning\\\\Mydata\\\\chr_9_inversion\\\\78034.12~A21.K_9L.png',\n",
       "   'F:\\\\MyProject\\\\MachineLearning\\\\Mydata\\\\chr_9_inversion\\\\78034.12~A30.K_9L.png',\n",
       "   'F:\\\\MyProject\\\\MachineLearning\\\\Mydata\\\\chr_9_inversion\\\\78034.13~A1.K_9L.png',\n",
       "   'F:\\\\MyProject\\\\MachineLearning\\\\Mydata\\\\chr_9_inversion\\\\78034.13~A22.K_9L.png',\n",
       "   'F:\\\\MyProject\\\\MachineLearning\\\\Mydata\\\\chr_9_inversion\\\\78034.13~A6.K_9L.png',\n",
       "   'F:\\\\MyProject\\\\MachineLearning\\\\Mydata\\\\chr_9_inversion\\\\78034.14~A40.K_9L.png',\n",
       "   'F:\\\\MyProject\\\\MachineLearning\\\\Mydata\\\\chr_9_inversion\\\\78034.2~A23.K_9L.png',\n",
       "   'F:\\\\MyProject\\\\MachineLearning\\\\Mydata\\\\chr_9_inversion\\\\78034.2~A48.K_9L.png',\n",
       "   'F:\\\\MyProject\\\\MachineLearning\\\\Mydata\\\\chr_9_inversion\\\\78034.4~A36.K_9L.png',\n",
       "   'F:\\\\MyProject\\\\MachineLearning\\\\Mydata\\\\chr_9_inversion\\\\78058.3~A19.K_9L.png',\n",
       "   'F:\\\\MyProject\\\\MachineLearning\\\\Mydata\\\\chr_9_inversion\\\\78058.3~A2.K_9L.png',\n",
       "   'F:\\\\MyProject\\\\MachineLearning\\\\Mydata\\\\chr_9_inversion\\\\78058.4~A15.K_9L.png',\n",
       "   'F:\\\\MyProject\\\\MachineLearning\\\\Mydata\\\\chr_9_inversion\\\\78058.4~A48.K_9L.png',\n",
       "   'F:\\\\MyProject\\\\MachineLearning\\\\Mydata\\\\chr_9_inversion\\\\78142.12~A27.K_9L.png',\n",
       "   'F:\\\\MyProject\\\\MachineLearning\\\\Mydata\\\\chr_9_inversion\\\\78142.13~A20.K_9L.png',\n",
       "   'F:\\\\MyProject\\\\MachineLearning\\\\Mydata\\\\chr_9_inversion\\\\78142.2~A13.K_9L.png',\n",
       "   'F:\\\\MyProject\\\\MachineLearning\\\\Mydata\\\\chr_9_inversion\\\\78142.4~A44.K_9l.png',\n",
       "   'F:\\\\MyProject\\\\MachineLearning\\\\Mydata\\\\chr_9_inversion\\\\78220.1~A45.K_9L.png',\n",
       "   'F:\\\\MyProject\\\\MachineLearning\\\\Mydata\\\\chr_9_inversion\\\\78220.4~A17.K_9L.png',\n",
       "   'F:\\\\MyProject\\\\MachineLearning\\\\Mydata\\\\chr_9_inversion\\\\78220.4~A38.K_9L.png',\n",
       "   'F:\\\\MyProject\\\\MachineLearning\\\\Mydata\\\\chr_9_inversion\\\\78230.12~A47.K_9L.png',\n",
       "   'F:\\\\MyProject\\\\MachineLearning\\\\Mydata\\\\chr_9_inversion\\\\78230.13~A12.K_9L.png',\n",
       "   'F:\\\\MyProject\\\\MachineLearning\\\\Mydata\\\\chr_9_inversion\\\\78230.14~A47.K_9L.png',\n",
       "   'F:\\\\MyProject\\\\MachineLearning\\\\Mydata\\\\chr_9_inversion\\\\78230.3~A14.K_9L.png',\n",
       "   'F:\\\\MyProject\\\\MachineLearning\\\\Mydata\\\\chr_9_inversion\\\\78230.3~A5.K_9L.png',\n",
       "   'F:\\\\MyProject\\\\MachineLearning\\\\Mydata\\\\chr_9_inversion\\\\78451.12~A1.K_9L.png',\n",
       "   'F:\\\\MyProject\\\\MachineLearning\\\\Mydata\\\\chr_9_inversion\\\\78451.12~A32.K_9L.png',\n",
       "   'F:\\\\MyProject\\\\MachineLearning\\\\Mydata\\\\chr_9_inversion\\\\78451.12~A38.K_9L.png',\n",
       "   'F:\\\\MyProject\\\\MachineLearning\\\\Mydata\\\\chr_9_inversion\\\\78451.2~A16.K_9L.png',\n",
       "   'F:\\\\MyProject\\\\MachineLearning\\\\Mydata\\\\chr_9_inversion\\\\78451.2~A30.K_9L.png',\n",
       "   'F:\\\\MyProject\\\\MachineLearning\\\\Mydata\\\\chr_9_inversion\\\\78451.3~A37.K_9L.png',\n",
       "   'F:\\\\MyProject\\\\MachineLearning\\\\Mydata\\\\chr_9_inversion\\\\78451.3~A41.K_9L.png',\n",
       "   'F:\\\\MyProject\\\\MachineLearning\\\\Mydata\\\\chr_9_inversion\\\\78834.12~A25.K_9L.png',\n",
       "   'F:\\\\MyProject\\\\MachineLearning\\\\Mydata\\\\chr_9_inversion\\\\78834.14~A21.K_9L.png',\n",
       "   'F:\\\\MyProject\\\\MachineLearning\\\\Mydata\\\\chr_9_inversion\\\\78834.3~A16.K_9L.png',\n",
       "   'F:\\\\MyProject\\\\MachineLearning\\\\Mydata\\\\chr_9_inversion\\\\78834.4~A24.K_9L.png',\n",
       "   'F:\\\\MyProject\\\\MachineLearning\\\\Mydata\\\\chr_9_inversion\\\\79501.1~A19.K_9L.png',\n",
       "   'F:\\\\MyProject\\\\MachineLearning\\\\Mydata\\\\chr_9_inversion\\\\79501.3~A10.K_9L.png',\n",
       "   'F:\\\\MyProject\\\\MachineLearning\\\\Mydata\\\\chr_9_inversion\\\\79501.3~A30.K_9L.png'],\n",
       "  '3': ['F:\\\\MyProject\\\\MachineLearning\\\\Mydata\\\\chr_9_inversion\\\\78034.12~A15.K_9L.png',\n",
       "   'F:\\\\MyProject\\\\MachineLearning\\\\Mydata\\\\chr_9_inversion\\\\78034.12~A30.K_9L.png',\n",
       "   'F:\\\\MyProject\\\\MachineLearning\\\\Mydata\\\\chr_9_inversion\\\\78034.13~A1.K_9L.png',\n",
       "   'F:\\\\MyProject\\\\MachineLearning\\\\Mydata\\\\chr_9_inversion\\\\78034.13~A17.K_9L.png',\n",
       "   'F:\\\\MyProject\\\\MachineLearning\\\\Mydata\\\\chr_9_inversion\\\\78034.13~A22.K_9L.png',\n",
       "   'F:\\\\MyProject\\\\MachineLearning\\\\Mydata\\\\chr_9_inversion\\\\78034.2~A23.K_9L.png',\n",
       "   'F:\\\\MyProject\\\\MachineLearning\\\\Mydata\\\\chr_9_inversion\\\\78034.2~A48.K_9L.png',\n",
       "   'F:\\\\MyProject\\\\MachineLearning\\\\Mydata\\\\chr_9_inversion\\\\78034.3~A39.K_9L.png',\n",
       "   'F:\\\\MyProject\\\\MachineLearning\\\\Mydata\\\\chr_9_inversion\\\\78034.4~A36.K_9L.png',\n",
       "   'F:\\\\MyProject\\\\MachineLearning\\\\Mydata\\\\chr_9_inversion\\\\78058.3~A19.K_9L.png',\n",
       "   'F:\\\\MyProject\\\\MachineLearning\\\\Mydata\\\\chr_9_inversion\\\\78058.3~A2.K_9L.png',\n",
       "   'F:\\\\MyProject\\\\MachineLearning\\\\Mydata\\\\chr_9_inversion\\\\78058.3~A26.K_9L.png',\n",
       "   'F:\\\\MyProject\\\\MachineLearning\\\\Mydata\\\\chr_9_inversion\\\\78058.4~A15.K_9L.png',\n",
       "   'F:\\\\MyProject\\\\MachineLearning\\\\Mydata\\\\chr_9_inversion\\\\78058.4~A48.K_9L.png',\n",
       "   'F:\\\\MyProject\\\\MachineLearning\\\\Mydata\\\\chr_9_inversion\\\\78058.4~A8.K_9L.png',\n",
       "   'F:\\\\MyProject\\\\MachineLearning\\\\Mydata\\\\chr_9_inversion\\\\78142.13~A20.K_9L.png',\n",
       "   'F:\\\\MyProject\\\\MachineLearning\\\\Mydata\\\\chr_9_inversion\\\\78142.4~A44.K_9l.png',\n",
       "   'F:\\\\MyProject\\\\MachineLearning\\\\Mydata\\\\chr_9_inversion\\\\78220.1~A45.K_9L.png',\n",
       "   'F:\\\\MyProject\\\\MachineLearning\\\\Mydata\\\\chr_9_inversion\\\\78220.2~A21.K_9L.png',\n",
       "   'F:\\\\MyProject\\\\MachineLearning\\\\Mydata\\\\chr_9_inversion\\\\78220.3~A23.K_9L.png',\n",
       "   'F:\\\\MyProject\\\\MachineLearning\\\\Mydata\\\\chr_9_inversion\\\\78220.4~A38.K_9L.png',\n",
       "   'F:\\\\MyProject\\\\MachineLearning\\\\Mydata\\\\chr_9_inversion\\\\78230.12~A47.K_9L.png',\n",
       "   'F:\\\\MyProject\\\\MachineLearning\\\\Mydata\\\\chr_9_inversion\\\\78230.14~A47.K_9L.png',\n",
       "   'F:\\\\MyProject\\\\MachineLearning\\\\Mydata\\\\chr_9_inversion\\\\78230.2~A1.K_9L.png',\n",
       "   'F:\\\\MyProject\\\\MachineLearning\\\\Mydata\\\\chr_9_inversion\\\\78230.3~A14.K_9L.png',\n",
       "   'F:\\\\MyProject\\\\MachineLearning\\\\Mydata\\\\chr_9_inversion\\\\78230.3~A5.K_9L.png',\n",
       "   'F:\\\\MyProject\\\\MachineLearning\\\\Mydata\\\\chr_9_inversion\\\\78230.4~A17.K_9L.png',\n",
       "   'F:\\\\MyProject\\\\MachineLearning\\\\Mydata\\\\chr_9_inversion\\\\78451.12~A32.K_9L.png',\n",
       "   'F:\\\\MyProject\\\\MachineLearning\\\\Mydata\\\\chr_9_inversion\\\\78451.12~A38.K_9L.png',\n",
       "   'F:\\\\MyProject\\\\MachineLearning\\\\Mydata\\\\chr_9_inversion\\\\78451.2~A16.K_9L.png',\n",
       "   'F:\\\\MyProject\\\\MachineLearning\\\\Mydata\\\\chr_9_inversion\\\\78451.2~A30.K_9L.png',\n",
       "   'F:\\\\MyProject\\\\MachineLearning\\\\Mydata\\\\chr_9_inversion\\\\78451.3~A37.K_9L.png',\n",
       "   'F:\\\\MyProject\\\\MachineLearning\\\\Mydata\\\\chr_9_inversion\\\\78451.3~A41.K_9L.png',\n",
       "   'F:\\\\MyProject\\\\MachineLearning\\\\Mydata\\\\chr_9_inversion\\\\78451.4~A16.K_9L.png',\n",
       "   'F:\\\\MyProject\\\\MachineLearning\\\\Mydata\\\\chr_9_inversion\\\\78834.12~A25.K_9L.png',\n",
       "   'F:\\\\MyProject\\\\MachineLearning\\\\Mydata\\\\chr_9_inversion\\\\78834.14~A21.K_9L.png',\n",
       "   'F:\\\\MyProject\\\\MachineLearning\\\\Mydata\\\\chr_9_inversion\\\\78834.3~A35.K_9L.png',\n",
       "   'F:\\\\MyProject\\\\MachineLearning\\\\Mydata\\\\chr_9_inversion\\\\78834.4~A24.K_9L.png',\n",
       "   'F:\\\\MyProject\\\\MachineLearning\\\\Mydata\\\\chr_9_inversion\\\\79501.3~A10.K_9L.png',\n",
       "   'F:\\\\MyProject\\\\MachineLearning\\\\Mydata\\\\chr_9_inversion\\\\79501.3~A30.K_9L.png'],\n",
       "  '4': ['F:\\\\MyProject\\\\MachineLearning\\\\Mydata\\\\chr_9_inversion\\\\78034.12~A21.K_9L.png',\n",
       "   'F:\\\\MyProject\\\\MachineLearning\\\\Mydata\\\\chr_9_inversion\\\\78034.12~A30.K_9L.png',\n",
       "   'F:\\\\MyProject\\\\MachineLearning\\\\Mydata\\\\chr_9_inversion\\\\78034.13~A1.K_9L.png',\n",
       "   'F:\\\\MyProject\\\\MachineLearning\\\\Mydata\\\\chr_9_inversion\\\\78034.13~A17.K_9L.png',\n",
       "   'F:\\\\MyProject\\\\MachineLearning\\\\Mydata\\\\chr_9_inversion\\\\78034.13~A6.K_9L.png',\n",
       "   'F:\\\\MyProject\\\\MachineLearning\\\\Mydata\\\\chr_9_inversion\\\\78034.14~A40.K_9L.png',\n",
       "   'F:\\\\MyProject\\\\MachineLearning\\\\Mydata\\\\chr_9_inversion\\\\78034.3~A39.K_9L.png',\n",
       "   'F:\\\\MyProject\\\\MachineLearning\\\\Mydata\\\\chr_9_inversion\\\\78058.3~A2.K_9L.png',\n",
       "   'F:\\\\MyProject\\\\MachineLearning\\\\Mydata\\\\chr_9_inversion\\\\78058.3~A26.K_9L.png',\n",
       "   'F:\\\\MyProject\\\\MachineLearning\\\\Mydata\\\\chr_9_inversion\\\\78058.4~A8.K_9L.png',\n",
       "   'F:\\\\MyProject\\\\MachineLearning\\\\Mydata\\\\chr_9_inversion\\\\78142.12~A27.K_9L.png',\n",
       "   'F:\\\\MyProject\\\\MachineLearning\\\\Mydata\\\\chr_9_inversion\\\\78142.13~A20.K_9L.png',\n",
       "   'F:\\\\MyProject\\\\MachineLearning\\\\Mydata\\\\chr_9_inversion\\\\78142.2~A13.K_9L.png',\n",
       "   'F:\\\\MyProject\\\\MachineLearning\\\\Mydata\\\\chr_9_inversion\\\\78142.4~A44.K_9l.png',\n",
       "   'F:\\\\MyProject\\\\MachineLearning\\\\Mydata\\\\chr_9_inversion\\\\78220.1~A45.K_9L.png',\n",
       "   'F:\\\\MyProject\\\\MachineLearning\\\\Mydata\\\\chr_9_inversion\\\\78220.2~A21.K_9L.png',\n",
       "   'F:\\\\MyProject\\\\MachineLearning\\\\Mydata\\\\chr_9_inversion\\\\78220.3~A23.K_9L.png',\n",
       "   'F:\\\\MyProject\\\\MachineLearning\\\\Mydata\\\\chr_9_inversion\\\\78220.4~A17.K_9L.png',\n",
       "   'F:\\\\MyProject\\\\MachineLearning\\\\Mydata\\\\chr_9_inversion\\\\78220.4~A38.K_9L.png',\n",
       "   'F:\\\\MyProject\\\\MachineLearning\\\\Mydata\\\\chr_9_inversion\\\\78230.12~A47.K_9L.png',\n",
       "   'F:\\\\MyProject\\\\MachineLearning\\\\Mydata\\\\chr_9_inversion\\\\78230.13~A12.K_9L.png',\n",
       "   'F:\\\\MyProject\\\\MachineLearning\\\\Mydata\\\\chr_9_inversion\\\\78230.14~A47.K_9L.png',\n",
       "   'F:\\\\MyProject\\\\MachineLearning\\\\Mydata\\\\chr_9_inversion\\\\78230.2~A1.K_9L.png',\n",
       "   'F:\\\\MyProject\\\\MachineLearning\\\\Mydata\\\\chr_9_inversion\\\\78230.3~A14.K_9L.png',\n",
       "   'F:\\\\MyProject\\\\MachineLearning\\\\Mydata\\\\chr_9_inversion\\\\78230.3~A5.K_9L.png',\n",
       "   'F:\\\\MyProject\\\\MachineLearning\\\\Mydata\\\\chr_9_inversion\\\\78230.4~A17.K_9L.png',\n",
       "   'F:\\\\MyProject\\\\MachineLearning\\\\Mydata\\\\chr_9_inversion\\\\78451.12~A1.K_9L.png',\n",
       "   'F:\\\\MyProject\\\\MachineLearning\\\\Mydata\\\\chr_9_inversion\\\\78451.12~A32.K_9L.png',\n",
       "   'F:\\\\MyProject\\\\MachineLearning\\\\Mydata\\\\chr_9_inversion\\\\78451.12~A38.K_9L.png',\n",
       "   'F:\\\\MyProject\\\\MachineLearning\\\\Mydata\\\\chr_9_inversion\\\\78451.2~A30.K_9L.png',\n",
       "   'F:\\\\MyProject\\\\MachineLearning\\\\Mydata\\\\chr_9_inversion\\\\78451.3~A37.K_9L.png',\n",
       "   'F:\\\\MyProject\\\\MachineLearning\\\\Mydata\\\\chr_9_inversion\\\\78451.3~A41.K_9L.png',\n",
       "   'F:\\\\MyProject\\\\MachineLearning\\\\Mydata\\\\chr_9_inversion\\\\78451.4~A16.K_9L.png',\n",
       "   'F:\\\\MyProject\\\\MachineLearning\\\\Mydata\\\\chr_9_inversion\\\\78834.12~A25.K_9L.png',\n",
       "   'F:\\\\MyProject\\\\MachineLearning\\\\Mydata\\\\chr_9_inversion\\\\78834.3~A16.K_9L.png',\n",
       "   'F:\\\\MyProject\\\\MachineLearning\\\\Mydata\\\\chr_9_inversion\\\\78834.3~A35.K_9L.png',\n",
       "   'F:\\\\MyProject\\\\MachineLearning\\\\Mydata\\\\chr_9_inversion\\\\78834.4~A24.K_9L.png',\n",
       "   'F:\\\\MyProject\\\\MachineLearning\\\\Mydata\\\\chr_9_inversion\\\\79501.1~A19.K_9L.png',\n",
       "   'F:\\\\MyProject\\\\MachineLearning\\\\Mydata\\\\chr_9_inversion\\\\79501.3~A10.K_9L.png',\n",
       "   'F:\\\\MyProject\\\\MachineLearning\\\\Mydata\\\\chr_9_inversion\\\\79501.3~A30.K_9L.png']}}"
      ]
     },
     "execution_count": 63,
     "metadata": {},
     "output_type": "execute_result"
    }
   ],
   "source": [
    "with open('data_X_train_name.json') as json_file:\n",
    "    X_train_name = json.load(json_file)\n",
    "X_train_name"
   ]
  },
  {
   "cell_type": "code",
   "execution_count": 64,
   "metadata": {},
   "outputs": [],
   "source": [
    "with open('data_X_test_name.json') as json_file:\n",
    "    X_test_name = json.load(json_file)"
   ]
  },
  {
   "cell_type": "code",
   "execution_count": 65,
   "metadata": {},
   "outputs": [
    {
     "data": {
      "text/plain": [
       "{'chr_09': ['F:\\\\MyProject\\\\MachineLearning\\\\Mydata\\\\chr_09\\\\78034.12~A15.K_9R.png',\n",
       "  'F:\\\\MyProject\\\\MachineLearning\\\\Mydata\\\\chr_09\\\\78034.12~A21.K_9R.png',\n",
       "  'F:\\\\MyProject\\\\MachineLearning\\\\Mydata\\\\chr_09\\\\78034.12~A30.K_9R.png',\n",
       "  'F:\\\\MyProject\\\\MachineLearning\\\\Mydata\\\\chr_09\\\\78034.13~A1.K_9R.png',\n",
       "  'F:\\\\MyProject\\\\MachineLearning\\\\Mydata\\\\chr_09\\\\78034.13~A17.K_9R.png',\n",
       "  'F:\\\\MyProject\\\\MachineLearning\\\\Mydata\\\\chr_09\\\\78034.13~A22.K_9R.png',\n",
       "  'F:\\\\MyProject\\\\MachineLearning\\\\Mydata\\\\chr_09\\\\78034.13~A6.K_9R.png',\n",
       "  'F:\\\\MyProject\\\\MachineLearning\\\\Mydata\\\\chr_09\\\\78034.14~A40.K_9R.png',\n",
       "  'F:\\\\MyProject\\\\MachineLearning\\\\Mydata\\\\chr_09\\\\78034.2~A23.K_9R.png',\n",
       "  'F:\\\\MyProject\\\\MachineLearning\\\\Mydata\\\\chr_09\\\\78034.2~A48.K_9R.png',\n",
       "  'F:\\\\MyProject\\\\MachineLearning\\\\Mydata\\\\chr_09\\\\78034.3~A39.K_9R.png',\n",
       "  'F:\\\\MyProject\\\\MachineLearning\\\\Mydata\\\\chr_09\\\\78034.4~A36.K_9R.png',\n",
       "  'F:\\\\MyProject\\\\MachineLearning\\\\Mydata\\\\chr_09\\\\78058.3~A19.K_9R.png',\n",
       "  'F:\\\\MyProject\\\\MachineLearning\\\\Mydata\\\\chr_09\\\\78058.3~A2.K_9R.png',\n",
       "  'F:\\\\MyProject\\\\MachineLearning\\\\Mydata\\\\chr_09\\\\78058.3~A26.K_9R.png',\n",
       "  'F:\\\\MyProject\\\\MachineLearning\\\\Mydata\\\\chr_09\\\\78058.4~A15.K_9R.png',\n",
       "  'F:\\\\MyProject\\\\MachineLearning\\\\Mydata\\\\chr_09\\\\78058.4~A48.K_9R.png',\n",
       "  'F:\\\\MyProject\\\\MachineLearning\\\\Mydata\\\\chr_09\\\\78058.4~A8.K_9R.png',\n",
       "  'F:\\\\MyProject\\\\MachineLearning\\\\Mydata\\\\chr_09\\\\78142.12~A27.K_9R.png',\n",
       "  'F:\\\\MyProject\\\\MachineLearning\\\\Mydata\\\\chr_09\\\\78142.13~A20.K_9R.png',\n",
       "  'F:\\\\MyProject\\\\MachineLearning\\\\Mydata\\\\chr_09\\\\78142.2~A13.K_9R.png',\n",
       "  'F:\\\\MyProject\\\\MachineLearning\\\\Mydata\\\\chr_09\\\\78142.4~A44.K_9R.png',\n",
       "  'F:\\\\MyProject\\\\MachineLearning\\\\Mydata\\\\chr_09\\\\78220.1~A45.K_9R.png',\n",
       "  'F:\\\\MyProject\\\\MachineLearning\\\\Mydata\\\\chr_09\\\\78220.2~A21.K_9R.png',\n",
       "  'F:\\\\MyProject\\\\MachineLearning\\\\Mydata\\\\chr_09\\\\78220.3~A23.K_9R.png',\n",
       "  'F:\\\\MyProject\\\\MachineLearning\\\\Mydata\\\\chr_09\\\\78220.4~A17.K_9R.png',\n",
       "  'F:\\\\MyProject\\\\MachineLearning\\\\Mydata\\\\chr_09\\\\78220.4~A38.K_9R.png',\n",
       "  'F:\\\\MyProject\\\\MachineLearning\\\\Mydata\\\\chr_09\\\\78230.12~A47.K_9R.png',\n",
       "  'F:\\\\MyProject\\\\MachineLearning\\\\Mydata\\\\chr_09\\\\78230.13~A12.K_9R.png',\n",
       "  'F:\\\\MyProject\\\\MachineLearning\\\\Mydata\\\\chr_09\\\\78230.14~A47.K_9R.png',\n",
       "  'F:\\\\MyProject\\\\MachineLearning\\\\Mydata\\\\chr_09\\\\78230.2~A1.K_9R.png',\n",
       "  'F:\\\\MyProject\\\\MachineLearning\\\\Mydata\\\\chr_09\\\\78230.3~A14.K_9R.png',\n",
       "  'F:\\\\MyProject\\\\MachineLearning\\\\Mydata\\\\chr_09\\\\78230.3~A5.K_9R.png',\n",
       "  'F:\\\\MyProject\\\\MachineLearning\\\\Mydata\\\\chr_09\\\\78230.4~A17.K_9R.png',\n",
       "  'F:\\\\MyProject\\\\MachineLearning\\\\Mydata\\\\chr_09\\\\78451.12~A1.K_9R.png',\n",
       "  'F:\\\\MyProject\\\\MachineLearning\\\\Mydata\\\\chr_09\\\\78451.12~A32.K_9R.png',\n",
       "  'F:\\\\MyProject\\\\MachineLearning\\\\Mydata\\\\chr_09\\\\78451.12~A38.K_9R.png',\n",
       "  'F:\\\\MyProject\\\\MachineLearning\\\\Mydata\\\\chr_09\\\\78451.2~A16.K_9R.png',\n",
       "  'F:\\\\MyProject\\\\MachineLearning\\\\Mydata\\\\chr_09\\\\78451.2~A30.K_9R.png',\n",
       "  'F:\\\\MyProject\\\\MachineLearning\\\\Mydata\\\\chr_09\\\\78451.3~A37.K_9R.png',\n",
       "  'F:\\\\MyProject\\\\MachineLearning\\\\Mydata\\\\chr_09\\\\78451.3~A41.K_9R.png',\n",
       "  'F:\\\\MyProject\\\\MachineLearning\\\\Mydata\\\\chr_09\\\\78451.4~A16.K_9R.png',\n",
       "  'F:\\\\MyProject\\\\MachineLearning\\\\Mydata\\\\chr_09\\\\78834.12~A25.K_9R.png',\n",
       "  'F:\\\\MyProject\\\\MachineLearning\\\\Mydata\\\\chr_09\\\\78834.14~A21.K_9R.png',\n",
       "  'F:\\\\MyProject\\\\MachineLearning\\\\Mydata\\\\chr_09\\\\78834.3~A16.K_9R.png',\n",
       "  'F:\\\\MyProject\\\\MachineLearning\\\\Mydata\\\\chr_09\\\\78834.3~A35.K_9R.png',\n",
       "  'F:\\\\MyProject\\\\MachineLearning\\\\Mydata\\\\chr_09\\\\78834.4~A24.K_9R.png',\n",
       "  'F:\\\\MyProject\\\\MachineLearning\\\\Mydata\\\\chr_09\\\\79501.1~A19.K_9R.png',\n",
       "  'F:\\\\MyProject\\\\MachineLearning\\\\Mydata\\\\chr_09\\\\79501.3~A10.K_9R.png',\n",
       "  'F:\\\\MyProject\\\\MachineLearning\\\\Mydata\\\\chr_09\\\\79501.3~A30.K_9R.png'],\n",
       " 'chr_9_inversion': ['F:\\\\MyProject\\\\MachineLearning\\\\Mydata\\\\chr_9_inversion\\\\78034.12~A15.K_9L.png',\n",
       "  'F:\\\\MyProject\\\\MachineLearning\\\\Mydata\\\\chr_9_inversion\\\\78034.12~A21.K_9L.png',\n",
       "  'F:\\\\MyProject\\\\MachineLearning\\\\Mydata\\\\chr_9_inversion\\\\78034.12~A30.K_9L.png',\n",
       "  'F:\\\\MyProject\\\\MachineLearning\\\\Mydata\\\\chr_9_inversion\\\\78034.13~A1.K_9L.png',\n",
       "  'F:\\\\MyProject\\\\MachineLearning\\\\Mydata\\\\chr_9_inversion\\\\78034.13~A17.K_9L.png',\n",
       "  'F:\\\\MyProject\\\\MachineLearning\\\\Mydata\\\\chr_9_inversion\\\\78034.13~A22.K_9L.png',\n",
       "  'F:\\\\MyProject\\\\MachineLearning\\\\Mydata\\\\chr_9_inversion\\\\78034.13~A6.K_9L.png',\n",
       "  'F:\\\\MyProject\\\\MachineLearning\\\\Mydata\\\\chr_9_inversion\\\\78034.14~A40.K_9L.png',\n",
       "  'F:\\\\MyProject\\\\MachineLearning\\\\Mydata\\\\chr_9_inversion\\\\78034.2~A23.K_9L.png',\n",
       "  'F:\\\\MyProject\\\\MachineLearning\\\\Mydata\\\\chr_9_inversion\\\\78034.2~A48.K_9L.png',\n",
       "  'F:\\\\MyProject\\\\MachineLearning\\\\Mydata\\\\chr_9_inversion\\\\78034.3~A39.K_9L.png',\n",
       "  'F:\\\\MyProject\\\\MachineLearning\\\\Mydata\\\\chr_9_inversion\\\\78034.4~A36.K_9L.png',\n",
       "  'F:\\\\MyProject\\\\MachineLearning\\\\Mydata\\\\chr_9_inversion\\\\78058.3~A19.K_9L.png',\n",
       "  'F:\\\\MyProject\\\\MachineLearning\\\\Mydata\\\\chr_9_inversion\\\\78058.3~A2.K_9L.png',\n",
       "  'F:\\\\MyProject\\\\MachineLearning\\\\Mydata\\\\chr_9_inversion\\\\78058.3~A26.K_9L.png',\n",
       "  'F:\\\\MyProject\\\\MachineLearning\\\\Mydata\\\\chr_9_inversion\\\\78058.4~A15.K_9L.png',\n",
       "  'F:\\\\MyProject\\\\MachineLearning\\\\Mydata\\\\chr_9_inversion\\\\78058.4~A48.K_9L.png',\n",
       "  'F:\\\\MyProject\\\\MachineLearning\\\\Mydata\\\\chr_9_inversion\\\\78058.4~A8.K_9L.png',\n",
       "  'F:\\\\MyProject\\\\MachineLearning\\\\Mydata\\\\chr_9_inversion\\\\78142.12~A27.K_9L.png',\n",
       "  'F:\\\\MyProject\\\\MachineLearning\\\\Mydata\\\\chr_9_inversion\\\\78142.13~A20.K_9L.png',\n",
       "  'F:\\\\MyProject\\\\MachineLearning\\\\Mydata\\\\chr_9_inversion\\\\78142.2~A13.K_9L.png',\n",
       "  'F:\\\\MyProject\\\\MachineLearning\\\\Mydata\\\\chr_9_inversion\\\\78142.4~A44.K_9l.png',\n",
       "  'F:\\\\MyProject\\\\MachineLearning\\\\Mydata\\\\chr_9_inversion\\\\78220.1~A45.K_9L.png',\n",
       "  'F:\\\\MyProject\\\\MachineLearning\\\\Mydata\\\\chr_9_inversion\\\\78220.2~A21.K_9L.png',\n",
       "  'F:\\\\MyProject\\\\MachineLearning\\\\Mydata\\\\chr_9_inversion\\\\78220.3~A23.K_9L.png',\n",
       "  'F:\\\\MyProject\\\\MachineLearning\\\\Mydata\\\\chr_9_inversion\\\\78220.4~A17.K_9L.png',\n",
       "  'F:\\\\MyProject\\\\MachineLearning\\\\Mydata\\\\chr_9_inversion\\\\78220.4~A38.K_9L.png',\n",
       "  'F:\\\\MyProject\\\\MachineLearning\\\\Mydata\\\\chr_9_inversion\\\\78230.12~A47.K_9L.png',\n",
       "  'F:\\\\MyProject\\\\MachineLearning\\\\Mydata\\\\chr_9_inversion\\\\78230.13~A12.K_9L.png',\n",
       "  'F:\\\\MyProject\\\\MachineLearning\\\\Mydata\\\\chr_9_inversion\\\\78230.14~A47.K_9L.png',\n",
       "  'F:\\\\MyProject\\\\MachineLearning\\\\Mydata\\\\chr_9_inversion\\\\78230.2~A1.K_9L.png',\n",
       "  'F:\\\\MyProject\\\\MachineLearning\\\\Mydata\\\\chr_9_inversion\\\\78230.3~A14.K_9L.png',\n",
       "  'F:\\\\MyProject\\\\MachineLearning\\\\Mydata\\\\chr_9_inversion\\\\78230.3~A5.K_9L.png',\n",
       "  'F:\\\\MyProject\\\\MachineLearning\\\\Mydata\\\\chr_9_inversion\\\\78230.4~A17.K_9L.png',\n",
       "  'F:\\\\MyProject\\\\MachineLearning\\\\Mydata\\\\chr_9_inversion\\\\78451.12~A1.K_9L.png',\n",
       "  'F:\\\\MyProject\\\\MachineLearning\\\\Mydata\\\\chr_9_inversion\\\\78451.12~A32.K_9L.png',\n",
       "  'F:\\\\MyProject\\\\MachineLearning\\\\Mydata\\\\chr_9_inversion\\\\78451.12~A38.K_9L.png',\n",
       "  'F:\\\\MyProject\\\\MachineLearning\\\\Mydata\\\\chr_9_inversion\\\\78451.2~A16.K_9L.png',\n",
       "  'F:\\\\MyProject\\\\MachineLearning\\\\Mydata\\\\chr_9_inversion\\\\78451.2~A30.K_9L.png',\n",
       "  'F:\\\\MyProject\\\\MachineLearning\\\\Mydata\\\\chr_9_inversion\\\\78451.3~A37.K_9L.png',\n",
       "  'F:\\\\MyProject\\\\MachineLearning\\\\Mydata\\\\chr_9_inversion\\\\78451.3~A41.K_9L.png',\n",
       "  'F:\\\\MyProject\\\\MachineLearning\\\\Mydata\\\\chr_9_inversion\\\\78451.4~A16.K_9L.png',\n",
       "  'F:\\\\MyProject\\\\MachineLearning\\\\Mydata\\\\chr_9_inversion\\\\78834.12~A25.K_9L.png',\n",
       "  'F:\\\\MyProject\\\\MachineLearning\\\\Mydata\\\\chr_9_inversion\\\\78834.14~A21.K_9L.png',\n",
       "  'F:\\\\MyProject\\\\MachineLearning\\\\Mydata\\\\chr_9_inversion\\\\78834.3~A16.K_9L.png',\n",
       "  'F:\\\\MyProject\\\\MachineLearning\\\\Mydata\\\\chr_9_inversion\\\\78834.3~A35.K_9L.png',\n",
       "  'F:\\\\MyProject\\\\MachineLearning\\\\Mydata\\\\chr_9_inversion\\\\78834.4~A24.K_9L.png',\n",
       "  'F:\\\\MyProject\\\\MachineLearning\\\\Mydata\\\\chr_9_inversion\\\\79501.1~A19.K_9L.png',\n",
       "  'F:\\\\MyProject\\\\MachineLearning\\\\Mydata\\\\chr_9_inversion\\\\79501.3~A10.K_9L.png',\n",
       "  'F:\\\\MyProject\\\\MachineLearning\\\\Mydata\\\\chr_9_inversion\\\\79501.3~A30.K_9L.png']}"
      ]
     },
     "execution_count": 65,
     "metadata": {},
     "output_type": "execute_result"
    }
   ],
   "source": [
    "with open('data_theWhole.json') as json_file:\n",
    "    theWhole = json.load(json_file)\n",
    "theWhole"
   ]
  },
  {
   "cell_type": "markdown",
   "metadata": {},
   "source": [
    "# Iteration Starts Here:"
   ]
  },
  {
   "cell_type": "markdown",
   "metadata": {},
   "source": [
    "# 3. Iteration"
   ]
  },
  {
   "cell_type": "markdown",
   "metadata": {},
   "source": [
    "## 3.1 Image Input"
   ]
  },
  {
   "cell_type": "markdown",
   "metadata": {},
   "source": [
    "### 3.1.x Display the Split Method"
   ]
  },
  {
   "cell_type": "code",
   "execution_count": 70,
   "metadata": {},
   "outputs": [
    {
     "name": "stdout",
     "output_type": "stream",
     "text": [
      "Iteration No.  0\n",
      "chr_09\n",
      "   Train: \n",
      "        78034.12~A15.K_9R.png\n",
      "        78034.12~A21.K_9R.png\n",
      "        78034.13~A17.K_9R.png\n",
      "        78034.13~A22.K_9R.png\n",
      "        78034.13~A6.K_9R.png\n",
      "        78034.14~A40.K_9R.png\n",
      "        78034.2~A23.K_9R.png\n",
      "        78034.2~A48.K_9R.png\n",
      "        78034.3~A39.K_9R.png\n",
      "        78034.4~A36.K_9R.png\n",
      "        78058.3~A19.K_9R.png\n",
      "        78058.3~A2.K_9R.png\n",
      "        78058.3~A26.K_9R.png\n",
      "        78058.4~A15.K_9R.png\n",
      "        78058.4~A48.K_9R.png\n",
      "        78058.4~A8.K_9R.png\n",
      "        78142.12~A27.K_9R.png\n",
      "        78142.13~A20.K_9R.png\n",
      "        78142.2~A13.K_9R.png\n",
      "        78142.4~A44.K_9R.png\n",
      "        78220.1~A45.K_9R.png\n",
      "        78220.2~A21.K_9R.png\n",
      "        78220.3~A23.K_9R.png\n",
      "        78220.4~A17.K_9R.png\n",
      "        78220.4~A38.K_9R.png\n",
      "        78230.13~A12.K_9R.png\n",
      "        78230.2~A1.K_9R.png\n",
      "        78230.3~A5.K_9R.png\n",
      "        78230.4~A17.K_9R.png\n",
      "        78451.12~A1.K_9R.png\n",
      "        78451.12~A38.K_9R.png\n",
      "        78451.2~A16.K_9R.png\n",
      "        78451.3~A37.K_9R.png\n",
      "        78451.4~A16.K_9R.png\n",
      "        78834.12~A25.K_9R.png\n",
      "        78834.14~A21.K_9R.png\n",
      "        78834.3~A16.K_9R.png\n",
      "        78834.3~A35.K_9R.png\n",
      "        79501.1~A19.K_9R.png\n",
      "        79501.3~A30.K_9R.png\n",
      "   Test: \n",
      "        78034.12~A30.K_9R.png\n",
      "        78034.13~A1.K_9R.png\n",
      "        78230.12~A47.K_9R.png\n",
      "        78230.14~A47.K_9R.png\n",
      "        78230.3~A14.K_9R.png\n",
      "        78451.12~A32.K_9R.png\n",
      "        78451.2~A30.K_9R.png\n",
      "        78451.3~A41.K_9R.png\n",
      "        78834.4~A24.K_9R.png\n",
      "        79501.3~A10.K_9R.png\n",
      "chr_9_inversion\n",
      "   Train: \n",
      "        78034.12~A15.K_9L.png\n",
      "        78034.12~A21.K_9L.png\n",
      "        78034.13~A17.K_9L.png\n",
      "        78034.13~A22.K_9L.png\n",
      "        78034.13~A6.K_9L.png\n",
      "        78034.14~A40.K_9L.png\n",
      "        78034.2~A23.K_9L.png\n",
      "        78034.2~A48.K_9L.png\n",
      "        78034.3~A39.K_9L.png\n",
      "        78034.4~A36.K_9L.png\n",
      "        78058.3~A19.K_9L.png\n",
      "        78058.3~A2.K_9L.png\n",
      "        78058.3~A26.K_9L.png\n",
      "        78058.4~A15.K_9L.png\n",
      "        78058.4~A48.K_9L.png\n",
      "        78058.4~A8.K_9L.png\n",
      "        78142.12~A27.K_9L.png\n",
      "        78142.13~A20.K_9L.png\n",
      "        78142.2~A13.K_9L.png\n",
      "        78142.4~A44.K_9l.png\n",
      "        78220.1~A45.K_9L.png\n",
      "        78220.2~A21.K_9L.png\n",
      "        78220.3~A23.K_9L.png\n",
      "        78220.4~A17.K_9L.png\n",
      "        78220.4~A38.K_9L.png\n",
      "        78230.13~A12.K_9L.png\n",
      "        78230.2~A1.K_9L.png\n",
      "        78230.3~A5.K_9L.png\n",
      "        78230.4~A17.K_9L.png\n",
      "        78451.12~A1.K_9L.png\n",
      "        78451.12~A38.K_9L.png\n",
      "        78451.2~A16.K_9L.png\n",
      "        78451.3~A37.K_9L.png\n",
      "        78451.4~A16.K_9L.png\n",
      "        78834.12~A25.K_9L.png\n",
      "        78834.14~A21.K_9L.png\n",
      "        78834.3~A16.K_9L.png\n",
      "        78834.3~A35.K_9L.png\n",
      "        79501.1~A19.K_9L.png\n",
      "        79501.3~A30.K_9L.png\n",
      "   Test: \n",
      "        78034.12~A30.K_9L.png\n",
      "        78034.13~A1.K_9L.png\n",
      "        78230.12~A47.K_9L.png\n",
      "        78230.14~A47.K_9L.png\n",
      "        78230.3~A14.K_9L.png\n",
      "        78451.12~A32.K_9L.png\n",
      "        78451.2~A30.K_9L.png\n",
      "        78451.3~A41.K_9L.png\n",
      "        78834.4~A24.K_9L.png\n",
      "        79501.3~A10.K_9L.png\n"
     ]
    }
   ],
   "source": [
    "file_k_fold = open('KFold_Round_'+str(iterationNumber)+'.txt', 'w')\n",
    "\n",
    "print('Iteration No. ', iterationNumber)\n",
    "file_k_fold.write('Iteration No. %s\\n\\n' % iterationNumber)\n",
    "\n",
    "\n",
    "for chrNo in theWhole.keys():\n",
    "    print(chrNo)\n",
    "    file_k_fold.write('%s\\n' % chrNo)\n",
    "    print('   Train: ')\n",
    "    file_k_fold.write('Train: \\n')\n",
    "    for item in X_train_name[chrNo][str(iterationNumber)]:\n",
    "        print('       ', item.split('\\\\')[-1])\n",
    "        file_k_fold.write('      %s\\n' % item.split('\\\\')[-1])\n",
    "    print('   Test: ')\n",
    "    file_k_fold.write('Test: \\n')\n",
    "    for item in X_test_name[chrNo][str(iterationNumber)]:\n",
    "        print('       ', item.split('\\\\')[-1])\n",
    "        file_k_fold.write('      %s\\n' % item.split('\\\\')[-1])\n",
    "    file_k_fold.write('\\n')\n",
    "        \n",
    "file_k_fold.close()"
   ]
  },
  {
   "cell_type": "markdown",
   "metadata": {},
   "source": [
    "### 3.1.1. Helper Functions"
   ]
  },
  {
   "cell_type": "code",
   "execution_count": 72,
   "metadata": {},
   "outputs": [],
   "source": [
    "def extractData(image):\n",
    "    x = image.size[0]\n",
    "    y = image.size[1]\n",
    "    \n",
    "    matrix = []\n",
    "    rgb_matrix = []\n",
    "\n",
    "    for i in range(x):\n",
    "        matrix.append([])\n",
    "        rgb_matrix.append([])\n",
    "        \n",
    "        for j in range(y):\n",
    "            r, g, b = image.getpixel((j, i))            \n",
    "            value = r * 299.0/1000 + g * 587.0/1000 + b * 114.0/1000\n",
    "            value = int(value)\n",
    "            matrix[i].append(value)\n",
    "            rgb_matrix[i].append((r,g,b))\n",
    "    return matrix, rgb_matrix"
   ]
  },
  {
   "cell_type": "code",
   "execution_count": 73,
   "metadata": {},
   "outputs": [],
   "source": [
    "def imageReconstruct(matrix):\n",
    "    df = np.array(matrix, dtype=np.uint8)\n",
    "    img = Image.fromarray(df, 'RGB')\n",
    "    img.save('image.png')\n",
    "    return img"
   ]
  },
  {
   "cell_type": "markdown",
   "metadata": {},
   "source": [
    "### 3.1.2. Assignment of Training Data"
   ]
  },
  {
   "cell_type": "markdown",
   "metadata": {},
   "source": [
    "#### 3.1.2.1 Training: Image Object Assignment"
   ]
  },
  {
   "cell_type": "code",
   "execution_count": 76,
   "metadata": {},
   "outputs": [],
   "source": [
    "image = {}\n",
    "\n",
    "# 定义容纳图片对象的dictionary类型的变量image\n",
    "\n",
    "i = 0\n",
    "\n",
    "for chrNo in theWhole.keys():\n",
    "    image[chrNo] = []\n",
    "    for case in X_train_name[chrNo][str(iterationNumber)]:\n",
    "        \n",
    "        # 上面一行第二个中括号内为split的序号，0为第0次split分法\n",
    "        \n",
    "        img = Image.open(case)\n",
    "        image[chrNo].append(img)\n",
    "        \n",
    "        # image字典接受的是图片对象"
   ]
  },
  {
   "cell_type": "code",
   "execution_count": 77,
   "metadata": {},
   "outputs": [
    {
     "data": {
      "image/jpeg": "[encoded data removed]",
      "image/png": "[encoded data removed]",
      "text/plain": [
       "<PIL.PngImagePlugin.PngImageFile image mode=RGB size=300x300>"
      ]
     },
     "execution_count": 77,
     "metadata": {},
     "output_type": "execute_result"
    }
   ],
   "source": [
    "image['chr_09'][1] # 测试一下图像对象"
   ]
  },
  {
   "cell_type": "markdown",
   "metadata": {},
   "source": [
    "#### 3.1.2.2. Training: Data Extraction from Images"
   ]
  },
  {
   "cell_type": "markdown",
   "metadata": {},
   "source": [
    "#### - Training Set Data: 将图像对象转变为矩阵数值"
   ]
  },
  {
   "cell_type": "code",
   "execution_count": 80,
   "metadata": {},
   "outputs": [],
   "source": [
    "data = {}\n",
    "#rgb_data = {}\n",
    "\n",
    "for chrNo in image.keys():\n",
    "    data[chrNo] = []; \n",
    "    #rgb_data[chrNo] = []\n",
    "    for case in image[chrNo]:\n",
    "        grey, rgb = extractData(case)\n",
    "        data[chrNo].append(grey)\n",
    "        #rgb_data[chrNo].append(rgb)"
   ]
  },
  {
   "cell_type": "markdown",
   "metadata": {},
   "source": [
    "#### Train 2D to 1D"
   ]
  },
  {
   "cell_type": "code",
   "execution_count": 82,
   "metadata": {
    "slideshow": {
     "slide_type": "-"
    }
   },
   "outputs": [],
   "source": [
    "data_flat = {}\n",
    "\n",
    "for chrNo in data.keys():\n",
    "    data_flat[chrNo] = []\n",
    "    for case in data[chrNo]:\n",
    "        case_flat = []\n",
    "        for row in case:\n",
    "            for column in row:\n",
    "                case_flat.append(column)            \n",
    "        data_flat[chrNo].append(case_flat)"
   ]
  },
  {
   "cell_type": "code",
   "execution_count": 83,
   "metadata": {
    "slideshow": {
     "slide_type": "-"
    }
   },
   "outputs": [],
   "source": [
    "x_train_list = []\n",
    "y_train_list = []\n",
    "\n",
    "for y, x in data_flat.items():    \n",
    "    for x_item in x:\n",
    "        x_train_list.append(x_item)\n",
    "        y_train_list.append(y)"
   ]
  },
  {
   "cell_type": "markdown",
   "metadata": {},
   "source": [
    "### 3.1.3. Assignment of Testing Data"
   ]
  },
  {
   "cell_type": "markdown",
   "metadata": {},
   "source": [
    "#### 3.1.3.1. Testing: Image Object Assignment"
   ]
  },
  {
   "cell_type": "code",
   "execution_count": 86,
   "metadata": {},
   "outputs": [],
   "source": [
    "# 方法同前面的Training Set\n",
    "\n",
    "image = {}\n",
    "i = 0\n",
    "\n",
    "for chrNo in theWhole.keys():\n",
    "    image[chrNo] = []\n",
    "    for case in X_test_name[chrNo][str(iterationNumber)]: # Change here for different iterations!!!!!\n",
    "        \n",
    "        # 上面一行第二个中括号内为split的序号，0为第0次split分法\n",
    "        \n",
    "        img = Image.open(case)\n",
    "        image[chrNo].append(img)"
   ]
  },
  {
   "cell_type": "markdown",
   "metadata": {},
   "source": [
    "#### 3.1.3.2. Testing: Data Extraction from Images"
   ]
  },
  {
   "cell_type": "code",
   "execution_count": 88,
   "metadata": {},
   "outputs": [],
   "source": [
    "data = {}\n",
    "#rgb_data = {}\n",
    "\n",
    "for chrNo in image.keys():\n",
    "    data[chrNo] = []; \n",
    "    #rgb_data[chrNo] = []\n",
    "    for case in image[chrNo]:\n",
    "        grey, rgb = extractData(case)\n",
    "        data[chrNo].append(grey)\n",
    "        #rgb_data[chrNo].append(rgb)"
   ]
  },
  {
   "cell_type": "markdown",
   "metadata": {
    "slideshow": {
     "slide_type": "slide"
    }
   },
   "source": [
    "#### Test 2D to 1D"
   ]
  },
  {
   "cell_type": "code",
   "execution_count": 90,
   "metadata": {
    "slideshow": {
     "slide_type": "-"
    }
   },
   "outputs": [],
   "source": [
    "data_flat = {}\n",
    "\n",
    "for chrNo in data.keys():\n",
    "    data_flat[chrNo] = []\n",
    "    for case in data[chrNo]:\n",
    "        case_flat = []\n",
    "        for row in case:\n",
    "            for column in row:\n",
    "                case_flat.append(column)            \n",
    "        data_flat[chrNo].append(case_flat)"
   ]
  },
  {
   "cell_type": "code",
   "execution_count": 91,
   "metadata": {
    "slideshow": {
     "slide_type": "-"
    }
   },
   "outputs": [],
   "source": [
    "x_test_list = []\n",
    "y_test_list = []\n",
    "\n",
    "for y, x in data_flat.items():    \n",
    "    for x_item in x:\n",
    "        x_test_list.append(x_item)\n",
    "        y_test_list.append(y)"
   ]
  },
  {
   "cell_type": "markdown",
   "metadata": {},
   "source": [
    "### 3.1.4. ChromConvert"
   ]
  },
  {
   "cell_type": "code",
   "execution_count": 93,
   "metadata": {},
   "outputs": [],
   "source": [
    "chromConvert = {\n",
    "               'chr_09': 0,                \n",
    "                'chr_9_inversion': 1\n",
    "               }"
   ]
  },
  {
   "cell_type": "code",
   "execution_count": 94,
   "metadata": {},
   "outputs": [],
   "source": [
    "chromConvert_reverse = {0: 'chr_09',\n",
    "                        1: 'chr_9_inversion'\n",
    "               }"
   ]
  },
  {
   "cell_type": "code",
   "execution_count": 95,
   "metadata": {},
   "outputs": [],
   "source": [
    "# 将染色体序号和异常核型名称更换为序号，序号定义在程序开始部分\n",
    "\n",
    "y_train_digital_list = []\n",
    "for item in y_train_list:\n",
    "    y_train_digital_list.append(chromConvert[item])\n",
    "    \n",
    "y_test_digital_list = []\n",
    "for item in y_test_list:\n",
    "    y_test_digital_list.append(chromConvert[item])"
   ]
  },
  {
   "cell_type": "markdown",
   "metadata": {},
   "source": [
    "### 3.1.5. Change to Numpy Array"
   ]
  },
  {
   "cell_type": "code",
   "execution_count": 97,
   "metadata": {},
   "outputs": [],
   "source": [
    "X_train = np.array(x_train_list)\n",
    "y_train = np.array(y_train_digital_list)"
   ]
  },
  {
   "cell_type": "code",
   "execution_count": 98,
   "metadata": {},
   "outputs": [],
   "source": [
    "X_test = np.array(x_test_list)\n",
    "y_test = np.array(y_test_digital_list)"
   ]
  },
  {
   "cell_type": "code",
   "execution_count": 99,
   "metadata": {},
   "outputs": [
    {
     "data": {
      "text/plain": [
       "array([0, 0, 0, 0, 0, 0, 0, 0, 0, 0, 1, 1, 1, 1, 1, 1, 1, 1, 1, 1])"
      ]
     },
     "execution_count": 99,
     "metadata": {},
     "output_type": "execute_result"
    }
   ],
   "source": [
    "y_test"
   ]
  },
  {
   "cell_type": "code",
   "execution_count": 100,
   "metadata": {},
   "outputs": [
    {
     "data": {
      "text/plain": [
       "80"
      ]
     },
     "execution_count": 100,
     "metadata": {},
     "output_type": "execute_result"
    }
   ],
   "source": [
    "len(X_train)"
   ]
  },
  {
   "cell_type": "code",
   "execution_count": 101,
   "metadata": {},
   "outputs": [
    {
     "data": {
      "text/plain": [
       "(90000,)"
      ]
     },
     "execution_count": 101,
     "metadata": {},
     "output_type": "execute_result"
    }
   ],
   "source": [
    "X_train[0].shape"
   ]
  },
  {
   "cell_type": "markdown",
   "metadata": {},
   "source": [
    "## 3.2. Support Vector Machine"
   ]
  },
  {
   "cell_type": "code",
   "execution_count": 103,
   "metadata": {},
   "outputs": [],
   "source": [
    "start = time.time()\n",
    "\n",
    "\n",
    "\n",
    "clf = svm.SVC(kernel='linear', decision_function_shape='ovo')\n",
    "clf.fit(X_train, y_train)\n",
    "\n",
    "end = time.time()"
   ]
  },
  {
   "cell_type": "code",
   "execution_count": 104,
   "metadata": {},
   "outputs": [
    {
     "name": "stdout",
     "output_type": "stream",
     "text": [
      "w =  [[-1.25360876e-19 -1.25360876e-19 -1.25360876e-19 ...  1.65878588e-07\n",
      "   1.81208714e-07 -2.52444379e-07]]\n",
      "b =  [3.47334647]\n",
      "Indices of support vectors =  [ 1  2  4  6  7  8 11 12 13 14 15 16 17 18 20 22 24 25 26 27 30 31 32 33\n",
      " 35 38 41 42 45 46 47 50 51 53 54 56 57 58 69 70 74 76 77]\n",
      "Support vectors =  [[255. 255. 255. ... 255. 255. 255.]\n",
      " [255. 255. 255. ... 255. 255. 255.]\n",
      " [255. 255. 255. ... 255. 255. 255.]\n",
      " ...\n",
      " [255. 255. 255. ... 255. 255. 255.]\n",
      " [255. 255. 255. ... 255. 255. 255.]\n",
      " [255. 255. 255. ... 255. 255. 255.]]\n",
      "Number of support vectors for each class =  [26 17]\n",
      "Coefficients of the support vector in the decision function =  [[1.99027939e-07 3.04835138e-08 2.14545032e-08 3.92190300e-08\n",
      "  5.86432818e-08 1.05517758e-07 7.54474670e-08 1.06076086e-08\n",
      "  6.46698216e-08 1.51823791e-07 3.92971473e-08 1.72372259e-07\n",
      "  5.76436771e-08 1.43152676e-07 3.12849229e-08 7.23360238e-08\n",
      "  1.18497180e-07 1.01984725e-07 9.16180003e-09 1.14193449e-07\n",
      "  2.31620022e-08 2.05952833e-07 9.19881887e-08 8.51785147e-10\n",
      "  2.59377347e-08 1.38781497e-07 8.30692285e-08 4.05955857e-08\n",
      "  1.32369250e-07 2.90721111e-07 2.76327221e-08 7.54232704e-08\n",
      "  3.28346453e-07 3.26229325e-07 1.43653161e-08 1.85447388e-07\n",
      "  9.83132204e-08 1.17429061e-07 2.51605272e-08 1.82868814e-07\n",
      "  3.17408102e-08 4.02517657e-08 1.03528766e-07]]\n"
     ]
    }
   ],
   "source": [
    "print('w = ',clf.coef_)\n",
    "print('b = ',clf.intercept_)\n",
    "print('Indices of support vectors = ', clf.support_)\n",
    "print('Support vectors = ', clf.support_vectors_)\n",
    "print('Number of support vectors for each class = ', clf.n_support_)\n",
    "print('Coefficients of the support vector in the decision function = ', np.abs(clf.dual_coef_))"
   ]
  },
  {
   "cell_type": "markdown",
   "metadata": {},
   "source": [
    "## 3.8 Save the Model"
   ]
  },
  {
   "cell_type": "code",
   "execution_count": 106,
   "metadata": {
    "scrolled": true
   },
   "outputs": [
    {
     "name": "stdout",
     "output_type": "stream",
     "text": [
      "['model_allClass_svm_iteration_0']\n"
     ]
    }
   ],
   "source": [
    "c = joblib.dump(clf, 'model_allClass_svm_iteration_'+str(iterationNumber))\n",
    "print(c)"
   ]
  },
  {
   "cell_type": "markdown",
   "metadata": {},
   "source": [
    "## 3.9 Load the Model"
   ]
  },
  {
   "cell_type": "code",
   "execution_count": 108,
   "metadata": {},
   "outputs": [],
   "source": [
    "model_reload = joblib.load('model_allClass_svm_iteration_'+str(iterationNumber))"
   ]
  },
  {
   "cell_type": "markdown",
   "metadata": {},
   "source": [
    "## 3.10. Performance Measures"
   ]
  },
  {
   "cell_type": "markdown",
   "metadata": {},
   "source": [
    "### 3.10.1. Accuracy"
   ]
  },
  {
   "cell_type": "code",
   "execution_count": 111,
   "metadata": {},
   "outputs": [
    {
     "name": "stdout",
     "output_type": "stream",
     "text": [
      "Test Accuracy: 0.900\n"
     ]
    }
   ],
   "source": [
    "acc = model_reload.score(X_test, y_test)\n",
    "print('Test Accuracy: %.3f' % acc)"
   ]
  },
  {
   "cell_type": "code",
   "execution_count": 112,
   "metadata": {},
   "outputs": [
    {
     "data": {
      "text/plain": [
       "20"
      ]
     },
     "execution_count": 112,
     "metadata": {},
     "output_type": "execute_result"
    }
   ],
   "source": [
    "len(X_test)"
   ]
  },
  {
   "cell_type": "code",
   "execution_count": 113,
   "metadata": {},
   "outputs": [],
   "source": [
    "y_predict = model_reload.predict(X_test)"
   ]
  },
  {
   "cell_type": "code",
   "execution_count": 114,
   "metadata": {},
   "outputs": [
    {
     "data": {
      "text/plain": [
       "20"
      ]
     },
     "execution_count": 114,
     "metadata": {},
     "output_type": "execute_result"
    }
   ],
   "source": [
    "len(y_predict)"
   ]
  },
  {
   "cell_type": "markdown",
   "metadata": {},
   "source": [
    "# The number 32 means the type number of all chromosome class number inlcuding abnormal ones\n",
    "y_predict_filtered = []\n",
    "\n",
    "for sample in y_predict:\n",
    "    maximum = 0\n",
    "    indicator = 0\n",
    "    for i in range(32):\n",
    "        if sample[i] > maximum:\n",
    "            maximum = sample[i]\n",
    "            indicator = i\n",
    "    y_predict_filtered.append(indicator)        "
   ]
  },
  {
   "cell_type": "code",
   "execution_count": 116,
   "metadata": {},
   "outputs": [],
   "source": [
    "label = ['chr_09', 'chr_9_inversion']\n",
    "\n",
    "label_convert = []\n",
    "\n",
    "for i in range(2):\n",
    "    label_convert.append(chromConvert_reverse[i])"
   ]
  },
  {
   "cell_type": "markdown",
   "metadata": {},
   "source": [
    "### 3.10.2. Classification Report"
   ]
  },
  {
   "cell_type": "code",
   "execution_count": 118,
   "metadata": {},
   "outputs": [
    {
     "name": "stdout",
     "output_type": "stream",
     "text": [
      "                 precision    recall  f1-score   support\n",
      "\n",
      "         chr_09       0.90      0.90      0.90        10\n",
      "chr_9_inversion       0.90      0.90      0.90        10\n",
      "\n",
      "       accuracy                           0.90        20\n",
      "      macro avg       0.90      0.90      0.90        20\n",
      "   weighted avg       0.90      0.90      0.90        20\n",
      "\n"
     ]
    }
   ],
   "source": [
    "performanceReport = classification_report(y_test, y_predict, target_names=label_convert)\n",
    "\n",
    "# Change here for different iteration!!!!!\n",
    "\n",
    "print(performanceReport)"
   ]
  },
  {
   "cell_type": "markdown",
   "metadata": {},
   "source": [
    "### 3.10.3. Confusion Matrix"
   ]
  },
  {
   "cell_type": "code",
   "execution_count": 120,
   "metadata": {},
   "outputs": [
    {
     "data": {
      "text/html": [
       "<div>\n",
       "<style scoped>\n",
       "    .dataframe tbody tr th:only-of-type {\n",
       "        vertical-align: middle;\n",
       "    }\n",
       "\n",
       "    .dataframe tbody tr th {\n",
       "        vertical-align: top;\n",
       "    }\n",
       "\n",
       "    .dataframe thead th {\n",
       "        text-align: right;\n",
       "    }\n",
       "</style>\n",
       "<table border=\"1\" class=\"dataframe\">\n",
       "  <thead>\n",
       "    <tr style=\"text-align: right;\">\n",
       "      <th></th>\n",
       "      <th>chr_09</th>\n",
       "      <th>chr_9_inversion</th>\n",
       "    </tr>\n",
       "  </thead>\n",
       "  <tbody>\n",
       "    <tr>\n",
       "      <th>chr_09</th>\n",
       "      <td>9</td>\n",
       "      <td>1</td>\n",
       "    </tr>\n",
       "    <tr>\n",
       "      <th>chr_9_inversion</th>\n",
       "      <td>1</td>\n",
       "      <td>9</td>\n",
       "    </tr>\n",
       "  </tbody>\n",
       "</table>\n",
       "</div>"
      ],
      "text/plain": [
       "                 chr_09  chr_9_inversion\n",
       "chr_09                9                1\n",
       "chr_9_inversion       1                9"
      ]
     },
     "execution_count": 120,
     "metadata": {},
     "output_type": "execute_result"
    }
   ],
   "source": [
    "cm = np.array(confusion_matrix(y_test, y_predict, labels=[0, 1]))\n",
    "confusion = pd.DataFrame(cm, index=label_convert,\n",
    "                        columns=label_convert)\n",
    "confusion.to_csv('ConfusionMatrix_Chr_05_KaryoType_SVM' + str(iterationNumber) + '.csv')\n",
    "confusion"
   ]
  },
  {
   "cell_type": "markdown",
   "metadata": {},
   "source": [
    "### 3.10.4 Rate of Confusion Matrix"
   ]
  },
  {
   "cell_type": "code",
   "execution_count": 122,
   "metadata": {
    "scrolled": true
   },
   "outputs": [],
   "source": [
    "subtotal = [0] * 2 \n",
    "for item in y_test:\n",
    "    subtotal[item] = subtotal[item] + 1"
   ]
  },
  {
   "cell_type": "code",
   "execution_count": 123,
   "metadata": {},
   "outputs": [],
   "source": [
    "cm_r = []\n",
    "for i in range(2):\n",
    "    cm_r.append(cm[i]/subtotal[i])"
   ]
  },
  {
   "cell_type": "code",
   "execution_count": 124,
   "metadata": {},
   "outputs": [],
   "source": [
    "cm_array = np.array(cm_r)"
   ]
  },
  {
   "cell_type": "code",
   "execution_count": 125,
   "metadata": {},
   "outputs": [
    {
     "data": {
      "text/html": [
       "<div>\n",
       "<style scoped>\n",
       "    .dataframe tbody tr th:only-of-type {\n",
       "        vertical-align: middle;\n",
       "    }\n",
       "\n",
       "    .dataframe tbody tr th {\n",
       "        vertical-align: top;\n",
       "    }\n",
       "\n",
       "    .dataframe thead th {\n",
       "        text-align: right;\n",
       "    }\n",
       "</style>\n",
       "<table border=\"1\" class=\"dataframe\">\n",
       "  <thead>\n",
       "    <tr style=\"text-align: right;\">\n",
       "      <th></th>\n",
       "      <th>chr_09</th>\n",
       "      <th>chr_9_inversion</th>\n",
       "    </tr>\n",
       "  </thead>\n",
       "  <tbody>\n",
       "    <tr>\n",
       "      <th>chr_09</th>\n",
       "      <td>0.9</td>\n",
       "      <td>0.1</td>\n",
       "    </tr>\n",
       "    <tr>\n",
       "      <th>chr_9_inversion</th>\n",
       "      <td>0.1</td>\n",
       "      <td>0.9</td>\n",
       "    </tr>\n",
       "  </tbody>\n",
       "</table>\n",
       "</div>"
      ],
      "text/plain": [
       "                 chr_09  chr_9_inversion\n",
       "chr_09              0.9              0.1\n",
       "chr_9_inversion     0.1              0.9"
      ]
     },
     "execution_count": 125,
     "metadata": {},
     "output_type": "execute_result"
    }
   ],
   "source": [
    "confusion_r = pd.DataFrame(cm_r, index=label_convert,\n",
    "                        columns=label_convert)\n",
    "confusion.to_csv('ConfusionMatrix_Rate_KaryoType_SVM' + str(iterationNumber) + '.csv')\n",
    "confusion_r"
   ]
  },
  {
   "cell_type": "markdown",
   "metadata": {},
   "source": [
    "#### Heat Map: Number"
   ]
  },
  {
   "cell_type": "code",
   "execution_count": 127,
   "metadata": {},
   "outputs": [
    {
     "data": {
      "image/png": "[encoded data removed]",
      "text/plain": [
       "<Figure size 3000x2400 with 2 Axes>"
      ]
     },
     "metadata": {},
     "output_type": "display_data"
    }
   ],
   "source": [
    "plt.figure(figsize=(30, 24))\n",
    "heat_map = sb.heatmap(confusion, annot=True,  # It's a Seaborn function\n",
    "                      cmap='coolwarm', \n",
    "                      xticklabels=confusion.columns, yticklabels=confusion.index, \n",
    "                      linewidths=.5, \n",
    "                      annot_kws={\"size\": 20})\n",
    "sb.set(font_scale = 2)"
   ]
  },
  {
   "cell_type": "markdown",
   "metadata": {},
   "source": [
    "#### Heat Map: Rate (important!!!)"
   ]
  },
  {
   "cell_type": "code",
   "execution_count": 129,
   "metadata": {},
   "outputs": [
    {
     "data": {
      "image/png": "[encoded data removed]",
      "text/plain": [
       "<Figure size 3000x2400 with 2 Axes>"
      ]
     },
     "metadata": {},
     "output_type": "display_data"
    }
   ],
   "source": [
    "plt.figure(figsize=(30, 24))\n",
    "heat_map_r = sb.heatmap(confusion_r, annot=True,  # It's a Seaborn function\n",
    "                      cmap='coolwarm', \n",
    "                      xticklabels=confusion.columns, yticklabels=confusion.index, \n",
    "                      linewidths=.5, \n",
    "                      annot_kws={\"size\": 20})\n",
    "sb.set(font_scale = 2)"
   ]
  },
  {
   "cell_type": "code",
   "execution_count": 130,
   "metadata": {},
   "outputs": [],
   "source": [
    "fig = heat_map.get_figure()    \n",
    "fig.savefig('Heatmap_Iteration_' + str(iterationNumber) + '.png', dpi=400)"
   ]
  },
  {
   "cell_type": "code",
   "execution_count": 131,
   "metadata": {},
   "outputs": [],
   "source": [
    "fig_r = heat_map_r.get_figure()    \n",
    "fig_r.savefig('Heatmap_Rate_Iteration_' + str(iterationNumber) + '.png', dpi=400)"
   ]
  },
  {
   "cell_type": "markdown",
   "metadata": {},
   "source": [
    "# Results"
   ]
  },
  {
   "cell_type": "code",
   "execution_count": 133,
   "metadata": {},
   "outputs": [
    {
     "name": "stdout",
     "output_type": "stream",
     "text": [
      "Test Accuracy: 0.900\n"
     ]
    }
   ],
   "source": [
    "print('Test Accuracy: %.3f' % acc)"
   ]
  },
  {
   "cell_type": "code",
   "execution_count": 134,
   "metadata": {
    "scrolled": true
   },
   "outputs": [
    {
     "name": "stdout",
     "output_type": "stream",
     "text": [
      "                 precision    recall  f1-score   support\n",
      "\n",
      "         chr_09       0.90      0.90      0.90        10\n",
      "chr_9_inversion       0.90      0.90      0.90        10\n",
      "\n",
      "       accuracy                           0.90        20\n",
      "      macro avg       0.90      0.90      0.90        20\n",
      "   weighted avg       0.90      0.90      0.90        20\n",
      "\n"
     ]
    }
   ],
   "source": [
    "print(performanceReport)"
   ]
  },
  {
   "cell_type": "code",
   "execution_count": 135,
   "metadata": {},
   "outputs": [
    {
     "data": {
      "text/plain": [
       "str"
      ]
     },
     "execution_count": 135,
     "metadata": {},
     "output_type": "execute_result"
    }
   ],
   "source": [
    "type(performanceReport)"
   ]
  },
  {
   "cell_type": "code",
   "execution_count": 136,
   "metadata": {},
   "outputs": [
    {
     "data": {
      "text/html": [
       "<div>\n",
       "<style scoped>\n",
       "    .dataframe tbody tr th:only-of-type {\n",
       "        vertical-align: middle;\n",
       "    }\n",
       "\n",
       "    .dataframe tbody tr th {\n",
       "        vertical-align: top;\n",
       "    }\n",
       "\n",
       "    .dataframe thead th {\n",
       "        text-align: right;\n",
       "    }\n",
       "</style>\n",
       "<table border=\"1\" class=\"dataframe\">\n",
       "  <thead>\n",
       "    <tr style=\"text-align: right;\">\n",
       "      <th></th>\n",
       "      <th>chr_09</th>\n",
       "      <th>chr_9_inversion</th>\n",
       "    </tr>\n",
       "  </thead>\n",
       "  <tbody>\n",
       "    <tr>\n",
       "      <th>chr_09</th>\n",
       "      <td>9</td>\n",
       "      <td>1</td>\n",
       "    </tr>\n",
       "    <tr>\n",
       "      <th>chr_9_inversion</th>\n",
       "      <td>1</td>\n",
       "      <td>9</td>\n",
       "    </tr>\n",
       "  </tbody>\n",
       "</table>\n",
       "</div>"
      ],
      "text/plain": [
       "                 chr_09  chr_9_inversion\n",
       "chr_09                9                1\n",
       "chr_9_inversion       1                9"
      ]
     },
     "execution_count": 136,
     "metadata": {},
     "output_type": "execute_result"
    }
   ],
   "source": [
    "confusion"
   ]
  },
  {
   "cell_type": "markdown",
   "metadata": {},
   "source": [
    "## Export to a text file"
   ]
  },
  {
   "cell_type": "code",
   "execution_count": 138,
   "metadata": {},
   "outputs": [],
   "source": [
    "file_report = open('Results_'+str(iterationNumber)+'.txt', 'w')\n",
    "file_report.write('Accuracy: %s\\n\\n' % acc)\n",
    "file_report.write('Performance Report: \\n%s\\n\\n' % performanceReport)\n",
    "file_report.write('Confusion Matrix: \\n%s.\\n\\n' % confusion)\n",
    "file_report.close()"
   ]
  },
  {
   "cell_type": "code",
   "execution_count": null,
   "metadata": {},
   "outputs": [],
   "source": []
  }
 ],
 "metadata": {
  "kernelspec": {
   "display_name": "Python (Karyotyping_Pinnacle)",
   "language": "python",
   "name": "karyotyping_pinnacle"
  },
  "language_info": {
   "codemirror_mode": {
    "name": "ipython",
    "version": 3
   },
   "file_extension": ".py",
   "mimetype": "text/x-python",
   "name": "python",
   "nbconvert_exporter": "python",
   "pygments_lexer": "ipython3",
   "version": "3.8.20"
  }
 },
 "nbformat": 4,
 "nbformat_minor": 4
}
